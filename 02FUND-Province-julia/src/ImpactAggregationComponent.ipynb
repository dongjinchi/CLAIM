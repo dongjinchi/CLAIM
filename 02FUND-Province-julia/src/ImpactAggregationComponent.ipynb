{
 "cells": [
  {
   "cell_type": "code",
   "execution_count": null,
   "id": "1aa2525c",
   "metadata": {},
   "outputs": [],
   "source": [
    "@defcomp impactaggregation begin\n",
    "    regions = Index()\n",
    "    \n",
    "    growth = Variable(index=[time, regions])\n",
    "    scengrowth = Variable(index = [time, regions])\n",
    "    scengrowthchange = Variable(index = [time, regions])\n",
    "    scenincome = Variable(index = [time, regions])\n",
    "    \n",
    "    income = Parameter(index = [time, regions])\n",
    "    regtmp = Parameter(index=[time, regions])\n",
    "    linearterm = Parameter()\n",
    "    quadrterm = Parameter()\n",
    "    \n",
    "    growth0 = Parameter(index=[regions])\n",
    "    #scenincome0 = parameter(index=[regions])\n",
    "    \n",
    "    function run_timestep(p,v,d,t)\n",
    "            \n",
    "        for r in d.regions\n",
    "            if is_first(t)\n",
    "                v.growth[t,r] = p.growth0[r]\n",
    "                v.scengrowthchange[t,r] = 0\n",
    "                v.scenincome[t,r] = p.income[t, r]\n",
    "            else\n",
    "                v.growth[t,r] = p.income[t,r]/p.income[t-1,r]\n",
    "                v.scengrowth[t,r] = p.linearterm*p.regtmp[t,r]+p.quadrterm*p.regtmp[t,r]^2\n",
    "                v.scengrowthchange[t,r] = v.scengrowth[t,r] - v.scengrowth[t-1,r]\n",
    "                v.scenincome[t,r] = v.scenincome[t-1,r]*(1+v.growth[t,r]+v.scengrowthchange[t,r])\n",
    "            end\n",
    "        end\n",
    "    end\n",
    "end\n",
    "            "
   ]
  }
 ],
 "metadata": {
  "kernelspec": {
   "display_name": "Julia 1.8.1",
   "language": "julia",
   "name": "julia-1.8"
  },
  "language_info": {
   "file_extension": ".jl",
   "mimetype": "application/julia",
   "name": "julia",
   "version": "1.8.1"
  }
 },
 "nbformat": 4,
 "nbformat_minor": 5
}
