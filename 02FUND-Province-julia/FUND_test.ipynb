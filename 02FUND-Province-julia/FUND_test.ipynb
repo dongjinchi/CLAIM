{
 "cells": [
  {
   "cell_type": "code",
   "execution_count": 1,
   "id": "cc62399f",
   "metadata": {},
   "outputs": [
    {
     "ename": "LoadError",
     "evalue": "SystemError: opening file \"E:\\\\10Julia\\\\02FUND-Province-julia\\\\01FUND_classic\\\\MimiFUND.jl-master\\\\src\\\\MimiFUND.jl\": No such file or directory",
     "output_type": "error",
     "traceback": [
      "SystemError: opening file \"E:\\\\10Julia\\\\02FUND-Province-julia\\\\01FUND_classic\\\\MimiFUND.jl-master\\\\src\\\\MimiFUND.jl\": No such file or directory",
      "",
      "Stacktrace:",
      "  [1] systemerror(p::String, errno::Int32; extrainfo::Nothing)",
      "    @ Base .\\error.jl:176",
      "  [2] #systemerror#80",
      "    @ .\\error.jl:175 [inlined]",
      "  [3] systemerror",
      "    @ .\\error.jl:175 [inlined]",
      "  [4] open(fname::String; lock::Bool, read::Nothing, write::Nothing, create::Nothing, truncate::Nothing, append::Nothing)",
      "    @ Base .\\iostream.jl:293",
      "  [5] open",
      "    @ .\\iostream.jl:275 [inlined]",
      "  [6] open(f::Base.var\"#387#388\"{String}, args::String; kwargs::Base.Pairs{Symbol, Union{}, Tuple{}, NamedTuple{(), Tuple{}}})",
      "    @ Base .\\io.jl:382",
      "  [7] open",
      "    @ .\\io.jl:381 [inlined]",
      "  [8] read",
      "    @ .\\io.jl:462 [inlined]",
      "  [9] _include(mapexpr::Function, mod::Module, _path::String)",
      "    @ Base .\\loading.jl:1484",
      " [10] include(fname::String)",
      "    @ Base.MainInclude .\\client.jl:476",
      " [11] top-level scope",
      "    @ In[1]:1",
      " [12] eval",
      "    @ .\\boot.jl:368 [inlined]",
      " [13] include_string(mapexpr::typeof(REPL.softscope), mod::Module, code::String, filename::String)",
      "    @ Base .\\loading.jl:1428"
     ]
    }
   ],
   "source": [
    "include(\"01FUND_classic/MimiFUND.jl-master/src/MimiFUND.jl\")"
   ]
  },
  {
   "cell_type": "code",
   "execution_count": 71,
   "id": "a5d15f42",
   "metadata": {},
   "outputs": [],
   "source": [
    "using Mimi\n",
    "using MimiFUND"
   ]
  },
  {
   "cell_type": "code",
   "execution_count": 72,
   "id": "58076c19",
   "metadata": {},
   "outputs": [],
   "source": [
    "m = MimiFUND.get_model()\n",
    "run(m)"
   ]
  },
  {
   "cell_type": "code",
   "execution_count": 80,
   "id": "da3ea1bb",
   "metadata": {},
   "outputs": [
    {
     "data": {
      "text/plain": [
       "get_quirins_ssp_model (generic function with 1 method)"
      ]
     },
     "execution_count": 80,
     "metadata": {},
     "output_type": "execute_result"
    }
   ],
   "source": [
    "using DelimitedFiles\n",
    "\n",
    "include(\"01FUND_classic/MimiFUND.jl-master/src/helper.jl\")\n",
    "# Write a function for getting your modified version of a MimiFUND model using \n",
    "# files in a specified data directory\n",
    "function get_quirins_ssp_model(datadir)\n",
    "    m = MimiFUND.get_model()    # start with the regular FUND model\n",
    "\n",
    "    # change the population growth parameter\n",
    "    ssp_pop_growth =  Dict{Tuple{Symbol,Symbol}, Any}()\n",
    "    ssp_pop_growth[(:scenariouncertainty, :scenpgrowth)]= readdlm(joinpath(datadir, \"scenpgrowth.csv\"), ',',comments = true)\n",
    "    prepparameters!(ssp_pop_growth)\n",
    "    update_param!(m, :scenpgrowth, ssp_pop_growth[(:scenariouncertainty, :scenpgrowth)])\n",
    "\n",
    "    # change the gdp per capita growth parameter\n",
    "    ssp_ypc_growth =  Dict{Tuple{Symbol,Symbol}, Any}()\n",
    "    ssp_ypc_growth[(:scenariouncertainty, :scenypcgrowth)] = readdlm(joinpath(datadir, \"scenypcgrowth.csv\"), ',',comments = true)\n",
    "    prepparameters!(ssp_ypc_growth)\n",
    "    update_param!(m, :scenypcgrowth, ssp_ypc_growth[(:scenariouncertainty, :scenypcgrowth)])\n",
    "\n",
    "    # Change the energy intensity improvement parameter\n",
    "    ssp_aeei_growth =  Dict{Tuple{Symbol,Symbol}, Any}()\n",
    "    ssp_aeei_growth[(:scenariouncertainty, :scenaeei)] = readdlm(joinpath(datadir, \"scenaeei.csv\"), ',',comments = true)\n",
    "    prepparameters!(ssp_aeei_growth)\n",
    "    update_param!(m, :scenaeei, ssp_aeei_growth[(:scenariouncertainty, :scenaeei)])\n",
    "\n",
    "    # Change the carbon intensity improvement parameter\n",
    "    ssp_acei_growth =  Dict{Tuple{Symbol,Symbol}, Any}()\n",
    "    ssp_acei_growth[(:scenariouncertainty, :scenacei)] = readdlm(joinpath(datadir, \"scenacei.csv\"), ',',comments = true)\n",
    "    prepparameters!(ssp_acei_growth)\n",
    "    update_param!(m, :scenacei, ssp_acei_growth[(:scenariouncertainty, :scenacei)])\n",
    "\n",
    "    # change any other input parameters you need to\n",
    "\n",
    "    return m\n",
    "end\n"
   ]
  },
  {
   "cell_type": "code",
   "execution_count": 81,
   "id": "81b9999d",
   "metadata": {
    "scrolled": false
   },
   "outputs": [
    {
     "data": {
      "text/plain": [
       "Mimi.Model\n",
       "  Module: Mimi\n",
       "  Components:\n",
       "    ComponentId(MimiFUND.scenariouncertainty)\n",
       "    ComponentId(MimiFUND.population)\n",
       "    ComponentId(MimiFUND.geography)\n",
       "    ComponentId(MimiFUND.socioeconomic)\n",
       "    ComponentId(MimiFUND.emissions)\n",
       "    ComponentId(MimiFUND.climateco2cycle)\n",
       "    ComponentId(MimiFUND.climatech4cycle)\n",
       "    ComponentId(MimiFUND.climaten2ocycle)\n",
       "    ComponentId(MimiFUND.climatesf6cycle)\n",
       "    ComponentId(MimiFUND.climateforcing)\n",
       "    ComponentId(MimiFUND.climatedynamics)\n",
       "    ComponentId(MimiFUND.biodiversity)\n",
       "    ComponentId(MimiFUND.climateregional)\n",
       "    ComponentId(MimiFUND.ocean)\n",
       "    ComponentId(MimiFUND.impactagriculture)\n",
       "    ComponentId(MimiFUND.impactbiodiversity)\n",
       "    ComponentId(MimiFUND.impactcardiovascularrespiratory)\n",
       "    ComponentId(MimiFUND.impactcooling)\n",
       "    ComponentId(MimiFUND.impactdiarrhoea)\n",
       "    ComponentId(MimiFUND.impactextratropicalstorms)\n",
       "    ComponentId(MimiFUND.impactforests)\n",
       "    ComponentId(MimiFUND.impactheating)\n",
       "    ComponentId(MimiFUND.impactvectorbornediseases)\n",
       "    ComponentId(MimiFUND.impacttropicalstorms)\n",
       "    ComponentId(MimiFUND.vslvmorb)\n",
       "    ComponentId(MimiFUND.impactdeathmorbidity)\n",
       "    ComponentId(MimiFUND.impactwaterresources)\n",
       "    ComponentId(MimiFUND.impactsealevelrise)\n",
       "    ComponentId(MimiFUND.impactaggregation)\n",
       "  Built: false\n"
      ]
     },
     "execution_count": 81,
     "metadata": {},
     "output_type": "execute_result"
    }
   ],
   "source": [
    "m_ssp3 = get_quirins_ssp_model(\"01FUND_classic\\\\MimiFUND.jl-master\\\\scenarios\\\\MESSAGE\")"
   ]
  },
  {
   "cell_type": "code",
   "execution_count": 82,
   "id": "54530bc6",
   "metadata": {},
   "outputs": [
    {
     "data": {
      "text/plain": [
       "1.1632142330682997"
      ]
     },
     "execution_count": 82,
     "metadata": {},
     "output_type": "execute_result"
    }
   ],
   "source": [
    "run(m_ssp3)\n",
    "scc = MimiFUND.compute_scco2(m_ssp3,year = 2020)"
   ]
  },
  {
   "cell_type": "code",
   "execution_count": null,
   "id": "cca6dcf0",
   "metadata": {},
   "outputs": [],
   "source": [
    "explore(m_ssp3)"
   ]
  },
  {
   "cell_type": "code",
   "execution_count": 5,
   "id": "99d57baa",
   "metadata": {},
   "outputs": [
    {
     "data": {
      "text/plain": [
       "201×16 Matrix{Union{Missing, Float64}}:\n",
       "  1643.9     84.8225   1913.32  …     13.4482     94.686      6.82114\n",
       "  1702.51    89.5283   1978.56        14.2691     97.5524     7.1544\n",
       "  1763.2     94.4952   2046.03        15.14      100.506      7.50394\n",
       "  1826.06    99.7377   2115.8         16.0641    103.548      7.87055\n",
       "  1891.16   105.271    2187.95        17.0446    106.683      8.25508\n",
       "  1958.59   111.111    2262.56  …     18.085     109.912      8.6584\n",
       "  2028.41   117.276    2339.72        19.1888    113.24       9.08142\n",
       "  2100.73   123.782    2419.5         20.36      116.668      9.52511\n",
       "  2175.62   130.649    2502.01        21.6027    120.199      9.99047\n",
       "  2253.19   137.897    2587.33        22.9213    123.838     10.4786\n",
       "  2333.51   145.548    2675.56  …     24.3203    127.587     10.9905\n",
       "  2406.06   152.236    2769.76        25.8322    131.925     11.5388\n",
       "  2480.86   159.231    2867.29        27.4381    136.411     12.1144\n",
       "     ⋮                          ⋱                             ⋮\n",
       " 46340.5   3709.11    49889.4       9090.25    17199.3     1653.59\n",
       " 46626.8   3732.43    50186.5   …   9183.83    17394.7     1673.76\n",
       " 46912.8   3755.73    50483.0       9276.43    17588.8     1693.84\n",
       " 47198.6   3779.0     50778.9       9368.01    17781.4     1713.8\n",
       " 47484.1   3802.26    51074.2       9458.53    17972.4     1733.66\n",
       " 47769.2   3825.5     51368.8       9547.93    18161.8     1753.38\n",
       " 48054.0   3848.71    51662.8   …   9636.17    18349.5     1772.97\n",
       " 48338.4   3871.9     51956.0       9723.21    18535.3     1792.42\n",
       " 48622.4   3895.06    52248.5       9809.01    18719.3     1811.71\n",
       " 48906.0   3918.18    52540.2       9893.51    18901.2     1830.83\n",
       " 49189.2   3941.28    52831.2       9976.68    19081.1     1849.79\n",
       " 49471.9   3964.34    53121.3   …  10058.5     19258.7     1868.56"
      ]
     },
     "execution_count": 5,
     "metadata": {},
     "output_type": "execute_result"
    }
   ],
   "source": [
    "m[:socioeconomic, :income]"
   ]
  },
  {
   "cell_type": "code",
   "execution_count": 73,
   "id": "8d63c805",
   "metadata": {},
   "outputs": [
    {
     "data": {
      "text/plain": [
       "2.055926979426353"
      ]
     },
     "execution_count": 73,
     "metadata": {},
     "output_type": "execute_result"
    }
   ],
   "source": [
    "scc = MimiFUND.compute_scco2(m,year = 2020)"
   ]
  },
  {
   "cell_type": "code",
   "execution_count": 60,
   "id": "4487c283",
   "metadata": {},
   "outputs": [
    {
     "data": {
      "text/plain": [
       "Electron.Window(Application(Base.PipeEndpoint(Base.Libc.WindowsRawSocket(0x0000000000000428) open, 0 bytes waiting), Process(`\u001b[4m'C:\\Users\\dongj\\.julia\\artifacts\\ca0342e0bab6657b29b8c9153ccf8b6983ee0670\\electron.exe'\u001b[24m \u001b[4m'C:\\Users\\dongj\\.julia\\packages\\Electron\\ILvWR\\src\\main.js'\u001b[24m \u001b[4m'\\\\.\\pipe\\jlel-4f4facf062ad11ee05193b576b7adaf1'\u001b[24m \u001b[4m'\\\\.\\pipe\\jlel-sn-4f4fd40062ad11ee262da5369d8c3517'\u001b[24m \u001b[4m0BT95K46olaO6/nlkDAJXoXpF9GrBAyik93VUAEs8GUAtITEVhGS3duQrGSZNfJQ9gZWxXwGpmPalThK4VXL9el7UXpbKl5fVPgPYhYULHSlCqER4fpK2FN4XXAowj4AJ8bTGf0Kjyn4kurf/hleKUVsWdKJODrvNX/6a944Xkg=\u001b[24m`, ProcessRunning), [1 window]), 2, true, Channel{Any}(128))"
      ]
     },
     "execution_count": 60,
     "metadata": {},
     "output_type": "execute_result"
    }
   ],
   "source": [
    "explore(m)"
   ]
  },
  {
   "cell_type": "code",
   "execution_count": 6,
   "id": "e80d744f",
   "metadata": {},
   "outputs": [
    {
     "ename": "LoadError",
     "evalue": "KeyError: key :mycomponent not found",
     "output_type": "error",
     "traceback": [
      "KeyError: key :mycomponent not found",
      "",
      "Stacktrace:",
      " [1] getindex(h::Dict{Symbol, Mimi.ComponentPath}, key::Symbol)",
      "   @ Base .\\dict.jl:498",
      " [2] dim_names(m::Model, comp_name::Symbol, datum_name::Symbol)",
      "   @ Mimi C:\\Users\\dongj\\.julia\\packages\\Mimi\\L0MHf\\src\\core\\model.jl:347",
      " [3] _spec_for_item(m::Model, comp_name::Symbol, item_name::Symbol; interactive::Bool)",
      "   @ Mimi C:\\Users\\dongj\\.julia\\packages\\Mimi\\L0MHf\\src\\explorer\\buildspecs.jl:13",
      " [4] plot(m::Model, comp_name::Symbol, datum_name::Symbol; interactive::Bool)",
      "   @ Mimi C:\\Users\\dongj\\.julia\\packages\\Mimi\\L0MHf\\src\\explorer\\explore.jl:159",
      " [5] plot(m::Model, comp_name::Symbol, datum_name::Symbol)",
      "   @ Mimi C:\\Users\\dongj\\.julia\\packages\\Mimi\\L0MHf\\src\\explorer\\explore.jl:153",
      " [6] top-level scope",
      "   @ In[6]:1",
      " [7] eval",
      "   @ .\\boot.jl:368 [inlined]",
      " [8] include_string(mapexpr::typeof(REPL.softscope), mod::Module, code::String, filename::String)",
      "   @ Base .\\loading.jl:1428"
     ]
    }
   ],
   "source": [
    "p = Mimi.plot(m, :mycomponent, :myvariable)"
   ]
  },
  {
   "cell_type": "code",
   "execution_count": 24,
   "id": "1e834e89",
   "metadata": {},
   "outputs": [
    {
     "data": {
      "text/latex": [
       "\\begin{verbatim}\n",
       "compute_scco2(\n",
       "    m::Model=get_model(); \n",
       "    year::Union{Int, Nothing} = nothing, \n",
       "    eta::Float64 = 1.45, \n",
       "    prtp::Float64 = 0.015, \n",
       "    equity_weights::Bool = false, \n",
       "    equity_weights_normalization_region::Int=0, \n",
       "    last_year::Int = 3000, \n",
       "    pulse_size::Float64 = 1e7)\n",
       "    return_mm::Bool = false, \n",
       "    n::Union{Int, Nothing} = nothing, \n",
       "    trials_output_filename::Union{String, Nothing} = nothing, \n",
       "    seed::Union{Int, Nothing} = nothing)\n",
       "\\end{verbatim}\n",
       "Returns the Social Cost of CO2 for the specified \\texttt{year} for the provided MimiFUND model \\texttt{m}.  If no model is provided, the default model from MimiFUND.get\\_model() is used. Units of the returned value are 1995\\$ per metric tonne of CO2.\n",
       "\n",
       "The size of the marginal emission pulse can be modified with the \\texttt{pulse\\_size} keyword argument, in metric  tonnes of the specified gas (this does not change the units of the returned value, which is always normalized by the \\texttt{pulse\\_size} used).\n",
       "\n",
       "This is a wrapper function that calls the generic social cost function \\texttt{compute\\_sc(m, gas = :CO2, args...)}. See docstring for \\texttt{compute\\_sc} for a full description of the available keyword arguments.\n",
       "\n"
      ],
      "text/markdown": [
       "```\n",
       "compute_scco2(\n",
       "    m::Model=get_model(); \n",
       "    year::Union{Int, Nothing} = nothing, \n",
       "    eta::Float64 = 1.45, \n",
       "    prtp::Float64 = 0.015, \n",
       "    equity_weights::Bool = false, \n",
       "    equity_weights_normalization_region::Int=0, \n",
       "    last_year::Int = 3000, \n",
       "    pulse_size::Float64 = 1e7)\n",
       "    return_mm::Bool = false, \n",
       "    n::Union{Int, Nothing} = nothing, \n",
       "    trials_output_filename::Union{String, Nothing} = nothing, \n",
       "    seed::Union{Int, Nothing} = nothing)\n",
       "```\n",
       "\n",
       "Returns the Social Cost of CO2 for the specified `year` for the provided MimiFUND model `m`.  If no model is provided, the default model from MimiFUND.get_model() is used. Units of the returned value are 1995$ per metric tonne of CO2.\n",
       "\n",
       "The size of the marginal emission pulse can be modified with the `pulse_size` keyword argument, in metric  tonnes of the specified gas (this does not change the units of the returned value, which is always normalized by the `pulse_size` used).\n",
       "\n",
       "This is a wrapper function that calls the generic social cost function `compute_sc(m, gas = :CO2, args...)`. See docstring for `compute_sc` for a full description of the available keyword arguments.\n"
      ],
      "text/plain": [
       "\u001b[36m  compute_scco2(\u001b[39m\n",
       "\u001b[36m      m::Model=get_model(); \u001b[39m\n",
       "\u001b[36m      year::Union{Int, Nothing} = nothing, \u001b[39m\n",
       "\u001b[36m      eta::Float64 = 1.45, \u001b[39m\n",
       "\u001b[36m      prtp::Float64 = 0.015, \u001b[39m\n",
       "\u001b[36m      equity_weights::Bool = false, \u001b[39m\n",
       "\u001b[36m      equity_weights_normalization_region::Int=0, \u001b[39m\n",
       "\u001b[36m      last_year::Int = 3000, \u001b[39m\n",
       "\u001b[36m      pulse_size::Float64 = 1e7)\u001b[39m\n",
       "\u001b[36m      return_mm::Bool = false, \u001b[39m\n",
       "\u001b[36m      n::Union{Int, Nothing} = nothing, \u001b[39m\n",
       "\u001b[36m      trials_output_filename::Union{String, Nothing} = nothing, \u001b[39m\n",
       "\u001b[36m      seed::Union{Int, Nothing} = nothing)\u001b[39m\n",
       "\n",
       "  Returns the Social Cost of CO2 for the specified \u001b[36myear\u001b[39m for the provided\n",
       "  MimiFUND model \u001b[36mm\u001b[39m. If no model is provided, the default model from\n",
       "  MimiFUND.get_model() is used. Units of the returned value are 1995$ per\n",
       "  metric tonne of CO2.\n",
       "\n",
       "  The size of the marginal emission pulse can be modified with the \u001b[36mpulse_size\u001b[39m\n",
       "  keyword argument, in metric tonnes of the specified gas (this does not\n",
       "  change the units of the returned value, which is always normalized by the\n",
       "  \u001b[36mpulse_size\u001b[39m used).\n",
       "\n",
       "  This is a wrapper function that calls the generic social cost function\n",
       "  \u001b[36mcompute_sc(m, gas = :CO2, args...)\u001b[39m. See docstring for \u001b[36mcompute_sc\u001b[39m for a full\n",
       "  description of the available keyword arguments."
      ]
     },
     "execution_count": 24,
     "metadata": {},
     "output_type": "execute_result"
    }
   ],
   "source": [
    "@doc  MimiFUND.compute_scco2"
   ]
  },
  {
   "cell_type": "code",
   "execution_count": 5,
   "id": "816a278b",
   "metadata": {},
   "outputs": [
    {
     "data": {
      "text/latex": [
       "\\begin{verbatim}\n",
       "connect_param!(obj::AbstractCompositeComponentDef, comp_name::Symbol, param_name::Symbol, model_param_name::Symbol;\n",
       "               check_attributes::Bool=true, ignoreunits::Bool=false))\n",
       "\\end{verbatim}\n",
       "Connect a parameter \\texttt{param\\_name} in the component \\texttt{comp\\_name} of composite \\texttt{obj} to the model parameter \\texttt{model\\_param\\_name}.\n",
       "\n",
       "\\begin{verbatim}\n",
       "connect_param!(obj::AbstractCompositeComponentDef, comp_def::AbstractComponentDef,\n",
       "                param_name::Symbol, model_param_name::Symbol; check_attributes::Bool=true,\n",
       "                ignoreunits::Bool = false)\n",
       "\\end{verbatim}\n",
       "Connect a parameter \\texttt{param\\_name} in the component \\texttt{comp\\_def} of composite \\texttt{obj} to the model parameter \\texttt{model\\_param\\_name}.\n",
       "\n",
       "\\begin{verbatim}\n",
       "connect_param!(obj::AbstractCompositeComponentDef,\n",
       "    dst::Pair{Symbol, Symbol}, src::Pair{Symbol, Symbol},\n",
       "    backup::Union{Nothing, Array}=nothing;\n",
       "    ignoreunits::Bool=false, backup_offset::Union{Nothing, Int} = nothing)\n",
       "\\end{verbatim}\n",
       "Bind the parameter \\texttt{dst[2]} of one component \\texttt{dst[1]} of composite \\texttt{obj} to a variable \\texttt{src[2]} in another component \\texttt{src[1]} of the same composite using \\texttt{backup} to provide default values and the \\texttt{ignoreunits} flag to indicate the need to check match units between the two.  The \\texttt{backup\\_offset} argument, which is only valid  when \\texttt{backup} data has been set, indicates that the backup data should be used for a specified number of timesteps after the source component begins. ie. the value would be  \\texttt{1} if the destination componentm parameter should only use the source component  data for the second timestep and beyond.\n",
       "\n",
       "\\begin{verbatim}\n",
       "connect_param!(dst::ComponentReference, dst_name::Symbol, src::ComponentReference, src_name::Symbol)\n",
       "\\end{verbatim}\n",
       "Connect two components as \\texttt{connect\\_param!(dst, dst\\_name, src, src\\_name)}.\n",
       "\n",
       "\\begin{verbatim}\n",
       "connect_param!(dst::ComponentReference, src::ComponentReference, name::Symbol)\n",
       "\\end{verbatim}\n",
       "Connect two components with the same name as \\texttt{connect\\_param!(dst, src, name)}.\n",
       "\n",
       "\\begin{verbatim}\n",
       "connect_param!(m::Model, dst_comp_name::Symbol, dst_par_name::Symbol, \n",
       "                src_comp_name::Symbol, src_var_name::Symbol, \n",
       "                backup::Union{Nothing, Array}=nothing; ignoreunits::Bool=false, \n",
       "                backup_offset::Union{Int, Nothing}=nothing)\n",
       "\\end{verbatim}\n",
       "Bind the parameter \\texttt{dst\\_par\\_name} of one component \\texttt{dst\\_comp\\_name} of model \\texttt{m} to a variable \\texttt{src\\_var\\_name} in another component \\texttt{src\\_comp\\_name} of the same model using \\texttt{backup} to provide default values and the \\texttt{ignoreunits} flag to indicate the need to check match units between the two.  The \\texttt{backup\\_offset} argument, which is only valid  when \\texttt{backup} data has been set, indicates that the backup data should be used for a specified number of timesteps after the source component begins. ie. the value would be  \\texttt{1} if the destination componentm parameter should only use the source component  data for the second timestep and beyond.\n",
       "\n",
       "\\begin{verbatim}\n",
       "connect_param!(m::Model, comp_name::Symbol, param_name::Symbol, model_param_name::Symbol;\n",
       "               check_attributes::Bool=true, ignoreunits::Bool=false))\n",
       "\\end{verbatim}\n",
       "Connect a parameter \\texttt{param\\_name} in the component \\texttt{comp\\_name} of composite \\texttt{obj} to the model parameter \\texttt{model\\_param\\_name}.\n",
       "\n",
       "\\begin{verbatim}\n",
       "connect_param!(m::Model, dst::Pair{Symbol, Symbol}, src::Pair{Symbol, Symbol}, backup::Array; ignoreunits::Bool=false)\n",
       "\\end{verbatim}\n",
       "Bind the parameter \\texttt{dst[2]} of one component \\texttt{dst[1]} of model \\texttt{m} to a variable \\texttt{src[2]} in another component \\texttt{src[1]} of the same model using \\texttt{backup} to provide default values and the \\texttt{ignoreunits} flag to indicate the need to check match units between the two.  The \\texttt{backup\\_offset} argument, which is only valid  when \\texttt{backup} data has been set, indicates that the backup data should be used for a specified number of timesteps after the source component begins. ie. the value would be  \\texttt{1} if the destination componentm parameter should only use the source component  data for the second timestep and beyond.\n",
       "\n"
      ],
      "text/markdown": [
       "```\n",
       "connect_param!(obj::AbstractCompositeComponentDef, comp_name::Symbol, param_name::Symbol, model_param_name::Symbol;\n",
       "               check_attributes::Bool=true, ignoreunits::Bool=false))\n",
       "```\n",
       "\n",
       "Connect a parameter `param_name` in the component `comp_name` of composite `obj` to the model parameter `model_param_name`.\n",
       "\n",
       "```\n",
       "connect_param!(obj::AbstractCompositeComponentDef, comp_def::AbstractComponentDef,\n",
       "                param_name::Symbol, model_param_name::Symbol; check_attributes::Bool=true,\n",
       "                ignoreunits::Bool = false)\n",
       "```\n",
       "\n",
       "Connect a parameter `param_name` in the component `comp_def` of composite `obj` to the model parameter `model_param_name`.\n",
       "\n",
       "```\n",
       "connect_param!(obj::AbstractCompositeComponentDef,\n",
       "    dst::Pair{Symbol, Symbol}, src::Pair{Symbol, Symbol},\n",
       "    backup::Union{Nothing, Array}=nothing;\n",
       "    ignoreunits::Bool=false, backup_offset::Union{Nothing, Int} = nothing)\n",
       "```\n",
       "\n",
       "Bind the parameter `dst[2]` of one component `dst[1]` of composite `obj` to a variable `src[2]` in another component `src[1]` of the same composite using `backup` to provide default values and the `ignoreunits` flag to indicate the need to check match units between the two.  The `backup_offset` argument, which is only valid  when `backup` data has been set, indicates that the backup data should be used for a specified number of timesteps after the source component begins. ie. the value would be  `1` if the destination componentm parameter should only use the source component  data for the second timestep and beyond.\n",
       "\n",
       "```\n",
       "connect_param!(dst::ComponentReference, dst_name::Symbol, src::ComponentReference, src_name::Symbol)\n",
       "```\n",
       "\n",
       "Connect two components as `connect_param!(dst, dst_name, src, src_name)`.\n",
       "\n",
       "```\n",
       "connect_param!(dst::ComponentReference, src::ComponentReference, name::Symbol)\n",
       "```\n",
       "\n",
       "Connect two components with the same name as `connect_param!(dst, src, name)`.\n",
       "\n",
       "```\n",
       "connect_param!(m::Model, dst_comp_name::Symbol, dst_par_name::Symbol, \n",
       "                src_comp_name::Symbol, src_var_name::Symbol, \n",
       "                backup::Union{Nothing, Array}=nothing; ignoreunits::Bool=false, \n",
       "                backup_offset::Union{Int, Nothing}=nothing)\n",
       "```\n",
       "\n",
       "Bind the parameter `dst_par_name` of one component `dst_comp_name` of model `m` to a variable `src_var_name` in another component `src_comp_name` of the same model using `backup` to provide default values and the `ignoreunits` flag to indicate the need to check match units between the two.  The `backup_offset` argument, which is only valid  when `backup` data has been set, indicates that the backup data should be used for a specified number of timesteps after the source component begins. ie. the value would be  `1` if the destination componentm parameter should only use the source component  data for the second timestep and beyond.\n",
       "\n",
       "```\n",
       "connect_param!(m::Model, comp_name::Symbol, param_name::Symbol, model_param_name::Symbol;\n",
       "               check_attributes::Bool=true, ignoreunits::Bool=false))\n",
       "```\n",
       "\n",
       "Connect a parameter `param_name` in the component `comp_name` of composite `obj` to the model parameter `model_param_name`.\n",
       "\n",
       "```\n",
       "connect_param!(m::Model, dst::Pair{Symbol, Symbol}, src::Pair{Symbol, Symbol}, backup::Array; ignoreunits::Bool=false)\n",
       "```\n",
       "\n",
       "Bind the parameter `dst[2]` of one component `dst[1]` of model `m` to a variable `src[2]` in another component `src[1]` of the same model using `backup` to provide default values and the `ignoreunits` flag to indicate the need to check match units between the two.  The `backup_offset` argument, which is only valid  when `backup` data has been set, indicates that the backup data should be used for a specified number of timesteps after the source component begins. ie. the value would be  `1` if the destination componentm parameter should only use the source component  data for the second timestep and beyond.\n"
      ],
      "text/plain": [
       "\u001b[36m  connect_param!(obj::AbstractCompositeComponentDef, comp_name::Symbol, param_name::Symbol, model_param_name::Symbol;\u001b[39m\n",
       "\u001b[36m                 check_attributes::Bool=true, ignoreunits::Bool=false))\u001b[39m\n",
       "\n",
       "  Connect a parameter \u001b[36mparam_name\u001b[39m in the component \u001b[36mcomp_name\u001b[39m of composite \u001b[36mobj\u001b[39m\n",
       "  to the model parameter \u001b[36mmodel_param_name\u001b[39m.\n",
       "\n",
       "\u001b[36m  connect_param!(obj::AbstractCompositeComponentDef, comp_def::AbstractComponentDef,\u001b[39m\n",
       "\u001b[36m                  param_name::Symbol, model_param_name::Symbol; check_attributes::Bool=true,\u001b[39m\n",
       "\u001b[36m                  ignoreunits::Bool = false)\u001b[39m\n",
       "\n",
       "  Connect a parameter \u001b[36mparam_name\u001b[39m in the component \u001b[36mcomp_def\u001b[39m of composite \u001b[36mobj\u001b[39m to\n",
       "  the model parameter \u001b[36mmodel_param_name\u001b[39m.\n",
       "\n",
       "\u001b[36m  connect_param!(obj::AbstractCompositeComponentDef,\u001b[39m\n",
       "\u001b[36m      dst::Pair{Symbol, Symbol}, src::Pair{Symbol, Symbol},\u001b[39m\n",
       "\u001b[36m      backup::Union{Nothing, Array}=nothing;\u001b[39m\n",
       "\u001b[36m      ignoreunits::Bool=false, backup_offset::Union{Nothing, Int} = nothing)\u001b[39m\n",
       "\n",
       "  Bind the parameter \u001b[36mdst[2]\u001b[39m of one component \u001b[36mdst[1]\u001b[39m of composite \u001b[36mobj\u001b[39m to a\n",
       "  variable \u001b[36msrc[2]\u001b[39m in another component \u001b[36msrc[1]\u001b[39m of the same composite using\n",
       "  \u001b[36mbackup\u001b[39m to provide default values and the \u001b[36mignoreunits\u001b[39m flag to indicate the\n",
       "  need to check match units between the two. The \u001b[36mbackup_offset\u001b[39m argument, which\n",
       "  is only valid when \u001b[36mbackup\u001b[39m data has been set, indicates that the backup data\n",
       "  should be used for a specified number of timesteps after the source\n",
       "  component begins. ie. the value would be \u001b[36m1\u001b[39m if the destination componentm\n",
       "  parameter should only use the source component data for the second timestep\n",
       "  and beyond.\n",
       "\n",
       "\u001b[36m  connect_param!(dst::ComponentReference, dst_name::Symbol, src::ComponentReference, src_name::Symbol)\u001b[39m\n",
       "\n",
       "  Connect two components as \u001b[36mconnect_param!(dst, dst_name, src, src_name)\u001b[39m.\n",
       "\n",
       "\u001b[36m  connect_param!(dst::ComponentReference, src::ComponentReference, name::Symbol)\u001b[39m\n",
       "\n",
       "  Connect two components with the same name as \u001b[36mconnect_param!(dst, src, name)\u001b[39m.\n",
       "\n",
       "\u001b[36m  connect_param!(m::Model, dst_comp_name::Symbol, dst_par_name::Symbol, \u001b[39m\n",
       "\u001b[36m                  src_comp_name::Symbol, src_var_name::Symbol, \u001b[39m\n",
       "\u001b[36m                  backup::Union{Nothing, Array}=nothing; ignoreunits::Bool=false, \u001b[39m\n",
       "\u001b[36m                  backup_offset::Union{Int, Nothing}=nothing)\u001b[39m\n",
       "\n",
       "  Bind the parameter \u001b[36mdst_par_name\u001b[39m of one component \u001b[36mdst_comp_name\u001b[39m of model \u001b[36mm\u001b[39m to\n",
       "  a variable \u001b[36msrc_var_name\u001b[39m in another component \u001b[36msrc_comp_name\u001b[39m of the same model\n",
       "  using \u001b[36mbackup\u001b[39m to provide default values and the \u001b[36mignoreunits\u001b[39m flag to indicate\n",
       "  the need to check match units between the two. The \u001b[36mbackup_offset\u001b[39m argument,\n",
       "  which is only valid when \u001b[36mbackup\u001b[39m data has been set, indicates that the backup\n",
       "  data should be used for a specified number of timesteps after the source\n",
       "  component begins. ie. the value would be \u001b[36m1\u001b[39m if the destination componentm\n",
       "  parameter should only use the source component data for the second timestep\n",
       "  and beyond.\n",
       "\n",
       "\u001b[36m  connect_param!(m::Model, comp_name::Symbol, param_name::Symbol, model_param_name::Symbol;\u001b[39m\n",
       "\u001b[36m                 check_attributes::Bool=true, ignoreunits::Bool=false))\u001b[39m\n",
       "\n",
       "  Connect a parameter \u001b[36mparam_name\u001b[39m in the component \u001b[36mcomp_name\u001b[39m of composite \u001b[36mobj\u001b[39m\n",
       "  to the model parameter \u001b[36mmodel_param_name\u001b[39m.\n",
       "\n",
       "\u001b[36m  connect_param!(m::Model, dst::Pair{Symbol, Symbol}, src::Pair{Symbol, Symbol}, backup::Array; ignoreunits::Bool=false)\u001b[39m\n",
       "\n",
       "  Bind the parameter \u001b[36mdst[2]\u001b[39m of one component \u001b[36mdst[1]\u001b[39m of model \u001b[36mm\u001b[39m to a variable\n",
       "  \u001b[36msrc[2]\u001b[39m in another component \u001b[36msrc[1]\u001b[39m of the same model using \u001b[36mbackup\u001b[39m to provide\n",
       "  default values and the \u001b[36mignoreunits\u001b[39m flag to indicate the need to check match\n",
       "  units between the two. The \u001b[36mbackup_offset\u001b[39m argument, which is only valid when\n",
       "  \u001b[36mbackup\u001b[39m data has been set, indicates that the backup data should be used for\n",
       "  a specified number of timesteps after the source component begins. ie. the\n",
       "  value would be \u001b[36m1\u001b[39m if the destination componentm parameter should only use the\n",
       "  source component data for the second timestep and beyond."
      ]
     },
     "execution_count": 5,
     "metadata": {},
     "output_type": "execute_result"
    }
   ],
   "source": [
    "@doc MimiFUND.connect_param!"
   ]
  },
  {
   "cell_type": "code",
   "execution_count": 11,
   "id": "bf7df089",
   "metadata": {},
   "outputs": [
    {
     "name": "stderr",
     "output_type": "stream",
     "text": [
      "\u001b[32m\u001b[1m   Resolving\u001b[22m\u001b[39m package versions...\n",
      "\u001b[32m\u001b[1m  No Changes\u001b[22m\u001b[39m to `C:\\Users\\dongj\\.julia\\environments\\v1.8\\Project.toml`\n",
      "\u001b[32m\u001b[1m  No Changes\u001b[22m\u001b[39m to `C:\\Users\\dongj\\.julia\\environments\\v1.8\\Manifest.toml`\n"
     ]
    }
   ],
   "source": [
    "using Pkg\n",
    "Pkg.add(\"MimiDICE2010\")"
   ]
  },
  {
   "cell_type": "code",
   "execution_count": 12,
   "id": "676ff377",
   "metadata": {},
   "outputs": [],
   "source": [
    "using MimiDICE2010\n",
    "m = MimiDICE2010.get_model()\n",
    "run(m)"
   ]
  },
  {
   "cell_type": "code",
   "execution_count": 13,
   "id": "b3c7079d",
   "metadata": {},
   "outputs": [],
   "source": [
    "update_param!(m, :fco22x, 3.000)\n",
    "run(m)"
   ]
  },
  {
   "cell_type": "code",
   "execution_count": 14,
   "id": "4be5143f",
   "metadata": {},
   "outputs": [
    {
     "data": {
      "text/plain": [
       "52-element Vector{Int64}:\n",
       " 1995\n",
       " 2005\n",
       " 2015\n",
       " 2025\n",
       " 2035\n",
       " 2045\n",
       " 2055\n",
       " 2065\n",
       " 2075\n",
       " 2085\n",
       " 2095\n",
       " 2105\n",
       " 2115\n",
       "    ⋮\n",
       " 2395\n",
       " 2405\n",
       " 2415\n",
       " 2425\n",
       " 2435\n",
       " 2445\n",
       " 2455\n",
       " 2465\n",
       " 2475\n",
       " 2485\n",
       " 2495\n",
       " 2505"
      ]
     },
     "execution_count": 14,
     "metadata": {},
     "output_type": "execute_result"
    }
   ],
   "source": [
    "const ts = 10\n",
    "const years = collect(1995:ts:2505)"
   ]
  },
  {
   "cell_type": "code",
   "execution_count": 15,
   "id": "a6d7976c",
   "metadata": {},
   "outputs": [
    {
     "data": {
      "text/plain": [
       "[1995, 2005, 2015, 2025, 2035, 2045, 2055, 2065, 2075, 2085  …  2415, 2425, 2435, 2445, 2455, 2465, 2475, 2485, 2495, 2505]"
      ]
     },
     "execution_count": 15,
     "metadata": {},
     "output_type": "execute_result"
    }
   ],
   "source": [
    "nyears = length(years)\n",
    "set_dimension!(m, :time, years)"
   ]
  },
  {
   "cell_type": "code",
   "execution_count": null,
   "id": "ccc65c81",
   "metadata": {},
   "outputs": [],
   "source": []
  }
 ],
 "metadata": {
  "kernelspec": {
   "display_name": "Julia 1.8.1",
   "language": "julia",
   "name": "julia-1.8"
  },
  "language_info": {
   "file_extension": ".jl",
   "mimetype": "application/julia",
   "name": "julia",
   "version": "1.8.1"
  }
 },
 "nbformat": 4,
 "nbformat_minor": 5
}
