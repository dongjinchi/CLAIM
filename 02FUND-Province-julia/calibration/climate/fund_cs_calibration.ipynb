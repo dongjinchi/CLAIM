{
 "metadata": {
  "name": ""
 },
 "nbformat": 3,
 "nbformat_minor": 0,
 "worksheets": [
  {
   "cells": [
    {
     "cell_type": "code",
     "collapsed": false,
     "input": [
      "import numpy as np\n",
      "import pandas\n",
      "from math import log\n",
      "from scipy.optimize import leastsq\n",
      "import statsmodels.api as sm"
     ],
     "language": "python",
     "metadata": {},
     "outputs": [],
     "prompt_number": 1
    },
    {
     "cell_type": "heading",
     "level": 1,
     "metadata": {},
     "source": [
      "FUND climate dynamics calibration"
     ]
    },
    {
     "cell_type": "heading",
     "level": 2,
     "metadata": {},
     "source": [
      "I. Introduction"
     ]
    },
    {
     "cell_type": "markdown",
     "metadata": {},
     "source": [
      "This file calibrates the climatedynamics component. The general strategy is to fit the FUND climate component to observed past temperature data for various values of climate sensitivity using forcing output from FUND by adjusting the lifetemp parameter of the climate component. This gives a best-fit value for lifetemp for each climate sensitivity value. In a second step a regression is run to arrive at a simple formula for lifetemp as a function of climate sensitivity that is used in the actual model."
     ]
    },
    {
     "cell_type": "heading",
     "level": 2,
     "metadata": {},
     "source": [
      "II. Load data"
     ]
    },
    {
     "cell_type": "markdown",
     "metadata": {},
     "source": [
      "Data obtained from http://www.metoffice.gov.uk/hadobs/hadcrut4/data/current/download.html on 12/2/2013 by Anthoff.\n",
      "\n",
      "Direct link http://www.metoffice.gov.uk/hadobs/hadcrut4/data/current/time_series/HadCRUT.4.2.0.0.annual_ns_avg_smooth.txt)."
     ]
    },
    {
     "cell_type": "code",
     "collapsed": false,
     "input": [
      "hadcrut4_file = pandas.read_csv('HadCRUT.4.2.0.0.annual_ns_avg_smooth.txt', \n",
      "                                   header=None, delim_whitespace=True, index_col=0, \n",
      "                                   usecols=[0,1], names=['year','temp'])"
     ],
     "language": "python",
     "metadata": {},
     "outputs": [],
     "prompt_number": 2
    },
    {
     "cell_type": "markdown",
     "metadata": {},
     "source": [
      "Run FUND in default configuration and save the variable radforc in the climateforcing component to a text file."
     ]
    },
    {
     "cell_type": "code",
     "collapsed": false,
     "input": [
      "fundrf_file = pandas.read_csv('climateforcing.radforc.csv', names=['year','rf'], index_col=0)"
     ],
     "language": "python",
     "metadata": {},
     "outputs": [],
     "prompt_number": 3
    },
    {
     "cell_type": "heading",
     "level": 2,
     "metadata": {},
     "source": [
      "III. Prepare data"
     ]
    },
    {
     "cell_type": "code",
     "collapsed": false,
     "input": [
      "df_obs = pandas.DataFrame(index=range(1950,2001))\n",
      "  \n",
      "df_obs['temp'] = (hadcrut4_file -hadcrut4_file.loc[1850:1870].mean())\n",
      "df_obs['rf'] = fundrf_file['rf']\n",
      "   \n",
      "df_obs.plot()"
     ],
     "language": "python",
     "metadata": {},
     "outputs": [
      {
       "metadata": {},
       "output_type": "pyout",
       "prompt_number": 4,
       "text": [
        "<matplotlib.axes.AxesSubplot at 0x9edfb00>"
       ]
      },
      {
       "metadata": {},
       "output_type": "display_data",
       "png": "[encoded data removed]",
       "text": [
        "<matplotlib.figure.Figure at 0x9edf780>"
       ]
      }
     ],
     "prompt_number": 4
    },
    {
     "cell_type": "heading",
     "level": 2,
     "metadata": {},
     "source": [
      "IV. Fit step"
     ]
    },
    {
     "cell_type": "markdown",
     "metadata": {},
     "source": [
      "Code for the climate dynamics component in FUND"
     ]
    },
    {
     "cell_type": "code",
     "collapsed": false,
     "input": [
      "def ClimateForcingModule(rf, lifetemp, t0, cs):\n",
      "    temp = []\n",
      "    temp.append(t0)\n",
      "    \n",
      "    delaytemp = 1.0/lifetemp\n",
      "    temps = cs / 5.35 / log(2.0)\n",
      "    \n",
      "    for t in range(0,len(rf)):                   \n",
      "        temp.append(temp[t] + delaytemp * temps * rf[t] - delaytemp * temp[t])\n",
      "        \n",
      "    return temp"
     ],
     "language": "python",
     "metadata": {},
     "outputs": [],
     "prompt_number": 5
    },
    {
     "cell_type": "markdown",
     "metadata": {},
     "source": [
      "Code that computes the residuals between the climate dynamics component and observations for a given set of parameters"
     ]
    },
    {
     "cell_type": "code",
     "collapsed": false,
     "input": [
      "def residuals(lifetemp,temp,rf, t0, cs): \n",
      "    calculated = ClimateForcingModule(rf[1:],lifetemp, t0, cs)\n",
      "    rr = temp-calculated\n",
      "    return rr"
     ],
     "language": "python",
     "metadata": {},
     "outputs": [],
     "prompt_number": 6
    },
    {
     "cell_type": "markdown",
     "metadata": {},
     "source": [
      "Fit the model for all climate sensitivities between 1.5 and 15.5 (stepsize 0.1), the calibrated parameter is lifetemp."
     ]
    },
    {
     "cell_type": "code",
     "collapsed": false,
     "input": [
      "css = np.arange(1.5,15.5,0.1)\n",
      "lifetemps = np.zeros(len(css))\n",
      "\n",
      "for ix, cs in enumerate(css):\n",
      "    pqrs = leastsq(residuals, [66.0],args=(df_obs['temp'].values,df_obs['rf'].values, 0.2, cs))\n",
      "    lifetemps[ix] = pqrs[0][0]    "
     ],
     "language": "python",
     "metadata": {},
     "outputs": [],
     "prompt_number": 7
    },
    {
     "cell_type": "code",
     "collapsed": false,
     "input": [
      "fittedvalues = pandas.DataFrame(lifetemps, index=css)\n",
      "fittedvalues.plot()\n",
      "xlabel('climate sensitivity')\n",
      "ylabel('lifetemp')"
     ],
     "language": "python",
     "metadata": {},
     "outputs": [
      {
       "metadata": {},
       "output_type": "pyout",
       "prompt_number": 8,
       "text": [
        "<matplotlib.text.Text at 0xa048c18>"
       ]
      },
      {
       "metadata": {},
       "output_type": "display_data",
       "png": "[encoded data removed]",
       "text": [
        "<matplotlib.figure.Figure at 0xa047ac8>"
       ]
      }
     ],
     "prompt_number": 8
    },
    {
     "cell_type": "heading",
     "level": 2,
     "metadata": {},
     "source": [
      "V. Regression step"
     ]
    },
    {
     "cell_type": "markdown",
     "metadata": {},
     "source": [
      "Run a regression lifetemp ~ cs + cs^2."
     ]
    },
    {
     "cell_type": "code",
     "collapsed": false,
     "input": [
      "x1 = css\n",
      "x2 = css**2.0\n",
      "y = lifetemps\n",
      "\n",
      "x = np.column_stack((x1,x2))\n",
      "x = sm.add_constant(x, prepend=True)\n",
      "\n",
      "res = sm.OLS(y,x).fit()"
     ],
     "language": "python",
     "metadata": {},
     "outputs": [],
     "prompt_number": 9
    },
    {
     "cell_type": "code",
     "collapsed": false,
     "input": [
      "print res.params"
     ],
     "language": "python",
     "metadata": {},
     "outputs": [
      {
       "output_type": "stream",
       "stream": "stdout",
       "text": [
        "[ -4.27421953e+01   2.90603121e+01   1.45642228e-03]\n"
       ]
      }
     ],
     "prompt_number": 10
    },
    {
     "cell_type": "code",
     "collapsed": false,
     "input": [
      "print res.bse"
     ],
     "language": "python",
     "metadata": {},
     "outputs": [
      {
       "output_type": "stream",
       "stream": "stdout",
       "text": [
        "[ 0.00755182  0.00201893  0.00011682]\n"
       ]
      }
     ],
     "prompt_number": 11
    },
    {
     "cell_type": "code",
     "collapsed": false,
     "input": [
      "print res.summary()"
     ],
     "language": "python",
     "metadata": {},
     "outputs": [
      {
       "output_type": "stream",
       "stream": "stdout",
       "text": [
        "                            OLS Regression Results                            \n",
        "==============================================================================\n",
        "Dep. Variable:                      y   R-squared:                       1.000\n",
        "Model:                            OLS   Adj. R-squared:                  1.000\n",
        "Method:                 Least Squares   F-statistic:                 2.372e+09\n",
        "Date:                Fri, 28 Feb 2014   Prob (F-statistic):               0.00\n",
        "Time:                        17:31:07   Log-Likelihood:                 349.22\n",
        "No. Observations:                 140   AIC:                            -692.4\n",
        "Df Residuals:                     137   BIC:                            -683.6\n",
        "Df Model:                           2                                         \n",
        "==============================================================================\n",
        "                 coef    std err          t      P>|t|      [95.0% Conf. Int.]\n",
        "------------------------------------------------------------------------------\n",
        "const        -42.7422      0.008  -5659.850      0.000       -42.757   -42.727\n",
        "x1            29.0603      0.002   1.44e+04      0.000        29.056    29.064\n",
        "x2             0.0015      0.000     12.467      0.000         0.001     0.002\n",
        "==============================================================================\n",
        "Omnibus:                       42.103   Durbin-Watson:                   0.723\n",
        "Prob(Omnibus):                  0.000   Jarque-Bera (JB):              820.842\n",
        "Skew:                          -0.243   Prob(JB):                    5.71e-179\n",
        "Kurtosis:                      14.852   Cond. No.                         513.\n",
        "==============================================================================\n"
       ]
      }
     ],
     "prompt_number": 12
    },
    {
     "cell_type": "code",
     "collapsed": false,
     "input": [
      "print 'Half life CS 3:', res.params[0] + res.params[1] * 3.0 + res.params[2] * 9.0"
     ],
     "language": "python",
     "metadata": {},
     "outputs": [
      {
       "output_type": "stream",
       "stream": "stdout",
       "text": [
        "Half life CS 3: 44.4518487557\n"
       ]
      }
     ],
     "prompt_number": 13
    },
    {
     "cell_type": "heading",
     "level": 2,
     "metadata": {},
     "source": [
      "VI. Output"
     ]
    },
    {
     "cell_type": "markdown",
     "metadata": {},
     "source": [
      "Write the input files for the model."
     ]
    },
    {
     "cell_type": "code",
     "collapsed": false,
     "input": [
      "with open('../../Fund/Data/Base/lifetempconst.csv','w') as f:\n",
      "    f.write('# FUND scenario\\n')\n",
      "    f.write(str(res.params[0]))\n",
      "    f.write('\\n')\n",
      "    \n",
      "with open('../../Fund/Data/Base/lifetemplin.csv','w') as f:\n",
      "    f.write('# FUND scenario\\n')\n",
      "    f.write(str(res.params[1]))\n",
      "    f.write('\\n')\n",
      "    \n",
      "with open('../../Fund/Data/Base/lifetempqd.csv','w') as f:\n",
      "    f.write('# FUND scenario\\n')\n",
      "    f.write(str(res.params[2]))\n",
      "    f.write('\\n')    "
     ],
     "language": "python",
     "metadata": {},
     "outputs": [],
     "prompt_number": 14
    }
   ],
   "metadata": {}
  }
 ]
}