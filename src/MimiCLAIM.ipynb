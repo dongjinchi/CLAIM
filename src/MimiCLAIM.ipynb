{
 "cells": [
  {
   "cell_type": "code",
   "execution_count": 1,
   "id": "e00ce8dc-4b7a-4a26-a7bc-ef0ea68df5fc",
   "metadata": {
    "tags": []
   },
   "outputs": [],
   "source": [
    "using Mimi"
   ]
  },
  {
   "cell_type": "code",
   "execution_count": 2,
   "id": "f56b93a5-6893-4eb6-a67e-a4df7a313767",
   "metadata": {
    "tags": []
   },
   "outputs": [
    {
     "data": {
      "text/plain": [
       "load_region_lv (generic function with 1 method)"
      ]
     },
     "execution_count": 2,
     "metadata": {},
     "output_type": "execute_result"
    }
   ],
   "source": [
    "include(\"helper_fund.jl\")\n",
    "include(\"helper_fairv2.jl\")\n",
    "include(\"helper_mesmer.jl\")"
   ]
  },
  {
   "cell_type": "code",
   "execution_count": 3,
   "id": "f236f78c-3900-4d08-abc1-84eaff4195ec",
   "metadata": {
    "tags": []
   },
   "outputs": [],
   "source": [
    "include(\"new_marginaldamages.jl\")\n",
    "include(\"components_fund/SocioEconomicComponent.jl\")\n",
    "include(\"components_fairv2/emissions.jl\")\n",
    "include(\"components_fairv2/co2_cycle.jl\")\n",
    "include(\"components_fairv2/ch4_cycle.jl\")\n",
    "include(\"components_fairv2/n2o_cycle.jl\")\n",
    "include(\"components_fairv2/montreal_gas_cycles.jl\")\n",
    "include(\"components_fairv2/flourinated_gas_cycles.jl\")\n",
    "include(\"components_fairv2/aerosol_plus_gas_cycles.jl\")\n",
    "include(\"components_fairv2/radiative_forcing.jl\")\n",
    "include(\"components_fairv2/temperature.jl\")\n",
    "include(\"components_fund/ClimateRegionalComponent.jl\")\n",
    "include(\"components_fund/ImpactAggregationComponent.jl\")"
   ]
  },
  {
   "cell_type": "code",
   "execution_count": 4,
   "id": "c18144e9-d629-4045-a6a0-9a57af834834",
   "metadata": {
    "tags": []
   },
   "outputs": [
    {
     "data": {
      "text/plain": [
       "get_model (generic function with 4 methods)"
      ]
     },
     "execution_count": 4,
     "metadata": {},
     "output_type": "execute_result"
    }
   ],
   "source": [
    "function get_model(regions, esm::String, emu::Int,  emissions_forcing_scenario::String=\"ssp119\", start_year::Int=1950, end_year::Int=2300)\n",
    "    \n",
    "    # ------------------------------------\n",
    "    # Create model\n",
    "    # ------------------------------------\n",
    "    \n",
    "    m = Model()\n",
    "    \n",
    "    # ------------------------------------\n",
    "    # Set dimensions\n",
    "    # ------------------------------------\n",
    "    gas_p = DataFrame(load(joinpath(@__DIR__, \"..\", \"data/fair_data\", \"default_gas_cycle_parameters.csv\"), skiplines_begin=6))\n",
    "    montreal_gas_p     = filter(:gas_group => ==(\"montreal\"), gas_p)\n",
    "    flourinated_gas_p  = filter(:gas_group => ==(\"flourinated\"), gas_p)\n",
    "    aerosol_plus_gas_p = filter(:gas_group => ==(\"aerosol_plus\"), gas_p)\n",
    "    \n",
    "    set_dimension!(m, :time, start_year:end_year)\n",
    "    set_dimension!(m, :regions, regions)\n",
    "    set_dimension!(m, :montreal_gases, montreal_gas_p[:,:gas_name])\n",
    "    set_dimension!(m, :flourinated_gases, flourinated_gas_p[:,:gas_name])\n",
    "    set_dimension!(m, :aerosol_plus_gases, aerosol_plus_gas_p[:,:gas_name])\n",
    "    \n",
    "    # ------------------------------------\n",
    "    # Create components\n",
    "    # ------------------------------------\n",
    "\n",
    "    add_comp!(m, socioeconomic)\n",
    "    add_comp!(m, emissions)\n",
    "    add_comp!(m, co2_cycle)\n",
    "    add_comp!(m, ch4_cycle)\n",
    "    add_comp!(m, n2o_cycle)\n",
    "    add_comp!(m, montreal_cycles)\n",
    "    add_comp!(m, flourinated_cycles)\n",
    "    add_comp!(m, aerosol_plus_cycles)\n",
    "    add_comp!(m, radiative_forcing)\n",
    "    add_comp!(m, temperature)\n",
    "    add_comp!(m, climateregional)\n",
    "    add_comp!(m, impactaggregation)\n",
    "\n",
    "    # ---------------------------------------------\n",
    "    # Connect parameters to variables\n",
    "    # ---------------------------------------------\n",
    "\n",
    "    connect_param!(m, :climateregional, :inputtemp, :temperature, :T)    \n",
    "\n",
    "    # ---------------------------------------------\n",
    "    # Set all external parameter values\n",
    "    # ---------------------------------------------\n",
    "    update_MimiFAIR2_params!(m; emissions_forcing_scenario, start_year, end_year)\n",
    "    \n",
    "    region_lt_coef, region_lt_inter = load_region_lt(esm)\n",
    "    region_lv = load_region_lv(esm,emu)\n",
    "    \n",
    "    #include backup data from 1990 to 2015 for emus_lv\n",
    "    region_lv_backup = DataFrame(load(joinpath(@__DIR__, \"..\", \"data\",\"climateregional-emus_lv.csv\")))\n",
    "    region_lv = vcat(region_lv_backup,region_lv)\n",
    "    \n",
    "    mesmer_parameters = Dict{Tuple{Symbol,Symbol}, Any}()\n",
    "    mesmer_parameters[(:climateregional, :region_lv)] = region_lv\n",
    "    mesmer_parameters[(:climateregional, :region_lt_coef)] = region_lt_coef\n",
    "    mesmer_parameters[(:climateregional, :region_lt_inter)] = region_lt_inter\n",
    "    \n",
    "    nsteps = length(start_year:end_year)\n",
    "    \n",
    "    prepparameters!(mesmer_parameters, nsteps)\n",
    "    for (name, value) in mesmer_parameters\n",
    "        update_param!(m, name[1], name[2], value)\n",
    "    end\n",
    "    \n",
    "    update_fund_params!(m;nsteps)\n",
    "    \n",
    "    return m\n",
    "end"
   ]
  },
  {
   "cell_type": "code",
   "execution_count": 5,
   "id": "3aa77e5e-55ab-4bd8-b29c-047f37624857",
   "metadata": {
    "tags": []
   },
   "outputs": [],
   "source": [
    "using DelimitedFiles\n",
    "regionsdata = readdlm(joinpath(@__DIR__, \"..\", \"data\", \"regions.csv\"), ',', String)\n",
    "regions =regionsdata[2:end, 1];"
   ]
  },
  {
   "cell_type": "code",
   "execution_count": 6,
   "id": "a51f7c94-d150-4f3b-a8f8-335292c5b26d",
   "metadata": {
    "tags": []
   },
   "outputs": [
    {
     "data": {
      "text/plain": [
       "2300"
      ]
     },
     "execution_count": 6,
     "metadata": {},
     "output_type": "execute_result"
    }
   ],
   "source": [
    "esm = \"IPSL-CM6A-LR\"\n",
    "emu = 1\n",
    "emissions_forcing_scenario=\"ssp119\"\n",
    "start_year = 1990\n",
    "end_year = 2300"
   ]
  },
  {
   "cell_type": "code",
   "execution_count": 7,
   "id": "3ca74771-931d-4bb8-8581-24cb3ce3e4b2",
   "metadata": {
    "tags": []
   },
   "outputs": [
    {
     "data": {
      "text/plain": [
       "Mimi.Model\n",
       "  Module: Mimi\n",
       "  Components:\n",
       "    ComponentId(Main.socioeconomic)\n",
       "    ComponentId(Main.emissions)\n",
       "    ComponentId(Main.co2_cycle)\n",
       "    ComponentId(Main.ch4_cycle)\n",
       "    ComponentId(Main.n2o_cycle)\n",
       "    ComponentId(Main.montreal_cycles)\n",
       "    ComponentId(Main.flourinated_cycles)\n",
       "    ComponentId(Main.aerosol_plus_cycles)\n",
       "    ComponentId(Main.radiative_forcing)\n",
       "    ComponentId(Main.temperature)\n",
       "    ComponentId(Main.climateregional)\n",
       "    ComponentId(Main.impactaggregation)\n",
       "  Built: false\n"
      ]
     },
     "execution_count": 7,
     "metadata": {},
     "output_type": "execute_result"
    }
   ],
   "source": [
    "m =  get_model(regions, esm, emu, emissions_forcing_scenario, start_year, end_year)"
   ]
  },
  {
   "cell_type": "code",
   "execution_count": 8,
   "id": "23488669-7066-49e3-9c7b-f1009991f245",
   "metadata": {},
   "outputs": [],
   "source": [
    "run(m)"
   ]
  },
  {
   "cell_type": "code",
   "execution_count": 9,
   "id": "01ea3947-bff5-4581-b1d8-61380f314499",
   "metadata": {
    "tags": []
   },
   "outputs": [
    {
     "name": "stdout",
     "output_type": "stream",
     "text": [
      "841.9727771103982"
     ]
    }
   ],
   "source": [
    "using CSV\n",
    "gsc = compute_scco2(m, year = 2020,last_year=2300).gsc\n",
    "show(gsc)\n",
    "rsc = compute_scco2(m, year = 2020,last_year=2300).rsc\n",
    "rsc = rsc[1,:]; # make a vector\n",
    "df = DataFrame(\n",
    "    :RegionID =>regions,\n",
    "    :rsc => rsc,\n",
    ");\n",
    "#using CSV\n",
    "#CSV.write(\"province_rsc.csv\",df)\n",
    "df.RegionID = parse.(Int, df.RegionID);"
   ]
  },
  {
   "cell_type": "code",
   "execution_count": 10,
   "id": "0b736088-cddb-4285-8374-6c28ab9d907f",
   "metadata": {
    "tags": []
   },
   "outputs": [
    {
     "data": {
      "text/plain": [
       "PyObject <module 'pandas' from 'C:\\\\ProgramData\\\\anaconda3\\\\envs\\\\claim_env\\\\lib\\\\site-packages\\\\pandas\\\\__init__.py'>"
      ]
     },
     "execution_count": 10,
     "metadata": {},
     "output_type": "execute_result"
    }
   ],
   "source": [
    "using PyCall,PyPlot\n",
    "gpd = pyimport(\"geopandas\")\n",
    "pd = pyimport(\"pandas\")"
   ]
  },
  {
   "cell_type": "code",
   "execution_count": null,
   "id": "892bfeab-495c-4358-89f1-cfccdbbd7ae1",
   "metadata": {
    "tags": []
   },
   "outputs": [],
   "source": [
    "countries = gpd.read_file(joinpath(@__DIR__, \"..\", \"data/shapefile\",\"subnational_boundaries.shp\"))\n",
    "df_py = pd.DataFrame(Dict([name => getproperty(df, name) for name in names(df)]))\n",
    "merged_data = countries.merge(df_py, on=\"RegionID\");\n",
    "fig, ax = subplots()\n",
    "ax[:set_title](\"RSC Distribution\")\n",
    "merged_data.plot(column=\"rsc\", ax=ax, legend=true, cmap=\"coolwarm\")  # 使用colormap 'viridis'\n",
    "show()\n",
    "PyPlot.savefig(\"regional social cost of carbon.jpg\", dpi=300)"
   ]
  },
  {
   "cell_type": "code",
   "execution_count": null,
   "id": "0c427494-051d-4aba-bc3c-037c2e647ac8",
   "metadata": {},
   "outputs": [],
   "source": [
    "using VegaLite\n",
    "using DataFrames"
   ]
  },
  {
   "cell_type": "code",
   "execution_count": null,
   "id": "7befc761-47fe-40f1-9356-7cad039715f6",
   "metadata": {
    "tags": []
   },
   "outputs": [],
   "source": [
    "temp = mean(m[:climateregional, :regtmp], dims = 2)[:,1];\n",
    "\n",
    "df = DataFrame(\n",
    "    :Year => Mimi.time_labels(m),\n",
    "    :temp => temp)\n",
    "\n",
    "stack(df, [:temp]) |> \n",
    "\n",
    "@vlplot(\n",
    "    :line, \n",
    "    x = :Year,\n",
    "    y = {:value, scale={domain=[18, 20]}},\n",
    "    color = :variable\n",
    ")"
   ]
  },
  {
   "cell_type": "code",
   "execution_count": null,
   "id": "0dfea631-fe1a-42d2-bfcf-80408760c078",
   "metadata": {
    "tags": []
   },
   "outputs": [],
   "source": [
    "loss = sum(m[:impactaggregation, :loss], dims = 2)[:,1];\n",
    "\n",
    "df = DataFrame(\n",
    "    :Year => Mimi.time_labels(m),\n",
    "    :loss => loss)\n",
    "\n",
    "stack(df, [:loss]) |> \n",
    "\n",
    "@vlplot(\n",
    "    :line, \n",
    "    x = :Year,\n",
    "    y = :value,\n",
    "    color = :variable\n",
    ")"
   ]
  },
  {
   "cell_type": "code",
   "execution_count": null,
   "id": "bc887b9e-553e-46a6-b3bb-4d4d99942cec",
   "metadata": {},
   "outputs": [],
   "source": [
    "explore(m)"
   ]
  },
  {
   "cell_type": "code",
   "execution_count": 24,
   "id": "74c595ec-318d-454a-9df8-939c5ebcd255",
   "metadata": {
    "tags": []
   },
   "outputs": [
    {
     "data": {
      "text/plain": [
       "1-element Vector{String}:\n",
       " \"IPSL-CM6A-LR\""
      ]
     },
     "execution_count": 24,
     "metadata": {},
     "output_type": "execute_result"
    }
   ],
   "source": [
    "esms = [\n",
    "    #\"CAMS-CSM1-0\",\n",
    "    #\"CanESM5\",\n",
    "    #\"CanESM5-1\",\n",
    "    #\"CNRM-ESM2-1\",\n",
    "    #\"EC-Earth3-Veg-LR\"\n",
    "    #\"GFDL-ESM4\",\n",
    "    #\"GISS-E2-1-G\",\n",
    "    \"IPSL-CM6A-LR\",\n",
    "    #\"MIROC6\",\n",
    "    #\"MPI-ESM1-2-LR\",\n",
    "    #\"MRI-ESM2-0\",\n",
    "    #\"UKESM1-0-LL\",\n",
    "]"
   ]
  },
  {
   "cell_type": "code",
   "execution_count": 29,
   "id": "354c87d0-92d1-4b41-afc1-40e00435e838",
   "metadata": {
    "tags": []
   },
   "outputs": [
    {
     "name": "stdout",
     "output_type": "stream",
     "text": [
      "\"1:\"865.6327438479061\"2:\"865.6327438479061"
     ]
    },
    {
     "data": {
      "text/plain": [
       "\"E:\\\\10Julia\\\\04research\\\\02SCC\\\\regional_scc.csv\""
      ]
     },
     "execution_count": 29,
     "metadata": {},
     "output_type": "execute_result"
    }
   ],
   "source": [
    "Regional_scc = DataFrame(:RegionID => regions)\n",
    "for i in 1:2\n",
    "    show(\"$i:\")\n",
    "    esm = rand(esms)\n",
    "    emu = rand(1:1)\n",
    "    m =  get_model(regions, esm, emu, emissions_forcing_scenario, start_year, end_year)\n",
    "    run(m)\n",
    "    gsc = compute_scco2(m, year = 2020,last_year=2300).gsc\n",
    "    show(gsc)\n",
    "    rsc = compute_scco2(m, year = 2020,last_year=2300).rsc\n",
    "    rsc = rsc[1,:]; # make a vector\n",
    "    emus = Symbol(\"emu_$i\")\n",
    "    df = DataFrame(\n",
    "        :RegionID =>regions,\n",
    "        emus => rsc,\n",
    "    );\n",
    "    Regional_scc =leftjoin(Regional_scc, df, on=:RegionID)\n",
    "end\n",
    "CSV.write(\"E:\\\\10Julia\\\\04research\\\\02SCC\\\\regional_scc.csv\",Regional_scc)"
   ]
  },
  {
   "cell_type": "code",
   "execution_count": null,
   "id": "c57f9f72-c99b-4b93-86c6-a5950aa2ee8d",
   "metadata": {},
   "outputs": [],
   "source": []
  }
 ],
 "metadata": {
  "kernelspec": {
   "display_name": "Julia 1.8.1",
   "language": "julia",
   "name": "julia-1.8"
  },
  "language_info": {
   "file_extension": ".jl",
   "mimetype": "application/julia",
   "name": "julia",
   "version": "1.8.1"
  }
 },
 "nbformat": 4,
 "nbformat_minor": 5
}
