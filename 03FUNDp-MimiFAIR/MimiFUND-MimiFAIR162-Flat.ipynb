{
 "cells": [
  {
   "cell_type": "markdown",
   "metadata": {},
   "source": [
    "## Implementation of MimiFAIR162-MimiFUND"
   ]
  },
  {
   "cell_type": "markdown",
   "metadata": {},
   "source": [
    "This notebook implements a coupling of the MimiFAIR model and the MimiFUND model. At a high-level, the goal here is to use the MimiFAIR model as the climate module, and the MimiFUND model as the socioeconomic and damages modules, although in this case we still allow MimiFUND's climate module to take care of the modeling of non-CO₂ gases like methane.  \n",
    "\n",
    "This is meant to be an instructional example for the use-case of Mimi where a user wishes to couple together existing models.\n",
    "\n",
    "Resources for further inquiries include:\n",
    "\n",
    "- The Mimi framework [website](https://www.mimiframework.org)\n",
    "- The Mimi [forum](https://forum.mimiframework.org) for technical and Mimi-related questions\n",
    "- The model-specific repositories, [MimiFUND](https://github.com/fund-model/MimiFUND.jl) and [MimiFAIR](https://github.com/anthofflab/mimi-fair.jl/) for model-specific inquiries\n",
    "\n",
    "If you wish to follow alone, feel free to download or clone the Github repository, or create a new project on your own machine. If you are new to Mimi, you will probably want to start with our basic Mimi installation process as described in our documentation [here](https://www.mimiframework.org/Mimi.jl/stable/tutorials/tutorial_1/#Tutorial-1:-Install-Mimi-1)."
   ]
  },
  {
   "cell_type": "markdown",
   "metadata": {},
   "source": [
    "### Set up the Environment"
   ]
  },
  {
   "cell_type": "markdown",
   "metadata": {},
   "source": [
    "The first step is to set up the environment with the required packages and versions for this exercise as indicated in the `Manifest.toml` and `Project.toml` files. As you can see from the call to `Pkg.status()`, this work requires a few packages including the `master` branch of `Mimi`, the default (latest tagged) versions of `MimiFAIR` and `MimiFUND` model implementations, and some supporting packages `CSVFiles`, `DataFrames`, and `Vegalite`."
   ]
  },
  {
   "cell_type": "code",
   "execution_count": 1,
   "metadata": {},
   "outputs": [],
   "source": [
    "#using Pkg\n",
    "#Pkg.activate(@__DIR__)\n",
    "#Pkg.status()"
   ]
  },
  {
   "cell_type": "markdown",
   "metadata": {},
   "source": [
    "Note that if you are following along on your own machine without downloading this repository, you can recreate this environment by adding each of the packages listed above with `Pkg.add()`, or using the `Pkg` REPL entered with `]`."
   ]
  },
  {
   "cell_type": "code",
   "execution_count": 2,
   "metadata": {},
   "outputs": [],
   "source": [
    "# using Pkg\n",
    "# Pkg.add(\"CSVFiles\")\n",
    "# Pkg.add(\"DataFrames\")\n",
    "# Pkg.add(\"Mimi\")\n",
    "#Pkg.add(\"MimiFAIR\")\n",
    "#Pkg.add(\"MimiFAIRv1_6_2\")\n",
    "# Pkg.add(\"MimiFUND\")\n",
    "# Pkg.add(\"VegaLite\")\n",
    "\n",
    "# Pkg.status()"
   ]
  },
  {
   "cell_type": "markdown",
   "metadata": {},
   "source": [
    "Next we load the packages whose APIs we will be directly using as well as set some constants to be used in the script."
   ]
  },
  {
   "cell_type": "code",
   "execution_count": 3,
   "metadata": {},
   "outputs": [],
   "source": [
    "using MimiFAIRv1_6_2\n",
    "using Mimi"
   ]
  },
  {
   "cell_type": "markdown",
   "metadata": {},
   "source": [
    "### Load Helpers and Set Constants"
   ]
  },
  {
   "cell_type": "markdown",
   "metadata": {},
   "source": [
    "We will now load some helper functions and set some constants, most of which have to do with the difference in time dimensions between FAIR and FUND, which will drive much of our coupling work.\n",
    "\n",
    "\n",
    "The `helper.jl` file defines the `update_MimiFAIR_params!` function with the following signature.  This is copied directly from the source code of `MimiFAIR.jl` and takes care of the calls to `update_param!`, `add_shared_param!`, and `connect_param!` that build up the stand alone MimiFAIR model.\n",
    "\n",
    "\n",
    "```\n",
    "function update_MimiFAIR_params!(m; rcp_scenario::String=\"RCP85\", start_year::Int=1765, end_year::Int=2500, F2x::Float64=3.71, TCR::Float64=1.6, ECS::Float64=2.75, d::Array{Float64,1}=[239.0, 4.1])\n",
    "```\n",
    "\n",
    "In the future we can likely shorten this function by adding `default` values to the scalar parameters of FAIR."
   ]
  },
  {
   "cell_type": "code",
   "execution_count": 4,
   "metadata": {},
   "outputs": [
    {
     "data": {
      "text/plain": [
       "Main.FUNDprovince"
      ]
     },
     "execution_count": 4,
     "metadata": {},
     "output_type": "execute_result"
    }
   ],
   "source": [
    "include(\"src/helper.jl\");\n",
    "include(\"E:/10Julia/02FUND-Province-julia/src/FUND-province-julia.jl\")"
   ]
  },
  {
   "cell_type": "code",
   "execution_count": 5,
   "metadata": {},
   "outputs": [
    {
     "data": {
      "text/plain": [
       "86"
      ]
     },
     "execution_count": 5,
     "metadata": {},
     "output_type": "execute_result"
    }
   ],
   "source": [
    "# set some constants\n",
    "ar6_scenario = \"ssp585\"\n",
    "\n",
    "FAIR_first = 1950\n",
    "FAIR_last = 2100\n",
    "FAIR_len = length(FAIR_first:FAIR_last)\n",
    "\n",
    "FUND_first = 2015\n",
    "FUND_last = 2100\n",
    "FUND_len = length(FUND_first:FUND_last)"
   ]
  },
  {
   "cell_type": "markdown",
   "metadata": {},
   "source": [
    "### Load Independent (Default) FUND and FAIR Models"
   ]
  },
  {
   "cell_type": "markdown",
   "metadata": {},
   "source": [
    "We begin with the default FUND model as implemented in `MimiFUND.jl`."
   ]
  },
  {
   "cell_type": "code",
   "execution_count": 6,
   "metadata": {},
   "outputs": [
    {
     "name": "stdout",
     "output_type": "stream",
     "text": [
      ":emissions:impactaggregation:scenariouncertainty:climatedynamics:climateco2cycle:emissions:scenariouncertainty:climateregional:climateco2cycle:emissions:climatedynamics:population:climateco2cycle:climateco2cycle:climatedynamics:climateco2cycle:scenariouncertainty:socioeconomic:scenariouncertainty"
     ]
    },
    {
     "data": {
      "text/plain": [
       "Mimi.Model\n",
       "  Module: Mimi\n",
       "  Components:\n",
       "    ComponentId(Main.FUNDprovince.scenariouncertainty)\n",
       "    ComponentId(Main.FUNDprovince.population)\n",
       "    ComponentId(Main.FUNDprovince.socioeconomic)\n",
       "    ComponentId(Main.FUNDprovince.emissions)\n",
       "    ComponentId(Main.FUNDprovince.climateco2cycle)\n",
       "    ComponentId(Main.FUNDprovince.climateforcing)\n",
       "    ComponentId(Main.FUNDprovince.climatedynamics)\n",
       "    ComponentId(Main.FUNDprovince.climateregional)\n",
       "    ComponentId(Main.FUNDprovince.impactaggregation)\n",
       "  Built: false\n"
      ]
     },
     "execution_count": 6,
     "metadata": {},
     "output_type": "execute_result"
    }
   ],
   "source": [
    "using DelimitedFiles\n",
    "regionsdata = readdlm(\"E:/10Julia/02FUND-Province-julia/data/regions.csv\", ',',String)\n",
    "regions =regionsdata[2:end, 1]\n",
    "default_datadir = joinpath(\"E:/10Julia/02FUND-Province-julia\", \"data\")\n",
    "default_params = nothing\n",
    "m = FUNDprovince.get_model(syear=2015, nsteps = 85, regions = regions, datadir = default_datadir, params = default_params)"
   ]
  },
  {
   "cell_type": "markdown",
   "metadata": {},
   "source": [
    "### Add and Update Dimensions"
   ]
  },
  {
   "cell_type": "markdown",
   "metadata": {},
   "source": [
    "The first step in building out our coupled model, starting with our default FUND model, is to handle dimensions. Currently the model `m` has two dimensions, `time` and `regions`. "
   ]
  },
  {
   "cell_type": "code",
   "execution_count": 7,
   "metadata": {},
   "outputs": [
    {
     "data": {
      "text/plain": [
       "OrderedCollections.OrderedDict{Symbol, Union{Nothing, Mimi.Dimension}} with 3 entries:\n",
       "  :time       => [2015, 2016, 2017, 2018, 2019, 2020, 2021, 2022, 2023, 2024  ……\n",
       "  :regions    => [\"4\", \"12\", \"20\", \"24\", \"28\", \"31\", \"44\", \"48\", \"51\", \"52\"  … …\n",
       "  Symbol(\"5\") => [1, 2, 3, 4, 5]"
      ]
     },
     "execution_count": 7,
     "metadata": {},
     "output_type": "execute_result"
    }
   ],
   "source": [
    "m.md.dim_dict # display the dimensions of the default FUND model"
   ]
  },
  {
   "cell_type": "markdown",
   "metadata": {},
   "source": [
    "We now add two new dimensions to our model `m` that are used by FAIR."
   ]
  },
  {
   "cell_type": "code",
   "execution_count": 8,
   "metadata": {},
   "outputs": [
    {
     "data": {
      "text/plain": [
       "OrderedCollections.OrderedDict{Symbol, Union{Nothing, Mimi.Dimension}} with 5 entries:\n",
       "  :time                       => [2015, 2016, 2017, 2018, 2019, 2020, 2021, 202…\n",
       "  :regions                    => [\"4\", \"12\", \"20\", \"24\", \"28\", \"31\", \"44\", \"48\"…\n",
       "  Symbol(\"5\")                 => [1, 2, 3, 4, 5]\n",
       "  :other_ghg                  => [\"CF4\", \"C2F6\", \"C6F14\", \"HFC23\", \"HFC32\", \"HF…\n",
       "  :ozone_depleting_substances => [\"CFC_11\", \"CFC_12\", \"CFC_113\", \"CFC_114\", \"CF…"
      ]
     },
     "execution_count": 8,
     "metadata": {},
     "output_type": "execute_result"
    }
   ],
   "source": [
    "# add new dimensions relevant to FAIR (1) minor greenhouse gases and \n",
    "# (2) ozone-depleting substances\n",
    "other_ghg_names = [\"CF4\", \"C2F6\", \"C6F14\", \"HFC23\", \"HFC32\", \"HFC43_10\", \"HFC125\", \"HFC134a\", \"HFC143a\", \"HFC227ea\", \"HFC245fa\", \"SF6\"]\n",
    "ods_names       = [\"CFC_11\", \"CFC_12\", \"CFC_113\", \"CFC_114\", \"CFC_115\", \"CARB_TET\", \"MCF\", \"HCFC_22\", \"HCFC_141B\", \"HCFC_142B\", \"HALON1211\", \"HALON1202\", \"HALON1301\", \"HALON2402\", \"CH3BR\", \"CH3CL\"]\n",
    "\n",
    "set_dimension!(m, :other_ghg, other_ghg_names) # FAIR dims - Set index for Kyoto and ozone ozone-depleting gases.\n",
    "set_dimension!(m, :ozone_depleting_substances, ods_names) # FAIR dims - Set index for Kyoto and ozone ozone-depleting gases.\n",
    "\n",
    "m.md.dim_dict  # display the (augmented) dimensions of the default FUND model's Model Definition"
   ]
  },
  {
   "cell_type": "markdown",
   "metadata": {},
   "source": [
    "The final dimensions-related step is to expand the time dimension of the model.  At this stage, our model runs on FUND's default time dimension 1950 to 3000 (`FUND_first` to `FUND_last`).  FAIR, however, runs from 1765 to 2500 (`FAIR_first` to `FAIR_last`) so we are going to set our model to run from 1765 to 2500.\n",
    "\n",
    "FUND will not start running until 1950, and will not produce an `emissions` value until 1951, so up until 1951 FAIR will use `backup` values pulled from default FUND as we will describe in detail below.\n",
    "\n",
    "**For further details on the effects and restrictions around updating the `time` dimension of a model see the documentation [here](https://www.mimiframework.org/Mimi.jl/dev/howto/howto_5/).**"
   ]
  },
  {
   "cell_type": "code",
   "execution_count": 9,
   "metadata": {},
   "outputs": [
    {
     "data": {
      "text/plain": [
       "OrderedCollections.OrderedDict{Symbol, Union{Nothing, Mimi.Dimension}} with 5 entries:\n",
       "  :time                       => [1950, 1951, 1952, 1953, 1954, 1955, 1956, 195…\n",
       "  :regions                    => [\"4\", \"12\", \"20\", \"24\", \"28\", \"31\", \"44\", \"48\"…\n",
       "  Symbol(\"5\")                 => [1, 2, 3, 4, 5]\n",
       "  :other_ghg                  => [\"CF4\", \"C2F6\", \"C6F14\", \"HFC23\", \"HFC32\", \"HF…\n",
       "  :ozone_depleting_substances => [\"CFC_11\", \"CFC_12\", \"CFC_113\", \"CFC_114\", \"CF…"
      ]
     },
     "execution_count": 9,
     "metadata": {},
     "output_type": "execute_result"
    }
   ],
   "source": [
    "set_dimension!(m, :time, collect(FAIR_first:FUND_last))\n",
    "\n",
    "m.md.dim_dict # display the (udpated) dimensions of the model"
   ]
  },
  {
   "cell_type": "markdown",
   "metadata": {},
   "source": [
    "### Augment FUND with FAIR Components"
   ]
  },
  {
   "cell_type": "markdown",
   "metadata": {},
   "source": [
    "We now add the FAIR components to our model.  We place them in a contiguous block starting after the FUND `emissions` component, which will feed results into the FAIR components before FAIR feeds back into FUND from its `temperature` component.\n",
    "\n",
    "Also note that since we have updated the time dimension to run from `FAIR_first` to `FAIR_last`, or 1765 to 2500, each of these new components will be set to run from 1765 to 2500, the full model time period, by default."
   ]
  },
  {
   "cell_type": "code",
   "execution_count": 10,
   "metadata": {},
   "outputs": [],
   "source": [
    "add_comp!(m, MimiFAIRv1_6_2.ch4_cycle; after = :emissions);\n",
    "add_comp!(m, MimiFAIRv1_6_2.n2o_cycle; after = :ch4_cycle);\n",
    "add_comp!(m, MimiFAIRv1_6_2.co2_cycle; after = :n2o_cycle);\n",
    "add_comp!(m, MimiFAIRv1_6_2.other_ghg_cycles; after = :co2_cycle);\n",
    "add_comp!(m, MimiFAIRv1_6_2.o3_depleting_substance_cycles; after = :other_ghg_cycles);\n",
    "add_comp!(m, MimiFAIRv1_6_2.co2_forcing; after = :o3_depleting_substance_cycles);\n",
    "add_comp!(m, MimiFAIRv1_6_2.ch4_forcing; after = :co2_forcing);\n",
    "add_comp!(m, MimiFAIRv1_6_2.n2o_forcing; after = :ch4_forcing);\n",
    "add_comp!(m, MimiFAIRv1_6_2.o3_forcing; after = :n2o_forcing);\n",
    "add_comp!(m, MimiFAIRv1_6_2.aerosol_direct_forcing; after = :o3_forcing);\n",
    "add_comp!(m, MimiFAIRv1_6_2.aerosol_indirect_forcing; after = :aerosol_direct_forcing);\n",
    "add_comp!(m, MimiFAIRv1_6_2.other_ghg_forcing; after = :aerosol_indirect_forcing);\n",
    "add_comp!(m, MimiFAIRv1_6_2.o3_depleting_substance_forcing; after = :other_ghg_forcing);\n",
    "add_comp!(m, MimiFAIRv1_6_2.contrails_forcing; after = :o3_depleting_substance_forcing);\n",
    "add_comp!(m, MimiFAIRv1_6_2.bc_snow_forcing; after = :contrails_forcing);\n",
    "add_comp!(m, MimiFAIRv1_6_2.landuse_forcing; after = :bc_snow_forcing);\n",
    "add_comp!(m, MimiFAIRv1_6_2.total_forcing; after = :landuse_forcing);\n",
    "add_comp!(m, MimiFAIRv1_6_2.temperature; after = :total_forcing);"
   ]
  },
  {
   "cell_type": "markdown",
   "metadata": {},
   "source": [
    "Next we run our helper function to update all the FAIR component parameters and make their internal connections, such that we have added  a fully functional and runnable FAIR model into our FUND model.\n"
   ]
  },
  {
   "cell_type": "code",
   "execution_count": 11,
   "metadata": {},
   "outputs": [],
   "source": [
    "update_MimiFAIR162_params!(m; start_year = FAIR_first, end_year = FAIR_last, ar6_scenario = ar6_scenario)"
   ]
  },
  {
   "cell_type": "markdown",
   "metadata": {},
   "source": [
    "At this point the model `m` is runnable (and in fact none of the steps in this notebook thus far have made an invalid, unrunnable model), but currently `m` will run FUND and FAIR in their default modes and completely disconnected.  The next section describes the steps to couple them together."
   ]
  },
  {
   "cell_type": "markdown",
   "metadata": {},
   "source": [
    "### Couple FUND and FAIR"
   ]
  },
  {
   "cell_type": "markdown",
   "metadata": {},
   "source": [
    "#### FUND Emissions --> Convert Mtons to Gtons --> FAIR CO₂ Cycle"
   ]
  },
  {
   "cell_type": "markdown",
   "metadata": {},
   "source": [
    "We want to connect the FUND `emissions` component's `mco2` variable the FAIR `co2_cycle` component's `E_CO₂` parameter.  In the stand-alone version of FAIR, the `E_CO₂` is exogenously forced by the summation of all `CO₂` sources, as shown in it's source code (and the `helper.jl` file):\n",
    "\n",
    "```\n",
    "rcp_emissions, volcano_forcing, solar_forcing, gas_data, gas_fractions, conversions = MimiFAIR.load_fair_data(start_year, end_year, rcp_scenario)\n",
    "\n",
    "update_param!(m, :co2_cycle, :E_CO₂, rcp_emissions.FossilCO2 .+ rcp_emissions.OtherCO2)\n",
    "```"
   ]
  },
  {
   "cell_type": "markdown",
   "metadata": {},
   "source": [
    "First we need to add a `multiplier` component between FUND's `emissions` component and the FAIR components because FUND outputs Mtons of C but FAIR expects Gtons of C. **Note that these models expect C instead of CO₂, which is endogenous to the model so we must align with those**.\n",
    "\n",
    "Mimi has a few built in components for this type of situation, including `Mimi.multiplier`, as decribed [here](https://www.mimiframework.org/Mimi.jl/stable/tutorials/tutorial_3/#Component-and-Structural-Modifications:-The-API-1).  \n",
    "\n",
    "This small component just needs a connected `input` parameter and a `multiply` parameter to produce an `output` variable. In this case, we connect the `multiplier` component's `input` parameter to the `emissions` component's `mco2` variable and set `multiply` parameter to our unit conversion value of 1/1000. We also set the `multiplier` component to run only while FUND runs by setting `first = FUND_first` and `last = FUND_last`."
   ]
  },
  {
   "cell_type": "code",
   "execution_count": 12,
   "metadata": {},
   "outputs": [],
   "source": [
    "add_comp!(m, Mimi.multiplier; after = :emissions, first = FUND_first, last = FUND_last);\n",
    "set_param!(m, :multiplier, :multiply, fill(1/1000, FAIR_len)) # convert Mtons C coming out of FUND to Gtons C going into FAIR\n",
    "connect_param!(m, :multiplier, :input, :emissions, :mco2)"
   ]
  },
  {
   "cell_type": "markdown",
   "metadata": {},
   "source": [
    "Now that we have taken care of unit conversion, we can connect the FAIR `co2_cycle` component's `E_CO₂` parameter to the `multiplier` component's `output` variable.  A few notes on the arguments having to do with backup data are:\n",
    "\n",
    "- Since FAIR runs from 1765 to 1950, but FUND (and the multiplier) only runs from 1950 to 2500, we need to include backup data `FAIR_CO₂_backup` for FAIR to use until FUND can provide a value.  We use the same data that previously exogenously forced FAIR.\n",
    "\n",
    "\n",
    "- We also need to include the `backup_offset` optional argument for the `connect_param!` function, because FUND does not actually produce a value for `mco2` until it's *second* timestep, or in this case 1951, and thus we set `backup_offset = 1`."
   ]
  },
  {
   "cell_type": "code",
   "execution_count": 13,
   "metadata": {},
   "outputs": [],
   "source": [
    "# destination: FAIR component :co2_cycle parameter :E_CO₂\n",
    "# previous source: exogenous parameter\n",
    "# new source: FUND :emissions variable :mco2 (which first runs through the multiplier component)\n",
    "\n",
    "# Subset AR6 emissions to proper years.\n",
    "ar6_emissions_raw = DataFrame(load(joinpath(@__DIR__, \"data\", \"model_data\", \"AR6_emissions_\"*ar6_scenario*\"_1750_2300.csv\")))\n",
    "emission_indices = indexin(collect(FAIR_first:FAIR_last), ar6_emissions_raw.Year)\n",
    "ar6_emissions = ar6_emissions_raw[emission_indices, :]\n",
    "\n",
    "FAIR_CO₂_backup = (ar6_emissions.FossilCO2 .+ ar6_emissions.OtherCO2)\n",
    "connect_param!(m, :co2_cycle, :E_co2, :multiplier, :output, FAIR_CO₂_backup, backup_offset = 1)"
   ]
  },
  {
   "cell_type": "markdown",
   "metadata": {},
   "source": [
    "A note here is that FAIR v1.6.2 splits land use CO2 emissions and fossil CO2 emissions, and feeds their sum into the `co2_cycle`, but just the land use emissions into the `landuse_forcing` component in MimiFAIRv1_6_2. Given FUND does not explicilty provide the land use emissions (AFOLU), we do not modify the latter connection, and thus FAIR will run with its default land use emissions for the `landuse_forcing` component."
   ]
  },
  {
   "cell_type": "markdown",
   "metadata": {},
   "source": [
    "#### FAIR Temperature --> FUND CO₂ Cycle, Biodiversity, Ocean and Regional Climate Components"
   ]
  },
  {
   "cell_type": "markdown",
   "metadata": {},
   "source": [
    "Now we want to connect FAIR's output temperature variable `T` from component `temperature` back into FUND, both to the `temp` parameter of the `climateco2cycle`, `biodiversity`, and `ocean` components and into the `inputtemp` parameter of the `climateregional` component."
   ]
  },
  {
   "cell_type": "code",
   "execution_count": 14,
   "metadata": {},
   "outputs": [],
   "source": [
    "# destination: FUND components :climateco2cycle, :biodiversity, :ocean --> parameter :temp\n",
    "# previous source: FUND component :climatedynamics --> variable :temp\n",
    "# new source: FAIR :temperature --> variable :T\n",
    "\n",
    "connect_param!(m, :climateco2cycle, :temp, :temperature, :T)\n",
    "#connect_param!(m, :biodiversity, :temp, :temperature, :T)\n",
    "#connect_param!(m, :ocean, :temp, :temperature, :T)"
   ]
  },
  {
   "cell_type": "code",
   "execution_count": 15,
   "metadata": {},
   "outputs": [],
   "source": [
    "# destination: FUND component :climateregional, parameter :inputtemp\n",
    "# previous source: FUND component :climatedynamics --> variable :temp\n",
    "# new source: FAIR component :temperature --> variable :T\n",
    "\n",
    "connect_param!(m, :climateregional, :inputtemp, :temperature, :T)"
   ]
  },
  {
   "cell_type": "markdown",
   "metadata": {},
   "source": [
    "### Run and Visualize"
   ]
  },
  {
   "cell_type": "markdown",
   "metadata": {},
   "source": [
    "Now we can run our coupled model and visualize the results with the `explore`, `plot`, and indexing functions. We will also grab the default FUND and FAIR models for comparisons."
   ]
  },
  {
   "cell_type": "code",
   "execution_count": 16,
   "metadata": {
    "scrolled": false
   },
   "outputs": [],
   "source": [
    "run(m) # coupled model\n",
    "\n",
    "using MimiFUND\n",
    "mfund = MimiFUND.get_model()\n",
    "run(mfund)\n",
    "\n",
    "mfair = MimiFAIRv1_6_2.get_model(;start_year = FAIR_first, end_year = FAIR_last, ar6_scenario = ar6_scenario)\n",
    "run(mfair)"
   ]
  },
  {
   "cell_type": "code",
   "execution_count": 17,
   "metadata": {},
   "outputs": [
    {
     "name": "stdout",
     "output_type": "stream",
     "text": [
      "\r\n"
     ]
    },
    {
     "data": {
      "text/plain": [
       "Electron.Window(Application(Base.PipeEndpoint(Base.Libc.WindowsRawSocket(0x000000000000044c) open, 0 bytes waiting), Process(setenv(`\u001b[4m'C:\\Users\\dongj\\.julia\\artifacts\\77dde9ca99aacbbcdc9754e39062ed451ef26861\\electron.exe'\u001b[24m \u001b[4m'C:\\Users\\dongj\\.julia\\packages\\Electron\\pOy6n\\src\\main.js'\u001b[24m \u001b[4m'\\\\.\\pipe\\jlel-90fbe84098fd11ee25fd9507424fef56'\u001b[24m \u001b[4m'\\\\.\\pipe\\jlel-sn-90fbe84098fd11ee0712d3800c298053'\u001b[24m \u001b[4mggkol+aOq/578CHZhooYh1w7dRy8mNwXHvK2XBiXfGAHyRQ33OkxAUrdi5gHVjLSBSnIHwbfxdo1eescPRBJM3lC/psIM1rSEvtHq+S2tLdm7ZRnQuvsBsbXtVYtGnure86zlgHFZqtIsIduU1RPSZhtqlHxrpvK3VgNjZjVZG0=\u001b[24m`,[\"PATH=C:\\\\Users\\\\dongj\\\\anaconda3;C:\\\\Users\\\\dongj\\\\anaconda3\\\\Library\\\\mingw-w64\\\\bin;C:\\\\Users\\\\dongj\\\\anaconda3\\\\Library\\\\usr\\\\bin;C:\\\\Users\\\\dongj\\\\anaconda3\\\\Library\\\\bin;C:\\\\Users\\\\dongj\\\\anaconda3\\\\Scripts;C:\\\\Users\\\\dongj\\\\anaconda3\\\\bin;C:\\\\Users\\\\dongj\\\\anaconda3\\\\condabin;C:\\\\Program Files\\\\MySQL\\\\MySQL Server 5.6\\\\bin;C:\\\\Windows\\\\system32;C:\\\\Windows;C:\\\\Windows\\\\System32\\\\Wbem;C:\\\\Windows\\\\System32\\\\WindowsPowerShell\\\\v1.0;C:\\\\Windows\\\\System32\\\\OpenSSH;C:\\\\Program Files (x86)\\\\NVIDIA Corporation\\\\PhysX\\\\Common;C:\\\\Program Files\\\\NVIDIA Corporation\\\\NVIDIA NvDLISR;D:\\\\05Bandizio\\\\Bandizip;C:\\\\Program Files (x86)\\\\HP\\\\Common\\\\HPDestPlgIn;C:\\\\Program Files (x86)\\\\HP\\\\IdrsOCR_15.4.1132.0;D:\\\\Matlab\\\\runtime\\\\win64;D:\\\\Matlab\\\\bin;D:\\\\latex\\\\CTEX\\\\UserData\\\\miktex\\\\bin;D:\\\\latex\\\\CTEX\\\\MiKTeX\\\\miktex\\\\bin;D:\\\\latex\\\\CTEX\\\\CTeX\\\\ctex\\\\bin;D:\\\\latex\\\\CTEX\\\\CTeX\\\\cct\\\\bin;D:\\\\latex\\\\CTEX\\\\CTeX\\\\ty\\\\bin;D:\\\\latex\\\\CTEX\\\\Ghostscript\\\\gs9.05\\\\bin;D:\\\\latex\\\\CTEX\\\\GSview\\\\gsview;D:\\\\latex\\\\CTEX\\\\WinEdt;C:\\\\WINDOWS\\\\system32;C:\\\\WINDOWS;C:\\\\WINDOWS\\\\System32\\\\Wbem;C:\\\\WINDOWS\\\\System32\\\\WindowsPowerShell\\\\v1.0;C:\\\\WINDOWS\\\\System32\\\\OpenSSH;C:\\\\Program Files\\\\Git\\\\cmd;C:\\\\Program Files\\\\MySQL\\\\MySQL Server 8.0\\\\bin;C:\\\\Program Files\\\\dotnet;C:\\\\Users\\\\dongj\\\\anaconda3;C:\\\\Users\\\\dongj\\\\anaconda3\\\\Library\\\\mingw-w64\\\\bin;C:\\\\Users\\\\dongj\\\\anaconda3\\\\Library\\\\usr\\\\bin;C:\\\\Users\\\\dongj\\\\anaconda3\\\\Library\\\\bin;C:\\\\Users\\\\dongj\\\\anaconda3\\\\Scripts;C:\\\\Users\\\\dongj\\\\AppData\\\\Local\\\\Microsoft\\\\WindowsApps;C:\\\\Program Files (x86)\\\\HP\\\\Common\\\\HPDestPlgIn;C:\\\\Users\\\\dongj\\\\AppData\\\\Local\\\\Programs\\\\Julia-1.8.1\\\\bin;D:\\\\Visual Studio Code\\\\Microsoft VS Code\\\\bin;.\", \"USERDOMAIN_ROAMINGPROFILE=LAPTOP-4BMLNMD7\", \"HOMEPATH=\\\\Users\\\\dongj\", \"PATHEXT=.COM;.EXE;.BAT;.CMD;.VBS;.VBE;.JS;.JSE;.WSF;.WSH;.MSC\", \"SESSIONNAME=Console\", \"SYSTEMROOT=C:\\\\WINDOWS\", \"APPDATA=C:\\\\Users\\\\dongj\\\\AppData\\\\Roaming\", \"PSMODULEPATH=C:\\\\Program Files\\\\WindowsPowerShell\\\\Modules;C:\\\\WINDOWS\\\\system32\\\\WindowsPowerShell\\\\v1.0\\\\Modules\", \"COMMONPROGRAMW6432=C:\\\\Program Files\\\\Common Files\", \"PROGRAMDATA=C:\\\\ProgramData\"  …  \"PROGRAMFILES(X86)=C:\\\\Program Files (x86)\", \"PROGRAMFILES=C:\\\\Program Files\", \"JPY_PARENT_PID=2960\", \"LOGONSERVER=\\\\\\\\LAPTOP-4BMLNMD7\", \"DRIVERDATA=C:\\\\Windows\\\\System32\\\\Drivers\\\\DriverData\", \"CONDA_PREFIX=C:\\\\Users\\\\dongj\\\\anaconda3\", \"PYDEVD_USE_FRAME_EVAL=NO\", \"SYSTEMDRIVE=C:\", \"PROCESSOR_ARCHITECTURE=AMD64\", \"CCHZPATH=D:\\\\latex\\\\CTEX\\\\CTeX\\\\cct\\\\fonts\"]), ProcessRunning), [1 window]), 1, true, Channel{Any}(128))"
      ]
     },
     "execution_count": 17,
     "metadata": {},
     "output_type": "execute_result"
    }
   ],
   "source": [
    " explore(m) # fails in VSCode-run notebook, uncomment if running these commands locally or in a browser!"
   ]
  },
  {
   "cell_type": "code",
   "execution_count": 29,
   "metadata": {},
   "outputs": [
    {
     "ename": "LoadError",
     "evalue": "MethodError: no method matching compute_scco2(::Model, ::Vector{Float64}; year=2020, backup_offset=1)\n\u001b[0mClosest candidates are:\n\u001b[0m  compute_scco2(::Model; year, eta, prtp, equity_weights, equity_weights_normalization_region, last_year, pulse_size, return_mm, n, trials_output_filename, seed) at C:\\Users\\dongj\\.julia\\packages\\MimiFUND\\hPDrR\\src\\new_marginaldamages.jl:42\u001b[91m got unsupported keyword argument \"backup_offset\"\u001b[39m",
     "output_type": "error",
     "traceback": [
      "MethodError: no method matching compute_scco2(::Model, ::Vector{Float64}; year=2020, backup_offset=1)\n\u001b[0mClosest candidates are:\n\u001b[0m  compute_scco2(::Model; year, eta, prtp, equity_weights, equity_weights_normalization_region, last_year, pulse_size, return_mm, n, trials_output_filename, seed) at C:\\Users\\dongj\\.julia\\packages\\MimiFUND\\hPDrR\\src\\new_marginaldamages.jl:42\u001b[91m got unsupported keyword argument \"backup_offset\"\u001b[39m",
      "",
      "Stacktrace:",
      " [1] top-level scope",
      "   @ In[29]:1",
      " [2] eval",
      "   @ .\\boot.jl:368 [inlined]",
      " [3] include_string(mapexpr::typeof(REPL.softscope), mod::Module, code::String, filename::String)",
      "   @ Base .\\loading.jl:1428"
     ]
    }
   ],
   "source": [
    "scc = MimiFUND.compute_scco2(m, year = 2020,)"
   ]
  },
  {
   "cell_type": "markdown",
   "metadata": {},
   "source": [
    "#### Compare Some Time Series"
   ]
  },
  {
   "cell_type": "markdown",
   "metadata": {},
   "source": [
    "One interesting step might be to compare some time series between the different models.  We could use the `Mimi.plot` function (ie. `Mimi.plot(m, :temperature, :T`) but here we will use some custom written plot code with the `VegaLite` package."
   ]
  },
  {
   "cell_type": "code",
   "execution_count": 18,
   "metadata": {},
   "outputs": [],
   "source": [
    "using VegaLite\n",
    "using DataFrames"
   ]
  },
  {
   "cell_type": "markdown",
   "metadata": {},
   "source": [
    "##### Temperature\n",
    "\n",
    "Here we compare the delta temperature trajectory between FAIR, FUND, and FUNDFAIR. Noting that from 1765 to 1950 our results in FUNDFAIR will match FAIR, and then in 1950 FUND will kick in as our driver of CO2 emissions calculations while FAIR will continue to drive temperature calculations for which it recieves CO2 emissions inputs from FUND."
   ]
  },
  {
   "cell_type": "code",
   "execution_count": 19,
   "metadata": {},
   "outputs": [],
   "source": [
    "fairvals = mfair[:temperature, :T]\n",
    "fundfairvals =  m[:temperature, :T]\n",
    "fundvals = vcat(\n",
    "    fill(missing, length(FAIR_first:FUND_first)-1),\n",
    "    mfund[:climateco2cycle, :temp][1:length(FUND_first:FAIR_last),:]\n",
    ")\n",
    "fundvals = fundvals[:,1]; # make a vector"
   ]
  },
  {
   "cell_type": "code",
   "execution_count": 20,
   "metadata": {
    "scrolled": false
   },
   "outputs": [
    {
     "data": {
      "application/vnd.vegalite.v4+json": {
       "data": {
        "values": [
         {
          "Year": 1950,
          "value": null,
          "variable": "FUND"
         },
         {
          "Year": 1951,
          "value": null,
          "variable": "FUND"
         },
         {
          "Year": 1952,
          "value": null,
          "variable": "FUND"
         },
         {
          "Year": 1953,
          "value": null,
          "variable": "FUND"
         },
         {
          "Year": 1954,
          "value": null,
          "variable": "FUND"
         },
         {
          "Year": 1955,
          "value": null,
          "variable": "FUND"
         },
         {
          "Year": 1956,
          "value": null,
          "variable": "FUND"
         },
         {
          "Year": 1957,
          "value": null,
          "variable": "FUND"
         },
         {
          "Year": 1958,
          "value": null,
          "variable": "FUND"
         },
         {
          "Year": 1959,
          "value": null,
          "variable": "FUND"
         },
         {
          "Year": 1960,
          "value": null,
          "variable": "FUND"
         },
         {
          "Year": 1961,
          "value": null,
          "variable": "FUND"
         },
         {
          "Year": 1962,
          "value": null,
          "variable": "FUND"
         },
         {
          "Year": 1963,
          "value": null,
          "variable": "FUND"
         },
         {
          "Year": 1964,
          "value": null,
          "variable": "FUND"
         },
         {
          "Year": 1965,
          "value": null,
          "variable": "FUND"
         },
         {
          "Year": 1966,
          "value": null,
          "variable": "FUND"
         },
         {
          "Year": 1967,
          "value": null,
          "variable": "FUND"
         },
         {
          "Year": 1968,
          "value": null,
          "variable": "FUND"
         },
         {
          "Year": 1969,
          "value": null,
          "variable": "FUND"
         },
         {
          "Year": 1970,
          "value": null,
          "variable": "FUND"
         },
         {
          "Year": 1971,
          "value": null,
          "variable": "FUND"
         },
         {
          "Year": 1972,
          "value": null,
          "variable": "FUND"
         },
         {
          "Year": 1973,
          "value": null,
          "variable": "FUND"
         },
         {
          "Year": 1974,
          "value": null,
          "variable": "FUND"
         },
         {
          "Year": 1975,
          "value": null,
          "variable": "FUND"
         },
         {
          "Year": 1976,
          "value": null,
          "variable": "FUND"
         },
         {
          "Year": 1977,
          "value": null,
          "variable": "FUND"
         },
         {
          "Year": 1978,
          "value": null,
          "variable": "FUND"
         },
         {
          "Year": 1979,
          "value": null,
          "variable": "FUND"
         },
         {
          "Year": 1980,
          "value": null,
          "variable": "FUND"
         },
         {
          "Year": 1981,
          "value": null,
          "variable": "FUND"
         },
         {
          "Year": 1982,
          "value": null,
          "variable": "FUND"
         },
         {
          "Year": 1983,
          "value": null,
          "variable": "FUND"
         },
         {
          "Year": 1984,
          "value": null,
          "variable": "FUND"
         },
         {
          "Year": 1985,
          "value": null,
          "variable": "FUND"
         },
         {
          "Year": 1986,
          "value": null,
          "variable": "FUND"
         },
         {
          "Year": 1987,
          "value": null,
          "variable": "FUND"
         },
         {
          "Year": 1988,
          "value": null,
          "variable": "FUND"
         },
         {
          "Year": 1989,
          "value": null,
          "variable": "FUND"
         },
         {
          "Year": 1990,
          "value": null,
          "variable": "FUND"
         },
         {
          "Year": 1991,
          "value": null,
          "variable": "FUND"
         },
         {
          "Year": 1992,
          "value": null,
          "variable": "FUND"
         },
         {
          "Year": 1993,
          "value": null,
          "variable": "FUND"
         },
         {
          "Year": 1994,
          "value": null,
          "variable": "FUND"
         },
         {
          "Year": 1995,
          "value": null,
          "variable": "FUND"
         },
         {
          "Year": 1996,
          "value": null,
          "variable": "FUND"
         },
         {
          "Year": 1997,
          "value": null,
          "variable": "FUND"
         },
         {
          "Year": 1998,
          "value": null,
          "variable": "FUND"
         },
         {
          "Year": 1999,
          "value": null,
          "variable": "FUND"
         },
         {
          "Year": 2000,
          "value": null,
          "variable": "FUND"
         },
         {
          "Year": 2001,
          "value": null,
          "variable": "FUND"
         },
         {
          "Year": 2002,
          "value": null,
          "variable": "FUND"
         },
         {
          "Year": 2003,
          "value": null,
          "variable": "FUND"
         },
         {
          "Year": 2004,
          "value": null,
          "variable": "FUND"
         },
         {
          "Year": 2005,
          "value": null,
          "variable": "FUND"
         },
         {
          "Year": 2006,
          "value": null,
          "variable": "FUND"
         },
         {
          "Year": 2007,
          "value": null,
          "variable": "FUND"
         },
         {
          "Year": 2008,
          "value": null,
          "variable": "FUND"
         },
         {
          "Year": 2009,
          "value": null,
          "variable": "FUND"
         },
         {
          "Year": 2010,
          "value": null,
          "variable": "FUND"
         },
         {
          "Year": 2011,
          "value": null,
          "variable": "FUND"
         },
         {
          "Year": 2012,
          "value": null,
          "variable": "FUND"
         },
         {
          "Year": 2013,
          "value": null,
          "variable": "FUND"
         },
         {
          "Year": 2014,
          "value": null,
          "variable": "FUND"
         },
         {
          "Year": 2015,
          "value": 0.2,
          "variable": "FUND"
         },
         {
          "Year": 2016,
          "value": 0.20462523478679887,
          "variable": "FUND"
         },
         {
          "Year": 2017,
          "value": 0.20934819414064887,
          "variable": "FUND"
         },
         {
          "Year": 2018,
          "value": 0.2141801414042669,
          "variable": "FUND"
         },
         {
          "Year": 2019,
          "value": 0.21909736778398906,
          "variable": "FUND"
         },
         {
          "Year": 2020,
          "value": 0.22408520911070826,
          "variable": "FUND"
         },
         {
          "Year": 2021,
          "value": 0.2291199325171179,
          "variable": "FUND"
         },
         {
          "Year": 2022,
          "value": 0.23418549221634344,
          "variable": "FUND"
         },
         {
          "Year": 2023,
          "value": 0.23932391432650915,
          "variable": "FUND"
         },
         {
          "Year": 2024,
          "value": 0.244589579735204,
          "variable": "FUND"
         },
         {
          "Year": 2025,
          "value": 0.2501074079624818,
          "variable": "FUND"
         },
         {
          "Year": 2026,
          "value": 0.25575732560250636,
          "variable": "FUND"
         },
         {
          "Year": 2027,
          "value": 0.261501837433261,
          "variable": "FUND"
         },
         {
          "Year": 2028,
          "value": 0.26740927775621104,
          "variable": "FUND"
         },
         {
          "Year": 2029,
          "value": 0.2734818758491422,
          "variable": "FUND"
         },
         {
          "Year": 2030,
          "value": 0.27973770715175417,
          "variable": "FUND"
         },
         {
          "Year": 2031,
          "value": 0.28618578827251845,
          "variable": "FUND"
         },
         {
          "Year": 2032,
          "value": 0.29278982819960836,
          "variable": "FUND"
         },
         {
          "Year": 2033,
          "value": 0.2995574151235826,
          "variable": "FUND"
         },
         {
          "Year": 2034,
          "value": 0.30656677626845763,
          "variable": "FUND"
         },
         {
          "Year": 2035,
          "value": 0.3139376016399533,
          "variable": "FUND"
         },
         {
          "Year": 2036,
          "value": 0.3216409819792173,
          "variable": "FUND"
         },
         {
          "Year": 2037,
          "value": 0.32948555222866494,
          "variable": "FUND"
         },
         {
          "Year": 2038,
          "value": 0.33741055029039857,
          "variable": "FUND"
         },
         {
          "Year": 2039,
          "value": 0.3454328896266767,
          "variable": "FUND"
         },
         {
          "Year": 2040,
          "value": 0.35353968117280454,
          "variable": "FUND"
         },
         {
          "Year": 2041,
          "value": 0.36172258671009133,
          "variable": "FUND"
         },
         {
          "Year": 2042,
          "value": 0.3699988666778146,
          "variable": "FUND"
         },
         {
          "Year": 2043,
          "value": 0.37844838484609955,
          "variable": "FUND"
         },
         {
          "Year": 2044,
          "value": 0.3871203352760954,
          "variable": "FUND"
         },
         {
          "Year": 2045,
          "value": 0.3958964778638662,
          "variable": "FUND"
         },
         {
          "Year": 2046,
          "value": 0.4047260464928718,
          "variable": "FUND"
         },
         {
          "Year": 2047,
          "value": 0.4136791514220727,
          "variable": "FUND"
         },
         {
          "Year": 2048,
          "value": 0.4227552814272567,
          "variable": "FUND"
         },
         {
          "Year": 2049,
          "value": 0.43199326379795544,
          "variable": "FUND"
         },
         {
          "Year": 2050,
          "value": 0.4414380714813698,
          "variable": "FUND"
         },
         {
          "Year": 2051,
          "value": 0.4510864936820819,
          "variable": "FUND"
         },
         {
          "Year": 2052,
          "value": 0.46090964525801825,
          "variable": "FUND"
         },
         {
          "Year": 2053,
          "value": 0.4709297106607092,
          "variable": "FUND"
         },
         {
          "Year": 2054,
          "value": 0.4811997890753507,
          "variable": "FUND"
         },
         {
          "Year": 2055,
          "value": 0.49177351570476363,
          "variable": "FUND"
         },
         {
          "Year": 2056,
          "value": 0.5026491272505454,
          "variable": "FUND"
         },
         {
          "Year": 2057,
          "value": 0.5137741075424875,
          "variable": "FUND"
         },
         {
          "Year": 2058,
          "value": 0.5251826007958377,
          "variable": "FUND"
         },
         {
          "Year": 2059,
          "value": 0.5369211187740764,
          "variable": "FUND"
         },
         {
          "Year": 2060,
          "value": 0.5490056043273003,
          "variable": "FUND"
         },
         {
          "Year": 2061,
          "value": 0.5614105252495422,
          "variable": "FUND"
         },
         {
          "Year": 2062,
          "value": 0.5738972627695862,
          "variable": "FUND"
         },
         {
          "Year": 2063,
          "value": 0.58630641335356,
          "variable": "FUND"
         },
         {
          "Year": 2064,
          "value": 0.598671242530932,
          "variable": "FUND"
         },
         {
          "Year": 2065,
          "value": 0.610967074138926,
          "variable": "FUND"
         },
         {
          "Year": 2066,
          "value": 0.6233143205493502,
          "variable": "FUND"
         },
         {
          "Year": 2067,
          "value": 0.6358635224614222,
          "variable": "FUND"
         },
         {
          "Year": 2068,
          "value": 0.648618481837006,
          "variable": "FUND"
         },
         {
          "Year": 2069,
          "value": 0.6615883312194372,
          "variable": "FUND"
         },
         {
          "Year": 2070,
          "value": 0.6748692739072023,
          "variable": "FUND"
         },
         {
          "Year": 2071,
          "value": 0.6886268014673141,
          "variable": "FUND"
         },
         {
          "Year": 2072,
          "value": 0.7029340615259811,
          "variable": "FUND"
         },
         {
          "Year": 2073,
          "value": 0.7177887725753266,
          "variable": "FUND"
         },
         {
          "Year": 2074,
          "value": 0.7331867620951575,
          "variable": "FUND"
         },
         {
          "Year": 2075,
          "value": 0.7490586505066515,
          "variable": "FUND"
         },
         {
          "Year": 2076,
          "value": 0.765284834553005,
          "variable": "FUND"
         },
         {
          "Year": 2077,
          "value": 0.7818156445773201,
          "variable": "FUND"
         },
         {
          "Year": 2078,
          "value": 0.7986608399992982,
          "variable": "FUND"
         },
         {
          "Year": 2079,
          "value": 0.8158289590671062,
          "variable": "FUND"
         },
         {
          "Year": 2080,
          "value": 0.8333297562857421,
          "variable": "FUND"
         },
         {
          "Year": 2081,
          "value": 0.8511685759934732,
          "variable": "FUND"
         },
         {
          "Year": 2082,
          "value": 0.8693505114813437,
          "variable": "FUND"
         },
         {
          "Year": 2083,
          "value": 0.8878800002637,
          "variable": "FUND"
         },
         {
          "Year": 2084,
          "value": 0.9067614411448488,
          "variable": "FUND"
         },
         {
          "Year": 2085,
          "value": 0.926016354295343,
          "variable": "FUND"
         },
         {
          "Year": 2086,
          "value": 0.9456827288702244,
          "variable": "FUND"
         },
         {
          "Year": 2087,
          "value": 0.9657814496503231,
          "variable": "FUND"
         },
         {
          "Year": 2088,
          "value": 0.9863131506693547,
          "variable": "FUND"
         },
         {
          "Year": 2089,
          "value": 1.0072788356845246,
          "variable": "FUND"
         },
         {
          "Year": 2090,
          "value": 1.0286788617228486,
          "variable": "FUND"
         },
         {
          "Year": 2091,
          "value": 1.050513888503641,
          "variable": "FUND"
         },
         {
          "Year": 2092,
          "value": 1.0727824308861373,
          "variable": "FUND"
         },
         {
          "Year": 2093,
          "value": 1.0954817969177912,
          "variable": "FUND"
         },
         {
          "Year": 2094,
          "value": 1.1186095100244955,
          "variable": "FUND"
         },
         {
          "Year": 2095,
          "value": 1.1421901649865103,
          "variable": "FUND"
         },
         {
          "Year": 2096,
          "value": 1.1662835028796263,
          "variable": "FUND"
         },
         {
          "Year": 2097,
          "value": 1.190915218367738,
          "variable": "FUND"
         },
         {
          "Year": 2098,
          "value": 1.2160807205001865,
          "variable": "FUND"
         },
         {
          "Year": 2099,
          "value": 1.2417751978537497,
          "variable": "FUND"
         },
         {
          "Year": 2100,
          "value": 1.2679907739943017,
          "variable": "FUND"
         },
         {
          "Year": 1950,
          "value": 0.0053671258205,
          "variable": "FAIR"
         },
         {
          "Year": 1951,
          "value": 0.0009220927972812111,
          "variable": "FAIR"
         },
         {
          "Year": 1952,
          "value": 0.004397464223983697,
          "variable": "FAIR"
         },
         {
          "Year": 1953,
          "value": 0.012973805551638748,
          "variable": "FAIR"
         },
         {
          "Year": 1954,
          "value": 0.02551173336928264,
          "variable": "FAIR"
         },
         {
          "Year": 1955,
          "value": 0.042036505470115275,
          "variable": "FAIR"
         },
         {
          "Year": 1956,
          "value": 0.06412624013984611,
          "variable": "FAIR"
         },
         {
          "Year": 1957,
          "value": 0.09245785720933684,
          "variable": "FAIR"
         },
         {
          "Year": 1958,
          "value": 0.12273235209351416,
          "variable": "FAIR"
         },
         {
          "Year": 1959,
          "value": 0.14909311726766453,
          "variable": "FAIR"
         },
         {
          "Year": 1960,
          "value": 0.17029474419059865,
          "variable": "FAIR"
         },
         {
          "Year": 1961,
          "value": 0.1837550258553144,
          "variable": "FAIR"
         },
         {
          "Year": 1962,
          "value": 0.18048426340430923,
          "variable": "FAIR"
         },
         {
          "Year": 1963,
          "value": 0.12002740463240444,
          "variable": "FAIR"
         },
         {
          "Year": 1964,
          "value": 0.04386789694683434,
          "variable": "FAIR"
         },
         {
          "Year": 1965,
          "value": 0.018899361999146873,
          "variable": "FAIR"
         },
         {
          "Year": 1966,
          "value": 0.04680101854556784,
          "variable": "FAIR"
         },
         {
          "Year": 1967,
          "value": 0.08486910501220181,
          "variable": "FAIR"
         },
         {
          "Year": 1968,
          "value": 0.11446883155803134,
          "variable": "FAIR"
         },
         {
          "Year": 1969,
          "value": 0.15320079324703217,
          "variable": "FAIR"
         },
         {
          "Year": 1970,
          "value": 0.19164912865548825,
          "variable": "FAIR"
         },
         {
          "Year": 1971,
          "value": 0.2169311620787988,
          "variable": "FAIR"
         },
         {
          "Year": 1972,
          "value": 0.23992018029758433,
          "variable": "FAIR"
         },
         {
          "Year": 1973,
          "value": 0.2734830584512001,
          "variable": "FAIR"
         },
         {
          "Year": 1974,
          "value": 0.3013013292256953,
          "variable": "FAIR"
         },
         {
          "Year": 1975,
          "value": 0.30771435997383234,
          "variable": "FAIR"
         },
         {
          "Year": 1976,
          "value": 0.31937911209939884,
          "variable": "FAIR"
         },
         {
          "Year": 1977,
          "value": 0.3528650285548903,
          "variable": "FAIR"
         },
         {
          "Year": 1978,
          "value": 0.3947833557904638,
          "variable": "FAIR"
         },
         {
          "Year": 1979,
          "value": 0.43804186609704643,
          "variable": "FAIR"
         },
         {
          "Year": 1980,
          "value": 0.4751789099695007,
          "variable": "FAIR"
         },
         {
          "Year": 1981,
          "value": 0.5058765206084848,
          "variable": "FAIR"
         },
         {
          "Year": 1982,
          "value": 0.5132440854901993,
          "variable": "FAIR"
         },
         {
          "Year": 1983,
          "value": 0.47865565558743617,
          "variable": "FAIR"
         },
         {
          "Year": 1984,
          "value": 0.45592263575955927,
          "variable": "FAIR"
         },
         {
          "Year": 1985,
          "value": 0.47873070371706905,
          "variable": "FAIR"
         },
         {
          "Year": 1986,
          "value": 0.5147400963744346,
          "variable": "FAIR"
         },
         {
          "Year": 1987,
          "value": 0.5530923756989953,
          "variable": "FAIR"
         },
         {
          "Year": 1988,
          "value": 0.5985380142829788,
          "variable": "FAIR"
         },
         {
          "Year": 1989,
          "value": 0.6499621584097284,
          "variable": "FAIR"
         },
         {
          "Year": 1990,
          "value": 0.6996161404692086,
          "variable": "FAIR"
         },
         {
          "Year": 1991,
          "value": 0.7033723511742431,
          "variable": "FAIR"
         },
         {
          "Year": 1992,
          "value": 0.6056533157343624,
          "variable": "FAIR"
         },
         {
          "Year": 1993,
          "value": 0.5240531920332455,
          "variable": "FAIR"
         },
         {
          "Year": 1994,
          "value": 0.5532218712285096,
          "variable": "FAIR"
         },
         {
          "Year": 1995,
          "value": 0.625968025861777,
          "variable": "FAIR"
         },
         {
          "Year": 1996,
          "value": 0.6987936232314292,
          "variable": "FAIR"
         },
         {
          "Year": 1997,
          "value": 0.7646128765632477,
          "variable": "FAIR"
         },
         {
          "Year": 1998,
          "value": 0.8259011204927483,
          "variable": "FAIR"
         },
         {
          "Year": 1999,
          "value": 0.884047795378772,
          "variable": "FAIR"
         },
         {
          "Year": 2000,
          "value": 0.9371287553130938,
          "variable": "FAIR"
         },
         {
          "Year": 2001,
          "value": 0.9824696740105485,
          "variable": "FAIR"
         },
         {
          "Year": 2002,
          "value": 1.021774786234951,
          "variable": "FAIR"
         },
         {
          "Year": 2003,
          "value": 1.0524154131824373,
          "variable": "FAIR"
         },
         {
          "Year": 2004,
          "value": 1.0746763506800827,
          "variable": "FAIR"
         },
         {
          "Year": 2005,
          "value": 1.0916129265277568,
          "variable": "FAIR"
         },
         {
          "Year": 2006,
          "value": 1.104589956965143,
          "variable": "FAIR"
         },
         {
          "Year": 2007,
          "value": 1.1177424240526972,
          "variable": "FAIR"
         },
         {
          "Year": 2008,
          "value": 1.1339045275828656,
          "variable": "FAIR"
         },
         {
          "Year": 2009,
          "value": 1.1518932585207897,
          "variable": "FAIR"
         },
         {
          "Year": 2010,
          "value": 1.1741708165235893,
          "variable": "FAIR"
         },
         {
          "Year": 2011,
          "value": 1.199652083090831,
          "variable": "FAIR"
         },
         {
          "Year": 2012,
          "value": 1.2271091311016322,
          "variable": "FAIR"
         },
         {
          "Year": 2013,
          "value": 1.258421356450696,
          "variable": "FAIR"
         },
         {
          "Year": 2014,
          "value": 1.289707566872723,
          "variable": "FAIR"
         },
         {
          "Year": 2015,
          "value": 1.318963087014414,
          "variable": "FAIR"
         },
         {
          "Year": 2016,
          "value": 1.346662978042536,
          "variable": "FAIR"
         },
         {
          "Year": 2017,
          "value": 1.375130971664897,
          "variable": "FAIR"
         },
         {
          "Year": 2018,
          "value": 1.4043596207288378,
          "variable": "FAIR"
         },
         {
          "Year": 2019,
          "value": 1.4336215539515553,
          "variable": "FAIR"
         },
         {
          "Year": 2020,
          "value": 1.4632937196765619,
          "variable": "FAIR"
         },
         {
          "Year": 2021,
          "value": 1.493951199918603,
          "variable": "FAIR"
         },
         {
          "Year": 2022,
          "value": 1.5266265002882735,
          "variable": "FAIR"
         },
         {
          "Year": 2023,
          "value": 1.5602931569634668,
          "variable": "FAIR"
         },
         {
          "Year": 2024,
          "value": 1.5932692817620262,
          "variable": "FAIR"
         },
         {
          "Year": 2025,
          "value": 1.623448380718589,
          "variable": "FAIR"
         },
         {
          "Year": 2026,
          "value": 1.6498634474864358,
          "variable": "FAIR"
         },
         {
          "Year": 2027,
          "value": 1.673338229294713,
          "variable": "FAIR"
         },
         {
          "Year": 2028,
          "value": 1.6955121154409833,
          "variable": "FAIR"
         },
         {
          "Year": 2029,
          "value": 1.717223131810863,
          "variable": "FAIR"
         },
         {
          "Year": 2030,
          "value": 1.7395855328595207,
          "variable": "FAIR"
         },
         {
          "Year": 2031,
          "value": 1.7637306001061437,
          "variable": "FAIR"
         },
         {
          "Year": 2032,
          "value": 1.79005586806133,
          "variable": "FAIR"
         },
         {
          "Year": 2033,
          "value": 1.8199605054851886,
          "variable": "FAIR"
         },
         {
          "Year": 2034,
          "value": 1.854803412025607,
          "variable": "FAIR"
         },
         {
          "Year": 2035,
          "value": 1.8926372470649098,
          "variable": "FAIR"
         },
         {
          "Year": 2036,
          "value": 1.9319407960913944,
          "variable": "FAIR"
         },
         {
          "Year": 2037,
          "value": 1.971293258634333,
          "variable": "FAIR"
         },
         {
          "Year": 2038,
          "value": 2.010013289851123,
          "variable": "FAIR"
         },
         {
          "Year": 2039,
          "value": 2.0479186218202265,
          "variable": "FAIR"
         },
         {
          "Year": 2040,
          "value": 2.0841929178216527,
          "variable": "FAIR"
         },
         {
          "Year": 2041,
          "value": 2.1196215824461753,
          "variable": "FAIR"
         },
         {
          "Year": 2042,
          "value": 2.15550903662308,
          "variable": "FAIR"
         },
         {
          "Year": 2043,
          "value": 2.1930512746011144,
          "variable": "FAIR"
         },
         {
          "Year": 2044,
          "value": 2.2329370301431073,
          "variable": "FAIR"
         },
         {
          "Year": 2045,
          "value": 2.2765687225756706,
          "variable": "FAIR"
         },
         {
          "Year": 2046,
          "value": 2.323779979347059,
          "variable": "FAIR"
         },
         {
          "Year": 2047,
          "value": 2.3734338643292925,
          "variable": "FAIR"
         },
         {
          "Year": 2048,
          "value": 2.423842260886237,
          "variable": "FAIR"
         },
         {
          "Year": 2049,
          "value": 2.472254607378022,
          "variable": "FAIR"
         },
         {
          "Year": 2050,
          "value": 2.5172408343636787,
          "variable": "FAIR"
         },
         {
          "Year": 2051,
          "value": 2.559832751146215,
          "variable": "FAIR"
         },
         {
          "Year": 2052,
          "value": 2.6014409579701274,
          "variable": "FAIR"
         },
         {
          "Year": 2053,
          "value": 2.6426454224530183,
          "variable": "FAIR"
         },
         {
          "Year": 2054,
          "value": 2.6846924740817166,
          "variable": "FAIR"
         },
         {
          "Year": 2055,
          "value": 2.7291907681766263,
          "variable": "FAIR"
         },
         {
          "Year": 2056,
          "value": 2.7767975142991066,
          "variable": "FAIR"
         },
         {
          "Year": 2057,
          "value": 2.82573490960059,
          "variable": "FAIR"
         },
         {
          "Year": 2058,
          "value": 2.87467806488663,
          "variable": "FAIR"
         },
         {
          "Year": 2059,
          "value": 2.923828173565301,
          "variable": "FAIR"
         },
         {
          "Year": 2060,
          "value": 2.9717767539846927,
          "variable": "FAIR"
         },
         {
          "Year": 2061,
          "value": 3.0178401191454687,
          "variable": "FAIR"
         },
         {
          "Year": 2062,
          "value": 3.0629176070769306,
          "variable": "FAIR"
         },
         {
          "Year": 2063,
          "value": 3.1079987273134217,
          "variable": "FAIR"
         },
         {
          "Year": 2064,
          "value": 3.1538283576686474,
          "variable": "FAIR"
         },
         {
          "Year": 2065,
          "value": 3.2009415759613917,
          "variable": "FAIR"
         },
         {
          "Year": 2066,
          "value": 3.2507910540009353,
          "variable": "FAIR"
         },
         {
          "Year": 2067,
          "value": 3.3038060964547764,
          "variable": "FAIR"
         },
         {
          "Year": 2068,
          "value": 3.3585505805162614,
          "variable": "FAIR"
         },
         {
          "Year": 2069,
          "value": 3.413000896385574,
          "variable": "FAIR"
         },
         {
          "Year": 2070,
          "value": 3.4656999200820735,
          "variable": "FAIR"
         },
         {
          "Year": 2071,
          "value": 3.516288588297198,
          "variable": "FAIR"
         },
         {
          "Year": 2072,
          "value": 3.5656324973139224,
          "variable": "FAIR"
         },
         {
          "Year": 2073,
          "value": 3.614730888727762,
          "variable": "FAIR"
         },
         {
          "Year": 2074,
          "value": 3.663533361568226,
          "variable": "FAIR"
         },
         {
          "Year": 2075,
          "value": 3.7122722391270773,
          "variable": "FAIR"
         },
         {
          "Year": 2076,
          "value": 3.7612942543450565,
          "variable": "FAIR"
         },
         {
          "Year": 2077,
          "value": 3.8111409464811126,
          "variable": "FAIR"
         },
         {
          "Year": 2078,
          "value": 3.8628384124467745,
          "variable": "FAIR"
         },
         {
          "Year": 2079,
          "value": 3.9166410265333536,
          "variable": "FAIR"
         },
         {
          "Year": 2080,
          "value": 3.971823821153308,
          "variable": "FAIR"
         },
         {
          "Year": 2081,
          "value": 4.027064034527692,
          "variable": "FAIR"
         },
         {
          "Year": 2082,
          "value": 4.081460088652379,
          "variable": "FAIR"
         },
         {
          "Year": 2083,
          "value": 4.1341439213825115,
          "variable": "FAIR"
         },
         {
          "Year": 2084,
          "value": 4.185066874262812,
          "variable": "FAIR"
         },
         {
          "Year": 2085,
          "value": 4.23401660233163,
          "variable": "FAIR"
         },
         {
          "Year": 2086,
          "value": 4.281048242944576,
          "variable": "FAIR"
         },
         {
          "Year": 2087,
          "value": 4.327561339127797,
          "variable": "FAIR"
         },
         {
          "Year": 2088,
          "value": 4.374251029626007,
          "variable": "FAIR"
         },
         {
          "Year": 2089,
          "value": 4.421927079222522,
          "variable": "FAIR"
         },
         {
          "Year": 2090,
          "value": 4.471643017749726,
          "variable": "FAIR"
         },
         {
          "Year": 2091,
          "value": 4.523059583343555,
          "variable": "FAIR"
         },
         {
          "Year": 2092,
          "value": 4.57573250404668,
          "variable": "FAIR"
         },
         {
          "Year": 2093,
          "value": 4.627504280491055,
          "variable": "FAIR"
         },
         {
          "Year": 2094,
          "value": 4.675906143716947,
          "variable": "FAIR"
         },
         {
          "Year": 2095,
          "value": 4.721270257748155,
          "variable": "FAIR"
         },
         {
          "Year": 2096,
          "value": 4.764254777922025,
          "variable": "FAIR"
         },
         {
          "Year": 2097,
          "value": 4.8059104930386205,
          "variable": "FAIR"
         },
         {
          "Year": 2098,
          "value": 4.847175399985776,
          "variable": "FAIR"
         },
         {
          "Year": 2099,
          "value": 4.88897514584014,
          "variable": "FAIR"
         },
         {
          "Year": 2100,
          "value": 4.932630311019643,
          "variable": "FAIR"
         },
         {
          "Year": 1950,
          "value": 0.0053671258205,
          "variable": "FUNDFAIR"
         },
         {
          "Year": 1951,
          "value": 0.0009220927972812111,
          "variable": "FUNDFAIR"
         },
         {
          "Year": 1952,
          "value": 0.004397464223983697,
          "variable": "FUNDFAIR"
         },
         {
          "Year": 1953,
          "value": 0.012973805551638748,
          "variable": "FUNDFAIR"
         },
         {
          "Year": 1954,
          "value": 0.02551173336928264,
          "variable": "FUNDFAIR"
         },
         {
          "Year": 1955,
          "value": 0.042036505470115275,
          "variable": "FUNDFAIR"
         },
         {
          "Year": 1956,
          "value": 0.06412624013984611,
          "variable": "FUNDFAIR"
         },
         {
          "Year": 1957,
          "value": 0.09245785720933684,
          "variable": "FUNDFAIR"
         },
         {
          "Year": 1958,
          "value": 0.12273235209351416,
          "variable": "FUNDFAIR"
         },
         {
          "Year": 1959,
          "value": 0.14909311726766453,
          "variable": "FUNDFAIR"
         },
         {
          "Year": 1960,
          "value": 0.17029474419059865,
          "variable": "FUNDFAIR"
         },
         {
          "Year": 1961,
          "value": 0.1837550258553144,
          "variable": "FUNDFAIR"
         },
         {
          "Year": 1962,
          "value": 0.18048426340430923,
          "variable": "FUNDFAIR"
         },
         {
          "Year": 1963,
          "value": 0.12002740463240444,
          "variable": "FUNDFAIR"
         },
         {
          "Year": 1964,
          "value": 0.04386789694683434,
          "variable": "FUNDFAIR"
         },
         {
          "Year": 1965,
          "value": 0.018899361999146873,
          "variable": "FUNDFAIR"
         },
         {
          "Year": 1966,
          "value": 0.04680101854556784,
          "variable": "FUNDFAIR"
         },
         {
          "Year": 1967,
          "value": 0.08486910501220181,
          "variable": "FUNDFAIR"
         },
         {
          "Year": 1968,
          "value": 0.11446883155803134,
          "variable": "FUNDFAIR"
         },
         {
          "Year": 1969,
          "value": 0.15320079324703217,
          "variable": "FUNDFAIR"
         },
         {
          "Year": 1970,
          "value": 0.19164912865548825,
          "variable": "FUNDFAIR"
         },
         {
          "Year": 1971,
          "value": 0.2169311620787988,
          "variable": "FUNDFAIR"
         },
         {
          "Year": 1972,
          "value": 0.23992018029758433,
          "variable": "FUNDFAIR"
         },
         {
          "Year": 1973,
          "value": 0.2734830584512001,
          "variable": "FUNDFAIR"
         },
         {
          "Year": 1974,
          "value": 0.3013013292256953,
          "variable": "FUNDFAIR"
         },
         {
          "Year": 1975,
          "value": 0.30771435997383234,
          "variable": "FUNDFAIR"
         },
         {
          "Year": 1976,
          "value": 0.31937911209939884,
          "variable": "FUNDFAIR"
         },
         {
          "Year": 1977,
          "value": 0.3528650285548903,
          "variable": "FUNDFAIR"
         },
         {
          "Year": 1978,
          "value": 0.3947833557904638,
          "variable": "FUNDFAIR"
         },
         {
          "Year": 1979,
          "value": 0.43804186609704643,
          "variable": "FUNDFAIR"
         },
         {
          "Year": 1980,
          "value": 0.4751789099695007,
          "variable": "FUNDFAIR"
         },
         {
          "Year": 1981,
          "value": 0.5058765206084848,
          "variable": "FUNDFAIR"
         },
         {
          "Year": 1982,
          "value": 0.5132440854901993,
          "variable": "FUNDFAIR"
         },
         {
          "Year": 1983,
          "value": 0.47865565558743617,
          "variable": "FUNDFAIR"
         },
         {
          "Year": 1984,
          "value": 0.45592263575955927,
          "variable": "FUNDFAIR"
         },
         {
          "Year": 1985,
          "value": 0.47873070371706905,
          "variable": "FUNDFAIR"
         },
         {
          "Year": 1986,
          "value": 0.5147400963744346,
          "variable": "FUNDFAIR"
         },
         {
          "Year": 1987,
          "value": 0.5530923756989953,
          "variable": "FUNDFAIR"
         },
         {
          "Year": 1988,
          "value": 0.5985380142829788,
          "variable": "FUNDFAIR"
         },
         {
          "Year": 1989,
          "value": 0.6499621584097284,
          "variable": "FUNDFAIR"
         },
         {
          "Year": 1990,
          "value": 0.6996161404692086,
          "variable": "FUNDFAIR"
         },
         {
          "Year": 1991,
          "value": 0.7033723511742431,
          "variable": "FUNDFAIR"
         },
         {
          "Year": 1992,
          "value": 0.6056533157343624,
          "variable": "FUNDFAIR"
         },
         {
          "Year": 1993,
          "value": 0.5240531920332455,
          "variable": "FUNDFAIR"
         },
         {
          "Year": 1994,
          "value": 0.5532218712285096,
          "variable": "FUNDFAIR"
         },
         {
          "Year": 1995,
          "value": 0.625968025861777,
          "variable": "FUNDFAIR"
         },
         {
          "Year": 1996,
          "value": 0.6987936232314292,
          "variable": "FUNDFAIR"
         },
         {
          "Year": 1997,
          "value": 0.7646128765632477,
          "variable": "FUNDFAIR"
         },
         {
          "Year": 1998,
          "value": 0.8259011204927483,
          "variable": "FUNDFAIR"
         },
         {
          "Year": 1999,
          "value": 0.884047795378772,
          "variable": "FUNDFAIR"
         },
         {
          "Year": 2000,
          "value": 0.9371287553130938,
          "variable": "FUNDFAIR"
         },
         {
          "Year": 2001,
          "value": 0.9824696740105485,
          "variable": "FUNDFAIR"
         },
         {
          "Year": 2002,
          "value": 1.021774786234951,
          "variable": "FUNDFAIR"
         },
         {
          "Year": 2003,
          "value": 1.0524154131824373,
          "variable": "FUNDFAIR"
         },
         {
          "Year": 2004,
          "value": 1.0746763506800827,
          "variable": "FUNDFAIR"
         },
         {
          "Year": 2005,
          "value": 1.0916129265277568,
          "variable": "FUNDFAIR"
         },
         {
          "Year": 2006,
          "value": 1.104589956965143,
          "variable": "FUNDFAIR"
         },
         {
          "Year": 2007,
          "value": 1.1177424240526972,
          "variable": "FUNDFAIR"
         },
         {
          "Year": 2008,
          "value": 1.1339045275828656,
          "variable": "FUNDFAIR"
         },
         {
          "Year": 2009,
          "value": 1.1518932585207897,
          "variable": "FUNDFAIR"
         },
         {
          "Year": 2010,
          "value": 1.1741708165235893,
          "variable": "FUNDFAIR"
         },
         {
          "Year": 2011,
          "value": 1.199652083090831,
          "variable": "FUNDFAIR"
         },
         {
          "Year": 2012,
          "value": 1.2271091311016322,
          "variable": "FUNDFAIR"
         },
         {
          "Year": 2013,
          "value": 1.258421356450696,
          "variable": "FUNDFAIR"
         },
         {
          "Year": 2014,
          "value": 1.289707566872723,
          "variable": "FUNDFAIR"
         },
         {
          "Year": 2015,
          "value": 1.318963087014414,
          "variable": "FUNDFAIR"
         },
         {
          "Year": 2016,
          "value": 1.346662978042536,
          "variable": "FUNDFAIR"
         },
         {
          "Year": 2017,
          "value": 1.3882081023627892,
          "variable": "FUNDFAIR"
         },
         {
          "Year": 2018,
          "value": 1.4641731146701096,
          "variable": "FUNDFAIR"
         },
         {
          "Year": 2019,
          "value": 1.57528652032078,
          "variable": "FUNDFAIR"
         },
         {
          "Year": 2020,
          "value": 1.711709573824383,
          "variable": "FUNDFAIR"
         },
         {
          "Year": 2021,
          "value": 1.8670960232183056,
          "variable": "FUNDFAIR"
         },
         {
          "Year": 2022,
          "value": 2.037675414623865,
          "variable": "FUNDFAIR"
         },
         {
          "Year": 2023,
          "value": 2.2189685147538865,
          "variable": "FUNDFAIR"
         },
         {
          "Year": 2024,
          "value": 2.4067371831256503,
          "variable": "FUNDFAIR"
         },
         {
          "Year": 2025,
          "value": 2.5969290629708346,
          "variable": "FUNDFAIR"
         },
         {
          "Year": 2026,
          "value": 2.787047492277817,
          "variable": "FUNDFAIR"
         },
         {
          "Year": 2027,
          "value": 2.976677003395375,
          "variable": "FUNDFAIR"
         },
         {
          "Year": 2028,
          "value": 3.166427036352251,
          "variable": "FUNDFAIR"
         },
         {
          "Year": 2029,
          "value": 3.3562613923998392,
          "variable": "FUNDFAIR"
         },
         {
          "Year": 2030,
          "value": 3.5465372720340893,
          "variable": "FUNDFAIR"
         },
         {
          "Year": 2031,
          "value": 3.737717244289641,
          "variable": "FUNDFAIR"
         },
         {
          "Year": 2032,
          "value": 3.9295887131913685,
          "variable": "FUNDFAIR"
         },
         {
          "Year": 2033,
          "value": 4.122977583831164,
          "variable": "FUNDFAIR"
         },
         {
          "Year": 2034,
          "value": 4.3187052204071215,
          "variable": "FUNDFAIR"
         },
         {
          "Year": 2035,
          "value": 4.514319209611804,
          "variable": "FUNDFAIR"
         },
         {
          "Year": 2036,
          "value": 4.7078155269481545,
          "variable": "FUNDFAIR"
         },
         {
          "Year": 2037,
          "value": 4.897306162520801,
          "variable": "FUNDFAIR"
         },
         {
          "Year": 2038,
          "value": 5.081654415975816,
          "variable": "FUNDFAIR"
         },
         {
          "Year": 2039,
          "value": 5.260235457057981,
          "variable": "FUNDFAIR"
         },
         {
          "Year": 2040,
          "value": 5.431812374651877,
          "variable": "FUNDFAIR"
         },
         {
          "Year": 2041,
          "value": 5.597041323381724,
          "variable": "FUNDFAIR"
         },
         {
          "Year": 2042,
          "value": 5.757464260092631,
          "variable": "FUNDFAIR"
         },
         {
          "Year": 2043,
          "value": 5.9145837732459565,
          "variable": "FUNDFAIR"
         },
         {
          "Year": 2044,
          "value": 6.069341793975993,
          "variable": "FUNDFAIR"
         },
         {
          "Year": 2045,
          "value": 6.223355941134875,
          "variable": "FUNDFAIR"
         },
         {
          "Year": 2046,
          "value": 6.376646048567573,
          "variable": "FUNDFAIR"
         },
         {
          "Year": 2047,
          "value": 6.528238977369742,
          "variable": "FUNDFAIR"
         },
         {
          "Year": 2048,
          "value": 6.6765934109812335,
          "variable": "FUNDFAIR"
         },
         {
          "Year": 2049,
          "value": 6.819093333711247,
          "variable": "FUNDFAIR"
         },
         {
          "Year": 2050,
          "value": 6.954435124795299,
          "variable": "FUNDFAIR"
         },
         {
          "Year": 2051,
          "value": 7.083772214045419,
          "variable": "FUNDFAIR"
         },
         {
          "Year": 2052,
          "value": 7.208624610721046,
          "variable": "FUNDFAIR"
         },
         {
          "Year": 2053,
          "value": 7.32966394506079,
          "variable": "FUNDFAIR"
         },
         {
          "Year": 2054,
          "value": 7.448223283737316,
          "variable": "FUNDFAIR"
         },
         {
          "Year": 2055,
          "value": 7.56600155980542,
          "variable": "FUNDFAIR"
         },
         {
          "Year": 2056,
          "value": 7.683747404209381,
          "variable": "FUNDFAIR"
         },
         {
          "Year": 2057,
          "value": 7.799773687403758,
          "variable": "FUNDFAIR"
         },
         {
          "Year": 2058,
          "value": 7.912845098574973,
          "variable": "FUNDFAIR"
         },
         {
          "Year": 2059,
          "value": 8.02325240585724,
          "variable": "FUNDFAIR"
         },
         {
          "Year": 2060,
          "value": 8.1296773255042,
          "variable": "FUNDFAIR"
         },
         {
          "Year": 2061,
          "value": 8.23152689453672,
          "variable": "FUNDFAIR"
         },
         {
          "Year": 2062,
          "value": 8.329793545066362,
          "variable": "FUNDFAIR"
         },
         {
          "Year": 2063,
          "value": 8.425562394766933,
          "variable": "FUNDFAIR"
         },
         {
          "Year": 2064,
          "value": 8.519671404204965,
          "variable": "FUNDFAIR"
         },
         {
          "Year": 2065,
          "value": 8.612742264143074,
          "variable": "FUNDFAIR"
         },
         {
          "Year": 2066,
          "value": 8.706304285617994,
          "variable": "FUNDFAIR"
         },
         {
          "Year": 2067,
          "value": 8.800845826085283,
          "variable": "FUNDFAIR"
         },
         {
          "Year": 2068,
          "value": 8.894972635818634,
          "variable": "FUNDFAIR"
         },
         {
          "Year": 2069,
          "value": 8.986697659728765,
          "variable": "FUNDFAIR"
         },
         {
          "Year": 2070,
          "value": 9.074602406109632,
          "variable": "FUNDFAIR"
         },
         {
          "Year": 2071,
          "value": 9.158369522961836,
          "variable": "FUNDFAIR"
         },
         {
          "Year": 2072,
          "value": 9.238919749878313,
          "variable": "FUNDFAIR"
         },
         {
          "Year": 2073,
          "value": 9.317326251561365,
          "variable": "FUNDFAIR"
         },
         {
          "Year": 2074,
          "value": 9.393614625662746,
          "variable": "FUNDFAIR"
         },
         {
          "Year": 2075,
          "value": 9.468084219552184,
          "variable": "FUNDFAIR"
         },
         {
          "Year": 2076,
          "value": 9.541141871350376,
          "variable": "FUNDFAIR"
         },
         {
          "Year": 2077,
          "value": 9.613383965764381,
          "variable": "FUNDFAIR"
         },
         {
          "Year": 2078,
          "value": 9.68588719154584,
          "variable": "FUNDFAIR"
         },
         {
          "Year": 2079,
          "value": 9.75895271450828,
          "variable": "FUNDFAIR"
         },
         {
          "Year": 2080,
          "value": 9.83189882558832,
          "variable": "FUNDFAIR"
         },
         {
          "Year": 2081,
          "value": 9.903443408821897,
          "variable": "FUNDFAIR"
         },
         {
          "Year": 2082,
          "value": 9.97275448634606,
          "variable": "FUNDFAIR"
         },
         {
          "Year": 2083,
          "value": 10.039082790393348,
          "variable": "FUNDFAIR"
         },
         {
          "Year": 2084,
          "value": 10.10250446731401,
          "variable": "FUNDFAIR"
         },
         {
          "Year": 2085,
          "value": 10.162908524435094,
          "variable": "FUNDFAIR"
         },
         {
          "Year": 2086,
          "value": 10.220433522461029,
          "variable": "FUNDFAIR"
         },
         {
          "Year": 2087,
          "value": 10.276548573961188,
          "variable": "FUNDFAIR"
         },
         {
          "Year": 2088,
          "value": 10.332007189290383,
          "variable": "FUNDFAIR"
         },
         {
          "Year": 2089,
          "value": 10.387667816285568,
          "variable": "FUNDFAIR"
         },
         {
          "Year": 2090,
          "value": 10.444624247033389,
          "variable": "FUNDFAIR"
         },
         {
          "Year": 2091,
          "value": 10.50257023705558,
          "variable": "FUNDFAIR"
         },
         {
          "Year": 2092,
          "value": 10.56110014878548,
          "variable": "FUNDFAIR"
         },
         {
          "Year": 2093,
          "value": 10.618109738396106,
          "variable": "FUNDFAIR"
         },
         {
          "Year": 2094,
          "value": 10.671183165220413,
          "variable": "FUNDFAIR"
         },
         {
          "Year": 2095,
          "value": 10.720696050187755,
          "variable": "FUNDFAIR"
         },
         {
          "Year": 2096,
          "value": 10.767344213359547,
          "variable": "FUNDFAIR"
         },
         {
          "Year": 2097,
          "value": 10.812211704818218,
          "variable": "FUNDFAIR"
         },
         {
          "Year": 2098,
          "value": 10.856265591466721,
          "variable": "FUNDFAIR"
         },
         {
          "Year": 2099,
          "value": 10.900456430696542,
          "variable": "FUNDFAIR"
         },
         {
          "Year": 2100,
          "value": 10.946125645258896,
          "variable": "FUNDFAIR"
         }
        ]
       },
       "encoding": {
        "color": {
         "field": "variable",
         "type": "nominal"
        },
        "x": {
         "field": "Year",
         "type": "quantitative"
        },
        "y": {
         "field": "value",
         "type": "quantitative"
        }
       },
       "mark": "line"
      },
      "image/png": "[encoded data removed]",
      "image/svg+xml": [
       "<?xml version=\"1.0\" encoding=\"utf-8\"?>\n",
       "<!DOCTYPE svg PUBLIC \"-//W3C//DTD SVG 1.1//EN\" \"http://www.w3.org/Graphics/SVG/1.1/DTD/svg11.dtd\">\n",
       "<svg xmlns=\"http://www.w3.org/2000/svg\" xmlns:xlink=\"http://www.w3.org/1999/xlink\" version=\"1.1\" class=\"marks\" width=\"325\" height=\"244\" viewBox=\"0 0 325 244\"><rect width=\"325\" height=\"244\" fill=\"white\"/><g fill=\"none\" stroke-miterlimit=\"10\" transform=\"translate(37,7)\"><g class=\"mark-group role-frame root\" role=\"graphics-object\" aria-roledescription=\"group mark container\"><g transform=\"translate(0,0)\"><path class=\"background\" aria-hidden=\"true\" d=\"M0.5,0.5h200v200h-200Z\" stroke=\"#ddd\"/><g><g class=\"mark-group role-axis\" aria-hidden=\"true\"><g transform=\"translate(0.5,200.5)\"><path class=\"background\" aria-hidden=\"true\" d=\"M0,0h0v0h0Z\" pointer-events=\"none\"/><g><g class=\"mark-rule role-axis-grid\" pointer-events=\"none\"><line transform=\"translate(13,-200)\" x2=\"0\" y2=\"200\" stroke=\"#ddd\" stroke-width=\"1\" opacity=\"1\"/><line transform=\"translate(75,-200)\" x2=\"0\" y2=\"200\" stroke=\"#ddd\" stroke-width=\"1\" opacity=\"1\"/><line transform=\"translate(138,-200)\" x2=\"0\" y2=\"200\" stroke=\"#ddd\" stroke-width=\"1\" opacity=\"1\"/><line transform=\"translate(200,-200)\" x2=\"0\" y2=\"200\" stroke=\"#ddd\" stroke-width=\"1\" opacity=\"1\"/></g></g><path class=\"foreground\" aria-hidden=\"true\" d=\"\" pointer-events=\"none\" display=\"none\"/></g></g><g class=\"mark-group role-axis\" aria-hidden=\"true\"><g transform=\"translate(0.5,0.5)\"><path class=\"background\" aria-hidden=\"true\" d=\"M0,0h0v0h0Z\" pointer-events=\"none\"/><g><g class=\"mark-rule role-axis-grid\" pointer-events=\"none\"><line transform=\"translate(0,200)\" x2=\"200\" y2=\"0\" stroke=\"#ddd\" stroke-width=\"1\" opacity=\"1\"/><line transform=\"translate(0,164)\" x2=\"200\" y2=\"0\" stroke=\"#ddd\" stroke-width=\"1\" opacity=\"1\"/><line transform=\"translate(0,127)\" x2=\"200\" y2=\"0\" stroke=\"#ddd\" stroke-width=\"1\" opacity=\"1\"/><line transform=\"translate(0,91)\" x2=\"200\" y2=\"0\" stroke=\"#ddd\" stroke-width=\"1\" opacity=\"1\"/><line transform=\"translate(0,55)\" x2=\"200\" y2=\"0\" stroke=\"#ddd\" stroke-width=\"1\" opacity=\"1\"/><line transform=\"translate(0,18)\" x2=\"200\" y2=\"0\" stroke=\"#ddd\" stroke-width=\"1\" opacity=\"1\"/></g></g><path class=\"foreground\" aria-hidden=\"true\" d=\"\" pointer-events=\"none\" display=\"none\"/></g></g><g class=\"mark-group role-axis\" role=\"graphics-symbol\" aria-roledescription=\"axis\" aria-label=\"X-axis titled 'Year' for a linear scale with values from 1,940 to 2,100\"><g transform=\"translate(0.5,200.5)\"><path class=\"background\" aria-hidden=\"true\" d=\"M0,0h0v0h0Z\" pointer-events=\"none\"/><g><g class=\"mark-rule role-axis-tick\" pointer-events=\"none\"><line transform=\"translate(13,0)\" x2=\"0\" y2=\"5\" stroke=\"#888\" stroke-width=\"1\" opacity=\"1\"/><line transform=\"translate(75,0)\" x2=\"0\" y2=\"5\" stroke=\"#888\" stroke-width=\"1\" opacity=\"1\"/><line transform=\"translate(138,0)\" x2=\"0\" y2=\"5\" stroke=\"#888\" stroke-width=\"1\" opacity=\"1\"/><line transform=\"translate(200,0)\" x2=\"0\" y2=\"5\" stroke=\"#888\" stroke-width=\"1\" opacity=\"1\"/></g><g class=\"mark-text role-axis-label\" pointer-events=\"none\"><text text-anchor=\"middle\" transform=\"translate(12.5,15)\" font-family=\"sans-serif\" font-size=\"10px\" fill=\"#000\" opacity=\"1\">1,950</text><text text-anchor=\"middle\" transform=\"translate(75,15)\" font-family=\"sans-serif\" font-size=\"10px\" fill=\"#000\" opacity=\"1\">2,000</text><text text-anchor=\"middle\" transform=\"translate(137.5,15)\" font-family=\"sans-serif\" font-size=\"10px\" fill=\"#000\" opacity=\"1\">2,050</text><text text-anchor=\"end\" transform=\"translate(200,15)\" font-family=\"sans-serif\" font-size=\"10px\" fill=\"#000\" opacity=\"1\">2,100</text></g><g class=\"mark-rule role-axis-domain\" pointer-events=\"none\"><line transform=\"translate(0,0)\" x2=\"200\" y2=\"0\" stroke=\"#888\" stroke-width=\"1\" opacity=\"1\"/></g><g class=\"mark-text role-axis-title\" pointer-events=\"none\"><text text-anchor=\"middle\" transform=\"translate(100,30)\" font-family=\"sans-serif\" font-size=\"11px\" font-weight=\"bold\" fill=\"#000\" opacity=\"1\">Year</text></g></g><path class=\"foreground\" aria-hidden=\"true\" d=\"\" pointer-events=\"none\" display=\"none\"/></g></g><g class=\"mark-group role-axis\" role=\"graphics-symbol\" aria-roledescription=\"axis\" aria-label=\"Y-axis titled 'value' for a linear scale with values from 0 to 11\"><g transform=\"translate(0.5,0.5)\"><path class=\"background\" aria-hidden=\"true\" d=\"M0,0h0v0h0Z\" pointer-events=\"none\"/><g><g class=\"mark-rule role-axis-tick\" pointer-events=\"none\"><line transform=\"translate(0,200)\" x2=\"-5\" y2=\"0\" stroke=\"#888\" stroke-width=\"1\" opacity=\"1\"/><line transform=\"translate(0,164)\" x2=\"-5\" y2=\"0\" stroke=\"#888\" stroke-width=\"1\" opacity=\"1\"/><line transform=\"translate(0,127)\" x2=\"-5\" y2=\"0\" stroke=\"#888\" stroke-width=\"1\" opacity=\"1\"/><line transform=\"translate(0,91)\" x2=\"-5\" y2=\"0\" stroke=\"#888\" stroke-width=\"1\" opacity=\"1\"/><line transform=\"translate(0,55)\" x2=\"-5\" y2=\"0\" stroke=\"#888\" stroke-width=\"1\" opacity=\"1\"/><line transform=\"translate(0,18)\" x2=\"-5\" y2=\"0\" stroke=\"#888\" stroke-width=\"1\" opacity=\"1\"/></g><g class=\"mark-text role-axis-label\" pointer-events=\"none\"><text text-anchor=\"end\" transform=\"translate(-7,203)\" font-family=\"sans-serif\" font-size=\"10px\" fill=\"#000\" opacity=\"1\">0</text><text text-anchor=\"end\" transform=\"translate(-7,166.63636363636363)\" font-family=\"sans-serif\" font-size=\"10px\" fill=\"#000\" opacity=\"1\">2</text><text text-anchor=\"end\" transform=\"translate(-7,130.27272727272725)\" font-family=\"sans-serif\" font-size=\"10px\" fill=\"#000\" opacity=\"1\">4</text><text text-anchor=\"end\" transform=\"translate(-7,93.90909090909092)\" font-family=\"sans-serif\" font-size=\"10px\" fill=\"#000\" opacity=\"1\">6</text><text text-anchor=\"end\" transform=\"translate(-7,57.54545454545454)\" font-family=\"sans-serif\" font-size=\"10px\" fill=\"#000\" opacity=\"1\">8</text><text text-anchor=\"end\" transform=\"translate(-7,21.181818181818187)\" font-family=\"sans-serif\" font-size=\"10px\" fill=\"#000\" opacity=\"1\">10</text></g><g class=\"mark-rule role-axis-domain\" pointer-events=\"none\"><line transform=\"translate(0,200)\" x2=\"0\" y2=\"-200\" stroke=\"#888\" stroke-width=\"1\" opacity=\"1\"/></g><g class=\"mark-text role-axis-title\" pointer-events=\"none\"><text text-anchor=\"middle\" transform=\"translate(-21,100) rotate(-90) translate(0,-2)\" font-family=\"sans-serif\" font-size=\"11px\" font-weight=\"bold\" fill=\"#000\" opacity=\"1\">value</text></g></g><path class=\"foreground\" aria-hidden=\"true\" d=\"\" pointer-events=\"none\" display=\"none\"/></g></g><g class=\"mark-group role-scope pathgroup\" role=\"graphics-object\" aria-roledescription=\"group mark container\"><g transform=\"translate(0,0)\"><path class=\"background\" aria-hidden=\"true\" d=\"M0,0h200v200h-200Z\"/><g><g class=\"mark-line role-mark marks\" role=\"graphics-object\" aria-roledescription=\"line mark container\"><path aria-label=\"Year: 1950; value: 0; variable: FUND\" role=\"graphics-symbol\" aria-roledescription=\"line mark\" d=\"M93.75,196.36363636363637L95,196.27954118569457L96.25,196.19366919744274L97.5,196.1058156108315L98.75,196.01641149483658L100,195.9257234707144L101.25,195.8341830451433L102.49999999999999,195.74208195970283L103.75000000000001,195.6486561031544L105,195.5529167320872L106.25,195.45259258250033L107.5,195.34986680722716L108.74999999999999,195.24542113757707L110.00000000000001,195.13801313170524L111.25,195.02760225728832L112.5,194.9138598699681L113.75,194.79662203140876L114.99999999999999,194.67654857818894L116.25000000000001,194.55350154320757L117.5,194.42605861330077L118.75,194.29204360654632L120,194.1519821458324L121.24999999999999,194.00935359584247L122.50000000000001,193.86526272199276L123.75,193.7194020067877L125,193.5720057968581L126.25,193.42322569618017L127.49999999999999,193.2727478785852L128.75,193.11912027552546L130,192.96144844952553L131.25,192.80188222065698L132.5,192.6413446092205L133.75,192.47856088323505L135,192.31354033768625L136.25,192.14557702185536L137.5,191.9738532457933L138.75,191.7984273875985L140,191.6198246316724L141.25,191.43764162435076L142.5,191.2509129259027L143.75,191.05866335082248L145,190.860924959081L146.25,190.6586525901366L147.5,190.4512254400757L148.75,190.23779784047136L150,190.0180799213218L151.25,189.79253590455377L152.5,189.56550431328026L153.75,189.33988339357165L155,189.1150683176194L156.25,188.8915077429286L157.5,188.66701235364818L158.75,188.43884504615596L160,188.20693669387262L161.25,187.97112125055568L162.5,187.7296495653236L163.75,187.47951270059428L165,187.21938069952762L166.25,186.94929504408498L167.5,186.66933159826985L168.75,186.38075180897L170,186.08573028085448L171.25,185.7851700985942L172.5,185.4788938181946L173.75,185.1667461987799L175,184.84854988571377L176.25,184.52420770920958L177.5,184.19362706397558L178.75,183.85672726793274L180,183.51342834282093L181.25,183.16333901281195L182.5,182.80576856599592L183.75,182.44033727908504L185,182.06703362419353L186.25,181.68583935119048L187.5,181.29674796867548L188.75,180.89974748175197L190,180.49486489297934L191.25,180.08214914694923L192.5,179.6616452722819L193.75,179.23290609115438L195,178.79484540218863L196.25,178.34699602967748L197.5,177.88944144545115L198.75,177.4222691299318L200,176.94562229101268\" stroke=\"#f58518\" stroke-width=\"2\"/></g></g><path class=\"foreground\" aria-hidden=\"true\" d=\"\" display=\"none\"/></g><g transform=\"translate(0,0)\"><path class=\"background\" aria-hidden=\"true\" d=\"M0,0h200v200h-200Z\"/><g><g class=\"mark-line role-mark marks\" role=\"graphics-object\" aria-roledescription=\"line mark container\"><path aria-label=\"Year: 1950; value: 0.0053671258205; variable: FAIR\" role=\"graphics-symbol\" aria-roledescription=\"line mark\" d=\"M12.5,199.90241589417272L13.750000000000002,199.98323467641308L15,199.92004610501849L16.25,199.76411262633385L17.5,199.53615030237668L18.75,199.23569990054335L20,198.8340683610937L21.25,198.31894805073932L22.5,197.76850268920882L23.75,197.28921604967883L25,196.9037319238073L26.25,196.65899952990338L27.500000000000004,196.71846793810346L28.749999999999996,197.81768355213808L30,199.2024018736939L31.25,199.65637523637915L32.5,199.1490723900806L33.75,198.4569253634145L35,197.9187485171267L36.25,197.21453103187216L37.5,196.51547038808204L38.75,196.05579705311277L40,195.6378149036803L41.25,195.02758075543272L42.5,194.52179401407827L43.75,194.40519345502122L45,194.1931070527382L46.25,193.5842722080929L47.5,192.82212080380975L48.75,192.03560243459916L50,191.3603834551L51.24999999999999,190.80224507984573L52.5,190.66828935472364L53.75,191.29716989841026L55.00000000000001,191.71049753164436L56.25,191.29580538696237L57.49999999999999,190.64108915682846L58.75,189.943774987291L60,189.11749064940037L61.25000000000001,188.1825062107322L62.5,187.27970653692347L63.74999999999999,187.21141179683195L65,188.9881215321025L66.25,190.47176014485007L67.5,189.941420523118L68.75,188.6187631661495L70,187.29466139579222L71.25,186.09794769885005L72.5,184.98361599104095L73.75,183.92640372038596L75,182.96129535794375L76.25,182.13691501799002L77.5,181.42227661390996L78.75,180.86517430577388L80,180.46042998763485L81.25,180.15249224494988L82.5,179.9165462369974L83.75,179.67741047176915L85,179.3835540439479L86.25,179.0564862087129L87.5,178.65143969957109L88.75,178.18814394380306L90,177.68892488906124L91.25,177.11961170089643L92.5,176.55077151140503L93.75,176.0188529633743L95,175.5152185810448L96.25,174.99761869700188L97.5,174.46618871402114L98.75,173.93415356451717L100,173.39465964224433L101.25,172.83725091057084L102.49999999999999,172.24315454021323L103.75000000000001,171.63103350975516L105,171.0314676043268L106.25,170.48275671420748L107.5,170.0024827729739L108.74999999999999,169.57566855827795L110.00000000000001,169.17250699198212L111.25,168.7777612398025L112.5,168.37117212982687L113.75,167.932170907161L114.99999999999999,167.4535296716122L116.25000000000001,166.90980899117838L117.5,166.2763015995344L118.75,165.58841368972892L120,164.8738037074292L121.24999999999999,164.1583043884667L122.50000000000001,163.45430382088867L123.75,162.76511596690497L125,162.10558331233358L126.25,161.4614257737059L127.49999999999999,160.80892660685308L128.75,160.12634046179792L130,159.40114490648895L131.25,158.60784140771509L132.5,157.74945492096256L133.75,156.8466570121947L135,155.93014071115934L136.25,155.04991622949052L137.5,154.2319848297513L138.75,153.4575863427961L140,152.70107349145223L141.25,151.95190140994512L142.5,151.1874095621506L143.75,150.3783496695159L145,149.51277246728898L146.25,148.62300164362563L147.5,147.73312609297037L148.75,146.83948775335818L150,145.96769538209648L151.25,145.1301796519006L152.5,144.31058896223763L153.75,143.49093223066504L155,142.65766622420642L156.25,141.80106225524742L157.5,140.8947081090739L158.75,139.9307982462768L160,138.9354439906134L161.25,137.945438247535L162.5,136.98727418032593L163.75,136.06748021277824L165,135.17031823065597L166.25,134.27762020494978L167.5,133.39030251694135L168.75,132.50414110678042L170,131.6128317391808L171.25,130.70652824579793L172.5,129.76657431914956L173.75,128.78834497212085L175,127.78502143357622L176.25,126.78065391767834L177.5,125.79163475177495L178.75,124.83374688395435L180,123.90787501340341L181.25,123.01787995760671L182.5,122.16275921918952L183.75,121.31706656131279L185,120.46816309770895L186.25,119.60132583231777L187.5,118.6973996772777L188.75,117.76255303011718L190,116.80486356278763L191.25,115.86355853652628L192.5,114.98352465969188L193.75,114.15872258639719L195,113.37718585596318L196.25,112.61980921747963L197.5,111.86953818207681L198.75,111.10954280290653L200,110.31581252691555\" stroke=\"#4c78a8\" stroke-width=\"2\"/></g></g><path class=\"foreground\" aria-hidden=\"true\" d=\"\" display=\"none\"/></g><g transform=\"translate(0,0)\"><path class=\"background\" aria-hidden=\"true\" d=\"M0,0h200v200h-200Z\"/><g><g class=\"mark-line role-mark marks\" role=\"graphics-object\" aria-roledescription=\"line mark container\"><path aria-label=\"Year: 1950; value: 0.0053671258205; variable: FUNDFAIR\" role=\"graphics-symbol\" aria-roledescription=\"line mark\" d=\"M12.5,199.90241589417272L13.750000000000002,199.98323467641308L15,199.92004610501849L16.25,199.76411262633385L17.5,199.53615030237668L18.75,199.23569990054335L20,198.8340683610937L21.25,198.31894805073932L22.5,197.76850268920882L23.75,197.28921604967883L25,196.9037319238073L26.25,196.65899952990338L27.500000000000004,196.71846793810346L28.749999999999996,197.81768355213808L30,199.2024018736939L31.25,199.65637523637915L32.5,199.1490723900806L33.75,198.4569253634145L35,197.9187485171267L36.25,197.21453103187216L37.5,196.51547038808204L38.75,196.05579705311277L40,195.6378149036803L41.25,195.02758075543272L42.5,194.52179401407827L43.75,194.40519345502122L45,194.1931070527382L46.25,193.5842722080929L47.5,192.82212080380975L48.75,192.03560243459916L50,191.3603834551L51.24999999999999,190.80224507984573L52.5,190.66828935472364L53.75,191.29716989841026L55.00000000000001,191.71049753164436L56.25,191.29580538696237L57.49999999999999,190.64108915682846L58.75,189.943774987291L60,189.11749064940037L61.25000000000001,188.1825062107322L62.5,187.27970653692347L63.74999999999999,187.21141179683195L65,188.9881215321025L66.25,190.47176014485007L67.5,189.941420523118L68.75,188.6187631661495L70,187.29466139579222L71.25,186.09794769885005L72.5,184.98361599104095L73.75,183.92640372038596L75,182.96129535794375L76.25,182.13691501799002L77.5,181.42227661390996L78.75,180.86517430577388L80,180.46042998763485L81.25,180.15249224494988L82.5,179.9165462369974L83.75,179.67741047176915L85,179.3835540439479L86.25,179.0564862087129L87.5,178.65143969957109L88.75,178.18814394380306L90,177.68892488906124L91.25,177.11961170089643L92.5,176.55077151140503L93.75,176.0188529633743L95,175.5152185810448L96.25,174.7598526843129L97.5,173.37867064236164L98.75,171.35842690325856L100,168.87800774864758L101.25,166.052799577849L102.49999999999999,162.95135609774792L103.75000000000001,159.6551179135657L105,156.24114212498816L106.25,152.78310794598482L107.5,149.32640923131243L108.74999999999999,145.8785999382659L110.00000000000001,142.42859933904998L111.25,138.97706559273018L112.5,135.51750414483473L113.75,132.04150464927923L114.99999999999999,128.55293248742967L116.25000000000001,125.03677120306973L117.5,121.47808690168871L118.75,117.92146891614901L120,114.40335405548811L121.24999999999999,110.95806977234908L122.50000000000001,107.60628334589425L123.75,104.35935532621853L125,101.2397750063295L126.25,98.23561230215047L127.49999999999999,95.31883163467944L128.75,92.46211321370987L130,89.64833101861831L131.25,86.84807379754773L132.5,84.06098093513503L133.75,81.3047458660047L135,78.60739252761392L136.25,76.0164848416137L137.5,73.55572500372185L138.75,71.20414156281056L140,68.93409798689008L141.25,66.73338281707655L142.5,64.57775847750335L143.75,62.43633527626508L145,60.29550174164762L146.25,58.185932956295304L147.5,56.130089116818674L148.75,54.122683529868354L150,52.18768499083273L151.25,50.335874644786905L152.5,48.5492082715207L153.75,46.80795645878304L155,45.09688355990973L156.25,43.40468610648956L157.5,41.7035584433092L158.75,39.984621343903946L160,38.27322480329756L161.25,36.60549709584062L162.5,35.007228979824866L163.75,33.48419049160298L165,32.019640911303405L166.25,30.59406815342973L167.5,29.207006806131886L168.75,27.85301418996029L170,26.52469324817497L171.25,25.211200622465803L172.5,23.892960153712007L173.75,22.56449609984943L175,21.238203171121462L176.25,19.937392566874614L177.5,18.677191157344364L178.75,17.47122199284823L180,16.31810059429073L181.25,15.219845010271005L182.5,14.173935955254024L183.75,13.153662291614765L185,12.145323831083932L186.25,11.133312431171504L187.5,10.097740963029288L188.75,9.044177508080375L190,7.979997294809471L191.25,6.943459301888999L192.5,5.978487905083418L193.75,5.078253632949914L195,4.230105211644619L196.25,3.414332639668771L197.5,2.6133528824232366L198.75,1.8098830782447006L200,0.9795337225655398\" stroke=\"#e45756\" stroke-width=\"2\"/></g></g><path class=\"foreground\" aria-hidden=\"true\" d=\"\" display=\"none\"/></g></g><g class=\"mark-group role-legend\" role=\"graphics-symbol\" aria-roledescription=\"legend\" aria-label=\"Symbol legend titled 'variable' for stroke color with 3 values: FAIR, FUND, FUNDFAIR\"><g transform=\"translate(220,0)\"><path class=\"background\" aria-hidden=\"true\" d=\"M0,0h63v53h-63Z\" pointer-events=\"none\"/><g><g class=\"mark-group role-legend-entry\"><g transform=\"translate(0,16)\"><path class=\"background\" aria-hidden=\"true\" d=\"M0,0h0v0h0Z\" pointer-events=\"none\"/><g><g class=\"mark-group role-scope\" role=\"graphics-object\" aria-roledescription=\"group mark container\"><g transform=\"translate(0,0)\"><path class=\"background\" aria-hidden=\"true\" d=\"M0,0h63v11h-63Z\" pointer-events=\"none\" opacity=\"1\"/><g><g class=\"mark-symbol role-legend-symbol\" pointer-events=\"none\"><path transform=\"translate(6,6)\" d=\"M-5,0L5,0\" stroke=\"#4c78a8\" stroke-width=\"1.5\" opacity=\"1\"/></g><g class=\"mark-text role-legend-label\" pointer-events=\"none\"><text text-anchor=\"start\" transform=\"translate(16,9)\" font-family=\"sans-serif\" font-size=\"10px\" fill=\"#000\" opacity=\"1\">FAIR</text></g></g><path class=\"foreground\" aria-hidden=\"true\" d=\"\" pointer-events=\"none\" display=\"none\"/></g><g transform=\"translate(0,13)\"><path class=\"background\" aria-hidden=\"true\" d=\"M0,0h63v11h-63Z\" pointer-events=\"none\" opacity=\"1\"/><g><g class=\"mark-symbol role-legend-symbol\" pointer-events=\"none\"><path transform=\"translate(6,6)\" d=\"M-5,0L5,0\" stroke=\"#f58518\" stroke-width=\"1.5\" opacity=\"1\"/></g><g class=\"mark-text role-legend-label\" pointer-events=\"none\"><text text-anchor=\"start\" transform=\"translate(16,9)\" font-family=\"sans-serif\" font-size=\"10px\" fill=\"#000\" opacity=\"1\">FUND</text></g></g><path class=\"foreground\" aria-hidden=\"true\" d=\"\" pointer-events=\"none\" display=\"none\"/></g><g transform=\"translate(0,26)\"><path class=\"background\" aria-hidden=\"true\" d=\"M0,0h63v11h-63Z\" pointer-events=\"none\" opacity=\"1\"/><g><g class=\"mark-symbol role-legend-symbol\" pointer-events=\"none\"><path transform=\"translate(6,6)\" d=\"M-5,0L5,0\" stroke=\"#e45756\" stroke-width=\"1.5\" opacity=\"1\"/></g><g class=\"mark-text role-legend-label\" pointer-events=\"none\"><text text-anchor=\"start\" transform=\"translate(16,9)\" font-family=\"sans-serif\" font-size=\"10px\" fill=\"#000\" opacity=\"1\">FUNDFAIR</text></g></g><path class=\"foreground\" aria-hidden=\"true\" d=\"\" pointer-events=\"none\" display=\"none\"/></g></g></g><path class=\"foreground\" aria-hidden=\"true\" d=\"\" pointer-events=\"none\" display=\"none\"/></g></g><g class=\"mark-text role-legend-title\" pointer-events=\"none\"><text text-anchor=\"start\" transform=\"translate(0,9)\" font-family=\"sans-serif\" font-size=\"11px\" font-weight=\"bold\" fill=\"#000\" opacity=\"1\">variable</text></g></g><path class=\"foreground\" aria-hidden=\"true\" d=\"\" pointer-events=\"none\" display=\"none\"/></g></g></g><path class=\"foreground\" aria-hidden=\"true\" d=\"\" display=\"none\"/></g></g></g></svg>\n"
      ],
      "text/plain": [
       "@vlplot(\n",
       "    mark=\"line\",\n",
       "    encoding={\n",
       "        x={\n",
       "            field=\"Year\"\n",
       "        },\n",
       "        y={\n",
       "            field=\"value\"\n",
       "        },\n",
       "        color={\n",
       "            field=\"variable\"\n",
       "        }\n",
       "    },\n",
       "    data={\n",
       "        values=...\n",
       "    }\n",
       ")"
      ]
     },
     "execution_count": 20,
     "metadata": {},
     "output_type": "execute_result"
    }
   ],
   "source": [
    "df = DataFrame(\n",
    "    :Year => Mimi.time_labels(m),\n",
    "    :FUND => fundvals,\n",
    "    :FAIR => fairvals,\n",
    "    :FUNDFAIR => fundfairvals\n",
    ")\n",
    "\n",
    "stack(df, [:FUND, :FAIR, :FUNDFAIR]) |> \n",
    "\n",
    "@vlplot(\n",
    "    :line, \n",
    "    x = :Year,\n",
    "    y = :value,\n",
    "    color = :variable\n",
    ")\n",
    "    "
   ]
  },
  {
   "cell_type": "markdown",
   "metadata": {},
   "source": [
    "##### Loss\n",
    "\n",
    "Similarly, here we compare what the loss looks like when we use the FUND climate module for CO2 as compared to using the FAIR climate module for CO2."
   ]
  },
  {
   "cell_type": "code",
   "execution_count": 21,
   "metadata": {},
   "outputs": [],
   "source": [
    "fundfairvals = sum(m[:impactaggregation, :loss], dims = 2)[:,1];\n",
    "\n",
    "fundvals = vcat(\n",
    "    fill(missing, length(FAIR_first:FUND_first)-1),\n",
    "    sum(mfund[:impactaggregation, :loss][1:length(FUND_first:FAIR_last),:], dims = 2)\n",
    ")\n",
    "fundvals = fundvals[:,1]; # make a vector\n",
    "     "
   ]
  },
  {
   "cell_type": "code",
   "execution_count": 22,
   "metadata": {
    "scrolled": true
   },
   "outputs": [
    {
     "data": {
      "application/vnd.vegalite.v4+json": {
       "data": {
        "values": [
         {
          "Year": 1950,
          "value": null,
          "variable": "FUND"
         },
         {
          "Year": 1951,
          "value": null,
          "variable": "FUND"
         },
         {
          "Year": 1952,
          "value": null,
          "variable": "FUND"
         },
         {
          "Year": 1953,
          "value": null,
          "variable": "FUND"
         },
         {
          "Year": 1954,
          "value": null,
          "variable": "FUND"
         },
         {
          "Year": 1955,
          "value": null,
          "variable": "FUND"
         },
         {
          "Year": 1956,
          "value": null,
          "variable": "FUND"
         },
         {
          "Year": 1957,
          "value": null,
          "variable": "FUND"
         },
         {
          "Year": 1958,
          "value": null,
          "variable": "FUND"
         },
         {
          "Year": 1959,
          "value": null,
          "variable": "FUND"
         },
         {
          "Year": 1960,
          "value": null,
          "variable": "FUND"
         },
         {
          "Year": 1961,
          "value": null,
          "variable": "FUND"
         },
         {
          "Year": 1962,
          "value": null,
          "variable": "FUND"
         },
         {
          "Year": 1963,
          "value": null,
          "variable": "FUND"
         },
         {
          "Year": 1964,
          "value": null,
          "variable": "FUND"
         },
         {
          "Year": 1965,
          "value": null,
          "variable": "FUND"
         },
         {
          "Year": 1966,
          "value": null,
          "variable": "FUND"
         },
         {
          "Year": 1967,
          "value": null,
          "variable": "FUND"
         },
         {
          "Year": 1968,
          "value": null,
          "variable": "FUND"
         },
         {
          "Year": 1969,
          "value": null,
          "variable": "FUND"
         },
         {
          "Year": 1970,
          "value": null,
          "variable": "FUND"
         },
         {
          "Year": 1971,
          "value": null,
          "variable": "FUND"
         },
         {
          "Year": 1972,
          "value": null,
          "variable": "FUND"
         },
         {
          "Year": 1973,
          "value": null,
          "variable": "FUND"
         },
         {
          "Year": 1974,
          "value": null,
          "variable": "FUND"
         },
         {
          "Year": 1975,
          "value": null,
          "variable": "FUND"
         },
         {
          "Year": 1976,
          "value": null,
          "variable": "FUND"
         },
         {
          "Year": 1977,
          "value": null,
          "variable": "FUND"
         },
         {
          "Year": 1978,
          "value": null,
          "variable": "FUND"
         },
         {
          "Year": 1979,
          "value": null,
          "variable": "FUND"
         },
         {
          "Year": 1980,
          "value": null,
          "variable": "FUND"
         },
         {
          "Year": 1981,
          "value": null,
          "variable": "FUND"
         },
         {
          "Year": 1982,
          "value": null,
          "variable": "FUND"
         },
         {
          "Year": 1983,
          "value": null,
          "variable": "FUND"
         },
         {
          "Year": 1984,
          "value": null,
          "variable": "FUND"
         },
         {
          "Year": 1985,
          "value": null,
          "variable": "FUND"
         },
         {
          "Year": 1986,
          "value": null,
          "variable": "FUND"
         },
         {
          "Year": 1987,
          "value": null,
          "variable": "FUND"
         },
         {
          "Year": 1988,
          "value": null,
          "variable": "FUND"
         },
         {
          "Year": 1989,
          "value": null,
          "variable": "FUND"
         },
         {
          "Year": 1990,
          "value": null,
          "variable": "FUND"
         },
         {
          "Year": 1991,
          "value": null,
          "variable": "FUND"
         },
         {
          "Year": 1992,
          "value": null,
          "variable": "FUND"
         },
         {
          "Year": 1993,
          "value": null,
          "variable": "FUND"
         },
         {
          "Year": 1994,
          "value": null,
          "variable": "FUND"
         },
         {
          "Year": 1995,
          "value": null,
          "variable": "FUND"
         },
         {
          "Year": 1996,
          "value": null,
          "variable": "FUND"
         },
         {
          "Year": 1997,
          "value": null,
          "variable": "FUND"
         },
         {
          "Year": 1998,
          "value": null,
          "variable": "FUND"
         },
         {
          "Year": 1999,
          "value": null,
          "variable": "FUND"
         },
         {
          "Year": 2000,
          "value": null,
          "variable": "FUND"
         },
         {
          "Year": 2001,
          "value": null,
          "variable": "FUND"
         },
         {
          "Year": 2002,
          "value": null,
          "variable": "FUND"
         },
         {
          "Year": 2003,
          "value": null,
          "variable": "FUND"
         },
         {
          "Year": 2004,
          "value": null,
          "variable": "FUND"
         },
         {
          "Year": 2005,
          "value": null,
          "variable": "FUND"
         },
         {
          "Year": 2006,
          "value": null,
          "variable": "FUND"
         },
         {
          "Year": 2007,
          "value": null,
          "variable": "FUND"
         },
         {
          "Year": 2008,
          "value": null,
          "variable": "FUND"
         },
         {
          "Year": 2009,
          "value": null,
          "variable": "FUND"
         },
         {
          "Year": 2010,
          "value": null,
          "variable": "FUND"
         },
         {
          "Year": 2011,
          "value": null,
          "variable": "FUND"
         },
         {
          "Year": 2012,
          "value": null,
          "variable": "FUND"
         },
         {
          "Year": 2013,
          "value": null,
          "variable": "FUND"
         },
         {
          "Year": 2014,
          "value": null,
          "variable": "FUND"
         },
         {
          "Year": 2015,
          "value": null,
          "variable": "FUND"
         },
         {
          "Year": 2016,
          "value": -4269488936.7738442,
          "variable": "FUND"
         },
         {
          "Year": 2017,
          "value": -4898961731.116589,
          "variable": "FUND"
         },
         {
          "Year": 2018,
          "value": -5599344757.452444,
          "variable": "FUND"
         },
         {
          "Year": 2019,
          "value": -6287562786.800858,
          "variable": "FUND"
         },
         {
          "Year": 2020,
          "value": -7018465468.305371,
          "variable": "FUND"
         },
         {
          "Year": 2021,
          "value": -7798578740.65406,
          "variable": "FUND"
         },
         {
          "Year": 2022,
          "value": -8633014100.44929,
          "variable": "FUND"
         },
         {
          "Year": 2023,
          "value": -9501378025.977509,
          "variable": "FUND"
         },
         {
          "Year": 2024,
          "value": -10407562156.213524,
          "variable": "FUND"
         },
         {
          "Year": 2025,
          "value": -11336094815.243977,
          "variable": "FUND"
         },
         {
          "Year": 2026,
          "value": -12363524825.637829,
          "variable": "FUND"
         },
         {
          "Year": 2027,
          "value": -13437473973.16039,
          "variable": "FUND"
         },
         {
          "Year": 2028,
          "value": -14559394161.83854,
          "variable": "FUND"
         },
         {
          "Year": 2029,
          "value": -15746966853.463776,
          "variable": "FUND"
         },
         {
          "Year": 2030,
          "value": -17000325213.767809,
          "variable": "FUND"
         },
         {
          "Year": 2031,
          "value": -18325920789.32839,
          "variable": "FUND"
         },
         {
          "Year": 2032,
          "value": -19741726738.879242,
          "variable": "FUND"
         },
         {
          "Year": 2033,
          "value": -21242298327.11398,
          "variable": "FUND"
         },
         {
          "Year": 2034,
          "value": -22811245514.779564,
          "variable": "FUND"
         },
         {
          "Year": 2035,
          "value": -24437565773.763298,
          "variable": "FUND"
         },
         {
          "Year": 2036,
          "value": -26066855572.055374,
          "variable": "FUND"
         },
         {
          "Year": 2037,
          "value": -27868838685.181232,
          "variable": "FUND"
         },
         {
          "Year": 2038,
          "value": -29771267364.173946,
          "variable": "FUND"
         },
         {
          "Year": 2039,
          "value": -31761047441.531933,
          "variable": "FUND"
         },
         {
          "Year": 2040,
          "value": -33859665143.443825,
          "variable": "FUND"
         },
         {
          "Year": 2041,
          "value": -36071862458.85372,
          "variable": "FUND"
         },
         {
          "Year": 2042,
          "value": -38393373611.93863,
          "variable": "FUND"
         },
         {
          "Year": 2043,
          "value": -40801469411.00194,
          "variable": "FUND"
         },
         {
          "Year": 2044,
          "value": -43306734740.49733,
          "variable": "FUND"
         },
         {
          "Year": 2045,
          "value": -45989667615.15862,
          "variable": "FUND"
         },
         {
          "Year": 2046,
          "value": -49304497248.852196,
          "variable": "FUND"
         },
         {
          "Year": 2047,
          "value": -53085682235.166084,
          "variable": "FUND"
         },
         {
          "Year": 2048,
          "value": -57116723334.459,
          "variable": "FUND"
         },
         {
          "Year": 2049,
          "value": -61398588311.511314,
          "variable": "FUND"
         },
         {
          "Year": 2050,
          "value": -65953626643.13713,
          "variable": "FUND"
         },
         {
          "Year": 2051,
          "value": -70841375355.82968,
          "variable": "FUND"
         },
         {
          "Year": 2052,
          "value": -76119085948.4198,
          "variable": "FUND"
         },
         {
          "Year": 2053,
          "value": -81804891810.88132,
          "variable": "FUND"
         },
         {
          "Year": 2054,
          "value": -87976099155.43994,
          "variable": "FUND"
         },
         {
          "Year": 2055,
          "value": -94524558950.44792,
          "variable": "FUND"
         },
         {
          "Year": 2056,
          "value": -98175067072.30229,
          "variable": "FUND"
         },
         {
          "Year": 2057,
          "value": -102414945680.41068,
          "variable": "FUND"
         },
         {
          "Year": 2058,
          "value": -106869145189.92331,
          "variable": "FUND"
         },
         {
          "Year": 2059,
          "value": -111547761980.53093,
          "variable": "FUND"
         },
         {
          "Year": 2060,
          "value": -116486810825.00821,
          "variable": "FUND"
         },
         {
          "Year": 2061,
          "value": -122906344861.55655,
          "variable": "FUND"
         },
         {
          "Year": 2062,
          "value": -129276511673.07646,
          "variable": "FUND"
         },
         {
          "Year": 2063,
          "value": -136544814613.9002,
          "variable": "FUND"
         },
         {
          "Year": 2064,
          "value": -110479081335.52914,
          "variable": "FUND"
         },
         {
          "Year": 2065,
          "value": -147421492444.2596,
          "variable": "FUND"
         },
         {
          "Year": 2066,
          "value": -156227924236.07462,
          "variable": "FUND"
         },
         {
          "Year": 2067,
          "value": -161906578840.05737,
          "variable": "FUND"
         },
         {
          "Year": 2068,
          "value": -167973493758.88095,
          "variable": "FUND"
         },
         {
          "Year": 2069,
          "value": -174182913934.91022,
          "variable": "FUND"
         },
         {
          "Year": 2070,
          "value": -180412977895.47623,
          "variable": "FUND"
         },
         {
          "Year": 2071,
          "value": -186584295207.38577,
          "variable": "FUND"
         },
         {
          "Year": 2072,
          "value": -192724313984.0817,
          "variable": "FUND"
         },
         {
          "Year": 2073,
          "value": -198952974444.75296,
          "variable": "FUND"
         },
         {
          "Year": 2074,
          "value": -205260101728.13672,
          "variable": "FUND"
         },
         {
          "Year": 2075,
          "value": -211723444106.50668,
          "variable": "FUND"
         },
         {
          "Year": 2076,
          "value": -218421643624.35355,
          "variable": "FUND"
         },
         {
          "Year": 2077,
          "value": -225238029574.32938,
          "variable": "FUND"
         },
         {
          "Year": 2078,
          "value": -232143932237.01947,
          "variable": "FUND"
         },
         {
          "Year": 2079,
          "value": -239573197471.72903,
          "variable": "FUND"
         },
         {
          "Year": 2080,
          "value": -246571482999.76367,
          "variable": "FUND"
         },
         {
          "Year": 2081,
          "value": -253650692444.74576,
          "variable": "FUND"
         },
         {
          "Year": 2082,
          "value": -260797195436.33768,
          "variable": "FUND"
         },
         {
          "Year": 2083,
          "value": -268197972902.63544,
          "variable": "FUND"
         },
         {
          "Year": 2084,
          "value": -275310311100.09015,
          "variable": "FUND"
         },
         {
          "Year": 2085,
          "value": -282390172344.27594,
          "variable": "FUND"
         },
         {
          "Year": 2086,
          "value": -289390398284.8916,
          "variable": "FUND"
         },
         {
          "Year": 2087,
          "value": -296337862152.2896,
          "variable": "FUND"
         },
         {
          "Year": 2088,
          "value": -303246161843.11536,
          "variable": "FUND"
         },
         {
          "Year": 2089,
          "value": -310096744256.5997,
          "variable": "FUND"
         },
         {
          "Year": 2090,
          "value": -316876542574.7882,
          "variable": "FUND"
         },
         {
          "Year": 2091,
          "value": -323562542407.7073,
          "variable": "FUND"
         },
         {
          "Year": 2092,
          "value": -330126494180.9564,
          "variable": "FUND"
         },
         {
          "Year": 2093,
          "value": -336551708491.733,
          "variable": "FUND"
         },
         {
          "Year": 2094,
          "value": -342815327964.44543,
          "variable": "FUND"
         },
         {
          "Year": 2095,
          "value": -348845992873.7225,
          "variable": "FUND"
         },
         {
          "Year": 2096,
          "value": -354541374673.37604,
          "variable": "FUND"
         },
         {
          "Year": 2097,
          "value": -360037458845.4674,
          "variable": "FUND"
         },
         {
          "Year": 2098,
          "value": -365315375289.8936,
          "variable": "FUND"
         },
         {
          "Year": 2099,
          "value": -370365622521.7213,
          "variable": "FUND"
         },
         {
          "Year": 2100,
          "value": -375175503889.783,
          "variable": "FUND"
         },
         {
          "Year": 1950,
          "value": null,
          "variable": "FUNDFAIR"
         },
         {
          "Year": 1951,
          "value": null,
          "variable": "FUNDFAIR"
         },
         {
          "Year": 1952,
          "value": null,
          "variable": "FUNDFAIR"
         },
         {
          "Year": 1953,
          "value": null,
          "variable": "FUNDFAIR"
         },
         {
          "Year": 1954,
          "value": null,
          "variable": "FUNDFAIR"
         },
         {
          "Year": 1955,
          "value": null,
          "variable": "FUNDFAIR"
         },
         {
          "Year": 1956,
          "value": null,
          "variable": "FUNDFAIR"
         },
         {
          "Year": 1957,
          "value": null,
          "variable": "FUNDFAIR"
         },
         {
          "Year": 1958,
          "value": null,
          "variable": "FUNDFAIR"
         },
         {
          "Year": 1959,
          "value": null,
          "variable": "FUNDFAIR"
         },
         {
          "Year": 1960,
          "value": null,
          "variable": "FUNDFAIR"
         },
         {
          "Year": 1961,
          "value": null,
          "variable": "FUNDFAIR"
         },
         {
          "Year": 1962,
          "value": null,
          "variable": "FUNDFAIR"
         },
         {
          "Year": 1963,
          "value": null,
          "variable": "FUNDFAIR"
         },
         {
          "Year": 1964,
          "value": null,
          "variable": "FUNDFAIR"
         },
         {
          "Year": 1965,
          "value": null,
          "variable": "FUNDFAIR"
         },
         {
          "Year": 1966,
          "value": null,
          "variable": "FUNDFAIR"
         },
         {
          "Year": 1967,
          "value": null,
          "variable": "FUNDFAIR"
         },
         {
          "Year": 1968,
          "value": null,
          "variable": "FUNDFAIR"
         },
         {
          "Year": 1969,
          "value": null,
          "variable": "FUNDFAIR"
         },
         {
          "Year": 1970,
          "value": null,
          "variable": "FUNDFAIR"
         },
         {
          "Year": 1971,
          "value": null,
          "variable": "FUNDFAIR"
         },
         {
          "Year": 1972,
          "value": null,
          "variable": "FUNDFAIR"
         },
         {
          "Year": 1973,
          "value": null,
          "variable": "FUNDFAIR"
         },
         {
          "Year": 1974,
          "value": null,
          "variable": "FUNDFAIR"
         },
         {
          "Year": 1975,
          "value": null,
          "variable": "FUNDFAIR"
         },
         {
          "Year": 1976,
          "value": null,
          "variable": "FUNDFAIR"
         },
         {
          "Year": 1977,
          "value": null,
          "variable": "FUNDFAIR"
         },
         {
          "Year": 1978,
          "value": null,
          "variable": "FUNDFAIR"
         },
         {
          "Year": 1979,
          "value": null,
          "variable": "FUNDFAIR"
         },
         {
          "Year": 1980,
          "value": null,
          "variable": "FUNDFAIR"
         },
         {
          "Year": 1981,
          "value": null,
          "variable": "FUNDFAIR"
         },
         {
          "Year": 1982,
          "value": null,
          "variable": "FUNDFAIR"
         },
         {
          "Year": 1983,
          "value": null,
          "variable": "FUNDFAIR"
         },
         {
          "Year": 1984,
          "value": null,
          "variable": "FUNDFAIR"
         },
         {
          "Year": 1985,
          "value": null,
          "variable": "FUNDFAIR"
         },
         {
          "Year": 1986,
          "value": null,
          "variable": "FUNDFAIR"
         },
         {
          "Year": 1987,
          "value": null,
          "variable": "FUNDFAIR"
         },
         {
          "Year": 1988,
          "value": null,
          "variable": "FUNDFAIR"
         },
         {
          "Year": 1989,
          "value": null,
          "variable": "FUNDFAIR"
         },
         {
          "Year": 1990,
          "value": null,
          "variable": "FUNDFAIR"
         },
         {
          "Year": 1991,
          "value": null,
          "variable": "FUNDFAIR"
         },
         {
          "Year": 1992,
          "value": null,
          "variable": "FUNDFAIR"
         },
         {
          "Year": 1993,
          "value": null,
          "variable": "FUNDFAIR"
         },
         {
          "Year": 1994,
          "value": null,
          "variable": "FUNDFAIR"
         },
         {
          "Year": 1995,
          "value": null,
          "variable": "FUNDFAIR"
         },
         {
          "Year": 1996,
          "value": null,
          "variable": "FUNDFAIR"
         },
         {
          "Year": 1997,
          "value": null,
          "variable": "FUNDFAIR"
         },
         {
          "Year": 1998,
          "value": null,
          "variable": "FUNDFAIR"
         },
         {
          "Year": 1999,
          "value": null,
          "variable": "FUNDFAIR"
         },
         {
          "Year": 2000,
          "value": null,
          "variable": "FUNDFAIR"
         },
         {
          "Year": 2001,
          "value": null,
          "variable": "FUNDFAIR"
         },
         {
          "Year": 2002,
          "value": null,
          "variable": "FUNDFAIR"
         },
         {
          "Year": 2003,
          "value": null,
          "variable": "FUNDFAIR"
         },
         {
          "Year": 2004,
          "value": null,
          "variable": "FUNDFAIR"
         },
         {
          "Year": 2005,
          "value": null,
          "variable": "FUNDFAIR"
         },
         {
          "Year": 2006,
          "value": null,
          "variable": "FUNDFAIR"
         },
         {
          "Year": 2007,
          "value": null,
          "variable": "FUNDFAIR"
         },
         {
          "Year": 2008,
          "value": null,
          "variable": "FUNDFAIR"
         },
         {
          "Year": 2009,
          "value": null,
          "variable": "FUNDFAIR"
         },
         {
          "Year": 2010,
          "value": null,
          "variable": "FUNDFAIR"
         },
         {
          "Year": 2011,
          "value": null,
          "variable": "FUNDFAIR"
         },
         {
          "Year": 2012,
          "value": null,
          "variable": "FUNDFAIR"
         },
         {
          "Year": 2013,
          "value": null,
          "variable": "FUNDFAIR"
         },
         {
          "Year": 2014,
          "value": null,
          "variable": "FUNDFAIR"
         },
         {
          "Year": 2015,
          "value": 1086044009778.7723,
          "variable": "FUNDFAIR"
         },
         {
          "Year": 2016,
          "value": 2333304304296.294,
          "variable": "FUNDFAIR"
         },
         {
          "Year": 2017,
          "value": 3757242520189.9746,
          "variable": "FUNDFAIR"
         },
         {
          "Year": 2018,
          "value": 5372975669938.047,
          "variable": "FUNDFAIR"
         },
         {
          "Year": 2019,
          "value": 7195600346612.721,
          "variable": "FUNDFAIR"
         },
         {
          "Year": 2020,
          "value": 9238960616669.36,
          "variable": "FUNDFAIR"
         },
         {
          "Year": 2021,
          "value": 11515782589255.527,
          "variable": "FUNDFAIR"
         },
         {
          "Year": 2022,
          "value": 14037885621184.19,
          "variable": "FUNDFAIR"
         },
         {
          "Year": 2023,
          "value": 16816006629244.467,
          "variable": "FUNDFAIR"
         },
         {
          "Year": 2024,
          "value": 19858444875479.535,
          "variable": "FUNDFAIR"
         },
         {
          "Year": 2025,
          "value": 23172564493480.473,
          "variable": "FUNDFAIR"
         },
         {
          "Year": 2026,
          "value": 26763813326050.348,
          "variable": "FUNDFAIR"
         },
         {
          "Year": 2027,
          "value": 30637681773138.773,
          "variable": "FUNDFAIR"
         },
         {
          "Year": 2028,
          "value": 34796883920126.582,
          "variable": "FUNDFAIR"
         },
         {
          "Year": 2029,
          "value": 39242155555422.695,
          "variable": "FUNDFAIR"
         },
         {
          "Year": 2030,
          "value": 43979525209714.766,
          "variable": "FUNDFAIR"
         },
         {
          "Year": 2031,
          "value": 49005801946969.23,
          "variable": "FUNDFAIR"
         },
         {
          "Year": 2032,
          "value": 54328584724047.81,
          "variable": "FUNDFAIR"
         },
         {
          "Year": 2033,
          "value": 59940235097936.984,
          "variable": "FUNDFAIR"
         },
         {
          "Year": 2034,
          "value": 65839903769884.55,
          "variable": "FUNDFAIR"
         },
         {
          "Year": 2035,
          "value": 72025825482604.8,
          "variable": "FUNDFAIR"
         },
         {
          "Year": 2036,
          "value": 78494983910247.2,
          "variable": "FUNDFAIR"
         },
         {
          "Year": 2037,
          "value": 85243387248737.25,
          "variable": "FUNDFAIR"
         },
         {
          "Year": 2038,
          "value": 92311096995336.1,
          "variable": "FUNDFAIR"
         },
         {
          "Year": 2039,
          "value": 99651837276669.3,
          "variable": "FUNDFAIR"
         },
         {
          "Year": 2040,
          "value": 107249307746705.36,
          "variable": "FUNDFAIR"
         },
         {
          "Year": 2041,
          "value": 115110442172258.52,
          "variable": "FUNDFAIR"
         },
         {
          "Year": 2042,
          "value": 123191816505122.1,
          "variable": "FUNDFAIR"
         },
         {
          "Year": 2043,
          "value": 131482773763319.4,
          "variable": "FUNDFAIR"
         },
         {
          "Year": 2044,
          "value": 139972737697714.4,
          "variable": "FUNDFAIR"
         },
         {
          "Year": 2045,
          "value": 148651526080083.5,
          "variable": "FUNDFAIR"
         },
         {
          "Year": 2046,
          "value": 157508730659473.97,
          "variable": "FUNDFAIR"
         },
         {
          "Year": 2047,
          "value": 166533152402966.9,
          "variable": "FUNDFAIR"
         },
         {
          "Year": 2048,
          "value": 175712733805168.8,
          "variable": "FUNDFAIR"
         },
         {
          "Year": 2049,
          "value": 185033856957540.22,
          "variable": "FUNDFAIR"
         },
         {
          "Year": 2050,
          "value": 194481946055763.72,
          "variable": "FUNDFAIR"
         },
         {
          "Year": 2051,
          "value": 204050806733744.53,
          "variable": "FUNDFAIR"
         },
         {
          "Year": 2052,
          "value": 213728911872502.28,
          "variable": "FUNDFAIR"
         },
         {
          "Year": 2053,
          "value": 223510205165986.62,
          "variable": "FUNDFAIR"
         },
         {
          "Year": 2054,
          "value": 233393560082707,
          "variable": "FUNDFAIR"
         },
         {
          "Year": 2055,
          "value": 243379218880480.38,
          "variable": "FUNDFAIR"
         },
         {
          "Year": 2056,
          "value": 253468552453569.75,
          "variable": "FUNDFAIR"
         },
         {
          "Year": 2057,
          "value": 263662751675814.6,
          "variable": "FUNDFAIR"
         },
         {
          "Year": 2058,
          "value": 273963712218886.38,
          "variable": "FUNDFAIR"
         },
         {
          "Year": 2059,
          "value": 284374547128843.94,
          "variable": "FUNDFAIR"
         },
         {
          "Year": 2060,
          "value": 294897602961825.75,
          "variable": "FUNDFAIR"
         },
         {
          "Year": 2061,
          "value": 305526321456915.2,
          "variable": "FUNDFAIR"
         },
         {
          "Year": 2062,
          "value": 316240110454858.3,
          "variable": "FUNDFAIR"
         },
         {
          "Year": 2063,
          "value": 327013729260484.5,
          "variable": "FUNDFAIR"
         },
         {
          "Year": 2064,
          "value": 337821030604530.06,
          "variable": "FUNDFAIR"
         },
         {
          "Year": 2065,
          "value": 348635106984309.56,
          "variable": "FUNDFAIR"
         },
         {
          "Year": 2066,
          "value": 359429141082947.6,
          "variable": "FUNDFAIR"
         },
         {
          "Year": 2067,
          "value": 370174973513642.94,
          "variable": "FUNDFAIR"
         },
         {
          "Year": 2068,
          "value": 380843426064551.25,
          "variable": "FUNDFAIR"
         },
         {
          "Year": 2069,
          "value": 391403158528706.2,
          "variable": "FUNDFAIR"
         },
         {
          "Year": 2070,
          "value": 401821434510145.3,
          "variable": "FUNDFAIR"
         },
         {
          "Year": 2071,
          "value": 412070407569748.4,
          "variable": "FUNDFAIR"
         },
         {
          "Year": 2072,
          "value": 422145857061199.5,
          "variable": "FUNDFAIR"
         },
         {
          "Year": 2073,
          "value": 432050411338094.06,
          "variable": "FUNDFAIR"
         },
         {
          "Year": 2074,
          "value": 441787711061245.25,
          "variable": "FUNDFAIR"
         },
         {
          "Year": 2075,
          "value": 451362815544697.44,
          "variable": "FUNDFAIR"
         },
         {
          "Year": 2076,
          "value": 460781484399204.56,
          "variable": "FUNDFAIR"
         },
         {
          "Year": 2077,
          "value": 470050827455241,
          "variable": "FUNDFAIR"
         },
         {
          "Year": 2078,
          "value": 479179243431131.2,
          "variable": "FUNDFAIR"
         },
         {
          "Year": 2079,
          "value": 488175768451274.3,
          "variable": "FUNDFAIR"
         },
         {
          "Year": 2080,
          "value": 497050245277649.56,
          "variable": "FUNDFAIR"
         },
         {
          "Year": 2081,
          "value": 505809592559584.9,
          "variable": "FUNDFAIR"
         },
         {
          "Year": 2082,
          "value": 514450237094989.6,
          "variable": "FUNDFAIR"
         },
         {
          "Year": 2083,
          "value": 522965289667413.6,
          "variable": "FUNDFAIR"
         },
         {
          "Year": 2084,
          "value": 531348285604175.25,
          "variable": "FUNDFAIR"
         },
         {
          "Year": 2085,
          "value": 539592692800094.44,
          "variable": "FUNDFAIR"
         },
         {
          "Year": 2086,
          "value": 547692068008697.56,
          "variable": "FUNDFAIR"
         },
         {
          "Year": 2087,
          "value": 555641163820654.44,
          "variable": "FUNDFAIR"
         },
         {
          "Year": 2088,
          "value": 563434243636594.4,
          "variable": "FUNDFAIR"
         },
         {
          "Year": 2089,
          "value": 571066635427943.5,
          "variable": "FUNDFAIR"
         },
         {
          "Year": 2090,
          "value": 578534177806972.5,
          "variable": "FUNDFAIR"
         },
         {
          "Year": 2091,
          "value": 585832704270907.5,
          "variable": "FUNDFAIR"
         },
         {
          "Year": 2092,
          "value": 592960584150075.8,
          "variable": "FUNDFAIR"
         },
         {
          "Year": 2093,
          "value": 599916465412993.6,
          "variable": "FUNDFAIR"
         },
         {
          "Year": 2094,
          "value": 606697747179379.5,
          "variable": "FUNDFAIR"
         },
         {
          "Year": 2095,
          "value": 613302439248981.9,
          "variable": "FUNDFAIR"
         },
         {
          "Year": 2096,
          "value": 619729126614120.9,
          "variable": "FUNDFAIR"
         },
         {
          "Year": 2097,
          "value": 625976647366536.1,
          "variable": "FUNDFAIR"
         },
         {
          "Year": 2098,
          "value": 632044719723762.8,
          "variable": "FUNDFAIR"
         },
         {
          "Year": 2099,
          "value": 637932839068797.2,
          "variable": "FUNDFAIR"
         },
         {
          "Year": 2100,
          "value": 643641855239574.6,
          "variable": "FUNDFAIR"
         }
        ]
       },
       "encoding": {
        "color": {
         "field": "variable",
         "type": "nominal"
        },
        "x": {
         "field": "Year",
         "type": "quantitative"
        },
        "y": {
         "field": "value",
         "type": "quantitative"
        }
       },
       "mark": "line"
      },
      "image/png": "[encoded data removed]",
      "image/svg+xml": [
       "<?xml version=\"1.0\" encoding=\"utf-8\"?>\n",
       "<!DOCTYPE svg PUBLIC \"-//W3C//DTD SVG 1.1//EN\" \"http://www.w3.org/Graphics/SVG/1.1/DTD/svg11.dtd\">\n",
       "<svg xmlns=\"http://www.w3.org/2000/svg\" xmlns:xlink=\"http://www.w3.org/1999/xlink\" version=\"1.1\" class=\"marks\" width=\"402\" height=\"243\" viewBox=\"0 0 402 243\"><rect width=\"402\" height=\"243\" fill=\"white\"/><g fill=\"none\" stroke-miterlimit=\"10\" transform=\"translate(114,6)\"><g class=\"mark-group role-frame root\" role=\"graphics-object\" aria-roledescription=\"group mark container\"><g transform=\"translate(0,0)\"><path class=\"background\" aria-hidden=\"true\" d=\"M0.5,0.5h200v200h-200Z\" stroke=\"#ddd\"/><g><g class=\"mark-group role-axis\" aria-hidden=\"true\"><g transform=\"translate(0.5,200.5)\"><path class=\"background\" aria-hidden=\"true\" d=\"M0,0h0v0h0Z\" pointer-events=\"none\"/><g><g class=\"mark-rule role-axis-grid\" pointer-events=\"none\"><line transform=\"translate(13,-200)\" x2=\"0\" y2=\"200\" stroke=\"#ddd\" stroke-width=\"1\" opacity=\"1\"/><line transform=\"translate(75,-200)\" x2=\"0\" y2=\"200\" stroke=\"#ddd\" stroke-width=\"1\" opacity=\"1\"/><line transform=\"translate(138,-200)\" x2=\"0\" y2=\"200\" stroke=\"#ddd\" stroke-width=\"1\" opacity=\"1\"/><line transform=\"translate(200,-200)\" x2=\"0\" y2=\"200\" stroke=\"#ddd\" stroke-width=\"1\" opacity=\"1\"/></g></g><path class=\"foreground\" aria-hidden=\"true\" d=\"\" pointer-events=\"none\" display=\"none\"/></g></g><g class=\"mark-group role-axis\" aria-hidden=\"true\"><g transform=\"translate(0.5,0.5)\"><path class=\"background\" aria-hidden=\"true\" d=\"M0,0h0v0h0Z\" pointer-events=\"none\"/><g><g class=\"mark-rule role-axis-grid\" pointer-events=\"none\"><line transform=\"translate(0,186)\" x2=\"200\" y2=\"0\" stroke=\"#ddd\" stroke-width=\"1\" opacity=\"1\"/><line transform=\"translate(0,157)\" x2=\"200\" y2=\"0\" stroke=\"#ddd\" stroke-width=\"1\" opacity=\"1\"/><line transform=\"translate(0,129)\" x2=\"200\" y2=\"0\" stroke=\"#ddd\" stroke-width=\"1\" opacity=\"1\"/><line transform=\"translate(0,100)\" x2=\"200\" y2=\"0\" stroke=\"#ddd\" stroke-width=\"1\" opacity=\"1\"/><line transform=\"translate(0,71)\" x2=\"200\" y2=\"0\" stroke=\"#ddd\" stroke-width=\"1\" opacity=\"1\"/><line transform=\"translate(0,43)\" x2=\"200\" y2=\"0\" stroke=\"#ddd\" stroke-width=\"1\" opacity=\"1\"/><line transform=\"translate(0,14)\" x2=\"200\" y2=\"0\" stroke=\"#ddd\" stroke-width=\"1\" opacity=\"1\"/></g></g><path class=\"foreground\" aria-hidden=\"true\" d=\"\" pointer-events=\"none\" display=\"none\"/></g></g><g class=\"mark-group role-axis\" role=\"graphics-symbol\" aria-roledescription=\"axis\" aria-label=\"X-axis titled 'Year' for a linear scale with values from 1,940 to 2,100\"><g transform=\"translate(0.5,200.5)\"><path class=\"background\" aria-hidden=\"true\" d=\"M0,0h0v0h0Z\" pointer-events=\"none\"/><g><g class=\"mark-rule role-axis-tick\" pointer-events=\"none\"><line transform=\"translate(13,0)\" x2=\"0\" y2=\"5\" stroke=\"#888\" stroke-width=\"1\" opacity=\"1\"/><line transform=\"translate(75,0)\" x2=\"0\" y2=\"5\" stroke=\"#888\" stroke-width=\"1\" opacity=\"1\"/><line transform=\"translate(138,0)\" x2=\"0\" y2=\"5\" stroke=\"#888\" stroke-width=\"1\" opacity=\"1\"/><line transform=\"translate(200,0)\" x2=\"0\" y2=\"5\" stroke=\"#888\" stroke-width=\"1\" opacity=\"1\"/></g><g class=\"mark-text role-axis-label\" pointer-events=\"none\"><text text-anchor=\"middle\" transform=\"translate(12.5,15)\" font-family=\"sans-serif\" font-size=\"10px\" fill=\"#000\" opacity=\"1\">1,950</text><text text-anchor=\"middle\" transform=\"translate(75,15)\" font-family=\"sans-serif\" font-size=\"10px\" fill=\"#000\" opacity=\"1\">2,000</text><text text-anchor=\"middle\" transform=\"translate(137.5,15)\" font-family=\"sans-serif\" font-size=\"10px\" fill=\"#000\" opacity=\"1\">2,050</text><text text-anchor=\"end\" transform=\"translate(200,15)\" font-family=\"sans-serif\" font-size=\"10px\" fill=\"#000\" opacity=\"1\">2,100</text></g><g class=\"mark-rule role-axis-domain\" pointer-events=\"none\"><line transform=\"translate(0,0)\" x2=\"200\" y2=\"0\" stroke=\"#888\" stroke-width=\"1\" opacity=\"1\"/></g><g class=\"mark-text role-axis-title\" pointer-events=\"none\"><text text-anchor=\"middle\" transform=\"translate(100,30)\" font-family=\"sans-serif\" font-size=\"11px\" font-weight=\"bold\" fill=\"#000\" opacity=\"1\">Year</text></g></g><path class=\"foreground\" aria-hidden=\"true\" d=\"\" pointer-events=\"none\" display=\"none\"/></g></g><g class=\"mark-group role-axis\" role=\"graphics-symbol\" aria-roledescription=\"axis\" aria-label=\"Y-axis titled 'value' for a linear scale with values from −50,000,000,000,000 to 650,000,000,000,000\"><g transform=\"translate(0.5,0.5)\"><path class=\"background\" aria-hidden=\"true\" d=\"M0,0h0v0h0Z\" pointer-events=\"none\"/><g><g class=\"mark-rule role-axis-tick\" pointer-events=\"none\"><line transform=\"translate(0,186)\" x2=\"-5\" y2=\"0\" stroke=\"#888\" stroke-width=\"1\" opacity=\"1\"/><line transform=\"translate(0,157)\" x2=\"-5\" y2=\"0\" stroke=\"#888\" stroke-width=\"1\" opacity=\"1\"/><line transform=\"translate(0,129)\" x2=\"-5\" y2=\"0\" stroke=\"#888\" stroke-width=\"1\" opacity=\"1\"/><line transform=\"translate(0,100)\" x2=\"-5\" y2=\"0\" stroke=\"#888\" stroke-width=\"1\" opacity=\"1\"/><line transform=\"translate(0,71)\" x2=\"-5\" y2=\"0\" stroke=\"#888\" stroke-width=\"1\" opacity=\"1\"/><line transform=\"translate(0,43)\" x2=\"-5\" y2=\"0\" stroke=\"#888\" stroke-width=\"1\" opacity=\"1\"/><line transform=\"translate(0,14)\" x2=\"-5\" y2=\"0\" stroke=\"#888\" stroke-width=\"1\" opacity=\"1\"/></g><g class=\"mark-text role-axis-label\" pointer-events=\"none\"><text text-anchor=\"end\" transform=\"translate(-7,188.71428571428572)\" font-family=\"sans-serif\" font-size=\"10px\" fill=\"#000\" opacity=\"1\">0</text><text text-anchor=\"end\" transform=\"translate(-7,160.14285714285714)\" font-family=\"sans-serif\" font-size=\"10px\" fill=\"#000\" opacity=\"1\">100,000,000,000,000</text><text text-anchor=\"end\" transform=\"translate(-7,131.57142857142856)\" font-family=\"sans-serif\" font-size=\"10px\" fill=\"#000\" opacity=\"1\">200,000,000,000,000</text><text text-anchor=\"end\" transform=\"translate(-7,103)\" font-family=\"sans-serif\" font-size=\"10px\" fill=\"#000\" opacity=\"1\">300,000,000,000,000</text><text text-anchor=\"end\" transform=\"translate(-7,74.42857142857142)\" font-family=\"sans-serif\" font-size=\"10px\" fill=\"#000\" opacity=\"1\">400,000,000,000,000</text><text text-anchor=\"end\" transform=\"translate(-7,45.85714285714286)\" font-family=\"sans-serif\" font-size=\"10px\" fill=\"#000\" opacity=\"1\">500,000,000,000,000</text><text text-anchor=\"end\" transform=\"translate(-7,17.285714285714278)\" font-family=\"sans-serif\" font-size=\"10px\" fill=\"#000\" opacity=\"1\">600,000,000,000,000</text></g><g class=\"mark-rule role-axis-domain\" pointer-events=\"none\"><line transform=\"translate(0,200)\" x2=\"0\" y2=\"-200\" stroke=\"#888\" stroke-width=\"1\" opacity=\"1\"/></g><g class=\"mark-text role-axis-title\" pointer-events=\"none\"><text text-anchor=\"middle\" transform=\"translate(-98,100) rotate(-90) translate(0,-2)\" font-family=\"sans-serif\" font-size=\"11px\" font-weight=\"bold\" fill=\"#000\" opacity=\"1\">value</text></g></g><path class=\"foreground\" aria-hidden=\"true\" d=\"\" pointer-events=\"none\" display=\"none\"/></g></g><g class=\"mark-group role-scope pathgroup\" role=\"graphics-object\" aria-roledescription=\"group mark container\"><g transform=\"translate(0,0)\"><path class=\"background\" aria-hidden=\"true\" d=\"M0,0h200v200h-200Z\"/><g><g class=\"mark-line role-mark marks\" role=\"graphics-object\" aria-roledescription=\"line mark container\"><path aria-label=\"Year: 1950; value: 0; variable: FUND\" role=\"graphics-symbol\" aria-roledescription=\"line mark\" d=\"M95,185.71550556826764L96.25,185.71568541763745L97.5,185.71588552707357L98.75,185.71608216079622L100,185.7162909901338L101.25,185.7165138796402L102.49999999999999,185.71675228974297L103.75000000000001,185.7170003937217L105,185.7172593034732L106.25,185.71752459851865L107.5,185.71781814995018L108.74999999999999,185.71812499256376L110.00000000000001,185.7184455411891L111.25,185.71878484767242L112.5,185.71914295006107L113.75,185.71952169165408L114.99999999999999,185.71992620763967L116.25000000000001,185.72035494237917L117.5,185.72080321300422L118.75,185.72126787593538L120,185.7217333873063L121.24999999999999,185.72224823962432L122.50000000000001,185.72279179067547L123.75,185.72336029926902L125,185.7239599043267L126.25,185.72459196070253L127.49999999999999,185.7252552496034L128.75,185.7259432769746L130,185.7266590670687L131.25,185.7274256193186L132.5,185.72837271349968L133.75,185.72945305206719L135,185.73060477809554L136.25,185.731828168089L137.5,185.7331296076123L138.75,185.73452610724453L140,185.7360340245567L141.25,185.7376585405174L142.5,185.73942174261583L143.75,185.74129273112868L145,185.74233573344924L146.25,185.74354712733725L147.5,185.74481975576856L148.75,185.746156503423L150,185.74756766023572L151.25,185.74940181281758L152.5,185.75122186047804L153.75,185.75329851846112L155,185.7458511660959L156.25,185.75640614069835L157.5,185.75892226406745L158.75,185.76054473681145L160,185.76227814107398L161.25,185.76405226112428L162.5,185.76583227939872L163.75,185.7675955129164L165,185.76934980399545L166.25,185.77112942126993L167.5,185.77293145763662L168.75,185.77477812688755L170,185.77669189817837L171.25,185.77863943702124L172.5,185.78061255206774L173.75,185.78273519927762L175,185.7847347094285L176.25,185.7867573406985L177.5,185.7887991986961L178.75,185.79091370654362L180,185.79294580317145L181.25,185.7949686206698L182.5,185.79696868522427L183.75,185.79895367490064L185,185.8009274748123L186.25,185.8028847840733L187.5,185.8048218693071L188.75,185.80673215497364L190,185.80860756976597L191.25,185.81044334528337L192.5,185.81223295084698L193.75,185.81395599796392L195,185.81558324990667L196.25,185.81715355967012L197.5,185.8186615357971L198.75,185.82010446357765L200,185.82147871539706\" stroke=\"#4c78a8\" stroke-width=\"2\"/></g></g><path class=\"foreground\" aria-hidden=\"true\" d=\"\" display=\"none\"/></g><g transform=\"translate(0,0)\"><path class=\"background\" aria-hidden=\"true\" d=\"M0,0h200v200h-200Z\"/><g><g class=\"mark-line role-mark marks\" role=\"graphics-object\" aria-roledescription=\"line mark container\"><path aria-label=\"Year: 1950; value: 0; variable: FUNDFAIR\" role=\"graphics-symbol\" aria-roledescription=\"line mark\" d=\"M93.75,185.40398742577747L95,185.04762734162964L96.25,184.6407878513743L97.5,184.17914980858913L98.75,183.6583999009678L100,183.0745826809516L101.25,182.42406211735556L102.49999999999999,181.70346125109023L103.75000000000001,180.90971239164443L105,180.04044432129155L106.25,179.09355300186272L107.5,178.06748190684277L108.74999999999999,176.96066235053178L110.00000000000001,175.77231887996382L111.25,174.50224126987922L112.5,173.14870708293864L113.75,171.71262801515167L114.99999999999999,170.19183293598635L116.25000000000001,168.5885042577323L117.5,166.90288463717584L118.75,165.1354784335415L120,163.28714745421507L121.24999999999999,161.3590322146465L122.50000000000001,159.3396865727611L123.75,157.24233220666594L125,155.0716263580842L126.25,152.8255879507833L127.49999999999999,150.5166238556794L128.75,148.14777892476587L130,145.72207494351017L131.25,143.24242111997614L132.5,140.7117912401503L133.75,138.13338502772373L135,135.5106474842375L136.25,132.84746944070278L137.5,130.14801541263893L138.75,127.41405521893014L140,124.6488823221422L141.25,121.85422709543239L142.5,119.03041140494086L143.75,116.17736603414848L145,113.29469929898006L146.25,110.38207094976724L147.5,107.43893936603246L148.75,104.46441510604458L150,101.45782772519266L151.25,98.42105101230996L152.5,95.35996844146905L153.75,92.28179163986157L155,89.19399125584854L156.25,86.10425514734013L157.5,83.02024540487211L158.75,79.95000756753059L160,76.90187826727106L161.25,73.88481184894108L162.5,70.9081615685299L163.75,67.97988355150046L165,65.10118369680013L166.25,62.271311046258845L167.5,59.48922541107278L168.75,56.753481272943596L170,54.062433028798694L171.25,51.414049298502576L172.5,48.80593044824823L173.75,46.235494728207335L175,43.69992992067155L176.25,41.19725926869005L177.5,38.72850368714582L178.75,36.295631523596114L180,33.9004898273785L181.25,31.54494491425872L182.5,29.230837711800707L183.75,26.959667479813L185,24.73307324668732L186.25,22.552389877730427L187.5,20.418806340864993L188.75,18.33351306545501L190,16.296975957121205L191.25,14.30958131057325L192.5,12.372072234462994L193.75,10.485017357433746L195,8.648820967394034L196.25,6.863815038132537L197.5,5.130080078924926L198.75,3.447760266057931L200,1.8166127886929617\" stroke=\"#f58518\" stroke-width=\"2\"/></g></g><path class=\"foreground\" aria-hidden=\"true\" d=\"\" display=\"none\"/></g></g><g class=\"mark-group role-legend\" role=\"graphics-symbol\" aria-roledescription=\"legend\" aria-label=\"Symbol legend titled 'variable' for stroke color with 2 values: FUND, FUNDFAIR\"><g transform=\"translate(220,0)\"><path class=\"background\" aria-hidden=\"true\" d=\"M0,0h63v40h-63Z\" pointer-events=\"none\"/><g><g class=\"mark-group role-legend-entry\"><g transform=\"translate(0,16)\"><path class=\"background\" aria-hidden=\"true\" d=\"M0,0h0v0h0Z\" pointer-events=\"none\"/><g><g class=\"mark-group role-scope\" role=\"graphics-object\" aria-roledescription=\"group mark container\"><g transform=\"translate(0,0)\"><path class=\"background\" aria-hidden=\"true\" d=\"M0,0h63v11h-63Z\" pointer-events=\"none\" opacity=\"1\"/><g><g class=\"mark-symbol role-legend-symbol\" pointer-events=\"none\"><path transform=\"translate(6,6)\" d=\"M-5,0L5,0\" stroke=\"#4c78a8\" stroke-width=\"1.5\" opacity=\"1\"/></g><g class=\"mark-text role-legend-label\" pointer-events=\"none\"><text text-anchor=\"start\" transform=\"translate(16,9)\" font-family=\"sans-serif\" font-size=\"10px\" fill=\"#000\" opacity=\"1\">FUND</text></g></g><path class=\"foreground\" aria-hidden=\"true\" d=\"\" pointer-events=\"none\" display=\"none\"/></g><g transform=\"translate(0,13)\"><path class=\"background\" aria-hidden=\"true\" d=\"M0,0h63v11h-63Z\" pointer-events=\"none\" opacity=\"1\"/><g><g class=\"mark-symbol role-legend-symbol\" pointer-events=\"none\"><path transform=\"translate(6,6)\" d=\"M-5,0L5,0\" stroke=\"#f58518\" stroke-width=\"1.5\" opacity=\"1\"/></g><g class=\"mark-text role-legend-label\" pointer-events=\"none\"><text text-anchor=\"start\" transform=\"translate(16,9)\" font-family=\"sans-serif\" font-size=\"10px\" fill=\"#000\" opacity=\"1\">FUNDFAIR</text></g></g><path class=\"foreground\" aria-hidden=\"true\" d=\"\" pointer-events=\"none\" display=\"none\"/></g></g></g><path class=\"foreground\" aria-hidden=\"true\" d=\"\" pointer-events=\"none\" display=\"none\"/></g></g><g class=\"mark-text role-legend-title\" pointer-events=\"none\"><text text-anchor=\"start\" transform=\"translate(0,9)\" font-family=\"sans-serif\" font-size=\"11px\" font-weight=\"bold\" fill=\"#000\" opacity=\"1\">variable</text></g></g><path class=\"foreground\" aria-hidden=\"true\" d=\"\" pointer-events=\"none\" display=\"none\"/></g></g></g><path class=\"foreground\" aria-hidden=\"true\" d=\"\" display=\"none\"/></g></g></g></svg>\n"
      ],
      "text/plain": [
       "@vlplot(\n",
       "    mark=\"line\",\n",
       "    encoding={\n",
       "        x={\n",
       "            field=\"Year\"\n",
       "        },\n",
       "        y={\n",
       "            field=\"value\"\n",
       "        },\n",
       "        color={\n",
       "            field=\"variable\"\n",
       "        }\n",
       "    },\n",
       "    data={\n",
       "        values=...\n",
       "    }\n",
       ")"
      ]
     },
     "execution_count": 22,
     "metadata": {},
     "output_type": "execute_result"
    }
   ],
   "source": [
    "df = DataFrame(\n",
    "    :Year => Mimi.time_labels(m),\n",
    "    :FUND => fundvals, \n",
    "    :FUNDFAIR => fundfairvals)\n",
    "\n",
    "stack(df, [:FUND, :FUNDFAIR]) |> \n",
    "\n",
    "@vlplot(\n",
    "    :line, \n",
    "    x = :Year,\n",
    "    y = :value,\n",
    "    color = :variable\n",
    ")"
   ]
  },
  {
   "cell_type": "markdown",
   "metadata": {},
   "source": [
    "#### Quality Checking\n",
    "\n",
    "We want to make sure that values are being passed between FUND and FAIR in the right units etc. so let's take a closer look at emissions."
   ]
  },
  {
   "cell_type": "markdown",
   "metadata": {},
   "source": [
    "##### Annual Carbon Dioxide Emissions (GtC yr⁻¹)"
   ]
  },
  {
   "cell_type": "code",
   "execution_count": 23,
   "metadata": {},
   "outputs": [
    {
     "data": {
      "application/vnd.vegalite.v4+json": {
       "data": {
        "values": [
         {
          "Year": 1950,
          "value": 2.7394552780000003,
          "variable": "FAIR"
         },
         {
          "Year": 1951,
          "value": 3.07927936,
          "variable": "FAIR"
         },
         {
          "Year": 1952,
          "value": 3.1414810930000003,
          "variable": "FAIR"
         },
         {
          "Year": 1953,
          "value": 3.1926152959999996,
          "variable": "FAIR"
         },
         {
          "Year": 1954,
          "value": 3.296011945,
          "variable": "FAIR"
         },
         {
          "Year": 1955,
          "value": 3.524471942,
          "variable": "FAIR"
         },
         {
          "Year": 1956,
          "value": 3.7350599530000004,
          "variable": "FAIR"
         },
         {
          "Year": 1957,
          "value": 3.85992876,
          "variable": "FAIR"
         },
         {
          "Year": 1958,
          "value": 3.9932732,
          "variable": "FAIR"
         },
         {
          "Year": 1959,
          "value": 4.074872144,
          "variable": "FAIR"
         },
         {
          "Year": 1960,
          "value": 4.187429122,
          "variable": "FAIR"
         },
         {
          "Year": 1961,
          "value": 4.280666299,
          "variable": "FAIR"
         },
         {
          "Year": 1962,
          "value": 4.386459406,
          "variable": "FAIR"
         },
         {
          "Year": 1963,
          "value": 4.5606320799999995,
          "variable": "FAIR"
         },
         {
          "Year": 1964,
          "value": 4.708985532,
          "variable": "FAIR"
         },
         {
          "Year": 1965,
          "value": 4.888494918,
          "variable": "FAIR"
         },
         {
          "Year": 1966,
          "value": 5.050425663,
          "variable": "FAIR"
         },
         {
          "Year": 1967,
          "value": 5.218669289,
          "variable": "FAIR"
         },
         {
          "Year": 1968,
          "value": 5.378329504,
          "variable": "FAIR"
         },
         {
          "Year": 1969,
          "value": 5.60188232,
          "variable": "FAIR"
         },
         {
          "Year": 1970,
          "value": 5.851897314,
          "variable": "FAIR"
         },
         {
          "Year": 1971,
          "value": 5.912216764,
          "variable": "FAIR"
         },
         {
          "Year": 1972,
          "value": 6.029777866,
          "variable": "FAIR"
         },
         {
          "Year": 1973,
          "value": 6.290226049999999,
          "variable": "FAIR"
         },
         {
          "Year": 1974,
          "value": 6.234920317,
          "variable": "FAIR"
         },
         {
          "Year": 1975,
          "value": 6.228053642999999,
          "variable": "FAIR"
         },
         {
          "Year": 1976,
          "value": 6.510921264,
          "variable": "FAIR"
         },
         {
          "Year": 1977,
          "value": 6.712459378,
          "variable": "FAIR"
         },
         {
          "Year": 1978,
          "value": 6.876937908,
          "variable": "FAIR"
         },
         {
          "Year": 1979,
          "value": 6.978821161,
          "variable": "FAIR"
         },
         {
          "Year": 1980,
          "value": 6.890908402,
          "variable": "FAIR"
         },
         {
          "Year": 1981,
          "value": 6.788036503,
          "variable": "FAIR"
         },
         {
          "Year": 1982,
          "value": 6.731316327,
          "variable": "FAIR"
         },
         {
          "Year": 1983,
          "value": 6.911898292,
          "variable": "FAIR"
         },
         {
          "Year": 1984,
          "value": 7.075942468999999,
          "variable": "FAIR"
         },
         {
          "Year": 1985,
          "value": 7.174291714000001,
          "variable": "FAIR"
         },
         {
          "Year": 1986,
          "value": 7.310018629,
          "variable": "FAIR"
         },
         {
          "Year": 1987,
          "value": 7.453228126,
          "variable": "FAIR"
         },
         {
          "Year": 1988,
          "value": 7.643826002,
          "variable": "FAIR"
         },
         {
          "Year": 1989,
          "value": 7.738562067999999,
          "variable": "FAIR"
         },
         {
          "Year": 1990,
          "value": 7.6272870390000005,
          "variable": "FAIR"
         },
         {
          "Year": 1991,
          "value": 7.822251581000001,
          "variable": "FAIR"
         },
         {
          "Year": 1992,
          "value": 7.8242291790000005,
          "variable": "FAIR"
         },
         {
          "Year": 1993,
          "value": 7.7354351679999995,
          "variable": "FAIR"
         },
         {
          "Year": 1994,
          "value": 7.739095145,
          "variable": "FAIR"
         },
         {
          "Year": 1995,
          "value": 7.858705189,
          "variable": "FAIR"
         },
         {
          "Year": 1996,
          "value": 7.976739974,
          "variable": "FAIR"
         },
         {
          "Year": 1997,
          "value": 8.752584477,
          "variable": "FAIR"
         },
         {
          "Year": 1998,
          "value": 8.126780949,
          "variable": "FAIR"
         },
         {
          "Year": 1999,
          "value": 7.959936417000001,
          "variable": "FAIR"
         },
         {
          "Year": 2000,
          "value": 8.089603676,
          "variable": "FAIR"
         },
         {
          "Year": 2001,
          "value": 7.914093694,
          "variable": "FAIR"
         },
         {
          "Year": 2002,
          "value": 8.163653262,
          "variable": "FAIR"
         },
         {
          "Year": 2003,
          "value": 8.320688554,
          "variable": "FAIR"
         },
         {
          "Year": 2004,
          "value": 8.845497794,
          "variable": "FAIR"
         },
         {
          "Year": 2005,
          "value": 9.113626325,
          "variable": "FAIR"
         },
         {
          "Year": 2006,
          "value": 9.445054262000001,
          "variable": "FAIR"
         },
         {
          "Year": 2007,
          "value": 9.641518036999999,
          "variable": "FAIR"
         },
         {
          "Year": 2008,
          "value": 9.395784672000001,
          "variable": "FAIR"
         },
         {
          "Year": 2009,
          "value": 9.334197586,
          "variable": "FAIR"
         },
         {
          "Year": 2010,
          "value": 9.854682560999999,
          "variable": "FAIR"
         },
         {
          "Year": 2011,
          "value": 10.163462525,
          "variable": "FAIR"
         },
         {
          "Year": 2012,
          "value": 10.351066874,
          "variable": "FAIR"
         },
         {
          "Year": 2013,
          "value": 10.571648461999999,
          "variable": "FAIR"
         },
         {
          "Year": 2014,
          "value": 10.808440378,
          "variable": "FAIR"
         },
         {
          "Year": 2015,
          "value": 10.678016263,
          "variable": "FAIR"
         },
         {
          "Year": 2016,
          "value": 10.926722931999999,
          "variable": "FAIR"
         },
         {
          "Year": 2017,
          "value": 11.175429600000001,
          "variable": "FAIR"
         },
         {
          "Year": 2018,
          "value": 11.424136271,
          "variable": "FAIR"
         },
         {
          "Year": 2019,
          "value": 11.672842942,
          "variable": "FAIR"
         },
         {
          "Year": 2020,
          "value": 11.921549612,
          "variable": "FAIR"
         },
         {
          "Year": 2021,
          "value": 12.237483279,
          "variable": "FAIR"
         },
         {
          "Year": 2022,
          "value": 12.553416956000001,
          "variable": "FAIR"
         },
         {
          "Year": 2023,
          "value": 12.869350622,
          "variable": "FAIR"
         },
         {
          "Year": 2024,
          "value": 13.185284299,
          "variable": "FAIR"
         },
         {
          "Year": 2025,
          "value": 13.501217975,
          "variable": "FAIR"
         },
         {
          "Year": 2026,
          "value": 13.817151642,
          "variable": "FAIR"
         },
         {
          "Year": 2027,
          "value": 14.133085319000001,
          "variable": "FAIR"
         },
         {
          "Year": 2028,
          "value": 14.449018985,
          "variable": "FAIR"
         },
         {
          "Year": 2029,
          "value": 14.764952661999999,
          "variable": "FAIR"
         },
         {
          "Year": 2030,
          "value": 15.080886338000001,
          "variable": "FAIR"
         },
         {
          "Year": 2031,
          "value": 15.448498559,
          "variable": "FAIR"
         },
         {
          "Year": 2032,
          "value": 15.81611079,
          "variable": "FAIR"
         },
         {
          "Year": 2033,
          "value": 16.18372301,
          "variable": "FAIR"
         },
         {
          "Year": 2034,
          "value": 16.551335241,
          "variable": "FAIR"
         },
         {
          "Year": 2035,
          "value": 16.918947472,
          "variable": "FAIR"
         },
         {
          "Year": 2036,
          "value": 17.286559691999997,
          "variable": "FAIR"
         },
         {
          "Year": 2037,
          "value": 17.654171923,
          "variable": "FAIR"
         },
         {
          "Year": 2038,
          "value": 18.021784143999998,
          "variable": "FAIR"
         },
         {
          "Year": 2039,
          "value": 18.389396374,
          "variable": "FAIR"
         },
         {
          "Year": 2040,
          "value": 18.757008605,
          "variable": "FAIR"
         },
         {
          "Year": 2041,
          "value": 19.153077381000003,
          "variable": "FAIR"
         },
         {
          "Year": 2042,
          "value": 19.549146146000002,
          "variable": "FAIR"
         },
         {
          "Year": 2043,
          "value": 19.945214921999998,
          "variable": "FAIR"
         },
         {
          "Year": 2044,
          "value": 20.341283697,
          "variable": "FAIR"
         },
         {
          "Year": 2045,
          "value": 20.737352473,
          "variable": "FAIR"
         },
         {
          "Year": 2046,
          "value": 21.133421248,
          "variable": "FAIR"
         },
         {
          "Year": 2047,
          "value": 21.529490023999998,
          "variable": "FAIR"
         },
         {
          "Year": 2048,
          "value": 21.925558799,
          "variable": "FAIR"
         },
         {
          "Year": 2049,
          "value": 22.321627575,
          "variable": "FAIR"
         },
         {
          "Year": 2050,
          "value": 22.717696349999997,
          "variable": "FAIR"
         },
         {
          "Year": 2051,
          "value": 23.182434154,
          "variable": "FAIR"
         },
         {
          "Year": 2052,
          "value": 23.647171957999998,
          "variable": "FAIR"
         },
         {
          "Year": 2053,
          "value": 24.111909772,
          "variable": "FAIR"
         },
         {
          "Year": 2054,
          "value": 24.576647575,
          "variable": "FAIR"
         },
         {
          "Year": 2055,
          "value": 25.041385379,
          "variable": "FAIR"
         },
         {
          "Year": 2056,
          "value": 25.506123183,
          "variable": "FAIR"
         },
         {
          "Year": 2057,
          "value": 25.970860997000003,
          "variable": "FAIR"
         },
         {
          "Year": 2058,
          "value": 26.435598801,
          "variable": "FAIR"
         },
         {
          "Year": 2059,
          "value": 26.900336605,
          "variable": "FAIR"
         },
         {
          "Year": 2060,
          "value": 27.365074408,
          "variable": "FAIR"
         },
         {
          "Year": 2061,
          "value": 27.814164681,
          "variable": "FAIR"
         },
         {
          "Year": 2062,
          "value": 28.263254943,
          "variable": "FAIR"
         },
         {
          "Year": 2063,
          "value": 28.712345216,
          "variable": "FAIR"
         },
         {
          "Year": 2064,
          "value": 29.161435478,
          "variable": "FAIR"
         },
         {
          "Year": 2065,
          "value": 29.610525751,
          "variable": "FAIR"
         },
         {
          "Year": 2066,
          "value": 30.059616013,
          "variable": "FAIR"
         },
         {
          "Year": 2067,
          "value": 30.508706286,
          "variable": "FAIR"
         },
         {
          "Year": 2068,
          "value": 30.957796548,
          "variable": "FAIR"
         },
         {
          "Year": 2069,
          "value": 31.406886811,
          "variable": "FAIR"
         },
         {
          "Year": 2070,
          "value": 31.855977083,
          "variable": "FAIR"
         },
         {
          "Year": 2071,
          "value": 32.206207598999995,
          "variable": "FAIR"
         },
         {
          "Year": 2072,
          "value": 32.556438125,
          "variable": "FAIR"
         },
         {
          "Year": 2073,
          "value": 32.906668640999996,
          "variable": "FAIR"
         },
         {
          "Year": 2074,
          "value": 33.256899157,
          "variable": "FAIR"
         },
         {
          "Year": 2075,
          "value": 33.607129683000004,
          "variable": "FAIR"
         },
         {
          "Year": 2076,
          "value": 33.957360199,
          "variable": "FAIR"
         },
         {
          "Year": 2077,
          "value": 34.307590714999996,
          "variable": "FAIR"
         },
         {
          "Year": 2078,
          "value": 34.657821241,
          "variable": "FAIR"
         },
         {
          "Year": 2079,
          "value": 35.008051757,
          "variable": "FAIR"
         },
         {
          "Year": 2080,
          "value": 35.358282282999994,
          "variable": "FAIR"
         },
         {
          "Year": 2081,
          "value": 35.383624204,
          "variable": "FAIR"
         },
         {
          "Year": 2082,
          "value": 35.408966125,
          "variable": "FAIR"
         },
         {
          "Year": 2083,
          "value": 35.434308045,
          "variable": "FAIR"
         },
         {
          "Year": 2084,
          "value": 35.459649966,
          "variable": "FAIR"
         },
         {
          "Year": 2085,
          "value": 35.484991887,
          "variable": "FAIR"
         },
         {
          "Year": 2086,
          "value": 35.510333808,
          "variable": "FAIR"
         },
         {
          "Year": 2087,
          "value": 35.535675729,
          "variable": "FAIR"
         },
         {
          "Year": 2088,
          "value": 35.56101765,
          "variable": "FAIR"
         },
         {
          "Year": 2089,
          "value": 35.586359571,
          "variable": "FAIR"
         },
         {
          "Year": 2090,
          "value": 35.611701492,
          "variable": "FAIR"
         },
         {
          "Year": 2091,
          "value": 35.494730707,
          "variable": "FAIR"
         },
         {
          "Year": 2092,
          "value": 35.377759913,
          "variable": "FAIR"
         },
         {
          "Year": 2093,
          "value": 35.260789118000005,
          "variable": "FAIR"
         },
         {
          "Year": 2094,
          "value": 35.143818324,
          "variable": "FAIR"
         },
         {
          "Year": 2095,
          "value": 35.026847528999994,
          "variable": "FAIR"
         },
         {
          "Year": 2096,
          "value": 34.909876735000005,
          "variable": "FAIR"
         },
         {
          "Year": 2097,
          "value": 34.79290594,
          "variable": "FAIR"
         },
         {
          "Year": 2098,
          "value": 34.675935145000004,
          "variable": "FAIR"
         },
         {
          "Year": 2099,
          "value": 34.558964351,
          "variable": "FAIR"
         },
         {
          "Year": 2100,
          "value": 34.441993556,
          "variable": "FAIR"
         },
         {
          "Year": 1950,
          "value": 2.7394552780000003,
          "variable": "FUNDFAIR"
         },
         {
          "Year": 1951,
          "value": 3.07927936,
          "variable": "FUNDFAIR"
         },
         {
          "Year": 1952,
          "value": 3.1414810930000003,
          "variable": "FUNDFAIR"
         },
         {
          "Year": 1953,
          "value": 3.1926152959999996,
          "variable": "FUNDFAIR"
         },
         {
          "Year": 1954,
          "value": 3.296011945,
          "variable": "FUNDFAIR"
         },
         {
          "Year": 1955,
          "value": 3.524471942,
          "variable": "FUNDFAIR"
         },
         {
          "Year": 1956,
          "value": 3.7350599530000004,
          "variable": "FUNDFAIR"
         },
         {
          "Year": 1957,
          "value": 3.85992876,
          "variable": "FUNDFAIR"
         },
         {
          "Year": 1958,
          "value": 3.9932732,
          "variable": "FUNDFAIR"
         },
         {
          "Year": 1959,
          "value": 4.074872144,
          "variable": "FUNDFAIR"
         },
         {
          "Year": 1960,
          "value": 4.187429122,
          "variable": "FUNDFAIR"
         },
         {
          "Year": 1961,
          "value": 4.280666299,
          "variable": "FUNDFAIR"
         },
         {
          "Year": 1962,
          "value": 4.386459406,
          "variable": "FUNDFAIR"
         },
         {
          "Year": 1963,
          "value": 4.5606320799999995,
          "variable": "FUNDFAIR"
         },
         {
          "Year": 1964,
          "value": 4.708985532,
          "variable": "FUNDFAIR"
         },
         {
          "Year": 1965,
          "value": 4.888494918,
          "variable": "FUNDFAIR"
         },
         {
          "Year": 1966,
          "value": 5.050425663,
          "variable": "FUNDFAIR"
         },
         {
          "Year": 1967,
          "value": 5.218669289,
          "variable": "FUNDFAIR"
         },
         {
          "Year": 1968,
          "value": 5.378329504,
          "variable": "FUNDFAIR"
         },
         {
          "Year": 1969,
          "value": 5.60188232,
          "variable": "FUNDFAIR"
         },
         {
          "Year": 1970,
          "value": 5.851897314,
          "variable": "FUNDFAIR"
         },
         {
          "Year": 1971,
          "value": 5.912216764,
          "variable": "FUNDFAIR"
         },
         {
          "Year": 1972,
          "value": 6.029777866,
          "variable": "FUNDFAIR"
         },
         {
          "Year": 1973,
          "value": 6.290226049999999,
          "variable": "FUNDFAIR"
         },
         {
          "Year": 1974,
          "value": 6.234920317,
          "variable": "FUNDFAIR"
         },
         {
          "Year": 1975,
          "value": 6.228053642999999,
          "variable": "FUNDFAIR"
         },
         {
          "Year": 1976,
          "value": 6.510921264,
          "variable": "FUNDFAIR"
         },
         {
          "Year": 1977,
          "value": 6.712459378,
          "variable": "FUNDFAIR"
         },
         {
          "Year": 1978,
          "value": 6.876937908,
          "variable": "FUNDFAIR"
         },
         {
          "Year": 1979,
          "value": 6.978821161,
          "variable": "FUNDFAIR"
         },
         {
          "Year": 1980,
          "value": 6.890908402,
          "variable": "FUNDFAIR"
         },
         {
          "Year": 1981,
          "value": 6.788036503,
          "variable": "FUNDFAIR"
         },
         {
          "Year": 1982,
          "value": 6.731316327,
          "variable": "FUNDFAIR"
         },
         {
          "Year": 1983,
          "value": 6.911898292,
          "variable": "FUNDFAIR"
         },
         {
          "Year": 1984,
          "value": 7.075942468999999,
          "variable": "FUNDFAIR"
         },
         {
          "Year": 1985,
          "value": 7.174291714000001,
          "variable": "FUNDFAIR"
         },
         {
          "Year": 1986,
          "value": 7.310018629,
          "variable": "FUNDFAIR"
         },
         {
          "Year": 1987,
          "value": 7.453228126,
          "variable": "FUNDFAIR"
         },
         {
          "Year": 1988,
          "value": 7.643826002,
          "variable": "FUNDFAIR"
         },
         {
          "Year": 1989,
          "value": 7.738562067999999,
          "variable": "FUNDFAIR"
         },
         {
          "Year": 1990,
          "value": 7.6272870390000005,
          "variable": "FUNDFAIR"
         },
         {
          "Year": 1991,
          "value": 7.822251581000001,
          "variable": "FUNDFAIR"
         },
         {
          "Year": 1992,
          "value": 7.8242291790000005,
          "variable": "FUNDFAIR"
         },
         {
          "Year": 1993,
          "value": 7.7354351679999995,
          "variable": "FUNDFAIR"
         },
         {
          "Year": 1994,
          "value": 7.739095145,
          "variable": "FUNDFAIR"
         },
         {
          "Year": 1995,
          "value": 7.858705189,
          "variable": "FUNDFAIR"
         },
         {
          "Year": 1996,
          "value": 7.976739974,
          "variable": "FUNDFAIR"
         },
         {
          "Year": 1997,
          "value": 8.752584477,
          "variable": "FUNDFAIR"
         },
         {
          "Year": 1998,
          "value": 8.126780949,
          "variable": "FUNDFAIR"
         },
         {
          "Year": 1999,
          "value": 7.959936417000001,
          "variable": "FUNDFAIR"
         },
         {
          "Year": 2000,
          "value": 8.089603676,
          "variable": "FUNDFAIR"
         },
         {
          "Year": 2001,
          "value": 7.914093694,
          "variable": "FUNDFAIR"
         },
         {
          "Year": 2002,
          "value": 8.163653262,
          "variable": "FUNDFAIR"
         },
         {
          "Year": 2003,
          "value": 8.320688554,
          "variable": "FUNDFAIR"
         },
         {
          "Year": 2004,
          "value": 8.845497794,
          "variable": "FUNDFAIR"
         },
         {
          "Year": 2005,
          "value": 9.113626325,
          "variable": "FUNDFAIR"
         },
         {
          "Year": 2006,
          "value": 9.445054262000001,
          "variable": "FUNDFAIR"
         },
         {
          "Year": 2007,
          "value": 9.641518036999999,
          "variable": "FUNDFAIR"
         },
         {
          "Year": 2008,
          "value": 9.395784672000001,
          "variable": "FUNDFAIR"
         },
         {
          "Year": 2009,
          "value": 9.334197586,
          "variable": "FUNDFAIR"
         },
         {
          "Year": 2010,
          "value": 9.854682560999999,
          "variable": "FUNDFAIR"
         },
         {
          "Year": 2011,
          "value": 10.163462525,
          "variable": "FUNDFAIR"
         },
         {
          "Year": 2012,
          "value": 10.351066874,
          "variable": "FUNDFAIR"
         },
         {
          "Year": 2013,
          "value": 10.571648461999999,
          "variable": "FUNDFAIR"
         },
         {
          "Year": 2014,
          "value": 10.808440378,
          "variable": "FUNDFAIR"
         },
         {
          "Year": 2015,
          "value": 10.678016263,
          "variable": "FUNDFAIR"
         },
         {
          "Year": 2016,
          "value": 88.79002758838868,
          "variable": "FUNDFAIR"
         },
         {
          "Year": 2017,
          "value": 95.88089335647234,
          "variable": "FUNDFAIR"
         },
         {
          "Year": 2018,
          "value": 102.84496856614676,
          "variable": "FUNDFAIR"
         },
         {
          "Year": 2019,
          "value": 109.67151380805477,
          "variable": "FUNDFAIR"
         },
         {
          "Year": 2020,
          "value": 116.35095221290246,
          "variable": "FUNDFAIR"
         },
         {
          "Year": 2021,
          "value": 122.87456380897468,
          "variable": "FUNDFAIR"
         },
         {
          "Year": 2022,
          "value": 129.23445992864663,
          "variable": "FUNDFAIR"
         },
         {
          "Year": 2023,
          "value": 135.42455655537103,
          "variable": "FUNDFAIR"
         },
         {
          "Year": 2024,
          "value": 141.4361006795447,
          "variable": "FUNDFAIR"
         },
         {
          "Year": 2025,
          "value": 147.2647409006094,
          "variable": "FUNDFAIR"
         },
         {
          "Year": 2026,
          "value": 152.90542405892006,
          "variable": "FUNDFAIR"
         },
         {
          "Year": 2027,
          "value": 158.35649427871803,
          "variable": "FUNDFAIR"
         },
         {
          "Year": 2028,
          "value": 163.61087237806848,
          "variable": "FUNDFAIR"
         },
         {
          "Year": 2029,
          "value": 168.6629998265252,
          "variable": "FUNDFAIR"
         },
         {
          "Year": 2030,
          "value": 173.51772754406733,
          "variable": "FUNDFAIR"
         },
         {
          "Year": 2031,
          "value": 178.16522760267037,
          "variable": "FUNDFAIR"
         },
         {
          "Year": 2032,
          "value": 182.61505424963514,
          "variable": "FUNDFAIR"
         },
         {
          "Year": 2033,
          "value": 186.85206618128421,
          "variable": "FUNDFAIR"
         },
         {
          "Year": 2034,
          "value": 190.8755774014298,
          "variable": "FUNDFAIR"
         },
         {
          "Year": 2035,
          "value": 194.68624304252336,
          "variable": "FUNDFAIR"
         },
         {
          "Year": 2036,
          "value": 198.28524788503546,
          "variable": "FUNDFAIR"
         },
         {
          "Year": 2037,
          "value": 201.67456266167125,
          "variable": "FUNDFAIR"
         },
         {
          "Year": 2038,
          "value": 204.90712186047904,
          "variable": "FUNDFAIR"
         },
         {
          "Year": 2039,
          "value": 207.93515985822486,
          "variable": "FUNDFAIR"
         },
         {
          "Year": 2040,
          "value": 210.75230015440425,
          "variable": "FUNDFAIR"
         },
         {
          "Year": 2041,
          "value": 213.3800742623077,
          "variable": "FUNDFAIR"
         },
         {
          "Year": 2042,
          "value": 215.78332859061348,
          "variable": "FUNDFAIR"
         },
         {
          "Year": 2043,
          "value": 217.96775478924488,
          "variable": "FUNDFAIR"
         },
         {
          "Year": 2044,
          "value": 219.9390526678651,
          "variable": "FUNDFAIR"
         },
         {
          "Year": 2045,
          "value": 221.70280552157675,
          "variable": "FUNDFAIR"
         },
         {
          "Year": 2046,
          "value": 223.26462665707703,
          "variable": "FUNDFAIR"
         },
         {
          "Year": 2047,
          "value": 224.63005013474518,
          "variable": "FUNDFAIR"
         },
         {
          "Year": 2048,
          "value": 225.80458006892144,
          "variable": "FUNDFAIR"
         },
         {
          "Year": 2049,
          "value": 226.79365529179302,
          "variable": "FUNDFAIR"
         },
         {
          "Year": 2050,
          "value": 227.6025843545566,
          "variable": "FUNDFAIR"
         },
         {
          "Year": 2051,
          "value": 228.24295731824674,
          "variable": "FUNDFAIR"
         },
         {
          "Year": 2052,
          "value": 228.72216748254507,
          "variable": "FUNDFAIR"
         },
         {
          "Year": 2053,
          "value": 229.05086476366236,
          "variable": "FUNDFAIR"
         },
         {
          "Year": 2054,
          "value": 229.24195482047432,
          "variable": "FUNDFAIR"
         },
         {
          "Year": 2055,
          "value": 229.30756376655228,
          "variable": "FUNDFAIR"
         },
         {
          "Year": 2056,
          "value": 229.25915416206348,
          "variable": "FUNDFAIR"
         },
         {
          "Year": 2057,
          "value": 229.10762819776846,
          "variable": "FUNDFAIR"
         },
         {
          "Year": 2058,
          "value": 228.86357635668656,
          "variable": "FUNDFAIR"
         },
         {
          "Year": 2059,
          "value": 228.5374417941476,
          "variable": "FUNDFAIR"
         },
         {
          "Year": 2060,
          "value": 228.13818208232954,
          "variable": "FUNDFAIR"
         },
         {
          "Year": 2061,
          "value": 227.66863861239136,
          "variable": "FUNDFAIR"
         },
         {
          "Year": 2062,
          "value": 227.12041083463674,
          "variable": "FUNDFAIR"
         },
         {
          "Year": 2063,
          "value": 226.48285289631303,
          "variable": "FUNDFAIR"
         },
         {
          "Year": 2064,
          "value": 225.74622121609247,
          "variable": "FUNDFAIR"
         },
         {
          "Year": 2065,
          "value": 224.9017596440272,
          "variable": "FUNDFAIR"
         },
         {
          "Year": 2066,
          "value": 223.94176252253476,
          "variable": "FUNDFAIR"
         },
         {
          "Year": 2067,
          "value": 222.85915963988185,
          "variable": "FUNDFAIR"
         },
         {
          "Year": 2068,
          "value": 221.64790675839316,
          "variable": "FUNDFAIR"
         },
         {
          "Year": 2069,
          "value": 220.30258552015692,
          "variable": "FUNDFAIR"
         },
         {
          "Year": 2070,
          "value": 218.8186289893344,
          "variable": "FUNDFAIR"
         },
         {
          "Year": 2071,
          "value": 217.195277591841,
          "variable": "FUNDFAIR"
         },
         {
          "Year": 2072,
          "value": 215.44487585190586,
          "variable": "FUNDFAIR"
         },
         {
          "Year": 2073,
          "value": 213.58213369876097,
          "variable": "FUNDFAIR"
         },
         {
          "Year": 2074,
          "value": 211.62089070143722,
          "variable": "FUNDFAIR"
         },
         {
          "Year": 2075,
          "value": 209.57430622741416,
          "variable": "FUNDFAIR"
         },
         {
          "Year": 2076,
          "value": 207.45462533868638,
          "variable": "FUNDFAIR"
         },
         {
          "Year": 2077,
          "value": 205.27339026294393,
          "variable": "FUNDFAIR"
         },
         {
          "Year": 2078,
          "value": 203.04149417537676,
          "variable": "FUNDFAIR"
         },
         {
          "Year": 2079,
          "value": 200.76898551830098,
          "variable": "FUNDFAIR"
         },
         {
          "Year": 2080,
          "value": 198.46544225068942,
          "variable": "FUNDFAIR"
         },
         {
          "Year": 2081,
          "value": 196.1385157819263,
          "variable": "FUNDFAIR"
         },
         {
          "Year": 2082,
          "value": 193.7909185217013,
          "variable": "FUNDFAIR"
         },
         {
          "Year": 2083,
          "value": 191.4239808309778,
          "variable": "FUNDFAIR"
         },
         {
          "Year": 2084,
          "value": 189.0391237503974,
          "variable": "FUNDFAIR"
         },
         {
          "Year": 2085,
          "value": 186.6376995724617,
          "variable": "FUNDFAIR"
         },
         {
          "Year": 2086,
          "value": 184.22101221052694,
          "variable": "FUNDFAIR"
         },
         {
          "Year": 2087,
          "value": 181.7904994007553,
          "variable": "FUNDFAIR"
         },
         {
          "Year": 2088,
          "value": 179.34731203561282,
          "variable": "FUNDFAIR"
         },
         {
          "Year": 2089,
          "value": 176.89279096357166,
          "variable": "FUNDFAIR"
         },
         {
          "Year": 2090,
          "value": 174.42822979118893,
          "variable": "FUNDFAIR"
         },
         {
          "Year": 2091,
          "value": 171.9549791368143,
          "variable": "FUNDFAIR"
         },
         {
          "Year": 2092,
          "value": 169.47516730234585,
          "variable": "FUNDFAIR"
         },
         {
          "Year": 2093,
          "value": 166.99106518737423,
          "variable": "FUNDFAIR"
         },
         {
          "Year": 2094,
          "value": 164.50472234692194,
          "variable": "FUNDFAIR"
         },
         {
          "Year": 2095,
          "value": 162.01812760692803,
          "variable": "FUNDFAIR"
         },
         {
          "Year": 2096,
          "value": 159.53319933208556,
          "variable": "FUNDFAIR"
         },
         {
          "Year": 2097,
          "value": 157.05171627052152,
          "variable": "FUNDFAIR"
         },
         {
          "Year": 2098,
          "value": 154.57541120305143,
          "variable": "FUNDFAIR"
         },
         {
          "Year": 2099,
          "value": 152.10581405475094,
          "variable": "FUNDFAIR"
         },
         {
          "Year": 2100,
          "value": 149.6445124334531,
          "variable": "FUNDFAIR"
         }
        ]
       },
       "encoding": {
        "color": {
         "field": "variable",
         "type": "nominal"
        },
        "x": {
         "field": "Year",
         "type": "quantitative"
        },
        "y": {
         "field": "value",
         "type": "quantitative"
        }
       },
       "mark": "line"
      },
      "image/png": "[encoded data removed]",
      "image/svg+xml": [
       "<?xml version=\"1.0\" encoding=\"utf-8\"?>\n",
       "<!DOCTYPE svg PUBLIC \"-//W3C//DTD SVG 1.1//EN\" \"http://www.w3.org/Graphics/SVG/1.1/DTD/svg11.dtd\">\n",
       "<svg xmlns=\"http://www.w3.org/2000/svg\" xmlns:xlink=\"http://www.w3.org/1999/xlink\" version=\"1.1\" class=\"marks\" width=\"330\" height=\"242\" viewBox=\"0 0 330 242\"><rect width=\"330\" height=\"242\" fill=\"white\"/><g fill=\"none\" stroke-miterlimit=\"10\" transform=\"translate(42,5)\"><g class=\"mark-group role-frame root\" role=\"graphics-object\" aria-roledescription=\"group mark container\"><g transform=\"translate(0,0)\"><path class=\"background\" aria-hidden=\"true\" d=\"M0.5,0.5h200v200h-200Z\" stroke=\"#ddd\"/><g><g class=\"mark-group role-axis\" aria-hidden=\"true\"><g transform=\"translate(0.5,200.5)\"><path class=\"background\" aria-hidden=\"true\" d=\"M0,0h0v0h0Z\" pointer-events=\"none\"/><g><g class=\"mark-rule role-axis-grid\" pointer-events=\"none\"><line transform=\"translate(13,-200)\" x2=\"0\" y2=\"200\" stroke=\"#ddd\" stroke-width=\"1\" opacity=\"1\"/><line transform=\"translate(75,-200)\" x2=\"0\" y2=\"200\" stroke=\"#ddd\" stroke-width=\"1\" opacity=\"1\"/><line transform=\"translate(138,-200)\" x2=\"0\" y2=\"200\" stroke=\"#ddd\" stroke-width=\"1\" opacity=\"1\"/><line transform=\"translate(200,-200)\" x2=\"0\" y2=\"200\" stroke=\"#ddd\" stroke-width=\"1\" opacity=\"1\"/></g></g><path class=\"foreground\" aria-hidden=\"true\" d=\"\" pointer-events=\"none\" display=\"none\"/></g></g><g class=\"mark-group role-axis\" aria-hidden=\"true\"><g transform=\"translate(0.5,0.5)\"><path class=\"background\" aria-hidden=\"true\" d=\"M0,0h0v0h0Z\" pointer-events=\"none\"/><g><g class=\"mark-rule role-axis-grid\" pointer-events=\"none\"><line transform=\"translate(0,200)\" x2=\"200\" y2=\"0\" stroke=\"#ddd\" stroke-width=\"1\" opacity=\"1\"/><line transform=\"translate(0,158)\" x2=\"200\" y2=\"0\" stroke=\"#ddd\" stroke-width=\"1\" opacity=\"1\"/><line transform=\"translate(0,117)\" x2=\"200\" y2=\"0\" stroke=\"#ddd\" stroke-width=\"1\" opacity=\"1\"/><line transform=\"translate(0,75)\" x2=\"200\" y2=\"0\" stroke=\"#ddd\" stroke-width=\"1\" opacity=\"1\"/><line transform=\"translate(0,33)\" x2=\"200\" y2=\"0\" stroke=\"#ddd\" stroke-width=\"1\" opacity=\"1\"/></g></g><path class=\"foreground\" aria-hidden=\"true\" d=\"\" pointer-events=\"none\" display=\"none\"/></g></g><g class=\"mark-group role-axis\" role=\"graphics-symbol\" aria-roledescription=\"axis\" aria-label=\"X-axis titled 'Year' for a linear scale with values from 1,940 to 2,100\"><g transform=\"translate(0.5,200.5)\"><path class=\"background\" aria-hidden=\"true\" d=\"M0,0h0v0h0Z\" pointer-events=\"none\"/><g><g class=\"mark-rule role-axis-tick\" pointer-events=\"none\"><line transform=\"translate(13,0)\" x2=\"0\" y2=\"5\" stroke=\"#888\" stroke-width=\"1\" opacity=\"1\"/><line transform=\"translate(75,0)\" x2=\"0\" y2=\"5\" stroke=\"#888\" stroke-width=\"1\" opacity=\"1\"/><line transform=\"translate(138,0)\" x2=\"0\" y2=\"5\" stroke=\"#888\" stroke-width=\"1\" opacity=\"1\"/><line transform=\"translate(200,0)\" x2=\"0\" y2=\"5\" stroke=\"#888\" stroke-width=\"1\" opacity=\"1\"/></g><g class=\"mark-text role-axis-label\" pointer-events=\"none\"><text text-anchor=\"middle\" transform=\"translate(12.5,15)\" font-family=\"sans-serif\" font-size=\"10px\" fill=\"#000\" opacity=\"1\">1,950</text><text text-anchor=\"middle\" transform=\"translate(75,15)\" font-family=\"sans-serif\" font-size=\"10px\" fill=\"#000\" opacity=\"1\">2,000</text><text text-anchor=\"middle\" transform=\"translate(137.5,15)\" font-family=\"sans-serif\" font-size=\"10px\" fill=\"#000\" opacity=\"1\">2,050</text><text text-anchor=\"end\" transform=\"translate(200,15)\" font-family=\"sans-serif\" font-size=\"10px\" fill=\"#000\" opacity=\"1\">2,100</text></g><g class=\"mark-rule role-axis-domain\" pointer-events=\"none\"><line transform=\"translate(0,0)\" x2=\"200\" y2=\"0\" stroke=\"#888\" stroke-width=\"1\" opacity=\"1\"/></g><g class=\"mark-text role-axis-title\" pointer-events=\"none\"><text text-anchor=\"middle\" transform=\"translate(100,30)\" font-family=\"sans-serif\" font-size=\"11px\" font-weight=\"bold\" fill=\"#000\" opacity=\"1\">Year</text></g></g><path class=\"foreground\" aria-hidden=\"true\" d=\"\" pointer-events=\"none\" display=\"none\"/></g></g><g class=\"mark-group role-axis\" role=\"graphics-symbol\" aria-roledescription=\"axis\" aria-label=\"Y-axis titled 'value' for a linear scale with values from 0 to 240\"><g transform=\"translate(0.5,0.5)\"><path class=\"background\" aria-hidden=\"true\" d=\"M0,0h0v0h0Z\" pointer-events=\"none\"/><g><g class=\"mark-rule role-axis-tick\" pointer-events=\"none\"><line transform=\"translate(0,200)\" x2=\"-5\" y2=\"0\" stroke=\"#888\" stroke-width=\"1\" opacity=\"1\"/><line transform=\"translate(0,158)\" x2=\"-5\" y2=\"0\" stroke=\"#888\" stroke-width=\"1\" opacity=\"1\"/><line transform=\"translate(0,117)\" x2=\"-5\" y2=\"0\" stroke=\"#888\" stroke-width=\"1\" opacity=\"1\"/><line transform=\"translate(0,75)\" x2=\"-5\" y2=\"0\" stroke=\"#888\" stroke-width=\"1\" opacity=\"1\"/><line transform=\"translate(0,33)\" x2=\"-5\" y2=\"0\" stroke=\"#888\" stroke-width=\"1\" opacity=\"1\"/></g><g class=\"mark-text role-axis-label\" pointer-events=\"none\"><text text-anchor=\"end\" transform=\"translate(-7,203)\" font-family=\"sans-serif\" font-size=\"10px\" fill=\"#000\" opacity=\"1\">0</text><text text-anchor=\"end\" transform=\"translate(-7,161.33333333333331)\" font-family=\"sans-serif\" font-size=\"10px\" fill=\"#000\" opacity=\"1\">50</text><text text-anchor=\"end\" transform=\"translate(-7,119.66666666666666)\" font-family=\"sans-serif\" font-size=\"10px\" fill=\"#000\" opacity=\"1\">100</text><text text-anchor=\"end\" transform=\"translate(-7,78)\" font-family=\"sans-serif\" font-size=\"10px\" fill=\"#000\" opacity=\"1\">150</text><text text-anchor=\"end\" transform=\"translate(-7,36.33333333333333)\" font-family=\"sans-serif\" font-size=\"10px\" fill=\"#000\" opacity=\"1\">200</text></g><g class=\"mark-rule role-axis-domain\" pointer-events=\"none\"><line transform=\"translate(0,200)\" x2=\"0\" y2=\"-200\" stroke=\"#888\" stroke-width=\"1\" opacity=\"1\"/></g><g class=\"mark-text role-axis-title\" pointer-events=\"none\"><text text-anchor=\"middle\" transform=\"translate(-26,100) rotate(-90) translate(0,-2)\" font-family=\"sans-serif\" font-size=\"11px\" font-weight=\"bold\" fill=\"#000\" opacity=\"1\">value</text></g></g><path class=\"foreground\" aria-hidden=\"true\" d=\"\" pointer-events=\"none\" display=\"none\"/></g></g><g class=\"mark-group role-scope pathgroup\" role=\"graphics-object\" aria-roledescription=\"group mark container\"><g transform=\"translate(0,0)\"><path class=\"background\" aria-hidden=\"true\" d=\"M0,0h200v200h-200Z\"/><g><g class=\"mark-line role-mark marks\" role=\"graphics-object\" aria-roledescription=\"line mark container\"><path aria-label=\"Year: 1950; value: 2.739455278; variable: FAIR\" role=\"graphics-symbol\" aria-roledescription=\"line mark\" d=\"M12.5,197.71712060166666L13.750000000000002,197.43393386666668L15,197.38209908916667L16.25,197.33948725333332L17.5,197.25332337916666L18.75,197.06294004833333L20,196.88745003916665L21.25,196.7833927L22.5,196.67227233333332L23.75,196.60427321333333L25,196.51047573166667L26.25,196.43277808416667L27.500000000000004,196.34461716166666L28.749999999999996,196.19947326666667L30,196.07584539L31.25,195.92625423500002L32.5,195.7913119475L33.75,195.65110892583334L35,195.51805874666667L36.25,195.33176473333333L37.5,195.123418905L38.75,195.07315269666668L40,194.97518511166666L41.25,194.75814495833333L42.5,194.80423306916668L43.75,194.8099552975L45,194.57423228L46.25,194.40628385166667L47.5,194.26921841L48.75,194.1843156991667L50,194.25757633166668L51.24999999999999,194.34330291416666L52.5,194.3905697275L53.75,194.24008475666668L55.00000000000001,194.10338127583333L56.25,194.02142357166667L57.49999999999999,193.90831780916668L58.75,193.78897656166666L60,193.63014499833332L61.25000000000001,193.55119827666667L62.5,193.64392746750002L63.74999999999999,193.4814570158333L65,193.4798090175L66.25,193.55380402666665L67.5,193.55075404583332L68.75,193.45107900916668L70,193.35271668833335L71.25,192.70617960250001L72.5,193.2276825425L73.75,193.3667196525L75,193.25866360333333L76.25,193.40492192166667L77.5,193.196955615L78.75,193.06609287166668L80,192.62875183833333L81.25,192.40531139583334L82.5,192.12912144833334L83.75,191.96540163583333L85,192.17017944L86.25,192.22150201166664L87.5,191.7877645325L88.75,191.53044789583333L90,191.37411093833333L91.25,191.19029294833334L92.5,190.99296635166667L93.75,191.10165311416668L95,190.89439755666666L96.25,190.68714200000002L97.5,190.47988644083333L98.75,190.27263088166666L100,190.06537532333334L101.25,189.8020972675L102.49999999999999,189.53881920333333L103.75000000000001,189.27554114833333L105,189.01226308416668L106.25,188.74898502083332L107.5,188.485706965L108.74999999999999,188.22242890083334L110.00000000000001,187.95915084583334L111.25,187.69587278166665L112.5,187.43259471833335L113.75,187.12625120083334L114.99999999999999,186.819907675L116.25000000000001,186.51356415833334L117.5,186.2072206325L118.75,185.90087710666668L120,185.59453359L121.24999999999999,185.28819006416666L122.50000000000001,184.98184654666667L123.75,184.67550302166666L125,184.36915949583334L126.25,184.0391021825L127.49999999999999,183.70904487833332L128.75,183.378987565L130,183.04893025249999L131.25,182.71887293916666L132.5,182.38881562666666L133.75,182.05875831333333L135,181.72870100083333L136.25,181.3986436875L137.5,181.068586375L138.75,180.68130487166667L140,180.29402336833334L141.25,179.90674185666666L142.5,179.51946035416665L143.75,179.13217885083333L145,178.7448973475L146.25,178.35761583583334L147.5,177.9703343325L148.75,177.58305282916666L150,177.19577132666666L151.25,176.8215294325L152.5,176.4472875475L153.75,176.07304565333334L155,175.69880376833333L156.25,175.32456187416668L157.5,174.95031998916664L158.75,174.57607809499999L160,174.20183621L161.25,173.82759432416668L162.5,173.45335243083332L163.75,173.1614936675L165,172.86963489583334L166.25,172.5777761325L167.5,172.28591736916667L168.75,171.9940585975L170,171.70219983416666L171.25,171.41034107083334L172.5,171.11848229916666L173.75,170.82662353583333L175,170.53476476416668L176.25,170.51364649666667L177.5,170.49252822916668L178.75,170.4714099625L180,170.450291695L181.25,170.4291734275L182.5,170.40805516L183.75,170.3869368925L185,170.365818625L186.25,170.3447003575L187.5,170.32358209L188.75,170.42105774416666L190,170.51853340583335L191.25,170.61600906833334L192.5,170.71348472999998L193.75,170.81096039250002L195,170.90843605416666L196.25,171.00591171666667L197.5,171.10338737916666L198.75,171.20086304083333L200,171.29833870333334\" stroke=\"#4c78a8\" stroke-width=\"2\"/></g></g><path class=\"foreground\" aria-hidden=\"true\" d=\"\" display=\"none\"/></g><g transform=\"translate(0,0)\"><path class=\"background\" aria-hidden=\"true\" d=\"M0,0h200v200h-200Z\"/><g><g class=\"mark-line role-mark marks\" role=\"graphics-object\" aria-roledescription=\"line mark container\"><path aria-label=\"Year: 1950; value: 2.739455278; variable: FUNDFAIR\" role=\"graphics-symbol\" aria-roledescription=\"line mark\" d=\"M12.5,197.71712060166666L13.750000000000002,197.43393386666668L15,197.38209908916667L16.25,197.33948725333332L17.5,197.25332337916666L18.75,197.06294004833333L20,196.88745003916665L21.25,196.7833927L22.5,196.67227233333332L23.75,196.60427321333333L25,196.51047573166667L26.25,196.43277808416667L27.500000000000004,196.34461716166666L28.749999999999996,196.19947326666667L30,196.07584539L31.25,195.92625423500002L32.5,195.7913119475L33.75,195.65110892583334L35,195.51805874666667L36.25,195.33176473333333L37.5,195.123418905L38.75,195.07315269666668L40,194.97518511166666L41.25,194.75814495833333L42.5,194.80423306916668L43.75,194.8099552975L45,194.57423228L46.25,194.40628385166667L47.5,194.26921841L48.75,194.1843156991667L50,194.25757633166668L51.24999999999999,194.34330291416666L52.5,194.3905697275L53.75,194.24008475666668L55.00000000000001,194.10338127583333L56.25,194.02142357166667L57.49999999999999,193.90831780916668L58.75,193.78897656166666L60,193.63014499833332L61.25000000000001,193.55119827666667L62.5,193.64392746750002L63.74999999999999,193.4814570158333L65,193.4798090175L66.25,193.55380402666665L67.5,193.55075404583332L68.75,193.45107900916668L70,193.35271668833335L71.25,192.70617960250001L72.5,193.2276825425L73.75,193.3667196525L75,193.25866360333333L76.25,193.40492192166667L77.5,193.196955615L78.75,193.06609287166668L80,192.62875183833333L81.25,192.40531139583334L82.5,192.12912144833334L83.75,191.96540163583333L85,192.17017944L86.25,192.22150201166664L87.5,191.7877645325L88.75,191.53044789583333L90,191.37411093833333L91.25,191.19029294833334L92.5,190.99296635166667L93.75,191.10165311416668L95,126.00831034300943L96.25,120.09925553627305L97.5,114.29585952821104L98.75,108.60707182662104L100,103.04087315591461L101.25,97.60453015918775L102.49999999999999,92.30461672612782L103.75000000000001,87.14620287052415L105,82.1365827670461L106.25,77.27938258282549L107.5,72.57881328423328L108.74999999999999,68.03625476773499L110.00000000000001,63.657606351609594L111.25,59.447500144562326L112.5,55.40189371327722L113.75,51.5289769977747L114.99999999999999,47.82078812530406L116.25000000000001,44.28994484892983L117.5,40.937018832141824L118.75,37.76146413123054L120,34.762293429137124L121.24999999999999,31.93786444860729L122.50000000000001,29.24406511626747L123.75,26.720700118145956L125,24.373083204663114L126.25,22.183271448076923L127.49999999999999,20.180559507822093L128.75,18.360204342295926L130,16.717456110112416L131.25,15.247662065352706L132.5,13.946144452435805L133.75,12.808291554379014L135,11.829516609232126L136.25,11.005287256839157L137.5,10.331179704536165L138.75,9.797535568127724L140,9.39819376454578L141.25,9.124279363614708L142.5,8.965037649604724L143.75,8.91036352787311L145,8.95070486494709L146.25,9.076976501859612L147.5,9.280353036094535L148.75,9.552131838210332L150,9.884848264725377L151.25,10.276134489673861L152.5,10.732990971136047L153.75,11.26428925307248L155,11.87814898658961L156.25,12.58186696331065L157.5,13.38186456455437L158.75,14.28403363343178L160,15.293411034672367L161.25,16.414512066535902L162.5,17.651142508887997L163.75,19.003935340132493L165,20.46260345674511L166.25,22.014888584365867L167.5,23.64925774880231L168.75,25.354744810488206L170,27.121145551094685L171.25,28.938841447546725L172.5,30.798754853852707L173.75,32.69251206808252L175,34.61213145775881L176.25,36.551236848394765L177.5,38.50756789858225L178.75,40.48001597418518L180,42.46739687466883L181.25,44.46858368961524L182.5,46.48248982456089L183.75,48.50791716603726L185,50.54390663698931L186.25,52.589340863690296L187.5,54.64314184067589L188.75,56.70418405265474L190,58.77069391471179L191.25,60.84077901052147L192.5,62.91273137756506L193.75,64.9848936608933L195,67.05566722326203L196.25,69.1235697745654L197.5,71.18715733079048L198.75,73.24515495437423L200,75.29623963878909\" stroke=\"#f58518\" stroke-width=\"2\"/></g></g><path class=\"foreground\" aria-hidden=\"true\" d=\"\" display=\"none\"/></g></g><g class=\"mark-group role-legend\" role=\"graphics-symbol\" aria-roledescription=\"legend\" aria-label=\"Symbol legend titled 'variable' for stroke color with 2 values: FAIR, FUNDFAIR\"><g transform=\"translate(220,0)\"><path class=\"background\" aria-hidden=\"true\" d=\"M0,0h63v40h-63Z\" pointer-events=\"none\"/><g><g class=\"mark-group role-legend-entry\"><g transform=\"translate(0,16)\"><path class=\"background\" aria-hidden=\"true\" d=\"M0,0h0v0h0Z\" pointer-events=\"none\"/><g><g class=\"mark-group role-scope\" role=\"graphics-object\" aria-roledescription=\"group mark container\"><g transform=\"translate(0,0)\"><path class=\"background\" aria-hidden=\"true\" d=\"M0,0h63v11h-63Z\" pointer-events=\"none\" opacity=\"1\"/><g><g class=\"mark-symbol role-legend-symbol\" pointer-events=\"none\"><path transform=\"translate(6,6)\" d=\"M-5,0L5,0\" stroke=\"#4c78a8\" stroke-width=\"1.5\" opacity=\"1\"/></g><g class=\"mark-text role-legend-label\" pointer-events=\"none\"><text text-anchor=\"start\" transform=\"translate(16,9)\" font-family=\"sans-serif\" font-size=\"10px\" fill=\"#000\" opacity=\"1\">FAIR</text></g></g><path class=\"foreground\" aria-hidden=\"true\" d=\"\" pointer-events=\"none\" display=\"none\"/></g><g transform=\"translate(0,13)\"><path class=\"background\" aria-hidden=\"true\" d=\"M0,0h63v11h-63Z\" pointer-events=\"none\" opacity=\"1\"/><g><g class=\"mark-symbol role-legend-symbol\" pointer-events=\"none\"><path transform=\"translate(6,6)\" d=\"M-5,0L5,0\" stroke=\"#f58518\" stroke-width=\"1.5\" opacity=\"1\"/></g><g class=\"mark-text role-legend-label\" pointer-events=\"none\"><text text-anchor=\"start\" transform=\"translate(16,9)\" font-family=\"sans-serif\" font-size=\"10px\" fill=\"#000\" opacity=\"1\">FUNDFAIR</text></g></g><path class=\"foreground\" aria-hidden=\"true\" d=\"\" pointer-events=\"none\" display=\"none\"/></g></g></g><path class=\"foreground\" aria-hidden=\"true\" d=\"\" pointer-events=\"none\" display=\"none\"/></g></g><g class=\"mark-text role-legend-title\" pointer-events=\"none\"><text text-anchor=\"start\" transform=\"translate(0,9)\" font-family=\"sans-serif\" font-size=\"11px\" font-weight=\"bold\" fill=\"#000\" opacity=\"1\">variable</text></g></g><path class=\"foreground\" aria-hidden=\"true\" d=\"\" pointer-events=\"none\" display=\"none\"/></g></g></g><path class=\"foreground\" aria-hidden=\"true\" d=\"\" display=\"none\"/></g></g></g></svg>\n"
      ],
      "text/plain": [
       "@vlplot(\n",
       "    mark=\"line\",\n",
       "    encoding={\n",
       "        x={\n",
       "            field=\"Year\"\n",
       "        },\n",
       "        y={\n",
       "            field=\"value\"\n",
       "        },\n",
       "        color={\n",
       "            field=\"variable\"\n",
       "        }\n",
       "    },\n",
       "    data={\n",
       "        values=...\n",
       "    }\n",
       ")"
      ]
     },
     "execution_count": 23,
     "metadata": {},
     "output_type": "execute_result"
    }
   ],
   "source": [
    "fairvals = mfair[:co2_cycle, :E_co2]\n",
    "fundfairvals =  m[:co2_cycle, :E_co2]\n",
    "\n",
    "df = DataFrame(\n",
    "    :Year => Mimi.time_labels(m),\n",
    "    :FAIR => fairvals, \n",
    "    :FUNDFAIR => fundfairvals)\n",
    "\n",
    "stack(df, [:FAIR, :FUNDFAIR]) |> \n",
    "\n",
    "@vlplot(\n",
    "    :line, \n",
    "    x = :Year,\n",
    "    y = :value,\n",
    "    color = :variable\n",
    ")"
   ]
  },
  {
   "cell_type": "code",
   "execution_count": 24,
   "metadata": {},
   "outputs": [],
   "source": [
    "##### Global Carbon Dioxide Emissions (MtC yr⁻¹)"
   ]
  },
  {
   "cell_type": "code",
   "execution_count": 25,
   "metadata": {},
   "outputs": [
    {
     "data": {
      "application/vnd.vegalite.v4+json": {
       "data": {
        "values": [
         {
          "Year": 1950,
          "value": null,
          "variable": "FUND"
         },
         {
          "Year": 1951,
          "value": null,
          "variable": "FUND"
         },
         {
          "Year": 1952,
          "value": null,
          "variable": "FUND"
         },
         {
          "Year": 1953,
          "value": null,
          "variable": "FUND"
         },
         {
          "Year": 1954,
          "value": null,
          "variable": "FUND"
         },
         {
          "Year": 1955,
          "value": null,
          "variable": "FUND"
         },
         {
          "Year": 1956,
          "value": null,
          "variable": "FUND"
         },
         {
          "Year": 1957,
          "value": null,
          "variable": "FUND"
         },
         {
          "Year": 1958,
          "value": null,
          "variable": "FUND"
         },
         {
          "Year": 1959,
          "value": null,
          "variable": "FUND"
         },
         {
          "Year": 1960,
          "value": null,
          "variable": "FUND"
         },
         {
          "Year": 1961,
          "value": null,
          "variable": "FUND"
         },
         {
          "Year": 1962,
          "value": null,
          "variable": "FUND"
         },
         {
          "Year": 1963,
          "value": null,
          "variable": "FUND"
         },
         {
          "Year": 1964,
          "value": null,
          "variable": "FUND"
         },
         {
          "Year": 1965,
          "value": null,
          "variable": "FUND"
         },
         {
          "Year": 1966,
          "value": null,
          "variable": "FUND"
         },
         {
          "Year": 1967,
          "value": null,
          "variable": "FUND"
         },
         {
          "Year": 1968,
          "value": null,
          "variable": "FUND"
         },
         {
          "Year": 1969,
          "value": null,
          "variable": "FUND"
         },
         {
          "Year": 1970,
          "value": null,
          "variable": "FUND"
         },
         {
          "Year": 1971,
          "value": null,
          "variable": "FUND"
         },
         {
          "Year": 1972,
          "value": null,
          "variable": "FUND"
         },
         {
          "Year": 1973,
          "value": null,
          "variable": "FUND"
         },
         {
          "Year": 1974,
          "value": null,
          "variable": "FUND"
         },
         {
          "Year": 1975,
          "value": null,
          "variable": "FUND"
         },
         {
          "Year": 1976,
          "value": null,
          "variable": "FUND"
         },
         {
          "Year": 1977,
          "value": null,
          "variable": "FUND"
         },
         {
          "Year": 1978,
          "value": null,
          "variable": "FUND"
         },
         {
          "Year": 1979,
          "value": null,
          "variable": "FUND"
         },
         {
          "Year": 1980,
          "value": null,
          "variable": "FUND"
         },
         {
          "Year": 1981,
          "value": null,
          "variable": "FUND"
         },
         {
          "Year": 1982,
          "value": null,
          "variable": "FUND"
         },
         {
          "Year": 1983,
          "value": null,
          "variable": "FUND"
         },
         {
          "Year": 1984,
          "value": null,
          "variable": "FUND"
         },
         {
          "Year": 1985,
          "value": null,
          "variable": "FUND"
         },
         {
          "Year": 1986,
          "value": null,
          "variable": "FUND"
         },
         {
          "Year": 1987,
          "value": null,
          "variable": "FUND"
         },
         {
          "Year": 1988,
          "value": null,
          "variable": "FUND"
         },
         {
          "Year": 1989,
          "value": null,
          "variable": "FUND"
         },
         {
          "Year": 1990,
          "value": null,
          "variable": "FUND"
         },
         {
          "Year": 1991,
          "value": null,
          "variable": "FUND"
         },
         {
          "Year": 1992,
          "value": null,
          "variable": "FUND"
         },
         {
          "Year": 1993,
          "value": null,
          "variable": "FUND"
         },
         {
          "Year": 1994,
          "value": null,
          "variable": "FUND"
         },
         {
          "Year": 1995,
          "value": null,
          "variable": "FUND"
         },
         {
          "Year": 1996,
          "value": null,
          "variable": "FUND"
         },
         {
          "Year": 1997,
          "value": null,
          "variable": "FUND"
         },
         {
          "Year": 1998,
          "value": null,
          "variable": "FUND"
         },
         {
          "Year": 1999,
          "value": null,
          "variable": "FUND"
         },
         {
          "Year": 2000,
          "value": null,
          "variable": "FUND"
         },
         {
          "Year": 2001,
          "value": null,
          "variable": "FUND"
         },
         {
          "Year": 2002,
          "value": null,
          "variable": "FUND"
         },
         {
          "Year": 2003,
          "value": null,
          "variable": "FUND"
         },
         {
          "Year": 2004,
          "value": null,
          "variable": "FUND"
         },
         {
          "Year": 2005,
          "value": null,
          "variable": "FUND"
         },
         {
          "Year": 2006,
          "value": null,
          "variable": "FUND"
         },
         {
          "Year": 2007,
          "value": null,
          "variable": "FUND"
         },
         {
          "Year": 2008,
          "value": null,
          "variable": "FUND"
         },
         {
          "Year": 2009,
          "value": null,
          "variable": "FUND"
         },
         {
          "Year": 2010,
          "value": null,
          "variable": "FUND"
         },
         {
          "Year": 2011,
          "value": null,
          "variable": "FUND"
         },
         {
          "Year": 2012,
          "value": null,
          "variable": "FUND"
         },
         {
          "Year": 2013,
          "value": null,
          "variable": "FUND"
         },
         {
          "Year": 2014,
          "value": null,
          "variable": "FUND"
         },
         {
          "Year": 2015,
          "value": 0,
          "variable": "FUND"
         },
         {
          "Year": 2016,
          "value": 2283.619714179199,
          "variable": "FUND"
         },
         {
          "Year": 2017,
          "value": 4618.840430603448,
          "variable": "FUND"
         },
         {
          "Year": 2018,
          "value": 7008.971708789232,
          "variable": "FUND"
         },
         {
          "Year": 2019,
          "value": 9457.679643170748,
          "variable": "FUND"
         },
         {
          "Year": 2020,
          "value": 11969.04775044653,
          "variable": "FUND"
         },
         {
          "Year": 2021,
          "value": 14547.651565679764,
          "variable": "FUND"
         },
         {
          "Year": 2022,
          "value": 17198.65040582614,
          "variable": "FUND"
         },
         {
          "Year": 2023,
          "value": 19927.900667048943,
          "variable": "FUND"
         },
         {
          "Year": 2024,
          "value": 22742.096171247184,
          "variable": "FUND"
         },
         {
          "Year": 2025,
          "value": 25644.079665984595,
          "variable": "FUND"
         },
         {
          "Year": 2026,
          "value": 28633.84919088658,
          "variable": "FUND"
         },
         {
          "Year": 2027,
          "value": 31716.055039401283,
          "variable": "FUND"
         },
         {
          "Year": 2028,
          "value": 34895.66163851742,
          "variable": "FUND"
         },
         {
          "Year": 2029,
          "value": 38177.974882306626,
          "variable": "FUND"
         },
         {
          "Year": 2030,
          "value": 41568.67231018835,
          "variable": "FUND"
         },
         {
          "Year": 2031,
          "value": 45073.83645518877,
          "variable": "FUND"
         },
         {
          "Year": 2032,
          "value": 48699.991726278255,
          "variable": "FUND"
         },
         {
          "Year": 2033,
          "value": 52454.14523240444,
          "variable": "FUND"
         },
         {
          "Year": 2034,
          "value": 56343.83200466895,
          "variable": "FUND"
         },
         {
          "Year": 2035,
          "value": 60314.5264282561,
          "variable": "FUND"
         },
         {
          "Year": 2036,
          "value": 64361.235162176825,
          "variable": "FUND"
         },
         {
          "Year": 2037,
          "value": 68486.98164306219,
          "variable": "FUND"
         },
         {
          "Year": 2038,
          "value": 72694.94401701931,
          "variable": "FUND"
         },
         {
          "Year": 2039,
          "value": 76988.464260774,
          "variable": "FUND"
         },
         {
          "Year": 2040,
          "value": 81371.05789511101,
          "variable": "FUND"
         },
         {
          "Year": 2041,
          "value": 85846.42433185915,
          "variable": "FUND"
         },
         {
          "Year": 2042,
          "value": 90418.45789868994,
          "variable": "FUND"
         },
         {
          "Year": 2043,
          "value": 95091.25958925026,
          "variable": "FUND"
         },
         {
          "Year": 2044,
          "value": 99869.14958964824,
          "variable": "FUND"
         },
         {
          "Year": 2045,
          "value": 104646.14657622973,
          "variable": "FUND"
         },
         {
          "Year": 2046,
          "value": 109457.28986321535,
          "variable": "FUND"
         },
         {
          "Year": 2047,
          "value": 114306.903156339,
          "variable": "FUND"
         },
         {
          "Year": 2048,
          "value": 119199.60914595918,
          "variable": "FUND"
         },
         {
          "Year": 2049,
          "value": 124140.35965692723,
          "variable": "FUND"
         },
         {
          "Year": 2050,
          "value": 129134.46876850154,
          "variable": "FUND"
         },
         {
          "Year": 2051,
          "value": 134187.64921730323,
          "variable": "FUND"
         },
         {
          "Year": 2052,
          "value": 139306.05243001654,
          "variable": "FUND"
         },
         {
          "Year": 2053,
          "value": 144496.31256996357,
          "variable": "FUND"
         },
         {
          "Year": 2054,
          "value": 149765.59502324637,
          "variable": "FUND"
         },
         {
          "Year": 2055,
          "value": 155268.91368511732,
          "variable": "FUND"
         },
         {
          "Year": 2056,
          "value": 160805.42976724388,
          "variable": "FUND"
         },
         {
          "Year": 2057,
          "value": 166384.07740085616,
          "variable": "FUND"
         },
         {
          "Year": 2058,
          "value": 172013.87276727785,
          "variable": "FUND"
         },
         {
          "Year": 2059,
          "value": 177703.95187168338,
          "variable": "FUND"
         },
         {
          "Year": 2060,
          "value": 183457.93683407,
          "variable": "FUND"
         },
         {
          "Year": 2061,
          "value": 189363.74954128114,
          "variable": "FUND"
         },
         {
          "Year": 2062,
          "value": 195475.92172667044,
          "variable": "FUND"
         },
         {
          "Year": 2063,
          "value": 201776.5733284695,
          "variable": "FUND"
         },
         {
          "Year": 2064,
          "value": 208169.68493562125,
          "variable": "FUND"
         },
         {
          "Year": 2065,
          "value": 214706.97439207812,
          "variable": "FUND"
         },
         {
          "Year": 2066,
          "value": 221482.19153308307,
          "variable": "FUND"
         },
         {
          "Year": 2067,
          "value": 228367.40176459745,
          "variable": "FUND"
         },
         {
          "Year": 2068,
          "value": 235360.1973584917,
          "variable": "FUND"
         },
         {
          "Year": 2069,
          "value": 242457.5544012884,
          "variable": "FUND"
         },
         {
          "Year": 2070,
          "value": 249655.87661387442,
          "variable": "FUND"
         },
         {
          "Year": 2071,
          "value": 256951.1618832607,
          "variable": "FUND"
         },
         {
          "Year": 2072,
          "value": 264338.9801709333,
          "variable": "FUND"
         },
         {
          "Year": 2073,
          "value": 271814.57948166714,
          "variable": "FUND"
         },
         {
          "Year": 2074,
          "value": 279372.7799957564,
          "variable": "FUND"
         },
         {
          "Year": 2075,
          "value": 287008.18917499913,
          "variable": "FUND"
         },
         {
          "Year": 2076,
          "value": 294727.1947470887,
          "variable": "FUND"
         },
         {
          "Year": 2077,
          "value": 302532.9692654835,
          "variable": "FUND"
         },
         {
          "Year": 2078,
          "value": 310428.7005511574,
          "variable": "FUND"
         },
         {
          "Year": 2079,
          "value": 318417.62280155485,
          "variable": "FUND"
         },
         {
          "Year": 2080,
          "value": 326503.0832236447,
          "variable": "FUND"
         },
         {
          "Year": 2081,
          "value": 334688.4238404786,
          "variable": "FUND"
         },
         {
          "Year": 2082,
          "value": 342977.11606558866,
          "variable": "FUND"
         },
         {
          "Year": 2083,
          "value": 351372.676966953,
          "variable": "FUND"
         },
         {
          "Year": 2084,
          "value": 359878.6783505126,
          "variable": "FUND"
         },
         {
          "Year": 2085,
          "value": 368498.82783634,
          "variable": "FUND"
         },
         {
          "Year": 2086,
          "value": 377236.9023588626,
          "variable": "FUND"
         },
         {
          "Year": 2087,
          "value": 386097.22223156947,
          "variable": "FUND"
         },
         {
          "Year": 2088,
          "value": 395084.1623485255,
          "variable": "FUND"
         },
         {
          "Year": 2089,
          "value": 404202.2673984928,
          "variable": "FUND"
         },
         {
          "Year": 2090,
          "value": 413456.2134481827,
          "variable": "FUND"
         },
         {
          "Year": 2091,
          "value": 422845.3310310343,
          "variable": "FUND"
         },
         {
          "Year": 2092,
          "value": 432371.1127935122,
          "variable": "FUND"
         },
         {
          "Year": 2093,
          "value": 442035.1449894105,
          "variable": "FUND"
         },
         {
          "Year": 2094,
          "value": 451838.90942028625,
          "variable": "FUND"
         },
         {
          "Year": 2095,
          "value": 461783.92062970076,
          "variable": "FUND"
         },
         {
          "Year": 2096,
          "value": 471870.5702338529,
          "variable": "FUND"
         },
         {
          "Year": 2097,
          "value": 482100.65348204144,
          "variable": "FUND"
         },
         {
          "Year": 2098,
          "value": 492475.9483460483,
          "variable": "FUND"
         },
         {
          "Year": 2099,
          "value": 502998.17818461487,
          "variable": "FUND"
         },
         {
          "Year": 2100,
          "value": 513669.181522452,
          "variable": "FUND"
         },
         {
          "Year": 1950,
          "value": null,
          "variable": "FUNDFAIR"
         },
         {
          "Year": 1951,
          "value": null,
          "variable": "FUNDFAIR"
         },
         {
          "Year": 1952,
          "value": null,
          "variable": "FUNDFAIR"
         },
         {
          "Year": 1953,
          "value": null,
          "variable": "FUNDFAIR"
         },
         {
          "Year": 1954,
          "value": null,
          "variable": "FUNDFAIR"
         },
         {
          "Year": 1955,
          "value": null,
          "variable": "FUNDFAIR"
         },
         {
          "Year": 1956,
          "value": null,
          "variable": "FUNDFAIR"
         },
         {
          "Year": 1957,
          "value": null,
          "variable": "FUNDFAIR"
         },
         {
          "Year": 1958,
          "value": null,
          "variable": "FUNDFAIR"
         },
         {
          "Year": 1959,
          "value": null,
          "variable": "FUNDFAIR"
         },
         {
          "Year": 1960,
          "value": null,
          "variable": "FUNDFAIR"
         },
         {
          "Year": 1961,
          "value": null,
          "variable": "FUNDFAIR"
         },
         {
          "Year": 1962,
          "value": null,
          "variable": "FUNDFAIR"
         },
         {
          "Year": 1963,
          "value": null,
          "variable": "FUNDFAIR"
         },
         {
          "Year": 1964,
          "value": null,
          "variable": "FUNDFAIR"
         },
         {
          "Year": 1965,
          "value": null,
          "variable": "FUNDFAIR"
         },
         {
          "Year": 1966,
          "value": null,
          "variable": "FUNDFAIR"
         },
         {
          "Year": 1967,
          "value": null,
          "variable": "FUNDFAIR"
         },
         {
          "Year": 1968,
          "value": null,
          "variable": "FUNDFAIR"
         },
         {
          "Year": 1969,
          "value": null,
          "variable": "FUNDFAIR"
         },
         {
          "Year": 1970,
          "value": null,
          "variable": "FUNDFAIR"
         },
         {
          "Year": 1971,
          "value": null,
          "variable": "FUNDFAIR"
         },
         {
          "Year": 1972,
          "value": null,
          "variable": "FUNDFAIR"
         },
         {
          "Year": 1973,
          "value": null,
          "variable": "FUNDFAIR"
         },
         {
          "Year": 1974,
          "value": null,
          "variable": "FUNDFAIR"
         },
         {
          "Year": 1975,
          "value": null,
          "variable": "FUNDFAIR"
         },
         {
          "Year": 1976,
          "value": null,
          "variable": "FUNDFAIR"
         },
         {
          "Year": 1977,
          "value": null,
          "variable": "FUNDFAIR"
         },
         {
          "Year": 1978,
          "value": null,
          "variable": "FUNDFAIR"
         },
         {
          "Year": 1979,
          "value": null,
          "variable": "FUNDFAIR"
         },
         {
          "Year": 1980,
          "value": null,
          "variable": "FUNDFAIR"
         },
         {
          "Year": 1981,
          "value": null,
          "variable": "FUNDFAIR"
         },
         {
          "Year": 1982,
          "value": null,
          "variable": "FUNDFAIR"
         },
         {
          "Year": 1983,
          "value": null,
          "variable": "FUNDFAIR"
         },
         {
          "Year": 1984,
          "value": null,
          "variable": "FUNDFAIR"
         },
         {
          "Year": 1985,
          "value": null,
          "variable": "FUNDFAIR"
         },
         {
          "Year": 1986,
          "value": null,
          "variable": "FUNDFAIR"
         },
         {
          "Year": 1987,
          "value": null,
          "variable": "FUNDFAIR"
         },
         {
          "Year": 1988,
          "value": null,
          "variable": "FUNDFAIR"
         },
         {
          "Year": 1989,
          "value": null,
          "variable": "FUNDFAIR"
         },
         {
          "Year": 1990,
          "value": null,
          "variable": "FUNDFAIR"
         },
         {
          "Year": 1991,
          "value": null,
          "variable": "FUNDFAIR"
         },
         {
          "Year": 1992,
          "value": null,
          "variable": "FUNDFAIR"
         },
         {
          "Year": 1993,
          "value": null,
          "variable": "FUNDFAIR"
         },
         {
          "Year": 1994,
          "value": null,
          "variable": "FUNDFAIR"
         },
         {
          "Year": 1995,
          "value": null,
          "variable": "FUNDFAIR"
         },
         {
          "Year": 1996,
          "value": null,
          "variable": "FUNDFAIR"
         },
         {
          "Year": 1997,
          "value": null,
          "variable": "FUNDFAIR"
         },
         {
          "Year": 1998,
          "value": null,
          "variable": "FUNDFAIR"
         },
         {
          "Year": 1999,
          "value": null,
          "variable": "FUNDFAIR"
         },
         {
          "Year": 2000,
          "value": null,
          "variable": "FUNDFAIR"
         },
         {
          "Year": 2001,
          "value": null,
          "variable": "FUNDFAIR"
         },
         {
          "Year": 2002,
          "value": null,
          "variable": "FUNDFAIR"
         },
         {
          "Year": 2003,
          "value": null,
          "variable": "FUNDFAIR"
         },
         {
          "Year": 2004,
          "value": null,
          "variable": "FUNDFAIR"
         },
         {
          "Year": 2005,
          "value": null,
          "variable": "FUNDFAIR"
         },
         {
          "Year": 2006,
          "value": null,
          "variable": "FUNDFAIR"
         },
         {
          "Year": 2007,
          "value": null,
          "variable": "FUNDFAIR"
         },
         {
          "Year": 2008,
          "value": null,
          "variable": "FUNDFAIR"
         },
         {
          "Year": 2009,
          "value": null,
          "variable": "FUNDFAIR"
         },
         {
          "Year": 2010,
          "value": null,
          "variable": "FUNDFAIR"
         },
         {
          "Year": 2011,
          "value": null,
          "variable": "FUNDFAIR"
         },
         {
          "Year": 2012,
          "value": null,
          "variable": "FUNDFAIR"
         },
         {
          "Year": 2013,
          "value": null,
          "variable": "FUNDFAIR"
         },
         {
          "Year": 2014,
          "value": null,
          "variable": "FUNDFAIR"
         },
         {
          "Year": 2015,
          "value": 0,
          "variable": "FUNDFAIR"
         },
         {
          "Year": 2016,
          "value": 88790.02758838868,
          "variable": "FUNDFAIR"
         },
         {
          "Year": 2017,
          "value": 184670.92094486102,
          "variable": "FUNDFAIR"
         },
         {
          "Year": 2018,
          "value": 287515.88951100776,
          "variable": "FUNDFAIR"
         },
         {
          "Year": 2019,
          "value": 397187.40331906255,
          "variable": "FUNDFAIR"
         },
         {
          "Year": 2020,
          "value": 513538.35553196503,
          "variable": "FUNDFAIR"
         },
         {
          "Year": 2021,
          "value": 636412.9193409397,
          "variable": "FUNDFAIR"
         },
         {
          "Year": 2022,
          "value": 765647.3792695864,
          "variable": "FUNDFAIR"
         },
         {
          "Year": 2023,
          "value": 901071.9358249574,
          "variable": "FUNDFAIR"
         },
         {
          "Year": 2024,
          "value": 1042508.0365045022,
          "variable": "FUNDFAIR"
         },
         {
          "Year": 2025,
          "value": 1189772.7774051116,
          "variable": "FUNDFAIR"
         },
         {
          "Year": 2026,
          "value": 1342678.2014640316,
          "variable": "FUNDFAIR"
         },
         {
          "Year": 2027,
          "value": 1501034.6957427496,
          "variable": "FUNDFAIR"
         },
         {
          "Year": 2028,
          "value": 1664645.5681208181,
          "variable": "FUNDFAIR"
         },
         {
          "Year": 2029,
          "value": 1833308.5679473432,
          "variable": "FUNDFAIR"
         },
         {
          "Year": 2030,
          "value": 2006826.2954914104,
          "variable": "FUNDFAIR"
         },
         {
          "Year": 2031,
          "value": 2184991.523094081,
          "variable": "FUNDFAIR"
         },
         {
          "Year": 2032,
          "value": 2367606.577343716,
          "variable": "FUNDFAIR"
         },
         {
          "Year": 2033,
          "value": 2554458.643525,
          "variable": "FUNDFAIR"
         },
         {
          "Year": 2034,
          "value": 2745334.22092643,
          "variable": "FUNDFAIR"
         },
         {
          "Year": 2035,
          "value": 2940020.4639689536,
          "variable": "FUNDFAIR"
         },
         {
          "Year": 2036,
          "value": 3138305.711853989,
          "variable": "FUNDFAIR"
         },
         {
          "Year": 2037,
          "value": 3339980.27451566,
          "variable": "FUNDFAIR"
         },
         {
          "Year": 2038,
          "value": 3544887.396376139,
          "variable": "FUNDFAIR"
         },
         {
          "Year": 2039,
          "value": 3752822.556234364,
          "variable": "FUNDFAIR"
         },
         {
          "Year": 2040,
          "value": 3963574.856388768,
          "variable": "FUNDFAIR"
         },
         {
          "Year": 2041,
          "value": 4176954.9306510757,
          "variable": "FUNDFAIR"
         },
         {
          "Year": 2042,
          "value": 4392738.259241689,
          "variable": "FUNDFAIR"
         },
         {
          "Year": 2043,
          "value": 4610706.014030934,
          "variable": "FUNDFAIR"
         },
         {
          "Year": 2044,
          "value": 4830645.0666988,
          "variable": "FUNDFAIR"
         },
         {
          "Year": 2045,
          "value": 5052347.8722203765,
          "variable": "FUNDFAIR"
         },
         {
          "Year": 2046,
          "value": 5275612.498877454,
          "variable": "FUNDFAIR"
         },
         {
          "Year": 2047,
          "value": 5500242.549012199,
          "variable": "FUNDFAIR"
         },
         {
          "Year": 2048,
          "value": 5726047.129081121,
          "variable": "FUNDFAIR"
         },
         {
          "Year": 2049,
          "value": 5952840.784372914,
          "variable": "FUNDFAIR"
         },
         {
          "Year": 2050,
          "value": 6180443.36872747,
          "variable": "FUNDFAIR"
         },
         {
          "Year": 2051,
          "value": 6408686.326045716,
          "variable": "FUNDFAIR"
         },
         {
          "Year": 2052,
          "value": 6637408.493528261,
          "variable": "FUNDFAIR"
         },
         {
          "Year": 2053,
          "value": 6866459.358291923,
          "variable": "FUNDFAIR"
         },
         {
          "Year": 2054,
          "value": 7095701.313112398,
          "variable": "FUNDFAIR"
         },
         {
          "Year": 2055,
          "value": 7325008.87687895,
          "variable": "FUNDFAIR"
         },
         {
          "Year": 2056,
          "value": 7554268.031041013,
          "variable": "FUNDFAIR"
         },
         {
          "Year": 2057,
          "value": 7783375.659238782,
          "variable": "FUNDFAIR"
         },
         {
          "Year": 2058,
          "value": 8012239.235595468,
          "variable": "FUNDFAIR"
         },
         {
          "Year": 2059,
          "value": 8240776.677389616,
          "variable": "FUNDFAIR"
         },
         {
          "Year": 2060,
          "value": 8468914.859471945,
          "variable": "FUNDFAIR"
         },
         {
          "Year": 2061,
          "value": 8696583.498084337,
          "variable": "FUNDFAIR"
         },
         {
          "Year": 2062,
          "value": 8923703.908918973,
          "variable": "FUNDFAIR"
         },
         {
          "Year": 2063,
          "value": 9150186.761815285,
          "variable": "FUNDFAIR"
         },
         {
          "Year": 2064,
          "value": 9375932.983031377,
          "variable": "FUNDFAIR"
         },
         {
          "Year": 2065,
          "value": 9600834.742675405,
          "variable": "FUNDFAIR"
         },
         {
          "Year": 2066,
          "value": 9824776.50519794,
          "variable": "FUNDFAIR"
         },
         {
          "Year": 2067,
          "value": 10047635.664837822,
          "variable": "FUNDFAIR"
         },
         {
          "Year": 2068,
          "value": 10269283.571596216,
          "variable": "FUNDFAIR"
         },
         {
          "Year": 2069,
          "value": 10489586.157116374,
          "variable": "FUNDFAIR"
         },
         {
          "Year": 2070,
          "value": 10708404.78610571,
          "variable": "FUNDFAIR"
         },
         {
          "Year": 2071,
          "value": 10925600.06369755,
          "variable": "FUNDFAIR"
         },
         {
          "Year": 2072,
          "value": 11141044.939549455,
          "variable": "FUNDFAIR"
         },
         {
          "Year": 2073,
          "value": 11354627.073248217,
          "variable": "FUNDFAIR"
         },
         {
          "Year": 2074,
          "value": 11566247.963949654,
          "variable": "FUNDFAIR"
         },
         {
          "Year": 2075,
          "value": 11775822.270177068,
          "variable": "FUNDFAIR"
         },
         {
          "Year": 2076,
          "value": 11983276.895515755,
          "variable": "FUNDFAIR"
         },
         {
          "Year": 2077,
          "value": 12188550.2857787,
          "variable": "FUNDFAIR"
         },
         {
          "Year": 2078,
          "value": 12391591.779954076,
          "variable": "FUNDFAIR"
         },
         {
          "Year": 2079,
          "value": 12592360.765472377,
          "variable": "FUNDFAIR"
         },
         {
          "Year": 2080,
          "value": 12790826.207723066,
          "variable": "FUNDFAIR"
         },
         {
          "Year": 2081,
          "value": 12986964.723504992,
          "variable": "FUNDFAIR"
         },
         {
          "Year": 2082,
          "value": 13180755.642026693,
          "variable": "FUNDFAIR"
         },
         {
          "Year": 2083,
          "value": 13372179.622857671,
          "variable": "FUNDFAIR"
         },
         {
          "Year": 2084,
          "value": 13561218.74660807,
          "variable": "FUNDFAIR"
         },
         {
          "Year": 2085,
          "value": 13747856.446180532,
          "variable": "FUNDFAIR"
         },
         {
          "Year": 2086,
          "value": 13932077.45839106,
          "variable": "FUNDFAIR"
         },
         {
          "Year": 2087,
          "value": 14113867.957791815,
          "variable": "FUNDFAIR"
         },
         {
          "Year": 2088,
          "value": 14293215.269827427,
          "variable": "FUNDFAIR"
         },
         {
          "Year": 2089,
          "value": 14470108.060790999,
          "variable": "FUNDFAIR"
         },
         {
          "Year": 2090,
          "value": 14644536.290582187,
          "variable": "FUNDFAIR"
         },
         {
          "Year": 2091,
          "value": 14816491.269719,
          "variable": "FUNDFAIR"
         },
         {
          "Year": 2092,
          "value": 14985966.437021347,
          "variable": "FUNDFAIR"
         },
         {
          "Year": 2093,
          "value": 15152957.50220872,
          "variable": "FUNDFAIR"
         },
         {
          "Year": 2094,
          "value": 15317462.224555643,
          "variable": "FUNDFAIR"
         },
         {
          "Year": 2095,
          "value": 15479480.352162572,
          "variable": "FUNDFAIR"
         },
         {
          "Year": 2096,
          "value": 15639013.551494658,
          "variable": "FUNDFAIR"
         },
         {
          "Year": 2097,
          "value": 15796065.26776518,
          "variable": "FUNDFAIR"
         },
         {
          "Year": 2098,
          "value": 15950640.67896823,
          "variable": "FUNDFAIR"
         },
         {
          "Year": 2099,
          "value": 16102746.493022982,
          "variable": "FUNDFAIR"
         },
         {
          "Year": 2100,
          "value": 16252391.005456435,
          "variable": "FUNDFAIR"
         }
        ]
       },
       "encoding": {
        "color": {
         "field": "variable",
         "type": "nominal"
        },
        "x": {
         "field": "Year",
         "type": "quantitative"
        },
        "y": {
         "field": "value",
         "type": "quantitative"
        }
       },
       "mark": "line"
      },
      "image/png": "[encoded data removed]",
      "image/svg+xml": [
       "<?xml version=\"1.0\" encoding=\"utf-8\"?>\n",
       "<!DOCTYPE svg PUBLIC \"-//W3C//DTD SVG 1.1//EN\" \"http://www.w3.org/Graphics/SVG/1.1/DTD/svg11.dtd\">\n",
       "<svg xmlns=\"http://www.w3.org/2000/svg\" xmlns:xlink=\"http://www.w3.org/1999/xlink\" version=\"1.1\" class=\"marks\" width=\"361\" height=\"242\" viewBox=\"0 0 361 242\"><rect width=\"361\" height=\"242\" fill=\"white\"/><g fill=\"none\" stroke-miterlimit=\"10\" transform=\"translate(73,5)\"><g class=\"mark-group role-frame root\" role=\"graphics-object\" aria-roledescription=\"group mark container\"><g transform=\"translate(0,0)\"><path class=\"background\" aria-hidden=\"true\" d=\"M0.5,0.5h200v200h-200Z\" stroke=\"#ddd\"/><g><g class=\"mark-group role-axis\" aria-hidden=\"true\"><g transform=\"translate(0.5,200.5)\"><path class=\"background\" aria-hidden=\"true\" d=\"M0,0h0v0h0Z\" pointer-events=\"none\"/><g><g class=\"mark-rule role-axis-grid\" pointer-events=\"none\"><line transform=\"translate(13,-200)\" x2=\"0\" y2=\"200\" stroke=\"#ddd\" stroke-width=\"1\" opacity=\"1\"/><line transform=\"translate(75,-200)\" x2=\"0\" y2=\"200\" stroke=\"#ddd\" stroke-width=\"1\" opacity=\"1\"/><line transform=\"translate(138,-200)\" x2=\"0\" y2=\"200\" stroke=\"#ddd\" stroke-width=\"1\" opacity=\"1\"/><line transform=\"translate(200,-200)\" x2=\"0\" y2=\"200\" stroke=\"#ddd\" stroke-width=\"1\" opacity=\"1\"/></g></g><path class=\"foreground\" aria-hidden=\"true\" d=\"\" pointer-events=\"none\" display=\"none\"/></g></g><g class=\"mark-group role-axis\" aria-hidden=\"true\"><g transform=\"translate(0.5,0.5)\"><path class=\"background\" aria-hidden=\"true\" d=\"M0,0h0v0h0Z\" pointer-events=\"none\"/><g><g class=\"mark-rule role-axis-grid\" pointer-events=\"none\"><line transform=\"translate(0,200)\" x2=\"200\" y2=\"0\" stroke=\"#ddd\" stroke-width=\"1\" opacity=\"1\"/><line transform=\"translate(0,144)\" x2=\"200\" y2=\"0\" stroke=\"#ddd\" stroke-width=\"1\" opacity=\"1\"/><line transform=\"translate(0,89)\" x2=\"200\" y2=\"0\" stroke=\"#ddd\" stroke-width=\"1\" opacity=\"1\"/><line transform=\"translate(0,33)\" x2=\"200\" y2=\"0\" stroke=\"#ddd\" stroke-width=\"1\" opacity=\"1\"/></g></g><path class=\"foreground\" aria-hidden=\"true\" d=\"\" pointer-events=\"none\" display=\"none\"/></g></g><g class=\"mark-group role-axis\" role=\"graphics-symbol\" aria-roledescription=\"axis\" aria-label=\"X-axis titled 'Year' for a linear scale with values from 1,940 to 2,100\"><g transform=\"translate(0.5,200.5)\"><path class=\"background\" aria-hidden=\"true\" d=\"M0,0h0v0h0Z\" pointer-events=\"none\"/><g><g class=\"mark-rule role-axis-tick\" pointer-events=\"none\"><line transform=\"translate(13,0)\" x2=\"0\" y2=\"5\" stroke=\"#888\" stroke-width=\"1\" opacity=\"1\"/><line transform=\"translate(75,0)\" x2=\"0\" y2=\"5\" stroke=\"#888\" stroke-width=\"1\" opacity=\"1\"/><line transform=\"translate(138,0)\" x2=\"0\" y2=\"5\" stroke=\"#888\" stroke-width=\"1\" opacity=\"1\"/><line transform=\"translate(200,0)\" x2=\"0\" y2=\"5\" stroke=\"#888\" stroke-width=\"1\" opacity=\"1\"/></g><g class=\"mark-text role-axis-label\" pointer-events=\"none\"><text text-anchor=\"middle\" transform=\"translate(12.5,15)\" font-family=\"sans-serif\" font-size=\"10px\" fill=\"#000\" opacity=\"1\">1,950</text><text text-anchor=\"middle\" transform=\"translate(75,15)\" font-family=\"sans-serif\" font-size=\"10px\" fill=\"#000\" opacity=\"1\">2,000</text><text text-anchor=\"middle\" transform=\"translate(137.5,15)\" font-family=\"sans-serif\" font-size=\"10px\" fill=\"#000\" opacity=\"1\">2,050</text><text text-anchor=\"end\" transform=\"translate(200,15)\" font-family=\"sans-serif\" font-size=\"10px\" fill=\"#000\" opacity=\"1\">2,100</text></g><g class=\"mark-rule role-axis-domain\" pointer-events=\"none\"><line transform=\"translate(0,0)\" x2=\"200\" y2=\"0\" stroke=\"#888\" stroke-width=\"1\" opacity=\"1\"/></g><g class=\"mark-text role-axis-title\" pointer-events=\"none\"><text text-anchor=\"middle\" transform=\"translate(100,30)\" font-family=\"sans-serif\" font-size=\"11px\" font-weight=\"bold\" fill=\"#000\" opacity=\"1\">Year</text></g></g><path class=\"foreground\" aria-hidden=\"true\" d=\"\" pointer-events=\"none\" display=\"none\"/></g></g><g class=\"mark-group role-axis\" role=\"graphics-symbol\" aria-roledescription=\"axis\" aria-label=\"Y-axis titled 'value' for a linear scale with values from 0 to 18,000,000\"><g transform=\"translate(0.5,0.5)\"><path class=\"background\" aria-hidden=\"true\" d=\"M0,0h0v0h0Z\" pointer-events=\"none\"/><g><g class=\"mark-rule role-axis-tick\" pointer-events=\"none\"><line transform=\"translate(0,200)\" x2=\"-5\" y2=\"0\" stroke=\"#888\" stroke-width=\"1\" opacity=\"1\"/><line transform=\"translate(0,144)\" x2=\"-5\" y2=\"0\" stroke=\"#888\" stroke-width=\"1\" opacity=\"1\"/><line transform=\"translate(0,89)\" x2=\"-5\" y2=\"0\" stroke=\"#888\" stroke-width=\"1\" opacity=\"1\"/><line transform=\"translate(0,33)\" x2=\"-5\" y2=\"0\" stroke=\"#888\" stroke-width=\"1\" opacity=\"1\"/></g><g class=\"mark-text role-axis-label\" pointer-events=\"none\"><text text-anchor=\"end\" transform=\"translate(-7,203)\" font-family=\"sans-serif\" font-size=\"10px\" fill=\"#000\" opacity=\"1\">0</text><text text-anchor=\"end\" transform=\"translate(-7,147.44444444444443)\" font-family=\"sans-serif\" font-size=\"10px\" fill=\"#000\" opacity=\"1\">5,000,000</text><text text-anchor=\"end\" transform=\"translate(-7,91.88888888888889)\" font-family=\"sans-serif\" font-size=\"10px\" fill=\"#000\" opacity=\"1\">10,000,000</text><text text-anchor=\"end\" transform=\"translate(-7,36.33333333333333)\" font-family=\"sans-serif\" font-size=\"10px\" fill=\"#000\" opacity=\"1\">15,000,000</text></g><g class=\"mark-rule role-axis-domain\" pointer-events=\"none\"><line transform=\"translate(0,200)\" x2=\"0\" y2=\"-200\" stroke=\"#888\" stroke-width=\"1\" opacity=\"1\"/></g><g class=\"mark-text role-axis-title\" pointer-events=\"none\"><text text-anchor=\"middle\" transform=\"translate(-57,100) rotate(-90) translate(0,-2)\" font-family=\"sans-serif\" font-size=\"11px\" font-weight=\"bold\" fill=\"#000\" opacity=\"1\">value</text></g></g><path class=\"foreground\" aria-hidden=\"true\" d=\"\" pointer-events=\"none\" display=\"none\"/></g></g><g class=\"mark-group role-scope pathgroup\" role=\"graphics-object\" aria-roledescription=\"group mark container\"><g transform=\"translate(0,0)\"><path class=\"background\" aria-hidden=\"true\" d=\"M0,0h200v200h-200Z\"/><g><g class=\"mark-line role-mark marks\" role=\"graphics-object\" aria-roledescription=\"line mark container\"><path aria-label=\"Year: 1950; value: 0; variable: FUND\" role=\"graphics-symbol\" aria-roledescription=\"line mark\" d=\"M93.75,200L95,199.97462644762024L96.25,199.94867955077106L97.5,199.922122536569L98.75,199.89491467063144L100,199.86701058055058L101.25,199.838359427048L102.49999999999999,199.8089038843797L103.75000000000001,199.77857888147724L105,199.7473100425417L106.25,199.71506578148905L107.5,199.68184612010128L108.74999999999999,199.64759938845108L110.00000000000001,199.6122704262387L111.25,199.57580027908548L112.5,199.53812586322013L113.75,199.49917959494235L114.99999999999999,199.45888898081913L116.25000000000001,199.4171761640844L117.5,199.37395742217035L118.75,199.3298385952416L120,199.2848751648647L121.24999999999999,199.2390335372993L122.50000000000001,199.1922783998109L123.75,199.14457261932475L125,199.09587713449878L126.25,199.04615084075712L127.49999999999999,198.99535046779232L128.75,198.94343044900833L130,198.89034278233723L131.25,198.8372650380419L132.5,198.78380789040872L133.75,198.7299232982629L135,198.67555989837825L136.25,198.62066267047857L137.5,198.56517256923888L138.75,198.50902611980774L140,198.4521549729998L141.25,198.39448541588928L142.5,198.33593783307504L143.75,198.27478984794314L145,198.21327300258616L146.25,198.15128802887938L147.5,198.08873474703023L148.75,198.02551164587018L150,197.96157847962144L151.25,197.8959583384302L152.5,197.8280453141481L153.75,197.7580380741281L155,197.68700350071532L156.25,197.61436695119914L157.5,197.53908676074352L158.75,197.4625844248378L160,197.38488669601674L161.25,197.30602717331902L162.5,197.2260458154014L163.75,197.144987090186L165,197.06290022032294L166.25,196.97983800575923L167.5,196.89585800004716L168.75,196.8110201202778L170,196.72525339169903L171.25,196.63852256371686L172.5,196.55079221609824L173.75,196.46202641331604L175,196.37218796418173L176.25,196.28123973510577L177.5,196.18914315482678L178.75,196.0958591448116L180,196.00134801832766L181.25,195.90556857959623L182.5,195.80847886267932L183.75,195.71003086409365L185,195.61017597390526L186.25,195.5088636955723L187.5,195.40604207279796L188.75,195.3017185440996L190,195.19587652451654L191.25,195.08849838900656L192.5,194.97956767310794L193.75,194.8690675485589L195,194.75699366406832L196.25,194.64332607242176L197.5,194.52804501837724L198.75,194.4111313535043L200,194.29256464975055\" stroke=\"#4c78a8\" stroke-width=\"2\"/></g></g><path class=\"foreground\" aria-hidden=\"true\" d=\"\" display=\"none\"/></g><g transform=\"translate(0,0)\"><path class=\"background\" aria-hidden=\"true\" d=\"M0,0h200v200h-200Z\"/><g><g class=\"mark-line role-mark marks\" role=\"graphics-object\" aria-roledescription=\"line mark container\"><path aria-label=\"Year: 1950; value: 0; variable: FUNDFAIR\" role=\"graphics-symbol\" aria-roledescription=\"line mark\" d=\"M93.75,200L95,199.01344413790682L96.25,197.94810087839042L97.5,196.80537900543325L98.75,195.5868066297882L100,194.29401827186706L101.25,192.92874534065623L102.49999999999999,191.49280689700458L103.75000000000001,189.98808960194492L105,188.41657737217218L106.25,186.78030247327655L107.5,185.08135331706632L108.74999999999999,183.32183671396945L110.00000000000001,181.5039381319909L111.25,179.62990480058508L112.5,177.70193005009546L113.75,175.72231641006576L114.99999999999999,173.6932602517365L116.25000000000001,171.61712618305555L117.5,169.4962864341508L118.75,167.33310595590052L120,165.12993653495568L121.24999999999999,162.8891080609371L122.50000000000001,160.61236226248735L123.75,158.30197159739598L125,155.96027937345812L126.25,153.5893896594325L127.49999999999999,151.19179711953677L128.75,148.76993317743404L130,146.3261659255689L131.25,143.86280141977358L132.5,141.38208334580605L133.75,138.88619389986445L135,136.3772541213209L136.25,133.85732461807874L137.5,131.3284070141392L138.75,128.79237415504758L140,126.25101673857489L141.25,123.70600713008974L142.5,121.15887429875114L143.75,118.61101247912278L145,116.06368854398875L146.25,113.51804823068021L147.5,110.9751196044948L148.75,108.43581469567094L150,105.90094600586728L151.25,103.37129446572959L152.5,100.84773434534475L153.75,98.3312582020524L155,95.82296685520693L156.25,93.32405841471771L157.5,90.83581660891178L158.75,88.35960372402421L160,85.89684920448649L161.25,83.44904269870696L162.5,81.01772459882545L163.75,78.60444373669388L165,76.21061178278383L166.25,73.8374769639087L167.5,71.48613373389271L168.75,69.15753033136592L170,66.85247893871384L171.25,64.57166349134778L172.5,62.31564688939917L173.75,60.08488038364026L175,57.879708803077044L176.25,55.70039196105565L177.5,53.54715953303675L178.75,51.42022641269255L180,49.319791704354785L181.25,47.24603948688297L182.5,45.19913935121045L183.75,43.179244913424284L185,41.18649700191747L186.25,39.22102154676668L187.5,37.28293010464236L188.75,35.37231922534443L190,33.48926181087393L191.25,31.633805531014204L192.5,29.805975282715067L193.75,28.005773864860316L195,26.23318276117046L196.25,24.488163691498L197.5,22.77065912257521L198.75,21.080594521966866L200,19.417877717150734\" stroke=\"#f58518\" stroke-width=\"2\"/></g></g><path class=\"foreground\" aria-hidden=\"true\" d=\"\" display=\"none\"/></g></g><g class=\"mark-group role-legend\" role=\"graphics-symbol\" aria-roledescription=\"legend\" aria-label=\"Symbol legend titled 'variable' for stroke color with 2 values: FUND, FUNDFAIR\"><g transform=\"translate(220,0)\"><path class=\"background\" aria-hidden=\"true\" d=\"M0,0h63v40h-63Z\" pointer-events=\"none\"/><g><g class=\"mark-group role-legend-entry\"><g transform=\"translate(0,16)\"><path class=\"background\" aria-hidden=\"true\" d=\"M0,0h0v0h0Z\" pointer-events=\"none\"/><g><g class=\"mark-group role-scope\" role=\"graphics-object\" aria-roledescription=\"group mark container\"><g transform=\"translate(0,0)\"><path class=\"background\" aria-hidden=\"true\" d=\"M0,0h63v11h-63Z\" pointer-events=\"none\" opacity=\"1\"/><g><g class=\"mark-symbol role-legend-symbol\" pointer-events=\"none\"><path transform=\"translate(6,6)\" d=\"M-5,0L5,0\" stroke=\"#4c78a8\" stroke-width=\"1.5\" opacity=\"1\"/></g><g class=\"mark-text role-legend-label\" pointer-events=\"none\"><text text-anchor=\"start\" transform=\"translate(16,9)\" font-family=\"sans-serif\" font-size=\"10px\" fill=\"#000\" opacity=\"1\">FUND</text></g></g><path class=\"foreground\" aria-hidden=\"true\" d=\"\" pointer-events=\"none\" display=\"none\"/></g><g transform=\"translate(0,13)\"><path class=\"background\" aria-hidden=\"true\" d=\"M0,0h63v11h-63Z\" pointer-events=\"none\" opacity=\"1\"/><g><g class=\"mark-symbol role-legend-symbol\" pointer-events=\"none\"><path transform=\"translate(6,6)\" d=\"M-5,0L5,0\" stroke=\"#f58518\" stroke-width=\"1.5\" opacity=\"1\"/></g><g class=\"mark-text role-legend-label\" pointer-events=\"none\"><text text-anchor=\"start\" transform=\"translate(16,9)\" font-family=\"sans-serif\" font-size=\"10px\" fill=\"#000\" opacity=\"1\">FUNDFAIR</text></g></g><path class=\"foreground\" aria-hidden=\"true\" d=\"\" pointer-events=\"none\" display=\"none\"/></g></g></g><path class=\"foreground\" aria-hidden=\"true\" d=\"\" pointer-events=\"none\" display=\"none\"/></g></g><g class=\"mark-text role-legend-title\" pointer-events=\"none\"><text text-anchor=\"start\" transform=\"translate(0,9)\" font-family=\"sans-serif\" font-size=\"11px\" font-weight=\"bold\" fill=\"#000\" opacity=\"1\">variable</text></g></g><path class=\"foreground\" aria-hidden=\"true\" d=\"\" pointer-events=\"none\" display=\"none\"/></g></g></g><path class=\"foreground\" aria-hidden=\"true\" d=\"\" display=\"none\"/></g></g></g></svg>\n"
      ],
      "text/plain": [
       "@vlplot(\n",
       "    mark=\"line\",\n",
       "    encoding={\n",
       "        x={\n",
       "            field=\"Year\"\n",
       "        },\n",
       "        y={\n",
       "            field=\"value\"\n",
       "        },\n",
       "        color={\n",
       "            field=\"variable\"\n",
       "        }\n",
       "    },\n",
       "    data={\n",
       "        values=...\n",
       "    }\n",
       ")"
      ]
     },
     "execution_count": 25,
     "metadata": {},
     "output_type": "execute_result"
    }
   ],
   "source": [
    "fundfairvals =  m[:emissions, :cumglobco2]\n",
    "fundvals = vcat(\n",
    "    fill(missing, length(FAIR_first:FUND_first)-1),\n",
    "    sum(mfund[:emissions, :cumglobco2][1:length(FUND_first:FAIR_last),:], dims = 2)\n",
    ")\n",
    "fundvals = fundvals[:,1]; # make a vector\n",
    "\n",
    "df = DataFrame(\n",
    "    :Year => Mimi.time_labels(m),\n",
    "    :FUND => fundvals, \n",
    "    :FUNDFAIR => fundfairvals)\n",
    "\n",
    "stack(df, [:FUND, :FUNDFAIR]) |> \n",
    "\n",
    "@vlplot(\n",
    "    :line, \n",
    "    x = :Year,\n",
    "    y = :value,\n",
    "    color = :variable\n",
    ")"
   ]
  },
  {
   "cell_type": "code",
   "execution_count": 26,
   "metadata": {},
   "outputs": [
    {
     "data": {
      "application/vnd.vegalite.v4+json": {
       "data": {
        "values": [
         {
          "DIFF": null,
          "Year": 1950
         },
         {
          "DIFF": null,
          "Year": 1951
         },
         {
          "DIFF": null,
          "Year": 1952
         },
         {
          "DIFF": null,
          "Year": 1953
         },
         {
          "DIFF": null,
          "Year": 1954
         },
         {
          "DIFF": null,
          "Year": 1955
         },
         {
          "DIFF": null,
          "Year": 1956
         },
         {
          "DIFF": null,
          "Year": 1957
         },
         {
          "DIFF": null,
          "Year": 1958
         },
         {
          "DIFF": null,
          "Year": 1959
         },
         {
          "DIFF": null,
          "Year": 1960
         },
         {
          "DIFF": null,
          "Year": 1961
         },
         {
          "DIFF": null,
          "Year": 1962
         },
         {
          "DIFF": null,
          "Year": 1963
         },
         {
          "DIFF": null,
          "Year": 1964
         },
         {
          "DIFF": null,
          "Year": 1965
         },
         {
          "DIFF": null,
          "Year": 1966
         },
         {
          "DIFF": null,
          "Year": 1967
         },
         {
          "DIFF": null,
          "Year": 1968
         },
         {
          "DIFF": null,
          "Year": 1969
         },
         {
          "DIFF": null,
          "Year": 1970
         },
         {
          "DIFF": null,
          "Year": 1971
         },
         {
          "DIFF": null,
          "Year": 1972
         },
         {
          "DIFF": null,
          "Year": 1973
         },
         {
          "DIFF": null,
          "Year": 1974
         },
         {
          "DIFF": null,
          "Year": 1975
         },
         {
          "DIFF": null,
          "Year": 1976
         },
         {
          "DIFF": null,
          "Year": 1977
         },
         {
          "DIFF": null,
          "Year": 1978
         },
         {
          "DIFF": null,
          "Year": 1979
         },
         {
          "DIFF": null,
          "Year": 1980
         },
         {
          "DIFF": null,
          "Year": 1981
         },
         {
          "DIFF": null,
          "Year": 1982
         },
         {
          "DIFF": null,
          "Year": 1983
         },
         {
          "DIFF": null,
          "Year": 1984
         },
         {
          "DIFF": null,
          "Year": 1985
         },
         {
          "DIFF": null,
          "Year": 1986
         },
         {
          "DIFF": null,
          "Year": 1987
         },
         {
          "DIFF": null,
          "Year": 1988
         },
         {
          "DIFF": null,
          "Year": 1989
         },
         {
          "DIFF": null,
          "Year": 1990
         },
         {
          "DIFF": null,
          "Year": 1991
         },
         {
          "DIFF": null,
          "Year": 1992
         },
         {
          "DIFF": null,
          "Year": 1993
         },
         {
          "DIFF": null,
          "Year": 1994
         },
         {
          "DIFF": null,
          "Year": 1995
         },
         {
          "DIFF": null,
          "Year": 1996
         },
         {
          "DIFF": null,
          "Year": 1997
         },
         {
          "DIFF": null,
          "Year": 1998
         },
         {
          "DIFF": null,
          "Year": 1999
         },
         {
          "DIFF": null,
          "Year": 2000
         },
         {
          "DIFF": null,
          "Year": 2001
         },
         {
          "DIFF": null,
          "Year": 2002
         },
         {
          "DIFF": null,
          "Year": 2003
         },
         {
          "DIFF": null,
          "Year": 2004
         },
         {
          "DIFF": null,
          "Year": 2005
         },
         {
          "DIFF": null,
          "Year": 2006
         },
         {
          "DIFF": null,
          "Year": 2007
         },
         {
          "DIFF": null,
          "Year": 2008
         },
         {
          "DIFF": null,
          "Year": 2009
         },
         {
          "DIFF": null,
          "Year": 2010
         },
         {
          "DIFF": null,
          "Year": 2011
         },
         {
          "DIFF": null,
          "Year": 2012
         },
         {
          "DIFF": null,
          "Year": 2013
         },
         {
          "DIFF": null,
          "Year": 2014
         },
         {
          "DIFF": 0,
          "Year": 2015
         },
         {
          "DIFF": 86506.40787420949,
          "Year": 2016
         },
         {
          "DIFF": 180052.08051425757,
          "Year": 2017
         },
         {
          "DIFF": 280506.9178022185,
          "Year": 2018
         },
         {
          "DIFF": 387729.7236758918,
          "Year": 2019
         },
         {
          "DIFF": 501569.3077815185,
          "Year": 2020
         },
         {
          "DIFF": 621865.2677752599,
          "Year": 2021
         },
         {
          "DIFF": 748448.7288637602,
          "Year": 2022
         },
         {
          "DIFF": 881144.0351579085,
          "Year": 2023
         },
         {
          "DIFF": 1019765.940333255,
          "Year": 2024
         },
         {
          "DIFF": 1164128.697739127,
          "Year": 2025
         },
         {
          "DIFF": 1314044.352273145,
          "Year": 2026
         },
         {
          "DIFF": 1469318.6407033484,
          "Year": 2027
         },
         {
          "DIFF": 1629749.9064823007,
          "Year": 2028
         },
         {
          "DIFF": 1795130.5930650367,
          "Year": 2029
         },
         {
          "DIFF": 1965257.623181222,
          "Year": 2030
         },
         {
          "DIFF": 2139917.686638892,
          "Year": 2031
         },
         {
          "DIFF": 2318906.5856174375,
          "Year": 2032
         },
         {
          "DIFF": 2502004.4982925956,
          "Year": 2033
         },
         {
          "DIFF": 2688990.388921761,
          "Year": 2034
         },
         {
          "DIFF": 2879705.9375406974,
          "Year": 2035
         },
         {
          "DIFF": 3073944.4766918123,
          "Year": 2036
         },
         {
          "DIFF": 3271493.292872598,
          "Year": 2037
         },
         {
          "DIFF": 3472192.45235912,
          "Year": 2038
         },
         {
          "DIFF": 3675834.0919735897,
          "Year": 2039
         },
         {
          "DIFF": 3882203.7984936573,
          "Year": 2040
         },
         {
          "DIFF": 4091108.5063192165,
          "Year": 2041
         },
         {
          "DIFF": 4302319.801342999,
          "Year": 2042
         },
         {
          "DIFF": 4515614.754441684,
          "Year": 2043
         },
         {
          "DIFF": 4730775.917109151,
          "Year": 2044
         },
         {
          "DIFF": 4947701.725644147,
          "Year": 2045
         },
         {
          "DIFF": 5166155.209014238,
          "Year": 2046
         },
         {
          "DIFF": 5385935.64585586,
          "Year": 2047
         },
         {
          "DIFF": 5606847.519935162,
          "Year": 2048
         },
         {
          "DIFF": 5828700.4247159865,
          "Year": 2049
         },
         {
          "DIFF": 6051308.899958968,
          "Year": 2050
         },
         {
          "DIFF": 6274498.676828413,
          "Year": 2051
         },
         {
          "DIFF": 6498102.441098244,
          "Year": 2052
         },
         {
          "DIFF": 6721963.045721959,
          "Year": 2053
         },
         {
          "DIFF": 6945935.718089151,
          "Year": 2054
         },
         {
          "DIFF": 7169739.963193833,
          "Year": 2055
         },
         {
          "DIFF": 7393462.6012737695,
          "Year": 2056
         },
         {
          "DIFF": 7616991.581837926,
          "Year": 2057
         },
         {
          "DIFF": 7840225.36282819,
          "Year": 2058
         },
         {
          "DIFF": 8063072.725517932,
          "Year": 2059
         },
         {
          "DIFF": 8285456.922637875,
          "Year": 2060
         },
         {
          "DIFF": 8507219.748543056,
          "Year": 2061
         },
         {
          "DIFF": 8728227.987192303,
          "Year": 2062
         },
         {
          "DIFF": 8948410.188486816,
          "Year": 2063
         },
         {
          "DIFF": 9167763.298095755,
          "Year": 2064
         },
         {
          "DIFF": 9386127.768283326,
          "Year": 2065
         },
         {
          "DIFF": 9603294.313664857,
          "Year": 2066
         },
         {
          "DIFF": 9819268.263073225,
          "Year": 2067
         },
         {
          "DIFF": 10033923.374237726,
          "Year": 2068
         },
         {
          "DIFF": 10247128.602715086,
          "Year": 2069
         },
         {
          "DIFF": 10458748.909491835,
          "Year": 2070
         },
         {
          "DIFF": 10668648.90181429,
          "Year": 2071
         },
         {
          "DIFF": 10876705.959378522,
          "Year": 2072
         },
         {
          "DIFF": 11082812.49376655,
          "Year": 2073
         },
         {
          "DIFF": 11286875.183953898,
          "Year": 2074
         },
         {
          "DIFF": 11488814.08100207,
          "Year": 2075
         },
         {
          "DIFF": 11688549.700768666,
          "Year": 2076
         },
         {
          "DIFF": 11886017.316513216,
          "Year": 2077
         },
         {
          "DIFF": 12081163.079402918,
          "Year": 2078
         },
         {
          "DIFF": 12273943.142670821,
          "Year": 2079
         },
         {
          "DIFF": 12464323.124499422,
          "Year": 2080
         },
         {
          "DIFF": 12652276.299664514,
          "Year": 2081
         },
         {
          "DIFF": 12837778.525961105,
          "Year": 2082
         },
         {
          "DIFF": 13020806.94589072,
          "Year": 2083
         },
         {
          "DIFF": 13201340.068257557,
          "Year": 2084
         },
         {
          "DIFF": 13379357.618344191,
          "Year": 2085
         },
         {
          "DIFF": 13554840.556032196,
          "Year": 2086
         },
         {
          "DIFF": 13727770.735560246,
          "Year": 2087
         },
         {
          "DIFF": 13898131.107478902,
          "Year": 2088
         },
         {
          "DIFF": 14065905.793392505,
          "Year": 2089
         },
         {
          "DIFF": 14231080.077134006,
          "Year": 2090
         },
         {
          "DIFF": 14393645.938687967,
          "Year": 2091
         },
         {
          "DIFF": 14553595.324227834,
          "Year": 2092
         },
         {
          "DIFF": 14710922.35721931,
          "Year": 2093
         },
         {
          "DIFF": 14865623.315135358,
          "Year": 2094
         },
         {
          "DIFF": 15017696.431532871,
          "Year": 2095
         },
         {
          "DIFF": 15167142.981260804,
          "Year": 2096
         },
         {
          "DIFF": 15313964.614283137,
          "Year": 2097
         },
         {
          "DIFF": 15458164.730622182,
          "Year": 2098
         },
         {
          "DIFF": 15599748.314838367,
          "Year": 2099
         },
         {
          "DIFF": 15738721.823933983,
          "Year": 2100
         }
        ]
       },
       "encoding": {
        "x": {
         "field": "Year",
         "type": "quantitative"
        },
        "y": {
         "field": "DIFF",
         "type": "quantitative"
        }
       },
       "mark": "line"
      },
      "image/png": "[encoded data removed]",
      "image/svg+xml": [
       "<?xml version=\"1.0\" encoding=\"utf-8\"?>\n",
       "<!DOCTYPE svg PUBLIC \"-//W3C//DTD SVG 1.1//EN\" \"http://www.w3.org/Graphics/SVG/1.1/DTD/svg11.dtd\">\n",
       "<svg xmlns=\"http://www.w3.org/2000/svg\" xmlns:xlink=\"http://www.w3.org/1999/xlink\" version=\"1.1\" class=\"marks\" width=\"280\" height=\"242\" viewBox=\"0 0 280 242\"><rect width=\"280\" height=\"242\" fill=\"white\"/><g fill=\"none\" stroke-miterlimit=\"10\" transform=\"translate(73,5)\"><g class=\"mark-group role-frame root\" role=\"graphics-object\" aria-roledescription=\"group mark container\"><g transform=\"translate(0,0)\"><path class=\"background\" aria-hidden=\"true\" d=\"M0.5,0.5h200v200h-200Z\" stroke=\"#ddd\"/><g><g class=\"mark-group role-axis\" aria-hidden=\"true\"><g transform=\"translate(0.5,200.5)\"><path class=\"background\" aria-hidden=\"true\" d=\"M0,0h0v0h0Z\" pointer-events=\"none\"/><g><g class=\"mark-rule role-axis-grid\" pointer-events=\"none\"><line transform=\"translate(13,-200)\" x2=\"0\" y2=\"200\" stroke=\"#ddd\" stroke-width=\"1\" opacity=\"1\"/><line transform=\"translate(75,-200)\" x2=\"0\" y2=\"200\" stroke=\"#ddd\" stroke-width=\"1\" opacity=\"1\"/><line transform=\"translate(138,-200)\" x2=\"0\" y2=\"200\" stroke=\"#ddd\" stroke-width=\"1\" opacity=\"1\"/><line transform=\"translate(200,-200)\" x2=\"0\" y2=\"200\" stroke=\"#ddd\" stroke-width=\"1\" opacity=\"1\"/></g></g><path class=\"foreground\" aria-hidden=\"true\" d=\"\" pointer-events=\"none\" display=\"none\"/></g></g><g class=\"mark-group role-axis\" aria-hidden=\"true\"><g transform=\"translate(0.5,0.5)\"><path class=\"background\" aria-hidden=\"true\" d=\"M0,0h0v0h0Z\" pointer-events=\"none\"/><g><g class=\"mark-rule role-axis-grid\" pointer-events=\"none\"><line transform=\"translate(0,200)\" x2=\"200\" y2=\"0\" stroke=\"#ddd\" stroke-width=\"1\" opacity=\"1\"/><line transform=\"translate(0,138)\" x2=\"200\" y2=\"0\" stroke=\"#ddd\" stroke-width=\"1\" opacity=\"1\"/><line transform=\"translate(0,75)\" x2=\"200\" y2=\"0\" stroke=\"#ddd\" stroke-width=\"1\" opacity=\"1\"/><line transform=\"translate(0,13)\" x2=\"200\" y2=\"0\" stroke=\"#ddd\" stroke-width=\"1\" opacity=\"1\"/></g></g><path class=\"foreground\" aria-hidden=\"true\" d=\"\" pointer-events=\"none\" display=\"none\"/></g></g><g class=\"mark-group role-axis\" role=\"graphics-symbol\" aria-roledescription=\"axis\" aria-label=\"X-axis titled 'Year' for a linear scale with values from 1,940 to 2,100\"><g transform=\"translate(0.5,200.5)\"><path class=\"background\" aria-hidden=\"true\" d=\"M0,0h0v0h0Z\" pointer-events=\"none\"/><g><g class=\"mark-rule role-axis-tick\" pointer-events=\"none\"><line transform=\"translate(13,0)\" x2=\"0\" y2=\"5\" stroke=\"#888\" stroke-width=\"1\" opacity=\"1\"/><line transform=\"translate(75,0)\" x2=\"0\" y2=\"5\" stroke=\"#888\" stroke-width=\"1\" opacity=\"1\"/><line transform=\"translate(138,0)\" x2=\"0\" y2=\"5\" stroke=\"#888\" stroke-width=\"1\" opacity=\"1\"/><line transform=\"translate(200,0)\" x2=\"0\" y2=\"5\" stroke=\"#888\" stroke-width=\"1\" opacity=\"1\"/></g><g class=\"mark-text role-axis-label\" pointer-events=\"none\"><text text-anchor=\"middle\" transform=\"translate(12.5,15)\" font-family=\"sans-serif\" font-size=\"10px\" fill=\"#000\" opacity=\"1\">1,950</text><text text-anchor=\"middle\" transform=\"translate(75,15)\" font-family=\"sans-serif\" font-size=\"10px\" fill=\"#000\" opacity=\"1\">2,000</text><text text-anchor=\"middle\" transform=\"translate(137.5,15)\" font-family=\"sans-serif\" font-size=\"10px\" fill=\"#000\" opacity=\"1\">2,050</text><text text-anchor=\"end\" transform=\"translate(200,15)\" font-family=\"sans-serif\" font-size=\"10px\" fill=\"#000\" opacity=\"1\">2,100</text></g><g class=\"mark-rule role-axis-domain\" pointer-events=\"none\"><line transform=\"translate(0,0)\" x2=\"200\" y2=\"0\" stroke=\"#888\" stroke-width=\"1\" opacity=\"1\"/></g><g class=\"mark-text role-axis-title\" pointer-events=\"none\"><text text-anchor=\"middle\" transform=\"translate(100,30)\" font-family=\"sans-serif\" font-size=\"11px\" font-weight=\"bold\" fill=\"#000\" opacity=\"1\">Year</text></g></g><path class=\"foreground\" aria-hidden=\"true\" d=\"\" pointer-events=\"none\" display=\"none\"/></g></g><g class=\"mark-group role-axis\" role=\"graphics-symbol\" aria-roledescription=\"axis\" aria-label=\"Y-axis titled 'DIFF' for a linear scale with values from 0 to 16,000,000\"><g transform=\"translate(0.5,0.5)\"><path class=\"background\" aria-hidden=\"true\" d=\"M0,0h0v0h0Z\" pointer-events=\"none\"/><g><g class=\"mark-rule role-axis-tick\" pointer-events=\"none\"><line transform=\"translate(0,200)\" x2=\"-5\" y2=\"0\" stroke=\"#888\" stroke-width=\"1\" opacity=\"1\"/><line transform=\"translate(0,138)\" x2=\"-5\" y2=\"0\" stroke=\"#888\" stroke-width=\"1\" opacity=\"1\"/><line transform=\"translate(0,75)\" x2=\"-5\" y2=\"0\" stroke=\"#888\" stroke-width=\"1\" opacity=\"1\"/><line transform=\"translate(0,13)\" x2=\"-5\" y2=\"0\" stroke=\"#888\" stroke-width=\"1\" opacity=\"1\"/></g><g class=\"mark-text role-axis-label\" pointer-events=\"none\"><text text-anchor=\"end\" transform=\"translate(-7,203)\" font-family=\"sans-serif\" font-size=\"10px\" fill=\"#000\" opacity=\"1\">0</text><text text-anchor=\"end\" transform=\"translate(-7,140.5)\" font-family=\"sans-serif\" font-size=\"10px\" fill=\"#000\" opacity=\"1\">5,000,000</text><text text-anchor=\"end\" transform=\"translate(-7,78)\" font-family=\"sans-serif\" font-size=\"10px\" fill=\"#000\" opacity=\"1\">10,000,000</text><text text-anchor=\"end\" transform=\"translate(-7,15.5)\" font-family=\"sans-serif\" font-size=\"10px\" fill=\"#000\" opacity=\"1\">15,000,000</text></g><g class=\"mark-rule role-axis-domain\" pointer-events=\"none\"><line transform=\"translate(0,200)\" x2=\"0\" y2=\"-200\" stroke=\"#888\" stroke-width=\"1\" opacity=\"1\"/></g><g class=\"mark-text role-axis-title\" pointer-events=\"none\"><text text-anchor=\"middle\" transform=\"translate(-57,100) rotate(-90) translate(0,-2)\" font-family=\"sans-serif\" font-size=\"11px\" font-weight=\"bold\" fill=\"#000\" opacity=\"1\">DIFF</text></g></g><path class=\"foreground\" aria-hidden=\"true\" d=\"\" pointer-events=\"none\" display=\"none\"/></g></g><g class=\"mark-line role-mark marks\" role=\"graphics-object\" aria-roledescription=\"line mark container\"><path aria-label=\"Year: 1950; DIFF: 0\" role=\"graphics-symbol\" aria-roledescription=\"line mark\" d=\"M93.75,200L95,198.9186699015724L96.25,197.74934899357177L97.5,196.49366352747225L98.75,195.15337845405136L100,193.730383652731L101.25,192.22668415280927L102.49999999999999,190.644390889203L103.75000000000001,188.98569956052614L105,187.25292574583432L106.25,185.4483912782609L107.5,183.5744455965857L108.74999999999999,181.63351699120813L110.00000000000001,179.62812616897125L111.25,177.56086758668704L112.5,175.43427971023473L113.75,173.25102891701385L114.99999999999999,171.01366767978203L116.25000000000001,168.72494377134254L117.5,166.38762013847798L118.75,164.00367578074128L120,161.57569404135234L121.24999999999999,159.1063338390925L122.50000000000001,156.597594345511L123.75,154.05207385033012L125,151.47245251882927L126.25,148.8611436710098L127.49999999999999,146.22100248321252L128.75,143.55481556947893L130,140.8653010361356L131.25,138.15372842944817L132.5,135.423059887322L133.75,132.67580442680176L135,129.9144060008105L136.25,127.14124469105018L137.5,124.3586387505129L138.75,121.56876653964484L140,118.77371948627196L141.25,115.9754619284755L142.5,113.1758035238856L143.75,110.37825046007708L145,107.58171748407787L146.25,104.78760522702592L147.5,101.99718296464762L148.75,99.21159093102585L150,96.43178846702656L151.25,93.6597531432118L152.5,90.8971501600962L153.75,88.1448726439148L155,85.40295877380306L156.25,82.67340289645841L157.5,79.95882107918928L158.75,77.25914671158469L160,74.57595782202844L161.25,71.91089246606141L162.5,69.26563863135206L163.75,66.64188872732137L165,64.04117550776847L166.25,61.46484382791812L167.5,58.91406020057628L168.75,56.38982398747412L170,53.893128740391674L171.25,51.424783543584795L172.5,48.985461507463526L173.75,46.57571071661473L175,44.19596094375724L176.25,41.84654625419357L177.5,39.5277684254862L178.75,37.23991317636602L180,34.98324914678052L181.25,32.75802977069762L182.5,30.564493049597562L183.75,28.402865805496937L185,26.27336115651373L186.25,24.176177582593674L187.5,22.11149903582492L188.75,20.079425766400405L190,18.08005844715208L191.25,16.113470534758623L192.5,14.179708560808034L193.75,12.278794605839117L195,10.410712734239947L196.25,8.575442321460791L197.5,6.772940867222732L198.75,5.003146064520414L200,3.265977200825221\" stroke=\"#4c78a8\" stroke-width=\"2\"/></g></g><path class=\"foreground\" aria-hidden=\"true\" d=\"\" display=\"none\"/></g></g></g></svg>\n"
      ],
      "text/plain": [
       "@vlplot(\n",
       "    mark=\"line\",\n",
       "    encoding={\n",
       "        x={\n",
       "            field=\"Year\"\n",
       "        },\n",
       "        y={\n",
       "            field=\"DIFF\"\n",
       "        }\n",
       "    },\n",
       "    data={\n",
       "        values=...\n",
       "    }\n",
       ")"
      ]
     },
     "execution_count": 26,
     "metadata": {},
     "output_type": "execute_result"
    }
   ],
   "source": [
    "# difference between fundfair and fund in cumulative emissions since the graph above masks it out due \n",
    "# to scale\n",
    "\n",
    "diffs = fundfairvals .- fundvals\n",
    "DataFrame(:Year => Mimi.time_labels(m), :DIFF => diffs) |>\n",
    "@vlplot(\n",
    "    :line, \n",
    "    x = :Year,\n",
    "    y = :DIFF,\n",
    ")"
   ]
  },
  {
   "cell_type": "code",
   "execution_count": 27,
   "metadata": {},
   "outputs": [
    {
     "data": {
      "text/plain": [
       "21-element Vector{Union{Missing, Float64}}:\n",
       " 513538.35553196503\n",
       " 636412.9193409397\n",
       " 765647.3792695864\n",
       " 901071.9358249574\n",
       "      1.0425080365045022e6\n",
       "      1.1897727774051116e6\n",
       "      1.3426782014640316e6\n",
       "      1.5010346957427496e6\n",
       "      1.6646455681208181e6\n",
       "      1.8333085679473432e6\n",
       "      2.0068262954914104e6\n",
       "      2.184991523094081e6\n",
       "      2.367606577343716e6\n",
       "      2.554458643525e6\n",
       "      2.74533422092643e6\n",
       "      2.9400204639689536e6\n",
       "      3.138305711853989e6\n",
       "      3.33998027451566e6\n",
       "      3.544887396376139e6\n",
       "      3.752822556234364e6\n",
       "      3.963574856388768e6"
      ]
     },
     "execution_count": 27,
     "metadata": {},
     "output_type": "execute_result"
    }
   ],
   "source": [
    "# cumulative emissions value in 2020 - 2040\n",
    "idxStart = findfirst(x -> x == 2020, Mimi.time_labels(m))\n",
    "idxEnd = findfirst(x -> x == 2040, Mimi.time_labels(m))\n",
    "fundfairvals[idxStart:idxEnd]"
   ]
  },
  {
   "cell_type": "code",
   "execution_count": null,
   "metadata": {},
   "outputs": [],
   "source": []
  }
 ],
 "metadata": {
  "kernelspec": {
   "display_name": "Julia 1.8.1",
   "language": "julia",
   "name": "julia-1.8"
  },
  "language_info": {
   "file_extension": ".jl",
   "mimetype": "application/julia",
   "name": "julia",
   "version": "1.8.1"
  }
 },
 "nbformat": 4,
 "nbformat_minor": 4
}
