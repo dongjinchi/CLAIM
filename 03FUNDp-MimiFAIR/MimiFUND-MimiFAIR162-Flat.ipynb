{
 "cells": [
  {
   "cell_type": "markdown",
   "metadata": {},
   "source": [
    "## Implementation of MimiFAIR162-MimiFUND"
   ]
  },
  {
   "cell_type": "markdown",
   "metadata": {},
   "source": [
    "This notebook implements a coupling of the MimiFAIR model and the MimiFUND model. At a high-level, the goal here is to use the MimiFAIR model as the climate module, and the MimiFUND model as the socioeconomic and damages modules, although in this case we still allow MimiFUND's climate module to take care of the modeling of non-CO₂ gases like methane.  \n",
    "\n",
    "This is meant to be an instructional example for the use-case of Mimi where a user wishes to couple together existing models.\n",
    "\n",
    "Resources for further inquiries include:\n",
    "\n",
    "- The Mimi framework [website](https://www.mimiframework.org)\n",
    "- The Mimi [forum](https://forum.mimiframework.org) for technical and Mimi-related questions\n",
    "- The model-specific repositories, [MimiFUND](https://github.com/fund-model/MimiFUND.jl) and [MimiFAIR](https://github.com/anthofflab/mimi-fair.jl/) for model-specific inquiries\n",
    "\n",
    "If you wish to follow alone, feel free to download or clone the Github repository, or create a new project on your own machine. If you are new to Mimi, you will probably want to start with our basic Mimi installation process as described in our documentation [here](https://www.mimiframework.org/Mimi.jl/stable/tutorials/tutorial_1/#Tutorial-1:-Install-Mimi-1)."
   ]
  },
  {
   "cell_type": "markdown",
   "metadata": {},
   "source": [
    "### Set up the Environment"
   ]
  },
  {
   "cell_type": "markdown",
   "metadata": {},
   "source": [
    "The first step is to set up the environment with the required packages and versions for this exercise as indicated in the `Manifest.toml` and `Project.toml` files. As you can see from the call to `Pkg.status()`, this work requires a few packages including the `master` branch of `Mimi`, the default (latest tagged) versions of `MimiFAIR` and `MimiFUND` model implementations, and some supporting packages `CSVFiles`, `DataFrames`, and `Vegalite`."
   ]
  },
  {
   "cell_type": "code",
   "execution_count": 1,
   "metadata": {},
   "outputs": [],
   "source": [
    "#using Pkg\n",
    "#Pkg.activate(@__DIR__)\n",
    "#Pkg.status()"
   ]
  },
  {
   "cell_type": "markdown",
   "metadata": {},
   "source": [
    "Note that if you are following along on your own machine without downloading this repository, you can recreate this environment by adding each of the packages listed above with `Pkg.add()`, or using the `Pkg` REPL entered with `]`."
   ]
  },
  {
   "cell_type": "code",
   "execution_count": 2,
   "metadata": {},
   "outputs": [],
   "source": [
    "# using Pkg\n",
    "# Pkg.add(\"CSVFiles\")\n",
    "# Pkg.add(\"DataFrames\")\n",
    "# Pkg.add(\"Mimi\")\n",
    "#Pkg.add(\"MimiFAIR\")\n",
    "#Pkg.add(\"MimiFAIRv1_6_2\")\n",
    "# Pkg.add(\"MimiFUND\")\n",
    "# Pkg.add(\"VegaLite\")\n",
    "\n",
    "# Pkg.status()"
   ]
  },
  {
   "cell_type": "markdown",
   "metadata": {},
   "source": [
    "Next we load the packages whose APIs we will be directly using as well as set some constants to be used in the script."
   ]
  },
  {
   "cell_type": "code",
   "execution_count": 3,
   "metadata": {},
   "outputs": [],
   "source": [
    "using MimiFAIRv1_6_2\n",
    "using Mimi"
   ]
  },
  {
   "cell_type": "markdown",
   "metadata": {},
   "source": [
    "### Load Helpers and Set Constants"
   ]
  },
  {
   "cell_type": "markdown",
   "metadata": {},
   "source": [
    "We will now load some helper functions and set some constants, most of which have to do with the difference in time dimensions between FAIR and FUND, which will drive much of our coupling work.\n",
    "\n",
    "\n",
    "The `helper.jl` file defines the `update_MimiFAIR_params!` function with the following signature.  This is copied directly from the source code of `MimiFAIR.jl` and takes care of the calls to `update_param!`, `add_shared_param!`, and `connect_param!` that build up the stand alone MimiFAIR model.\n",
    "\n",
    "\n",
    "```\n",
    "function update_MimiFAIR_params!(m; rcp_scenario::String=\"RCP85\", start_year::Int=1765, end_year::Int=2500, F2x::Float64=3.71, TCR::Float64=1.6, ECS::Float64=2.75, d::Array{Float64,1}=[239.0, 4.1])\n",
    "```\n",
    "\n",
    "In the future we can likely shorten this function by adding `default` values to the scalar parameters of FAIR."
   ]
  },
  {
   "cell_type": "code",
   "execution_count": 50,
   "metadata": {},
   "outputs": [
    {
     "name": "stderr",
     "output_type": "stream",
     "text": [
      "WARNING: replacing module FUNDprovince.\n"
     ]
    },
    {
     "data": {
      "text/plain": [
       "Main.FUNDprovince"
      ]
     },
     "execution_count": 50,
     "metadata": {},
     "output_type": "execute_result"
    }
   ],
   "source": [
    "include(\"src/helper.jl\");\n",
    "include(\"E:/10Julia/02FUND-Province-julia/src/FUND-province-julia.jl\")"
   ]
  },
  {
   "cell_type": "code",
   "execution_count": 5,
   "metadata": {},
   "outputs": [
    {
     "data": {
      "text/plain": [
       "86"
      ]
     },
     "execution_count": 5,
     "metadata": {},
     "output_type": "execute_result"
    }
   ],
   "source": [
    "# set some constants\n",
    "ar6_scenario = \"ssp585\"\n",
    "\n",
    "FAIR_first = 2015\n",
    "FAIR_last = 2100\n",
    "FAIR_len = length(FAIR_first:FAIR_last)\n",
    "\n",
    "FUND_first = 2015\n",
    "FUND_last = 2100\n",
    "FUND_len = length(FUND_first:FUND_last)"
   ]
  },
  {
   "cell_type": "markdown",
   "metadata": {},
   "source": [
    "### Load Independent (Default) FUND and FAIR Models"
   ]
  },
  {
   "cell_type": "markdown",
   "metadata": {},
   "source": [
    "We begin with the default FUND model as implemented in `MimiFUND.jl`."
   ]
  },
  {
   "cell_type": "code",
   "execution_count": 6,
   "metadata": {},
   "outputs": [
    {
     "name": "stdout",
     "output_type": "stream",
     "text": [
      ":emissions:impactaggregation:scenariouncertainty:climatedynamics:climateco2cycle:emissions:scenariouncertainty:climateregional:climateco2cycle:emissions:climatedynamics:population:climateco2cycle:climateco2cycle:climatedynamics:climateco2cycle:scenariouncertainty:socioeconomic:scenariouncertainty"
     ]
    },
    {
     "data": {
      "text/plain": [
       "Mimi.Model\n",
       "  Module: Mimi\n",
       "  Components:\n",
       "    ComponentId(Main.FUNDprovince.scenariouncertainty)\n",
       "    ComponentId(Main.FUNDprovince.population)\n",
       "    ComponentId(Main.FUNDprovince.socioeconomic)\n",
       "    ComponentId(Main.FUNDprovince.emissions)\n",
       "    ComponentId(Main.FUNDprovince.climateco2cycle)\n",
       "    ComponentId(Main.FUNDprovince.climateforcing)\n",
       "    ComponentId(Main.FUNDprovince.climatedynamics)\n",
       "    ComponentId(Main.FUNDprovince.climateregional)\n",
       "    ComponentId(Main.FUNDprovince.impactaggregation)\n",
       "  Built: false\n"
      ]
     },
     "execution_count": 6,
     "metadata": {},
     "output_type": "execute_result"
    }
   ],
   "source": [
    "using DelimitedFiles\n",
    "regionsdata = readdlm(\"E:/10Julia/02FUND-Province-julia/data/regions.csv\", ',',String)\n",
    "regions =regionsdata[2:end, 1]\n",
    "default_datadir = joinpath(\"E:/10Julia/02FUND-Province-julia\", \"data\")\n",
    "default_params = nothing\n",
    "m = FUNDprovince.get_model(syear=2015, nsteps = 85, regions = regions, datadir = default_datadir, params = default_params)"
   ]
  },
  {
   "cell_type": "markdown",
   "metadata": {},
   "source": [
    "### Add and Update Dimensions"
   ]
  },
  {
   "cell_type": "markdown",
   "metadata": {},
   "source": [
    "The first step in building out our coupled model, starting with our default FUND model, is to handle dimensions. Currently the model `m` has two dimensions, `time` and `regions`. "
   ]
  },
  {
   "cell_type": "code",
   "execution_count": 7,
   "metadata": {},
   "outputs": [
    {
     "data": {
      "text/plain": [
       "OrderedCollections.OrderedDict{Symbol, Union{Nothing, Mimi.Dimension}} with 3 entries:\n",
       "  :time       => [2015, 2016, 2017, 2018, 2019, 2020, 2021, 2022, 2023, 2024  ……\n",
       "  :regions    => [\"4\", \"12\", \"20\", \"24\", \"28\", \"31\", \"44\", \"48\", \"51\", \"52\"  … …\n",
       "  Symbol(\"5\") => [1, 2, 3, 4, 5]"
      ]
     },
     "execution_count": 7,
     "metadata": {},
     "output_type": "execute_result"
    }
   ],
   "source": [
    "m.md.dim_dict # display the dimensions of the default FUND model"
   ]
  },
  {
   "cell_type": "markdown",
   "metadata": {},
   "source": [
    "We now add two new dimensions to our model `m` that are used by FAIR."
   ]
  },
  {
   "cell_type": "code",
   "execution_count": 8,
   "metadata": {},
   "outputs": [
    {
     "data": {
      "text/plain": [
       "OrderedCollections.OrderedDict{Symbol, Union{Nothing, Mimi.Dimension}} with 5 entries:\n",
       "  :time                       => [2015, 2016, 2017, 2018, 2019, 2020, 2021, 202…\n",
       "  :regions                    => [\"4\", \"12\", \"20\", \"24\", \"28\", \"31\", \"44\", \"48\"…\n",
       "  Symbol(\"5\")                 => [1, 2, 3, 4, 5]\n",
       "  :other_ghg                  => [\"CF4\", \"C2F6\", \"C6F14\", \"HFC23\", \"HFC32\", \"HF…\n",
       "  :ozone_depleting_substances => [\"CFC_11\", \"CFC_12\", \"CFC_113\", \"CFC_114\", \"CF…"
      ]
     },
     "execution_count": 8,
     "metadata": {},
     "output_type": "execute_result"
    }
   ],
   "source": [
    "# add new dimensions relevant to FAIR (1) minor greenhouse gases and \n",
    "# (2) ozone-depleting substances\n",
    "other_ghg_names = [\"CF4\", \"C2F6\", \"C6F14\", \"HFC23\", \"HFC32\", \"HFC43_10\", \"HFC125\", \"HFC134a\", \"HFC143a\", \"HFC227ea\", \"HFC245fa\", \"SF6\"]\n",
    "ods_names       = [\"CFC_11\", \"CFC_12\", \"CFC_113\", \"CFC_114\", \"CFC_115\", \"CARB_TET\", \"MCF\", \"HCFC_22\", \"HCFC_141B\", \"HCFC_142B\", \"HALON1211\", \"HALON1202\", \"HALON1301\", \"HALON2402\", \"CH3BR\", \"CH3CL\"]\n",
    "\n",
    "set_dimension!(m, :other_ghg, other_ghg_names) # FAIR dims - Set index for Kyoto and ozone ozone-depleting gases.\n",
    "set_dimension!(m, :ozone_depleting_substances, ods_names) # FAIR dims - Set index for Kyoto and ozone ozone-depleting gases.\n",
    "\n",
    "m.md.dim_dict  # display the (augmented) dimensions of the default FUND model's Model Definition"
   ]
  },
  {
   "cell_type": "markdown",
   "metadata": {},
   "source": [
    "The final dimensions-related step is to expand the time dimension of the model.  At this stage, our model runs on FUND's default time dimension 1950 to 3000 (`FUND_first` to `FUND_last`).  FAIR, however, runs from 1765 to 2500 (`FAIR_first` to `FAIR_last`) so we are going to set our model to run from 1765 to 2500.\n",
    "\n",
    "FUND will not start running until 1950, and will not produce an `emissions` value until 1951, so up until 1951 FAIR will use `backup` values pulled from default FUND as we will describe in detail below.\n",
    "\n",
    "**For further details on the effects and restrictions around updating the `time` dimension of a model see the documentation [here](https://www.mimiframework.org/Mimi.jl/dev/howto/howto_5/).**"
   ]
  },
  {
   "cell_type": "code",
   "execution_count": 9,
   "metadata": {},
   "outputs": [
    {
     "data": {
      "text/plain": [
       "OrderedCollections.OrderedDict{Symbol, Union{Nothing, Mimi.Dimension}} with 5 entries:\n",
       "  :time                       => [2015, 2016, 2017, 2018, 2019, 2020, 2021, 202…\n",
       "  :regions                    => [\"4\", \"12\", \"20\", \"24\", \"28\", \"31\", \"44\", \"48\"…\n",
       "  Symbol(\"5\")                 => [1, 2, 3, 4, 5]\n",
       "  :other_ghg                  => [\"CF4\", \"C2F6\", \"C6F14\", \"HFC23\", \"HFC32\", \"HF…\n",
       "  :ozone_depleting_substances => [\"CFC_11\", \"CFC_12\", \"CFC_113\", \"CFC_114\", \"CF…"
      ]
     },
     "execution_count": 9,
     "metadata": {},
     "output_type": "execute_result"
    }
   ],
   "source": [
    "set_dimension!(m, :time, collect(FAIR_first:FUND_last))\n",
    "\n",
    "m.md.dim_dict # display the (udpated) dimensions of the model"
   ]
  },
  {
   "cell_type": "markdown",
   "metadata": {},
   "source": [
    "### Augment FUND with FAIR Components"
   ]
  },
  {
   "cell_type": "markdown",
   "metadata": {},
   "source": [
    "We now add the FAIR components to our model.  We place them in a contiguous block starting after the FUND `emissions` component, which will feed results into the FAIR components before FAIR feeds back into FUND from its `temperature` component.\n",
    "\n",
    "Also note that since we have updated the time dimension to run from `FAIR_first` to `FAIR_last`, or 1765 to 2500, each of these new components will be set to run from 1765 to 2500, the full model time period, by default."
   ]
  },
  {
   "cell_type": "code",
   "execution_count": 10,
   "metadata": {},
   "outputs": [],
   "source": [
    "add_comp!(m, MimiFAIRv1_6_2.ch4_cycle; after = :emissions);\n",
    "add_comp!(m, MimiFAIRv1_6_2.n2o_cycle; after = :ch4_cycle);\n",
    "add_comp!(m, MimiFAIRv1_6_2.co2_cycle; after = :n2o_cycle);\n",
    "add_comp!(m, MimiFAIRv1_6_2.other_ghg_cycles; after = :co2_cycle);\n",
    "add_comp!(m, MimiFAIRv1_6_2.o3_depleting_substance_cycles; after = :other_ghg_cycles);\n",
    "add_comp!(m, MimiFAIRv1_6_2.co2_forcing; after = :o3_depleting_substance_cycles);\n",
    "add_comp!(m, MimiFAIRv1_6_2.ch4_forcing; after = :co2_forcing);\n",
    "add_comp!(m, MimiFAIRv1_6_2.n2o_forcing; after = :ch4_forcing);\n",
    "add_comp!(m, MimiFAIRv1_6_2.o3_forcing; after = :n2o_forcing);\n",
    "add_comp!(m, MimiFAIRv1_6_2.aerosol_direct_forcing; after = :o3_forcing);\n",
    "add_comp!(m, MimiFAIRv1_6_2.aerosol_indirect_forcing; after = :aerosol_direct_forcing);\n",
    "add_comp!(m, MimiFAIRv1_6_2.other_ghg_forcing; after = :aerosol_indirect_forcing);\n",
    "add_comp!(m, MimiFAIRv1_6_2.o3_depleting_substance_forcing; after = :other_ghg_forcing);\n",
    "add_comp!(m, MimiFAIRv1_6_2.contrails_forcing; after = :o3_depleting_substance_forcing);\n",
    "add_comp!(m, MimiFAIRv1_6_2.bc_snow_forcing; after = :contrails_forcing);\n",
    "add_comp!(m, MimiFAIRv1_6_2.landuse_forcing; after = :bc_snow_forcing);\n",
    "add_comp!(m, MimiFAIRv1_6_2.total_forcing; after = :landuse_forcing);\n",
    "add_comp!(m, MimiFAIRv1_6_2.temperature; after = :total_forcing);"
   ]
  },
  {
   "cell_type": "markdown",
   "metadata": {},
   "source": [
    "Next we run our helper function to update all the FAIR component parameters and make their internal connections, such that we have added  a fully functional and runnable FAIR model into our FUND model.\n"
   ]
  },
  {
   "cell_type": "code",
   "execution_count": 11,
   "metadata": {},
   "outputs": [],
   "source": [
    "update_MimiFAIR162_params!(m; start_year = FAIR_first, end_year = FAIR_last, ar6_scenario = ar6_scenario)"
   ]
  },
  {
   "cell_type": "markdown",
   "metadata": {},
   "source": [
    "At this point the model `m` is runnable (and in fact none of the steps in this notebook thus far have made an invalid, unrunnable model), but currently `m` will run FUND and FAIR in their default modes and completely disconnected.  The next section describes the steps to couple them together."
   ]
  },
  {
   "cell_type": "markdown",
   "metadata": {},
   "source": [
    "### Couple FUND and FAIR"
   ]
  },
  {
   "cell_type": "markdown",
   "metadata": {},
   "source": [
    "#### FUND Emissions --> Convert Mtons to Gtons --> FAIR CO₂ Cycle"
   ]
  },
  {
   "cell_type": "markdown",
   "metadata": {},
   "source": [
    "We want to connect the FUND `emissions` component's `mco2` variable the FAIR `co2_cycle` component's `E_CO₂` parameter.  In the stand-alone version of FAIR, the `E_CO₂` is exogenously forced by the summation of all `CO₂` sources, as shown in it's source code (and the `helper.jl` file):\n",
    "\n",
    "```\n",
    "rcp_emissions, volcano_forcing, solar_forcing, gas_data, gas_fractions, conversions = MimiFAIR.load_fair_data(start_year, end_year, rcp_scenario)\n",
    "\n",
    "update_param!(m, :co2_cycle, :E_CO₂, rcp_emissions.FossilCO2 .+ rcp_emissions.OtherCO2)\n",
    "```"
   ]
  },
  {
   "cell_type": "markdown",
   "metadata": {},
   "source": [
    "First we need to add a `multiplier` component between FUND's `emissions` component and the FAIR components because FUND outputs Mtons of C but FAIR expects Gtons of C. **Note that these models expect C instead of CO₂, which is endogenous to the model so we must align with those**.\n",
    "\n",
    "Mimi has a few built in components for this type of situation, including `Mimi.multiplier`, as decribed [here](https://www.mimiframework.org/Mimi.jl/stable/tutorials/tutorial_3/#Component-and-Structural-Modifications:-The-API-1).  \n",
    "\n",
    "This small component just needs a connected `input` parameter and a `multiply` parameter to produce an `output` variable. In this case, we connect the `multiplier` component's `input` parameter to the `emissions` component's `mco2` variable and set `multiply` parameter to our unit conversion value of 1/1000. We also set the `multiplier` component to run only while FUND runs by setting `first = FUND_first` and `last = FUND_last`."
   ]
  },
  {
   "cell_type": "code",
   "execution_count": 12,
   "metadata": {},
   "outputs": [],
   "source": [
    "add_comp!(m, Mimi.multiplier; after = :emissions, first = FUND_first, last = FUND_last);\n",
    "set_param!(m, :multiplier, :multiply, fill(1/1000, FAIR_len)) # convert Mtons C coming out of FUND to Gtons C going into FAIR\n",
    "connect_param!(m, :multiplier, :input, :emissions, :mco2)"
   ]
  },
  {
   "cell_type": "markdown",
   "metadata": {},
   "source": [
    "Now that we have taken care of unit conversion, we can connect the FAIR `co2_cycle` component's `E_CO₂` parameter to the `multiplier` component's `output` variable.  A few notes on the arguments having to do with backup data are:\n",
    "\n",
    "- Since FAIR runs from 1765 to 1950, but FUND (and the multiplier) only runs from 1950 to 2500, we need to include backup data `FAIR_CO₂_backup` for FAIR to use until FUND can provide a value.  We use the same data that previously exogenously forced FAIR.\n",
    "\n",
    "\n",
    "- We also need to include the `backup_offset` optional argument for the `connect_param!` function, because FUND does not actually produce a value for `mco2` until it's *second* timestep, or in this case 1951, and thus we set `backup_offset = 1`."
   ]
  },
  {
   "cell_type": "code",
   "execution_count": 13,
   "metadata": {},
   "outputs": [],
   "source": [
    "# destination: FAIR component :co2_cycle parameter :E_CO₂\n",
    "# previous source: exogenous parameter\n",
    "# new source: FUND :emissions variable :mco2 (which first runs through the multiplier component)\n",
    "\n",
    "# Subset AR6 emissions to proper years.\n",
    "ar6_emissions_raw = DataFrame(load(joinpath(@__DIR__, \"data\", \"model_data\", \"AR6_emissions_\"*ar6_scenario*\"_1750_2300.csv\")))\n",
    "emission_indices = indexin(collect(FAIR_first:FAIR_last), ar6_emissions_raw.Year)\n",
    "ar6_emissions = ar6_emissions_raw[emission_indices, :]\n",
    "\n",
    "FAIR_CO₂_backup = (ar6_emissions.FossilCO2 .+ ar6_emissions.OtherCO2)\n",
    "connect_param!(m, :co2_cycle, :E_co2, :multiplier, :output, FAIR_CO₂_backup, backup_offset = 1)"
   ]
  },
  {
   "cell_type": "markdown",
   "metadata": {},
   "source": [
    "A note here is that FAIR v1.6.2 splits land use CO2 emissions and fossil CO2 emissions, and feeds their sum into the `co2_cycle`, but just the land use emissions into the `landuse_forcing` component in MimiFAIRv1_6_2. Given FUND does not explicilty provide the land use emissions (AFOLU), we do not modify the latter connection, and thus FAIR will run with its default land use emissions for the `landuse_forcing` component."
   ]
  },
  {
   "cell_type": "markdown",
   "metadata": {},
   "source": [
    "#### FAIR Temperature --> FUND CO₂ Cycle, Biodiversity, Ocean and Regional Climate Components"
   ]
  },
  {
   "cell_type": "markdown",
   "metadata": {},
   "source": [
    "Now we want to connect FAIR's output temperature variable `T` from component `temperature` back into FUND, both to the `temp` parameter of the `climateco2cycle`, `biodiversity`, and `ocean` components and into the `inputtemp` parameter of the `climateregional` component."
   ]
  },
  {
   "cell_type": "code",
   "execution_count": 14,
   "metadata": {},
   "outputs": [],
   "source": [
    "# destination: FUND components :climateco2cycle, :biodiversity, :ocean --> parameter :temp\n",
    "# previous source: FUND component :climatedynamics --> variable :temp\n",
    "# new source: FAIR :temperature --> variable :T\n",
    "\n",
    "connect_param!(m, :climateco2cycle, :temp, :temperature, :T)\n",
    "#connect_param!(m, :biodiversity, :temp, :temperature, :T)\n",
    "#connect_param!(m, :ocean, :temp, :temperature, :T)"
   ]
  },
  {
   "cell_type": "code",
   "execution_count": 15,
   "metadata": {},
   "outputs": [],
   "source": [
    "# destination: FUND component :climateregional, parameter :inputtemp\n",
    "# previous source: FUND component :climatedynamics --> variable :temp\n",
    "# new source: FAIR component :temperature --> variable :T\n",
    "\n",
    "connect_param!(m, :climateregional, :inputtemp, :temperature, :T)"
   ]
  },
  {
   "cell_type": "markdown",
   "metadata": {},
   "source": [
    "### Run and Visualize"
   ]
  },
  {
   "cell_type": "markdown",
   "metadata": {},
   "source": [
    "Now we can run our coupled model and visualize the results with the `explore`, `plot`, and indexing functions. We will also grab the default FUND and FAIR models for comparisons."
   ]
  },
  {
   "cell_type": "code",
   "execution_count": 16,
   "metadata": {
    "scrolled": false
   },
   "outputs": [],
   "source": [
    "run(m) # coupled model\n",
    "\n",
    "using MimiFUND\n",
    "mfund = MimiFUND.get_model()\n",
    "run(mfund)\n",
    "\n",
    "mfair = MimiFAIRv1_6_2.get_model(;start_year = FAIR_first, end_year = FAIR_last, ar6_scenario = ar6_scenario)\n",
    "run(mfair)"
   ]
  },
  {
   "cell_type": "code",
   "execution_count": 17,
   "metadata": {
    "scrolled": true
   },
   "outputs": [
    {
     "name": "stdout",
     "output_type": "stream",
     "text": [
      "\r\n"
     ]
    },
    {
     "data": {
      "text/plain": [
       "Electron.Window(Application(Base.PipeEndpoint(Base.Libc.WindowsRawSocket(0x0000000000000450) open, 0 bytes waiting), Process(setenv(`\u001b[4m'C:\\Users\\dongj\\.julia\\artifacts\\77dde9ca99aacbbcdc9754e39062ed451ef26861\\electron.exe'\u001b[24m \u001b[4m'C:\\Users\\dongj\\.julia\\packages\\Electron\\pOy6n\\src\\main.js'\u001b[24m \u001b[4m'\\\\.\\pipe\\jlel-b4d733b09a6911ee28fc5d1feb4fa0eb'\u001b[24m \u001b[4m'\\\\.\\pipe\\jlel-sn-b4d733b09a6911ee2c3c3d8c17ebdc39'\u001b[24m \u001b[4mCRhGjCrWNLPVSJeHVsNIbnz1ObsQ8uswTmCmC3r4LB6ap0KN2PR1qqGemkoIxBhyUeoK5iAiC56oMkCr3QBcWqDh6dCpTjRIUKpns2or2KiJoYSID/AWAlWhTUKTs7D+/AhvlA2c7FxjM2gHXGOSo+Mo2n+ee0IaEqkkuQ0osQg=\u001b[24m`,[\"PATH=C:\\\\Users\\\\dongj\\\\anaconda3;C:\\\\Users\\\\dongj\\\\anaconda3\\\\Library\\\\mingw-w64\\\\bin;C:\\\\Users\\\\dongj\\\\anaconda3\\\\Library\\\\usr\\\\bin;C:\\\\Users\\\\dongj\\\\anaconda3\\\\Library\\\\bin;C:\\\\Users\\\\dongj\\\\anaconda3\\\\Scripts;C:\\\\Users\\\\dongj\\\\anaconda3\\\\bin;C:\\\\Users\\\\dongj\\\\anaconda3\\\\condabin;C:\\\\Program Files\\\\MySQL\\\\MySQL Server 5.6\\\\bin;C:\\\\Windows\\\\system32;C:\\\\Windows;C:\\\\Windows\\\\System32\\\\Wbem;C:\\\\Windows\\\\System32\\\\WindowsPowerShell\\\\v1.0;C:\\\\Windows\\\\System32\\\\OpenSSH;C:\\\\Program Files (x86)\\\\NVIDIA Corporation\\\\PhysX\\\\Common;C:\\\\Program Files\\\\NVIDIA Corporation\\\\NVIDIA NvDLISR;D:\\\\05Bandizio\\\\Bandizip;C:\\\\Program Files (x86)\\\\HP\\\\Common\\\\HPDestPlgIn;C:\\\\Program Files (x86)\\\\HP\\\\IdrsOCR_15.4.1132.0;D:\\\\Matlab\\\\runtime\\\\win64;D:\\\\Matlab\\\\bin;D:\\\\latex\\\\CTEX\\\\UserData\\\\miktex\\\\bin;D:\\\\latex\\\\CTEX\\\\MiKTeX\\\\miktex\\\\bin;D:\\\\latex\\\\CTEX\\\\CTeX\\\\ctex\\\\bin;D:\\\\latex\\\\CTEX\\\\CTeX\\\\cct\\\\bin;D:\\\\latex\\\\CTEX\\\\CTeX\\\\ty\\\\bin;D:\\\\latex\\\\CTEX\\\\Ghostscript\\\\gs9.05\\\\bin;D:\\\\latex\\\\CTEX\\\\GSview\\\\gsview;D:\\\\latex\\\\CTEX\\\\WinEdt;C:\\\\WINDOWS\\\\system32;C:\\\\WINDOWS;C:\\\\WINDOWS\\\\System32\\\\Wbem;C:\\\\WINDOWS\\\\System32\\\\WindowsPowerShell\\\\v1.0;C:\\\\WINDOWS\\\\System32\\\\OpenSSH;C:\\\\Program Files\\\\Git\\\\cmd;C:\\\\Program Files\\\\MySQL\\\\MySQL Server 8.0\\\\bin;C:\\\\Program Files\\\\dotnet;C:\\\\Users\\\\dongj\\\\anaconda3;C:\\\\Users\\\\dongj\\\\anaconda3\\\\Library\\\\mingw-w64\\\\bin;C:\\\\Users\\\\dongj\\\\anaconda3\\\\Library\\\\usr\\\\bin;C:\\\\Users\\\\dongj\\\\anaconda3\\\\Library\\\\bin;C:\\\\Users\\\\dongj\\\\anaconda3\\\\Scripts;C:\\\\Users\\\\dongj\\\\AppData\\\\Local\\\\Microsoft\\\\WindowsApps;C:\\\\Program Files (x86)\\\\HP\\\\Common\\\\HPDestPlgIn;C:\\\\Users\\\\dongj\\\\AppData\\\\Local\\\\Programs\\\\Julia-1.8.1\\\\bin;D:\\\\Visual Studio Code\\\\Microsoft VS Code\\\\bin;.\", \"USERDOMAIN_ROAMINGPROFILE=LAPTOP-4BMLNMD7\", \"HOMEPATH=\\\\Users\\\\dongj\", \"PATHEXT=.COM;.EXE;.BAT;.CMD;.VBS;.VBE;.JS;.JSE;.WSF;.WSH;.MSC\", \"SESSIONNAME=Console\", \"SYSTEMROOT=C:\\\\WINDOWS\", \"APPDATA=C:\\\\Users\\\\dongj\\\\AppData\\\\Roaming\", \"PSMODULEPATH=C:\\\\Program Files\\\\WindowsPowerShell\\\\Modules;C:\\\\WINDOWS\\\\system32\\\\WindowsPowerShell\\\\v1.0\\\\Modules\", \"COMMONPROGRAMW6432=C:\\\\Program Files\\\\Common Files\", \"PROGRAMDATA=C:\\\\ProgramData\"  …  \"JPY_PARENT_PID=2184\", \"LOGONSERVER=\\\\\\\\LAPTOP-4BMLNMD7\", \"DRIVERDATA=C:\\\\Windows\\\\System32\\\\Drivers\\\\DriverData\", \"CONDA_PREFIX=C:\\\\Users\\\\dongj\\\\anaconda3\", \"PYDEVD_USE_FRAME_EVAL=NO\", \"FPS_BROWSER_USER_PROFILE_STRING=Default\", \"SYSTEMDRIVE=C:\", \"FPS_BROWSER_APP_PROFILE_STRING=Internet Explorer\", \"PROCESSOR_ARCHITECTURE=AMD64\", \"CCHZPATH=D:\\\\latex\\\\CTEX\\\\CTeX\\\\cct\\\\fonts\"]), ProcessRunning), [1 window]), 1, true, Channel{Any}(128))"
      ]
     },
     "execution_count": 17,
     "metadata": {},
     "output_type": "execute_result"
    }
   ],
   "source": [
    "explore(m) # fails in VSCode-run notebook, uncomment if running these commands locally or in a browser!"
   ]
  },
  {
   "cell_type": "code",
   "execution_count": 51,
   "metadata": {
    "scrolled": true
   },
   "outputs": [
    {
     "data": {
      "text/plain": [
       "1×1669 Matrix{Float64}:\n",
       " 0.000263969  0.000287166  2.34549e-6  …  0.0129722  0.00823785  0.00324313"
      ]
     },
     "execution_count": 51,
     "metadata": {},
     "output_type": "execute_result"
    }
   ],
   "source": [
    "result = FUNDprovince.compute_scco2(m, year = 2020,last_year=2100,return_mm =true)\n",
    "mm = result.mm\n",
    "gsc = FUNDprovince.compute_scco2(m, year = 2020,last_year=2100).gsc\n",
    "rsc = FUNDprovince.compute_scco2(m, year = 2020,last_year=2100).rsc"
   ]
  },
  {
   "cell_type": "markdown",
   "metadata": {},
   "source": [
    "#### Compare Some Time Series"
   ]
  },
  {
   "cell_type": "markdown",
   "metadata": {},
   "source": [
    "One interesting step might be to compare some time series between the different models.  We could use the `Mimi.plot` function (ie. `Mimi.plot(m, :temperature, :T`) but here we will use some custom written plot code with the `VegaLite` package."
   ]
  },
  {
   "cell_type": "code",
   "execution_count": 19,
   "metadata": {},
   "outputs": [],
   "source": [
    "using VegaLite\n",
    "using DataFrames"
   ]
  },
  {
   "cell_type": "markdown",
   "metadata": {},
   "source": [
    "##### Temperature\n",
    "\n",
    "Here we compare the delta temperature trajectory between FAIR, FUND, and FUNDFAIR. Noting that from 1765 to 1950 our results in FUNDFAIR will match FAIR, and then in 1950 FUND will kick in as our driver of CO2 emissions calculations while FAIR will continue to drive temperature calculations for which it recieves CO2 emissions inputs from FUND."
   ]
  },
  {
   "cell_type": "code",
   "execution_count": 20,
   "metadata": {},
   "outputs": [],
   "source": [
    "fairvals = mfair[:temperature, :T]\n",
    "fundfairvals =  m[:temperature, :T]\n",
    "fundvals = vcat(\n",
    "    fill(missing, length(FAIR_first:FUND_first)-1),\n",
    "    mfund[:climateco2cycle, :temp][1:length(FUND_first:FAIR_last),:]\n",
    ")\n",
    "fundvals = fundvals[:,1]; # make a vector"
   ]
  },
  {
   "cell_type": "code",
   "execution_count": 21,
   "metadata": {
    "scrolled": false
   },
   "outputs": [
    {
     "data": {
      "application/vnd.vegalite.v4+json": {
       "data": {
        "values": [
         {
          "Year": 2015,
          "value": 0.2,
          "variable": "FUND"
         },
         {
          "Year": 2016,
          "value": 0.20462523478679887,
          "variable": "FUND"
         },
         {
          "Year": 2017,
          "value": 0.20934819414064887,
          "variable": "FUND"
         },
         {
          "Year": 2018,
          "value": 0.2141801414042669,
          "variable": "FUND"
         },
         {
          "Year": 2019,
          "value": 0.21909736778398906,
          "variable": "FUND"
         },
         {
          "Year": 2020,
          "value": 0.22408520911070826,
          "variable": "FUND"
         },
         {
          "Year": 2021,
          "value": 0.2291199325171179,
          "variable": "FUND"
         },
         {
          "Year": 2022,
          "value": 0.23418549221634344,
          "variable": "FUND"
         },
         {
          "Year": 2023,
          "value": 0.23932391432650915,
          "variable": "FUND"
         },
         {
          "Year": 2024,
          "value": 0.244589579735204,
          "variable": "FUND"
         },
         {
          "Year": 2025,
          "value": 0.2501074079624818,
          "variable": "FUND"
         },
         {
          "Year": 2026,
          "value": 0.25575732560250636,
          "variable": "FUND"
         },
         {
          "Year": 2027,
          "value": 0.261501837433261,
          "variable": "FUND"
         },
         {
          "Year": 2028,
          "value": 0.26740927775621104,
          "variable": "FUND"
         },
         {
          "Year": 2029,
          "value": 0.2734818758491422,
          "variable": "FUND"
         },
         {
          "Year": 2030,
          "value": 0.27973770715175417,
          "variable": "FUND"
         },
         {
          "Year": 2031,
          "value": 0.28618578827251845,
          "variable": "FUND"
         },
         {
          "Year": 2032,
          "value": 0.29278982819960836,
          "variable": "FUND"
         },
         {
          "Year": 2033,
          "value": 0.2995574151235826,
          "variable": "FUND"
         },
         {
          "Year": 2034,
          "value": 0.30656677626845763,
          "variable": "FUND"
         },
         {
          "Year": 2035,
          "value": 0.3139376016399533,
          "variable": "FUND"
         },
         {
          "Year": 2036,
          "value": 0.3216409819792173,
          "variable": "FUND"
         },
         {
          "Year": 2037,
          "value": 0.32948555222866494,
          "variable": "FUND"
         },
         {
          "Year": 2038,
          "value": 0.33741055029039857,
          "variable": "FUND"
         },
         {
          "Year": 2039,
          "value": 0.3454328896266767,
          "variable": "FUND"
         },
         {
          "Year": 2040,
          "value": 0.35353968117280454,
          "variable": "FUND"
         },
         {
          "Year": 2041,
          "value": 0.36172258671009133,
          "variable": "FUND"
         },
         {
          "Year": 2042,
          "value": 0.3699988666778146,
          "variable": "FUND"
         },
         {
          "Year": 2043,
          "value": 0.37844838484609955,
          "variable": "FUND"
         },
         {
          "Year": 2044,
          "value": 0.3871203352760954,
          "variable": "FUND"
         },
         {
          "Year": 2045,
          "value": 0.3958964778638662,
          "variable": "FUND"
         },
         {
          "Year": 2046,
          "value": 0.4047260464928718,
          "variable": "FUND"
         },
         {
          "Year": 2047,
          "value": 0.4136791514220727,
          "variable": "FUND"
         },
         {
          "Year": 2048,
          "value": 0.4227552814272567,
          "variable": "FUND"
         },
         {
          "Year": 2049,
          "value": 0.43199326379795544,
          "variable": "FUND"
         },
         {
          "Year": 2050,
          "value": 0.4414380714813698,
          "variable": "FUND"
         },
         {
          "Year": 2051,
          "value": 0.4510864936820819,
          "variable": "FUND"
         },
         {
          "Year": 2052,
          "value": 0.46090964525801825,
          "variable": "FUND"
         },
         {
          "Year": 2053,
          "value": 0.4709297106607092,
          "variable": "FUND"
         },
         {
          "Year": 2054,
          "value": 0.4811997890753507,
          "variable": "FUND"
         },
         {
          "Year": 2055,
          "value": 0.49177351570476363,
          "variable": "FUND"
         },
         {
          "Year": 2056,
          "value": 0.5026491272505454,
          "variable": "FUND"
         },
         {
          "Year": 2057,
          "value": 0.5137741075424875,
          "variable": "FUND"
         },
         {
          "Year": 2058,
          "value": 0.5251826007958377,
          "variable": "FUND"
         },
         {
          "Year": 2059,
          "value": 0.5369211187740764,
          "variable": "FUND"
         },
         {
          "Year": 2060,
          "value": 0.5490056043273003,
          "variable": "FUND"
         },
         {
          "Year": 2061,
          "value": 0.5614105252495422,
          "variable": "FUND"
         },
         {
          "Year": 2062,
          "value": 0.5738972627695862,
          "variable": "FUND"
         },
         {
          "Year": 2063,
          "value": 0.58630641335356,
          "variable": "FUND"
         },
         {
          "Year": 2064,
          "value": 0.598671242530932,
          "variable": "FUND"
         },
         {
          "Year": 2065,
          "value": 0.610967074138926,
          "variable": "FUND"
         },
         {
          "Year": 2066,
          "value": 0.6233143205493502,
          "variable": "FUND"
         },
         {
          "Year": 2067,
          "value": 0.6358635224614222,
          "variable": "FUND"
         },
         {
          "Year": 2068,
          "value": 0.648618481837006,
          "variable": "FUND"
         },
         {
          "Year": 2069,
          "value": 0.6615883312194372,
          "variable": "FUND"
         },
         {
          "Year": 2070,
          "value": 0.6748692739072023,
          "variable": "FUND"
         },
         {
          "Year": 2071,
          "value": 0.6886268014673141,
          "variable": "FUND"
         },
         {
          "Year": 2072,
          "value": 0.7029340615259811,
          "variable": "FUND"
         },
         {
          "Year": 2073,
          "value": 0.7177887725753266,
          "variable": "FUND"
         },
         {
          "Year": 2074,
          "value": 0.7331867620951575,
          "variable": "FUND"
         },
         {
          "Year": 2075,
          "value": 0.7490586505066515,
          "variable": "FUND"
         },
         {
          "Year": 2076,
          "value": 0.765284834553005,
          "variable": "FUND"
         },
         {
          "Year": 2077,
          "value": 0.7818156445773201,
          "variable": "FUND"
         },
         {
          "Year": 2078,
          "value": 0.7986608399992982,
          "variable": "FUND"
         },
         {
          "Year": 2079,
          "value": 0.8158289590671062,
          "variable": "FUND"
         },
         {
          "Year": 2080,
          "value": 0.8333297562857421,
          "variable": "FUND"
         },
         {
          "Year": 2081,
          "value": 0.8511685759934732,
          "variable": "FUND"
         },
         {
          "Year": 2082,
          "value": 0.8693505114813437,
          "variable": "FUND"
         },
         {
          "Year": 2083,
          "value": 0.8878800002637,
          "variable": "FUND"
         },
         {
          "Year": 2084,
          "value": 0.9067614411448488,
          "variable": "FUND"
         },
         {
          "Year": 2085,
          "value": 0.926016354295343,
          "variable": "FUND"
         },
         {
          "Year": 2086,
          "value": 0.9456827288702244,
          "variable": "FUND"
         },
         {
          "Year": 2087,
          "value": 0.9657814496503231,
          "variable": "FUND"
         },
         {
          "Year": 2088,
          "value": 0.9863131506693547,
          "variable": "FUND"
         },
         {
          "Year": 2089,
          "value": 1.0072788356845246,
          "variable": "FUND"
         },
         {
          "Year": 2090,
          "value": 1.0286788617228486,
          "variable": "FUND"
         },
         {
          "Year": 2091,
          "value": 1.050513888503641,
          "variable": "FUND"
         },
         {
          "Year": 2092,
          "value": 1.0727824308861373,
          "variable": "FUND"
         },
         {
          "Year": 2093,
          "value": 1.0954817969177912,
          "variable": "FUND"
         },
         {
          "Year": 2094,
          "value": 1.1186095100244955,
          "variable": "FUND"
         },
         {
          "Year": 2095,
          "value": 1.1421901649865103,
          "variable": "FUND"
         },
         {
          "Year": 2096,
          "value": 1.1662835028796263,
          "variable": "FUND"
         },
         {
          "Year": 2097,
          "value": 1.190915218367738,
          "variable": "FUND"
         },
         {
          "Year": 2098,
          "value": 1.2160807205001865,
          "variable": "FUND"
         },
         {
          "Year": 2099,
          "value": 1.2417751978537497,
          "variable": "FUND"
         },
         {
          "Year": 2100,
          "value": 1.2679907739943017,
          "variable": "FUND"
         },
         {
          "Year": 2015,
          "value": 0.0053671258205,
          "variable": "FAIR"
         },
         {
          "Year": 2016,
          "value": -0.010957475006258835,
          "variable": "FAIR"
         },
         {
          "Year": 2017,
          "value": 0.009251118348325593,
          "variable": "FAIR"
         },
         {
          "Year": 2018,
          "value": 0.04575698034797852,
          "variable": "FAIR"
         },
         {
          "Year": 2019,
          "value": 0.09220153924804138,
          "variable": "FAIR"
         },
         {
          "Year": 2020,
          "value": 0.14519229499394623,
          "variable": "FAIR"
         },
         {
          "Year": 2021,
          "value": 0.2027106992342537,
          "variable": "FAIR"
         },
         {
          "Year": 2022,
          "value": 0.2640008038902221,
          "variable": "FAIR"
         },
         {
          "Year": 2023,
          "value": 0.3268088855718276,
          "variable": "FAIR"
         },
         {
          "Year": 2024,
          "value": 0.38861959838917093,
          "variable": "FAIR"
         },
         {
          "Year": 2025,
          "value": 0.4467752428192978,
          "variable": "FAIR"
         },
         {
          "Year": 2026,
          "value": 0.4999614163760363,
          "variable": "FAIR"
         },
         {
          "Year": 2027,
          "value": 0.5488001209065041,
          "variable": "FAIR"
         },
         {
          "Year": 2028,
          "value": 0.59483190418682,
          "variable": "FAIR"
         },
         {
          "Year": 2029,
          "value": 0.6388675852943343,
          "variable": "FAIR"
         },
         {
          "Year": 2030,
          "value": 0.6820429137294195,
          "variable": "FAIR"
         },
         {
          "Year": 2031,
          "value": 0.7255436045555123,
          "variable": "FAIR"
         },
         {
          "Year": 2032,
          "value": 0.769844301023127,
          "variable": "FAIR"
         },
         {
          "Year": 2033,
          "value": 0.816433897036712,
          "variable": "FAIR"
         },
         {
          "Year": 2034,
          "value": 0.8667640677225518,
          "variable": "FAIR"
         },
         {
          "Year": 2035,
          "value": 0.9189791472643557,
          "variable": "FAIR"
         },
         {
          "Year": 2036,
          "value": 0.9716471781050499,
          "variable": "FAIR"
         },
         {
          "Year": 2037,
          "value": 1.0234325560305015,
          "variable": "FAIR"
         },
         {
          "Year": 2038,
          "value": 1.0737339966872883,
          "variable": "FAIR"
         },
         {
          "Year": 2039,
          "value": 1.122443776717751,
          "variable": "FAIR"
         },
         {
          "Year": 2040,
          "value": 1.1688146085346078,
          "variable": "FAIR"
         },
         {
          "Year": 2041,
          "value": 1.2136950357514749,
          "variable": "FAIR"
         },
         {
          "Year": 2042,
          "value": 1.2584475147542855,
          "variable": "FAIR"
         },
         {
          "Year": 2043,
          "value": 1.304322638888832,
          "variable": "FAIR"
         },
         {
          "Year": 2044,
          "value": 1.3520598782108448,
          "variable": "FAIR"
         },
         {
          "Year": 2045,
          "value": 1.40310806723627,
          "variable": "FAIR"
         },
         {
          "Year": 2046,
          "value": 1.4573435109836705,
          "variable": "FAIR"
         },
         {
          "Year": 2047,
          "value": 1.5136685257932034,
          "variable": "FAIR"
         },
         {
          "Year": 2048,
          "value": 1.5704307267772601,
          "variable": "FAIR"
         },
         {
          "Year": 2049,
          "value": 1.624911474217583,
          "variable": "FAIR"
         },
         {
          "Year": 2050,
          "value": 1.6757085640421823,
          "variable": "FAIR"
         },
         {
          "Year": 2051,
          "value": 1.7238774024685657,
          "variable": "FAIR"
         },
         {
          "Year": 2052,
          "value": 1.7708501636798764,
          "variable": "FAIR"
         },
         {
          "Year": 2053,
          "value": 1.8172284988688747,
          "variable": "FAIR"
         },
         {
          "Year": 2054,
          "value": 1.864278685043695,
          "variable": "FAIR"
         },
         {
          "Year": 2055,
          "value": 1.9136266267625497,
          "variable": "FAIR"
         },
         {
          "Year": 2056,
          "value": 1.965945265961211,
          "variable": "FAIR"
         },
         {
          "Year": 2057,
          "value": 2.019471674192761,
          "variable": "FAIR"
         },
         {
          "Year": 2058,
          "value": 2.072894818264766,
          "variable": "FAIR"
         },
         {
          "Year": 2059,
          "value": 2.1264280627312546,
          "variable": "FAIR"
         },
         {
          "Year": 2060,
          "value": 2.178673220695438,
          "variable": "FAIR"
         },
         {
          "Year": 2061,
          "value": 2.2289552178571554,
          "variable": "FAIR"
         },
         {
          "Year": 2062,
          "value": 2.278180072038688,
          "variable": "FAIR"
         },
         {
          "Year": 2063,
          "value": 2.327342298170601,
          "variable": "FAIR"
         },
         {
          "Year": 2064,
          "value": 2.377191380068925,
          "variable": "FAIR"
         },
         {
          "Year": 2065,
          "value": 2.4282673805295385,
          "variable": "FAIR"
         },
         {
          "Year": 2066,
          "value": 2.482028345933305,
          "variable": "FAIR"
         },
         {
          "Year": 2067,
          "value": 2.538909346593449,
          "variable": "FAIR"
         },
         {
          "Year": 2068,
          "value": 2.5974804514923777,
          "variable": "FAIR"
         },
         {
          "Year": 2069,
          "value": 2.6557242866815156,
          "variable": "FAIR"
         },
         {
          "Year": 2070,
          "value": 2.7121891770216324,
          "variable": "FAIR"
         },
         {
          "Year": 2071,
          "value": 2.766519976455698,
          "variable": "FAIR"
         },
         {
          "Year": 2072,
          "value": 2.8195829285092997,
          "variable": "FAIR"
         },
         {
          "Year": 2073,
          "value": 2.872374556800325,
          "variable": "FAIR"
         },
         {
          "Year": 2074,
          "value": 2.9248419423801324,
          "variable": "FAIR"
         },
         {
          "Year": 2075,
          "value": 2.977216954851019,
          "variable": "FAIR"
         },
         {
          "Year": 2076,
          "value": 3.0298472624411223,
          "variable": "FAIR"
         },
         {
          "Year": 2077,
          "value": 3.0832762248215073,
          "variable": "FAIR"
         },
         {
          "Year": 2078,
          "value": 3.138532384249893,
          "variable": "FAIR"
         },
         {
          "Year": 2079,
          "value": 3.1958731082315786,
          "variable": "FAIR"
         },
         {
          "Year": 2080,
          "value": 3.254576931611759,
          "variable": "FAIR"
         },
         {
          "Year": 2081,
          "value": 3.3133247520343825,
          "variable": "FAIR"
         },
         {
          "Year": 2082,
          "value": 3.371213823028264,
          "variable": "FAIR"
         },
         {
          "Year": 2083,
          "value": 3.4273675573076123,
          "variable": "FAIR"
         },
         {
          "Year": 2084,
          "value": 3.4817285190869427,
          "variable": "FAIR"
         },
         {
          "Year": 2085,
          "value": 3.534079453950616,
          "variable": "FAIR"
         },
         {
          "Year": 2086,
          "value": 3.5844730762257244,
          "variable": "FAIR"
         },
         {
          "Year": 2087,
          "value": 3.6343081110999993,
          "variable": "FAIR"
         },
         {
          "Year": 2088,
          "value": 3.6842800436614054,
          "variable": "FAIR"
         },
         {
          "Year": 2089,
          "value": 3.73520002737307,
          "variable": "FAIR"
         },
         {
          "Year": 2090,
          "value": 3.788123895270494,
          "variable": "FAIR"
         },
         {
          "Year": 2091,
          "value": 3.8427155067831635,
          "variable": "FAIR"
         },
         {
          "Year": 2092,
          "value": 3.8985327218131602,
          "variable": "FAIR"
         },
         {
          "Year": 2093,
          "value": 3.9534178411904897,
          "variable": "FAIR"
         },
         {
          "Year": 2094,
          "value": 4.004901581561359,
          "variable": "FAIR"
         },
         {
          "Year": 2095,
          "value": 4.05331624928009,
          "variable": "FAIR"
         },
         {
          "Year": 2096,
          "value": 4.099320051944437,
          "variable": "FAIR"
         },
         {
          "Year": 2097,
          "value": 4.143963716405341,
          "variable": "FAIR"
         },
         {
          "Year": 2098,
          "value": 4.1881853338419095,
          "variable": "FAIR"
         },
         {
          "Year": 2099,
          "value": 4.232911029692402,
          "variable": "FAIR"
         },
         {
          "Year": 2100,
          "value": 4.27946237710158,
          "variable": "FAIR"
         },
         {
          "Year": 2015,
          "value": 0.0053671258205,
          "variable": "FUNDFAIR"
         },
         {
          "Year": 2016,
          "value": -0.010957475006258835,
          "variable": "FUNDFAIR"
         },
         {
          "Year": 2017,
          "value": 0.025245223547164384,
          "variable": "FUNDFAIR"
         },
         {
          "Year": 2018,
          "value": 0.11735585352416568,
          "variable": "FUNDFAIR"
         },
         {
          "Year": 2019,
          "value": 0.2583063504942566,
          "variable": "FUNDFAIR"
         },
         {
          "Year": 2020,
          "value": 0.43155669979759026,
          "variable": "FUNDFAIR"
         },
         {
          "Year": 2021,
          "value": 0.6274170056123742,
          "variable": "FUNDFAIR"
         },
         {
          "Year": 2022,
          "value": 0.8401325974792195,
          "variable": "FUNDFAIR"
         },
         {
          "Year": 2023,
          "value": 1.0639299744967199,
          "variable": "FUNDFAIR"
         },
         {
          "Year": 2024,
          "value": 1.2937114681225022,
          "variable": "FUNDFAIR"
         },
         {
          "Year": 2025,
          "value": 1.5248684378936213,
          "variable": "FUNDFAIR"
         },
         {
          "Year": 2026,
          "value": 1.7545631737242822,
          "variable": "FUNDFAIR"
         },
         {
          "Year": 2027,
          "value": 1.9821917090280672,
          "variable": "FUNDFAIR"
         },
         {
          "Year": 2028,
          "value": 2.208283164237477,
          "variable": "FUNDFAIR"
         },
         {
          "Year": 2029,
          "value": 2.4327978236343837,
          "variable": "FUNDFAIR"
         },
         {
          "Year": 2030,
          "value": 2.6561427563243427,
          "variable": "FUNDFAIR"
         },
         {
          "Year": 2031,
          "value": 2.878866872675668,
          "variable": "FUNDFAIR"
         },
         {
          "Year": 2032,
          "value": 3.1008673554365798,
          "variable": "FUNDFAIR"
         },
         {
          "Year": 2033,
          "value": 3.323091736803421,
          "variable": "FUNDFAIR"
         },
         {
          "Year": 2034,
          "value": 3.546487107336687,
          "variable": "FUNDFAIR"
         },
         {
          "Year": 2035,
          "value": 3.7687266532513966,
          "variable": "FUNDFAIR"
         },
         {
          "Year": 2036,
          "value": 3.987928412583356,
          "variable": "FUNDFAIR"
         },
         {
          "Year": 2037,
          "value": 4.202319830598333,
          "variable": "FUNDFAIR"
         },
         {
          "Year": 2038,
          "value": 4.410871176667017,
          "variable": "FUNDFAIR"
         },
         {
          "Year": 2039,
          "value": 4.613055910856163,
          "variable": "FUNDFAIR"
         },
         {
          "Year": 2040,
          "value": 4.807718827159985,
          "variable": "FUNDFAIR"
         },
         {
          "Year": 2041,
          "value": 4.9953076393815845,
          "variable": "FUNDFAIR"
         },
         {
          "Year": 2042,
          "value": 5.176794370562228,
          "variable": "FUNDFAIR"
         },
         {
          "Year": 2043,
          "value": 5.35333230715182,
          "variable": "FUNDFAIR"
         },
         {
          "Year": 2044,
          "value": 5.525942021722914,
          "variable": "FUNDFAIR"
         },
         {
          "Year": 2045,
          "value": 5.696427491083945,
          "variable": "FUNDFAIR"
         },
         {
          "Year": 2046,
          "value": 5.864965022369575,
          "variable": "FUNDFAIR"
         },
         {
          "Year": 2047,
          "value": 6.030713993839824,
          "variable": "FUNDFAIR"
         },
         {
          "Year": 2048,
          "value": 6.1922462917287096,
          "variable": "FUNDFAIR"
         },
         {
          "Year": 2049,
          "value": 6.34704323670237,
          "variable": "FUNDFAIR"
         },
         {
          "Year": 2050,
          "value": 6.493885340902768,
          "variable": "FUNDFAIR"
         },
         {
          "Year": 2051,
          "value": 6.633998905082488,
          "variable": "FUNDFAIR"
         },
         {
          "Year": 2052,
          "value": 6.768967373418122,
          "variable": "FUNDFAIR"
         },
         {
          "Year": 2053,
          "value": 6.899518428922681,
          "variable": "FUNDFAIR"
         },
         {
          "Year": 2054,
          "value": 7.0270353152997815,
          "variable": "FUNDFAIR"
         },
         {
          "Year": 2055,
          "value": 7.153262157732466,
          "variable": "FUNDFAIR"
         },
         {
          "Year": 2056,
          "value": 7.278988509017346,
          "variable": "FUNDFAIR"
         },
         {
          "Year": 2057,
          "value": 7.402564455125475,
          "variable": "FUNDFAIR"
         },
         {
          "Year": 2058,
          "value": 7.522788571419161,
          "variable": "FUNDFAIR"
         },
         {
          "Year": 2059,
          "value": 7.639982430512492,
          "variable": "FUNDFAIR"
         },
         {
          "Year": 2060,
          "value": 7.75285572917665,
          "variable": "FUNDFAIR"
         },
         {
          "Year": 2061,
          "value": 7.8608408997027635,
          "variable": "FUNDFAIR"
         },
         {
          "Year": 2062,
          "value": 7.964953397547162,
          "variable": "FUNDFAIR"
         },
         {
          "Year": 2063,
          "value": 8.066299270138304,
          "variable": "FUNDFAIR"
         },
         {
          "Year": 2064,
          "value": 8.16573556528536,
          "variable": "FUNDFAIR"
         },
         {
          "Year": 2065,
          "value": 8.263901394815079,
          "variable": "FUNDFAIR"
         },
         {
          "Year": 2066,
          "value": 8.362344690052337,
          "variable": "FUNDFAIR"
         },
         {
          "Year": 2067,
          "value": 8.46158096616831,
          "variable": "FUNDFAIR"
         },
         {
          "Year": 2068,
          "value": 8.560251164082361,
          "variable": "FUNDFAIR"
         },
         {
          "Year": 2069,
          "value": 8.65639949216273,
          "variable": "FUNDFAIR"
         },
         {
          "Year": 2070,
          "value": 8.748621934764147,
          "variable": "FUNDFAIR"
         },
         {
          "Year": 2071,
          "value": 8.836597761731273,
          "variable": "FUNDFAIR"
         },
         {
          "Year": 2072,
          "value": 8.921239856100318,
          "variable": "FUNDFAIR"
         },
         {
          "Year": 2073,
          "value": 9.003617135619493,
          "variable": "FUNDFAIR"
         },
         {
          "Year": 2074,
          "value": 9.083753707924693,
          "variable": "FUNDFAIR"
         },
         {
          "Year": 2075,
          "value": 9.161949447174765,
          "variable": "FUNDFAIR"
         },
         {
          "Year": 2076,
          "value": 9.238613170824246,
          "variable": "FUNDFAIR"
         },
         {
          "Year": 2077,
          "value": 9.314344265354233,
          "variable": "FUNDFAIR"
         },
         {
          "Year": 2078,
          "value": 9.39022311717041,
          "variable": "FUNDFAIR"
         },
         {
          "Year": 2079,
          "value": 9.466555039030272,
          "variable": "FUNDFAIR"
         },
         {
          "Year": 2080,
          "value": 9.542662733141142,
          "variable": "FUNDFAIR"
         },
         {
          "Year": 2081,
          "value": 9.617268543059996,
          "variable": "FUNDFAIR"
         },
         {
          "Year": 2082,
          "value": 9.68954485286862,
          "variable": "FUNDFAIR"
         },
         {
          "Year": 2083,
          "value": 9.758746705634662,
          "variable": "FUNDFAIR"
         },
         {
          "Year": 2084,
          "value": 9.824954525635222,
          "variable": "FUNDFAIR"
         },
         {
          "Year": 2085,
          "value": 9.888061501823465,
          "variable": "FUNDFAIR"
         },
         {
          "Year": 2086,
          "value": 9.948210237148974,
          "variable": "FUNDFAIR"
         },
         {
          "Year": 2087,
          "value": 10.006873719675031,
          "variable": "FUNDFAIR"
         },
         {
          "Year": 2088,
          "value": 10.064809152659704,
          "variable": "FUNDFAIR"
         },
         {
          "Year": 2089,
          "value": 10.122878486755173,
          "variable": "FUNDFAIR"
         },
         {
          "Year": 2090,
          "value": 10.182178825171746,
          "variable": "FUNDFAIR"
         },
         {
          "Year": 2091,
          "value": 10.242407096670458,
          "variable": "FUNDFAIR"
         },
         {
          "Year": 2092,
          "value": 10.303160733236302,
          "variable": "FUNDFAIR"
         },
         {
          "Year": 2093,
          "value": 10.362338383594135,
          "variable": "FUNDFAIR"
         },
         {
          "Year": 2094,
          "value": 10.417526881421118,
          "variable": "FUNDFAIR"
         },
         {
          "Year": 2095,
          "value": 10.469104327922654,
          "variable": "FUNDFAIR"
         },
         {
          "Year": 2096,
          "value": 10.517768849943806,
          "variable": "FUNDFAIR"
         },
         {
          "Year": 2097,
          "value": 10.564606648383881,
          "variable": "FUNDFAIR"
         },
         {
          "Year": 2098,
          "value": 10.610586800052307,
          "variable": "FUNDFAIR"
         },
         {
          "Year": 2099,
          "value": 10.6566617443466,
          "variable": "FUNDFAIR"
         },
         {
          "Year": 2100,
          "value": 10.704174669428781,
          "variable": "FUNDFAIR"
         }
        ]
       },
       "encoding": {
        "color": {
         "field": "variable",
         "type": "nominal"
        },
        "x": {
         "field": "Year",
         "type": "quantitative"
        },
        "y": {
         "field": "value",
         "type": "quantitative"
        }
       },
       "mark": "line"
      },
      "image/png": "[encoded data removed]",
      "image/svg+xml": [
       "<?xml version=\"1.0\" encoding=\"utf-8\"?>\n",
       "<!DOCTYPE svg PUBLIC \"-//W3C//DTD SVG 1.1//EN\" \"http://www.w3.org/Graphics/SVG/1.1/DTD/svg11.dtd\">\n",
       "<svg xmlns=\"http://www.w3.org/2000/svg\" xmlns:xlink=\"http://www.w3.org/1999/xlink\" version=\"1.1\" class=\"marks\" width=\"325\" height=\"242\" viewBox=\"0 0 325 242\"><rect width=\"325\" height=\"242\" fill=\"white\"/><g fill=\"none\" stroke-miterlimit=\"10\" transform=\"translate(37,5)\"><g class=\"mark-group role-frame root\" role=\"graphics-object\" aria-roledescription=\"group mark container\"><g transform=\"translate(0,0)\"><path class=\"background\" aria-hidden=\"true\" d=\"M0.5,0.5h200v200h-200Z\" stroke=\"#ddd\"/><g><g class=\"mark-group role-axis\" aria-hidden=\"true\"><g transform=\"translate(0.5,200.5)\"><path class=\"background\" aria-hidden=\"true\" d=\"M0,0h0v0h0Z\" pointer-events=\"none\"/><g><g class=\"mark-rule role-axis-grid\" pointer-events=\"none\"><line transform=\"translate(22,-200)\" x2=\"0\" y2=\"200\" stroke=\"#ddd\" stroke-width=\"1\" opacity=\"1\"/><line transform=\"translate(67,-200)\" x2=\"0\" y2=\"200\" stroke=\"#ddd\" stroke-width=\"1\" opacity=\"1\"/><line transform=\"translate(111,-200)\" x2=\"0\" y2=\"200\" stroke=\"#ddd\" stroke-width=\"1\" opacity=\"1\"/><line transform=\"translate(156,-200)\" x2=\"0\" y2=\"200\" stroke=\"#ddd\" stroke-width=\"1\" opacity=\"1\"/><line transform=\"translate(200,-200)\" x2=\"0\" y2=\"200\" stroke=\"#ddd\" stroke-width=\"1\" opacity=\"1\"/></g></g><path class=\"foreground\" aria-hidden=\"true\" d=\"\" pointer-events=\"none\" display=\"none\"/></g></g><g class=\"mark-group role-axis\" aria-hidden=\"true\"><g transform=\"translate(0.5,0.5)\"><path class=\"background\" aria-hidden=\"true\" d=\"M0,0h0v0h0Z\" pointer-events=\"none\"/><g><g class=\"mark-rule role-axis-grid\" pointer-events=\"none\"><line transform=\"translate(0,183)\" x2=\"200\" y2=\"0\" stroke=\"#ddd\" stroke-width=\"1\" opacity=\"1\"/><line transform=\"translate(0,150)\" x2=\"200\" y2=\"0\" stroke=\"#ddd\" stroke-width=\"1\" opacity=\"1\"/><line transform=\"translate(0,117)\" x2=\"200\" y2=\"0\" stroke=\"#ddd\" stroke-width=\"1\" opacity=\"1\"/><line transform=\"translate(0,83)\" x2=\"200\" y2=\"0\" stroke=\"#ddd\" stroke-width=\"1\" opacity=\"1\"/><line transform=\"translate(0,50)\" x2=\"200\" y2=\"0\" stroke=\"#ddd\" stroke-width=\"1\" opacity=\"1\"/><line transform=\"translate(0,17)\" x2=\"200\" y2=\"0\" stroke=\"#ddd\" stroke-width=\"1\" opacity=\"1\"/></g></g><path class=\"foreground\" aria-hidden=\"true\" d=\"\" pointer-events=\"none\" display=\"none\"/></g></g><g class=\"mark-group role-axis\" role=\"graphics-symbol\" aria-roledescription=\"axis\" aria-label=\"X-axis titled 'Year' for a linear scale with values from 2,010 to 2,100\"><g transform=\"translate(0.5,200.5)\"><path class=\"background\" aria-hidden=\"true\" d=\"M0,0h0v0h0Z\" pointer-events=\"none\"/><g><g class=\"mark-rule role-axis-tick\" pointer-events=\"none\"><line transform=\"translate(22,0)\" x2=\"0\" y2=\"5\" stroke=\"#888\" stroke-width=\"1\" opacity=\"1\"/><line transform=\"translate(67,0)\" x2=\"0\" y2=\"5\" stroke=\"#888\" stroke-width=\"1\" opacity=\"1\"/><line transform=\"translate(111,0)\" x2=\"0\" y2=\"5\" stroke=\"#888\" stroke-width=\"1\" opacity=\"1\"/><line transform=\"translate(156,0)\" x2=\"0\" y2=\"5\" stroke=\"#888\" stroke-width=\"1\" opacity=\"1\"/><line transform=\"translate(200,0)\" x2=\"0\" y2=\"5\" stroke=\"#888\" stroke-width=\"1\" opacity=\"1\"/></g><g class=\"mark-text role-axis-label\" pointer-events=\"none\"><text text-anchor=\"middle\" transform=\"translate(22.22222222222222,15)\" font-family=\"sans-serif\" font-size=\"10px\" fill=\"#000\" opacity=\"1\">2,020</text><text text-anchor=\"middle\" transform=\"translate(66.66666666666666,15)\" font-family=\"sans-serif\" font-size=\"10px\" fill=\"#000\" opacity=\"1\">2,040</text><text text-anchor=\"middle\" transform=\"translate(111.11111111111111,15)\" font-family=\"sans-serif\" font-size=\"10px\" fill=\"#000\" opacity=\"1\">2,060</text><text text-anchor=\"middle\" transform=\"translate(155.55555555555557,15)\" font-family=\"sans-serif\" font-size=\"10px\" fill=\"#000\" opacity=\"1\">2,080</text><text text-anchor=\"end\" transform=\"translate(200,15)\" font-family=\"sans-serif\" font-size=\"10px\" fill=\"#000\" opacity=\"1\">2,100</text></g><g class=\"mark-rule role-axis-domain\" pointer-events=\"none\"><line transform=\"translate(0,0)\" x2=\"200\" y2=\"0\" stroke=\"#888\" stroke-width=\"1\" opacity=\"1\"/></g><g class=\"mark-text role-axis-title\" pointer-events=\"none\"><text text-anchor=\"middle\" transform=\"translate(100,30)\" font-family=\"sans-serif\" font-size=\"11px\" font-weight=\"bold\" fill=\"#000\" opacity=\"1\">Year</text></g></g><path class=\"foreground\" aria-hidden=\"true\" d=\"\" pointer-events=\"none\" display=\"none\"/></g></g><g class=\"mark-group role-axis\" role=\"graphics-symbol\" aria-roledescription=\"axis\" aria-label=\"Y-axis titled 'value' for a linear scale with values from −1 to 11\"><g transform=\"translate(0.5,0.5)\"><path class=\"background\" aria-hidden=\"true\" d=\"M0,0h0v0h0Z\" pointer-events=\"none\"/><g><g class=\"mark-rule role-axis-tick\" pointer-events=\"none\"><line transform=\"translate(0,183)\" x2=\"-5\" y2=\"0\" stroke=\"#888\" stroke-width=\"1\" opacity=\"1\"/><line transform=\"translate(0,150)\" x2=\"-5\" y2=\"0\" stroke=\"#888\" stroke-width=\"1\" opacity=\"1\"/><line transform=\"translate(0,117)\" x2=\"-5\" y2=\"0\" stroke=\"#888\" stroke-width=\"1\" opacity=\"1\"/><line transform=\"translate(0,83)\" x2=\"-5\" y2=\"0\" stroke=\"#888\" stroke-width=\"1\" opacity=\"1\"/><line transform=\"translate(0,50)\" x2=\"-5\" y2=\"0\" stroke=\"#888\" stroke-width=\"1\" opacity=\"1\"/><line transform=\"translate(0,17)\" x2=\"-5\" y2=\"0\" stroke=\"#888\" stroke-width=\"1\" opacity=\"1\"/></g><g class=\"mark-text role-axis-label\" pointer-events=\"none\"><text text-anchor=\"end\" transform=\"translate(-7,186.33333333333331)\" font-family=\"sans-serif\" font-size=\"10px\" fill=\"#000\" opacity=\"1\">0</text><text text-anchor=\"end\" transform=\"translate(-7,153)\" font-family=\"sans-serif\" font-size=\"10px\" fill=\"#000\" opacity=\"1\">2</text><text text-anchor=\"end\" transform=\"translate(-7,119.66666666666666)\" font-family=\"sans-serif\" font-size=\"10px\" fill=\"#000\" opacity=\"1\">4</text><text text-anchor=\"end\" transform=\"translate(-7,86.33333333333333)\" font-family=\"sans-serif\" font-size=\"10px\" fill=\"#000\" opacity=\"1\">6</text><text text-anchor=\"end\" transform=\"translate(-7,53)\" font-family=\"sans-serif\" font-size=\"10px\" fill=\"#000\" opacity=\"1\">8</text><text text-anchor=\"end\" transform=\"translate(-7,19.666666666666675)\" font-family=\"sans-serif\" font-size=\"10px\" fill=\"#000\" opacity=\"1\">10</text></g><g class=\"mark-rule role-axis-domain\" pointer-events=\"none\"><line transform=\"translate(0,200)\" x2=\"0\" y2=\"-200\" stroke=\"#888\" stroke-width=\"1\" opacity=\"1\"/></g><g class=\"mark-text role-axis-title\" pointer-events=\"none\"><text text-anchor=\"middle\" transform=\"translate(-21,100) rotate(-90) translate(0,-2)\" font-family=\"sans-serif\" font-size=\"11px\" font-weight=\"bold\" fill=\"#000\" opacity=\"1\">value</text></g></g><path class=\"foreground\" aria-hidden=\"true\" d=\"\" pointer-events=\"none\" display=\"none\"/></g></g><g class=\"mark-group role-scope pathgroup\" role=\"graphics-object\" aria-roledescription=\"group mark container\"><g transform=\"translate(0,0)\"><path class=\"background\" aria-hidden=\"true\" d=\"M0,0h200v200h-200Z\"/><g><g class=\"mark-line role-mark marks\" role=\"graphics-object\" aria-roledescription=\"line mark container\"><path aria-label=\"Year: 2015; value: 0.2; variable: FUND\" role=\"graphics-symbol\" aria-roledescription=\"line mark\" d=\"M11.11111111111111,180L13.333333333333334,179.92291275355333L15.555555555555555,179.84419676432253L17.77777777777778,179.76366430992888L20,179.6817105369335L22.22222222222222,179.59857984815486L24.444444444444443,179.51466779138136L26.666666666666668,179.43024179639428L28.888888888888886,179.34460142789152L31.11111111111111,179.2568403377466L33.33333333333333,179.16487653395862L35.55555555555556,179.07071123995823L37.77777777777778,178.9749693761123L40,178.87651203739648L42.22222222222222,178.77530206918095L44.44444444444444,178.67103821413744L46.666666666666664,178.56357019545803L48.888888888888886,178.45350286333985L51.11111111111111,178.3407097479403L53.333333333333336,178.22388706219238L55.55555555555556,178.10103997266745L57.77777777777777,177.97265030034637L60,177.84190746285557L62.22222222222222,177.70982416182667L64.44444444444444,177.57611850622206L66.66666666666666,177.4410053137866L68.88888888888889,177.3046235548318L71.11111111111111,177.16668555536975L73.33333333333333,177.02586025256502L75.55555555555556,176.8813277453984L77.77777777777779,176.7350587022689L80,176.5878992251188L82.22222222222221,176.43868080963213L84.44444444444444,176.28741197621238L86.66666666666667,176.13344560336742L88.88888888888889,175.97603214197716L91.11111111111111,175.81522510529862L93.33333333333333,175.65150591236636L95.55555555555556,175.48450482232153L97.77777777777777,175.31333684874414L100,175.13710807158728L102.22222222222221,174.95584787915757L104.44444444444446,174.77043154095855L106.66666666666667,174.58028998673603L108.88888888888889,174.38464802043205L111.11111111111111,174.18323992787833L113.33333333333333,173.97649124584095L115.55555555555554,173.76837895384023L117.77777777777779,173.56155977744066L120,173.35547929115114L122.22222222222223,173.15054876435124L124.44444444444444,172.94476132417748L126.66666666666666,172.7356079589763L128.88888888888889,172.52302530271658L131.11111111111111,172.3068611463427L133.33333333333331,172.08551210154664L135.55555555555557,171.85621997554478L137.77777777777777,171.61776564123366L140,171.37018712374456L142.22222222222223,171.1135539650807L144.44444444444443,170.84902249155581L146.66666666666666,170.57858609078323L148.88888888888889,170.303072590378L151.11111111111111,170.02231933334505L153.33333333333334,169.73618401554825L155.55555555555557,169.4445040619043L157.77777777777777,169.14719040010877L160,168.8441581419776L162.22222222222223,168.53533332893832L164.44444444444443,168.22064264758586L166.66666666666669,167.89972742841096L168.88888888888889,167.5719545188296L171.11111111111111,167.2369758391613L173.33333333333334,166.8947808221774L175.55555555555554,166.54535273859125L177.77777777777777,166.18868563795252L180,165.82476852493932L182.22222222222223,165.4536261518977L184.44444444444446,165.0753033847035L186.66666666666666,164.68984149959175L188.88888888888889,164.29683058355818L191.11111111111111,163.89527495200622L193.33333333333334,163.48474636053768L195.55555555555554,163.0653213249969L197.77777777777777,162.63708003577085L200,162.20015376676164\" stroke=\"#f58518\" stroke-width=\"2\"/></g></g><path class=\"foreground\" aria-hidden=\"true\" d=\"\" display=\"none\"/></g><g transform=\"translate(0,0)\"><path class=\"background\" aria-hidden=\"true\" d=\"M0,0h200v200h-200Z\"/><g><g class=\"mark-line role-mark marks\" role=\"graphics-object\" aria-roledescription=\"line mark container\"><path aria-label=\"Year: 2015; value: 0.0053671258205; variable: FAIR\" role=\"graphics-symbol\" aria-roledescription=\"line mark\" d=\"M11.11111111111111,183.243881236325L13.333333333333334,183.515957916771L15.555555555555555,183.1791480275279L17.77777777777778,182.57071699420035L20,181.79664101253263L22.22222222222222,180.9134617501009L24.444444444444443,179.9548216794291L26.666666666666668,178.93331993516298L28.888888888888886,177.88651857380287L31.11111111111111,176.85634002684716L33.33333333333333,175.88707928634503L35.55555555555556,175.0006430603994L37.77777777777778,174.1866646515583L40,173.419468263553L42.22222222222222,172.68554024509444L44.44444444444444,171.96595143784302L46.666666666666664,171.24093992407478L48.888888888888886,170.5025949829479L51.11111111111111,169.7261017160548L53.333333333333336,168.8872655379575L55.55555555555556,168.01701421226073L57.77777777777777,167.13921369824916L60,166.2761240661583L62.22222222222222,165.43776672187852L64.44444444444444,164.62593705470414L66.66666666666666,163.85308985775652L68.88888888888889,163.1050827374754L71.11111111111111,162.35920808742856L73.33333333333333,161.59462268518615L75.55555555555556,160.79900202981923L77.77777777777779,159.9481988793955L80,159.04427481693884L82.22222222222221,158.10552457011326L84.44444444444444,157.15948788704566L86.66666666666667,156.25147542970694L88.88888888888889,155.4048572659636L91.11111111111111,154.60204329219056L93.33333333333333,153.81916393866874L95.55555555555556,153.04619168551875L97.77777777777777,152.26202191593842L100,151.43955622062418L102.22222222222221,150.56757890064648L104.44444444444446,149.6754720967873L106.66666666666667,148.7850863622539L108.88888888888889,147.89286562114575L111.11111111111111,147.02211298840936L113.33333333333333,146.18407970238076L115.55555555555554,145.36366546602187L117.77777777777779,144.54429503049L120,143.71347699885123L122.22222222222223,142.86221032450769L124.44444444444444,141.9661942344449L126.66666666666666,141.01817755677587L128.88888888888889,140.04199247512705L131.11111111111111,139.0712618886414L133.33333333333331,138.13018038297278L135.55555555555557,137.2246670590717L137.77777777777777,136.340284524845L140,135.46042405332793L142.22222222222223,134.58596762699779L144.44444444444443,133.71305075248304L146.66666666666666,132.8358789593146L148.88888888888889,131.9453962529749L151.11111111111111,131.02446026250178L153.33333333333334,130.0687815294737L155.55555555555557,129.09038447313733L157.77777777777777,128.1112541327603L160,127.14643628286227L162.22222222222223,126.21054071153979L164.44444444444443,125.30452468188429L166.66666666666669,124.43200910082308L168.88888888888889,123.59211539623792L171.11111111111111,122.76153148166667L173.33333333333334,121.92866593897658L175.55555555555554,121.07999954378217L177.77777777777777,120.1979350788251L180,119.28807488694729L182.22222222222223,118.35778796978067L184.44444444444446,117.4430359801585L186.66666666666666,116.584973640644L188.88888888888889,115.77806251199848L191.11111111111111,115.01133246759272L193.33333333333334,114.2672713932443L195.55555555555554,113.53024443596817L197.77777777777777,112.7848161717933L200,112.00896038164032\" stroke=\"#4c78a8\" stroke-width=\"2\"/></g></g><path class=\"foreground\" aria-hidden=\"true\" d=\"\" display=\"none\"/></g><g transform=\"translate(0,0)\"><path class=\"background\" aria-hidden=\"true\" d=\"M0,0h200v200h-200Z\"/><g><g class=\"mark-line role-mark marks\" role=\"graphics-object\" aria-roledescription=\"line mark container\"><path aria-label=\"Year: 2015; value: 0.0053671258205; variable: FUNDFAIR\" role=\"graphics-symbol\" aria-roledescription=\"line mark\" d=\"M11.11111111111111,183.243881236325L13.333333333333334,183.515957916771L15.555555555555555,182.91257960754726L17.77777777777778,181.3774024412639L20,179.02822749176238L22.22222222222222,176.14072167004016L24.444444444444443,172.87638323979374L26.666666666666668,169.33112337534635L28.888888888888886,165.60116709172135L31.11111111111111,161.77147553129163L33.33333333333333,157.91885936843963L35.55555555555556,154.09061377126196L37.77777777777778,150.2968048495322L40,146.52861392937538L42.22222222222222,142.78670293942693L44.44444444444444,139.0642873945943L46.666666666666664,135.35221878873887L48.888888888888886,131.6522107427237L51.11111111111111,127.9484710532763L53.333333333333336,124.22521487772187L55.55555555555556,120.52122244581005L57.77777777777777,116.86785979027738L60,113.29466949002777L62.22222222222222,109.81881372221638L64.44444444444444,106.4490681523973L66.66666666666666,103.20468621400023L68.88888888888889,100.07820601030693L71.11111111111111,97.05342715729618L73.33333333333333,94.11112821413631L75.55555555555556,91.23429963795144L77.77777777777779,88.39287514860092L80,85.58391629384042L82.22222222222221,82.82143343600292L84.44444444444444,80.12922847118817L86.66666666666667,77.54927938829384L88.88888888888889,75.10191098495386L91.11111111111111,72.76668491529186L93.33333333333333,70.5172104430313L95.55555555555556,68.34135951795533L97.77777777777777,66.21607807833698L100,64.11229737112556L102.22222222222221,62.016858183044235L104.44444444444446,59.95725908124208L106.66666666666667,57.95352380968064L108.88888888888889,56.00029282479178L111.11111111111111,54.11907118038917L113.33333333333333,52.31931833828727L115.55555555555554,50.58411004088062L117.77777777777779,48.8950121643616L120,47.237740578577345L122.22222222222223,45.60164341974868L124.44444444444444,43.960921832461054L126.66666666666666,42.30698389719485L128.88888888888889,40.66248059862731L131.11111111111111,39.060008463954496L133.33333333333331,37.52296775393089L135.55555555555557,36.056703971145446L137.77777777777777,34.646002398328044L140,33.27304773967512L142.22222222222223,31.93743820125512L144.44444444444443,30.63417588042059L146.66666666666666,29.35644715292922L148.88888888888889,28.094262244096125L151.11111111111111,26.829614713826523L153.33333333333334,25.557416016162126L155.55555555555557,24.288954447647626L157.77777777777777,23.045524282333396L160,21.840919118856327L162.22222222222223,20.687554906088955L164.44444444444443,19.58409123941296L166.66666666666669,18.53230830294226L168.88888888888889,17.529829380850437L171.11111111111111,16.552104672082812L173.33333333333334,15.586514122338269L175.55555555555554,14.618691887413782L177.77777777777777,13.630352913804234L180,12.626548388825686L182.22222222222223,11.613987779394975L184.44444444444446,10.62769360676441L186.66666666666666,9.707885309648034L188.88888888888889,8.848261201289098L191.11111111111111,8.037185834269888L193.33333333333334,7.256555860268654L195.55555555555554,6.490219999128222L197.77777777777777,5.722304260889999L200,4.930422176186977\" stroke=\"#e45756\" stroke-width=\"2\"/></g></g><path class=\"foreground\" aria-hidden=\"true\" d=\"\" display=\"none\"/></g></g><g class=\"mark-group role-legend\" role=\"graphics-symbol\" aria-roledescription=\"legend\" aria-label=\"Symbol legend titled 'variable' for stroke color with 3 values: FAIR, FUND, FUNDFAIR\"><g transform=\"translate(220,0)\"><path class=\"background\" aria-hidden=\"true\" d=\"M0,0h63v53h-63Z\" pointer-events=\"none\"/><g><g class=\"mark-group role-legend-entry\"><g transform=\"translate(0,16)\"><path class=\"background\" aria-hidden=\"true\" d=\"M0,0h0v0h0Z\" pointer-events=\"none\"/><g><g class=\"mark-group role-scope\" role=\"graphics-object\" aria-roledescription=\"group mark container\"><g transform=\"translate(0,0)\"><path class=\"background\" aria-hidden=\"true\" d=\"M0,0h63v11h-63Z\" pointer-events=\"none\" opacity=\"1\"/><g><g class=\"mark-symbol role-legend-symbol\" pointer-events=\"none\"><path transform=\"translate(6,6)\" d=\"M-5,0L5,0\" stroke=\"#4c78a8\" stroke-width=\"1.5\" opacity=\"1\"/></g><g class=\"mark-text role-legend-label\" pointer-events=\"none\"><text text-anchor=\"start\" transform=\"translate(16,9)\" font-family=\"sans-serif\" font-size=\"10px\" fill=\"#000\" opacity=\"1\">FAIR</text></g></g><path class=\"foreground\" aria-hidden=\"true\" d=\"\" pointer-events=\"none\" display=\"none\"/></g><g transform=\"translate(0,13)\"><path class=\"background\" aria-hidden=\"true\" d=\"M0,0h63v11h-63Z\" pointer-events=\"none\" opacity=\"1\"/><g><g class=\"mark-symbol role-legend-symbol\" pointer-events=\"none\"><path transform=\"translate(6,6)\" d=\"M-5,0L5,0\" stroke=\"#f58518\" stroke-width=\"1.5\" opacity=\"1\"/></g><g class=\"mark-text role-legend-label\" pointer-events=\"none\"><text text-anchor=\"start\" transform=\"translate(16,9)\" font-family=\"sans-serif\" font-size=\"10px\" fill=\"#000\" opacity=\"1\">FUND</text></g></g><path class=\"foreground\" aria-hidden=\"true\" d=\"\" pointer-events=\"none\" display=\"none\"/></g><g transform=\"translate(0,26)\"><path class=\"background\" aria-hidden=\"true\" d=\"M0,0h63v11h-63Z\" pointer-events=\"none\" opacity=\"1\"/><g><g class=\"mark-symbol role-legend-symbol\" pointer-events=\"none\"><path transform=\"translate(6,6)\" d=\"M-5,0L5,0\" stroke=\"#e45756\" stroke-width=\"1.5\" opacity=\"1\"/></g><g class=\"mark-text role-legend-label\" pointer-events=\"none\"><text text-anchor=\"start\" transform=\"translate(16,9)\" font-family=\"sans-serif\" font-size=\"10px\" fill=\"#000\" opacity=\"1\">FUNDFAIR</text></g></g><path class=\"foreground\" aria-hidden=\"true\" d=\"\" pointer-events=\"none\" display=\"none\"/></g></g></g><path class=\"foreground\" aria-hidden=\"true\" d=\"\" pointer-events=\"none\" display=\"none\"/></g></g><g class=\"mark-text role-legend-title\" pointer-events=\"none\"><text text-anchor=\"start\" transform=\"translate(0,9)\" font-family=\"sans-serif\" font-size=\"11px\" font-weight=\"bold\" fill=\"#000\" opacity=\"1\">variable</text></g></g><path class=\"foreground\" aria-hidden=\"true\" d=\"\" pointer-events=\"none\" display=\"none\"/></g></g></g><path class=\"foreground\" aria-hidden=\"true\" d=\"\" display=\"none\"/></g></g></g></svg>\n"
      ],
      "text/plain": [
       "@vlplot(\n",
       "    mark=\"line\",\n",
       "    encoding={\n",
       "        x={\n",
       "            field=\"Year\"\n",
       "        },\n",
       "        y={\n",
       "            field=\"value\"\n",
       "        },\n",
       "        color={\n",
       "            field=\"variable\"\n",
       "        }\n",
       "    },\n",
       "    data={\n",
       "        values=...\n",
       "    }\n",
       ")"
      ]
     },
     "execution_count": 21,
     "metadata": {},
     "output_type": "execute_result"
    }
   ],
   "source": [
    "df = DataFrame(\n",
    "    :Year => Mimi.time_labels(m),\n",
    "    :FUND => fundvals,\n",
    "    :FAIR => fairvals,\n",
    "    :FUNDFAIR => fundfairvals\n",
    ")\n",
    "\n",
    "stack(df, [:FUND, :FAIR, :FUNDFAIR]) |> \n",
    "\n",
    "@vlplot(\n",
    "    :line, \n",
    "    x = :Year,\n",
    "    y = :value,\n",
    "    color = :variable\n",
    ")\n",
    "    "
   ]
  },
  {
   "cell_type": "markdown",
   "metadata": {},
   "source": [
    "##### Loss\n",
    "\n",
    "Similarly, here we compare what the loss looks like when we use the FUND climate module for CO2 as compared to using the FAIR climate module for CO2."
   ]
  },
  {
   "cell_type": "code",
   "execution_count": 22,
   "metadata": {},
   "outputs": [],
   "source": [
    "fundfairvals = sum(m[:impactaggregation, :loss], dims = 2)[:,1];\n",
    "\n",
    "fundvals = vcat(\n",
    "    fill(missing, length(FAIR_first:FUND_first)-1),\n",
    "    sum(mfund[:impactaggregation, :loss][1:length(FUND_first:FAIR_last),:], dims = 2)\n",
    ")\n",
    "fundvals = fundvals[:,1]; # make a vector\n",
    "     "
   ]
  },
  {
   "cell_type": "code",
   "execution_count": 23,
   "metadata": {
    "scrolled": true
   },
   "outputs": [
    {
     "data": {
      "application/vnd.vegalite.v4+json": {
       "data": {
        "values": [
         {
          "Year": 2015,
          "value": null,
          "variable": "FUND"
         },
         {
          "Year": 2016,
          "value": -4269488936.7738442,
          "variable": "FUND"
         },
         {
          "Year": 2017,
          "value": -4898961731.116589,
          "variable": "FUND"
         },
         {
          "Year": 2018,
          "value": -5599344757.452444,
          "variable": "FUND"
         },
         {
          "Year": 2019,
          "value": -6287562786.800858,
          "variable": "FUND"
         },
         {
          "Year": 2020,
          "value": -7018465468.305371,
          "variable": "FUND"
         },
         {
          "Year": 2021,
          "value": -7798578740.65406,
          "variable": "FUND"
         },
         {
          "Year": 2022,
          "value": -8633014100.44929,
          "variable": "FUND"
         },
         {
          "Year": 2023,
          "value": -9501378025.977509,
          "variable": "FUND"
         },
         {
          "Year": 2024,
          "value": -10407562156.213524,
          "variable": "FUND"
         },
         {
          "Year": 2025,
          "value": -11336094815.243977,
          "variable": "FUND"
         },
         {
          "Year": 2026,
          "value": -12363524825.637829,
          "variable": "FUND"
         },
         {
          "Year": 2027,
          "value": -13437473973.16039,
          "variable": "FUND"
         },
         {
          "Year": 2028,
          "value": -14559394161.83854,
          "variable": "FUND"
         },
         {
          "Year": 2029,
          "value": -15746966853.463776,
          "variable": "FUND"
         },
         {
          "Year": 2030,
          "value": -17000325213.767809,
          "variable": "FUND"
         },
         {
          "Year": 2031,
          "value": -18325920789.32839,
          "variable": "FUND"
         },
         {
          "Year": 2032,
          "value": -19741726738.879242,
          "variable": "FUND"
         },
         {
          "Year": 2033,
          "value": -21242298327.11398,
          "variable": "FUND"
         },
         {
          "Year": 2034,
          "value": -22811245514.779564,
          "variable": "FUND"
         },
         {
          "Year": 2035,
          "value": -24437565773.763298,
          "variable": "FUND"
         },
         {
          "Year": 2036,
          "value": -26066855572.055374,
          "variable": "FUND"
         },
         {
          "Year": 2037,
          "value": -27868838685.181232,
          "variable": "FUND"
         },
         {
          "Year": 2038,
          "value": -29771267364.173946,
          "variable": "FUND"
         },
         {
          "Year": 2039,
          "value": -31761047441.531933,
          "variable": "FUND"
         },
         {
          "Year": 2040,
          "value": -33859665143.443825,
          "variable": "FUND"
         },
         {
          "Year": 2041,
          "value": -36071862458.85372,
          "variable": "FUND"
         },
         {
          "Year": 2042,
          "value": -38393373611.93863,
          "variable": "FUND"
         },
         {
          "Year": 2043,
          "value": -40801469411.00194,
          "variable": "FUND"
         },
         {
          "Year": 2044,
          "value": -43306734740.49733,
          "variable": "FUND"
         },
         {
          "Year": 2045,
          "value": -45989667615.15862,
          "variable": "FUND"
         },
         {
          "Year": 2046,
          "value": -49304497248.852196,
          "variable": "FUND"
         },
         {
          "Year": 2047,
          "value": -53085682235.166084,
          "variable": "FUND"
         },
         {
          "Year": 2048,
          "value": -57116723334.459,
          "variable": "FUND"
         },
         {
          "Year": 2049,
          "value": -61398588311.511314,
          "variable": "FUND"
         },
         {
          "Year": 2050,
          "value": -65953626643.13713,
          "variable": "FUND"
         },
         {
          "Year": 2051,
          "value": -70841375355.82968,
          "variable": "FUND"
         },
         {
          "Year": 2052,
          "value": -76119085948.4198,
          "variable": "FUND"
         },
         {
          "Year": 2053,
          "value": -81804891810.88132,
          "variable": "FUND"
         },
         {
          "Year": 2054,
          "value": -87976099155.43994,
          "variable": "FUND"
         },
         {
          "Year": 2055,
          "value": -94524558950.44792,
          "variable": "FUND"
         },
         {
          "Year": 2056,
          "value": -98175067072.30229,
          "variable": "FUND"
         },
         {
          "Year": 2057,
          "value": -102414945680.41068,
          "variable": "FUND"
         },
         {
          "Year": 2058,
          "value": -106869145189.92331,
          "variable": "FUND"
         },
         {
          "Year": 2059,
          "value": -111547761980.53093,
          "variable": "FUND"
         },
         {
          "Year": 2060,
          "value": -116486810825.00821,
          "variable": "FUND"
         },
         {
          "Year": 2061,
          "value": -122906344861.55655,
          "variable": "FUND"
         },
         {
          "Year": 2062,
          "value": -129276511673.07646,
          "variable": "FUND"
         },
         {
          "Year": 2063,
          "value": -136544814613.9002,
          "variable": "FUND"
         },
         {
          "Year": 2064,
          "value": -110479081335.52914,
          "variable": "FUND"
         },
         {
          "Year": 2065,
          "value": -147421492444.2596,
          "variable": "FUND"
         },
         {
          "Year": 2066,
          "value": -156227924236.07462,
          "variable": "FUND"
         },
         {
          "Year": 2067,
          "value": -161906578840.05737,
          "variable": "FUND"
         },
         {
          "Year": 2068,
          "value": -167973493758.88095,
          "variable": "FUND"
         },
         {
          "Year": 2069,
          "value": -174182913934.91022,
          "variable": "FUND"
         },
         {
          "Year": 2070,
          "value": -180412977895.47623,
          "variable": "FUND"
         },
         {
          "Year": 2071,
          "value": -186584295207.38577,
          "variable": "FUND"
         },
         {
          "Year": 2072,
          "value": -192724313984.0817,
          "variable": "FUND"
         },
         {
          "Year": 2073,
          "value": -198952974444.75296,
          "variable": "FUND"
         },
         {
          "Year": 2074,
          "value": -205260101728.13672,
          "variable": "FUND"
         },
         {
          "Year": 2075,
          "value": -211723444106.50668,
          "variable": "FUND"
         },
         {
          "Year": 2076,
          "value": -218421643624.35355,
          "variable": "FUND"
         },
         {
          "Year": 2077,
          "value": -225238029574.32938,
          "variable": "FUND"
         },
         {
          "Year": 2078,
          "value": -232143932237.01947,
          "variable": "FUND"
         },
         {
          "Year": 2079,
          "value": -239573197471.72903,
          "variable": "FUND"
         },
         {
          "Year": 2080,
          "value": -246571482999.76367,
          "variable": "FUND"
         },
         {
          "Year": 2081,
          "value": -253650692444.74576,
          "variable": "FUND"
         },
         {
          "Year": 2082,
          "value": -260797195436.33768,
          "variable": "FUND"
         },
         {
          "Year": 2083,
          "value": -268197972902.63544,
          "variable": "FUND"
         },
         {
          "Year": 2084,
          "value": -275310311100.09015,
          "variable": "FUND"
         },
         {
          "Year": 2085,
          "value": -282390172344.27594,
          "variable": "FUND"
         },
         {
          "Year": 2086,
          "value": -289390398284.8916,
          "variable": "FUND"
         },
         {
          "Year": 2087,
          "value": -296337862152.2896,
          "variable": "FUND"
         },
         {
          "Year": 2088,
          "value": -303246161843.11536,
          "variable": "FUND"
         },
         {
          "Year": 2089,
          "value": -310096744256.5997,
          "variable": "FUND"
         },
         {
          "Year": 2090,
          "value": -316876542574.7882,
          "variable": "FUND"
         },
         {
          "Year": 2091,
          "value": -323562542407.7073,
          "variable": "FUND"
         },
         {
          "Year": 2092,
          "value": -330126494180.9564,
          "variable": "FUND"
         },
         {
          "Year": 2093,
          "value": -336551708491.733,
          "variable": "FUND"
         },
         {
          "Year": 2094,
          "value": -342815327964.44543,
          "variable": "FUND"
         },
         {
          "Year": 2095,
          "value": -348845992873.7225,
          "variable": "FUND"
         },
         {
          "Year": 2096,
          "value": -354541374673.37604,
          "variable": "FUND"
         },
         {
          "Year": 2097,
          "value": -360037458845.4674,
          "variable": "FUND"
         },
         {
          "Year": 2098,
          "value": -365315375289.8936,
          "variable": "FUND"
         },
         {
          "Year": 2099,
          "value": -370365622521.7213,
          "variable": "FUND"
         },
         {
          "Year": 2100,
          "value": -375175503889.783,
          "variable": "FUND"
         },
         {
          "Year": 2015,
          "value": 892791681891.1625,
          "variable": "FUNDFAIR"
         },
         {
          "Year": 2016,
          "value": 1905975501432.1262,
          "variable": "FUNDFAIR"
         },
         {
          "Year": 2017,
          "value": 3055569433001.6143,
          "variable": "FUNDFAIR"
         },
         {
          "Year": 2018,
          "value": 4360254797740.9795,
          "variable": "FUNDFAIR"
         },
         {
          "Year": 2019,
          "value": 5838710296473.9375,
          "variable": "FUNDFAIR"
         },
         {
          "Year": 2020,
          "value": 7507934303766.482,
          "variable": "FUNDFAIR"
         },
         {
          "Year": 2021,
          "value": 9383646399765.355,
          "variable": "FUNDFAIR"
         },
         {
          "Year": 2022,
          "value": 11480563276996.496,
          "variable": "FUNDFAIR"
         },
         {
          "Year": 2023,
          "value": 13812202194101.518,
          "variable": "FUNDFAIR"
         },
         {
          "Year": 2024,
          "value": 16389601652090.914,
          "variable": "FUNDFAIR"
         },
         {
          "Year": 2025,
          "value": 19222677865464.406,
          "variable": "FUNDFAIR"
         },
         {
          "Year": 2026,
          "value": 22319338556263.234,
          "variable": "FUNDFAIR"
         },
         {
          "Year": 2027,
          "value": 25687361126852.34,
          "variable": "FUNDFAIR"
         },
         {
          "Year": 2028,
          "value": 29331810992425.25,
          "variable": "FUNDFAIR"
         },
         {
          "Year": 2029,
          "value": 33255653001625.12,
          "variable": "FUNDFAIR"
         },
         {
          "Year": 2030,
          "value": 37466831813049.98,
          "variable": "FUNDFAIR"
         },
         {
          "Year": 2031,
          "value": 41964394793582.92,
          "variable": "FUNDFAIR"
         },
         {
          "Year": 2032,
          "value": 46757615912318.91,
          "variable": "FUNDFAIR"
         },
         {
          "Year": 2033,
          "value": 51841232443107.266,
          "variable": "FUNDFAIR"
         },
         {
          "Year": 2034,
          "value": 57216321019890.99,
          "variable": "FUNDFAIR"
         },
         {
          "Year": 2035,
          "value": 62882927943214.945,
          "variable": "FUNDFAIR"
         },
         {
          "Year": 2036,
          "value": 68839754447279.945,
          "variable": "FUNDFAIR"
         },
         {
          "Year": 2037,
          "value": 75084416790686.9,
          "variable": "FUNDFAIR"
         },
         {
          "Year": 2038,
          "value": 81656856654375.03,
          "variable": "FUNDFAIR"
         },
         {
          "Year": 2039,
          "value": 88513816961007.38,
          "variable": "FUNDFAIR"
         },
         {
          "Year": 2040,
          "value": 95640609105257.55,
          "variable": "FUNDFAIR"
         },
         {
          "Year": 2041,
          "value": 103044506533936.9,
          "variable": "FUNDFAIR"
         },
         {
          "Year": 2042,
          "value": 110684269406165.28,
          "variable": "FUNDFAIR"
         },
         {
          "Year": 2043,
          "value": 118549540813899.88,
          "variable": "FUNDFAIR"
         },
         {
          "Year": 2044,
          "value": 126629954308773.58,
          "variable": "FUNDFAIR"
         },
         {
          "Year": 2045,
          "value": 134915540828496,
          "variable": "FUNDFAIR"
         },
         {
          "Year": 2046,
          "value": 143396062897795.47,
          "variable": "FUNDFAIR"
         },
         {
          "Year": 2047,
          "value": 152060427489492.66,
          "variable": "FUNDFAIR"
         },
         {
          "Year": 2048,
          "value": 160896605765793.28,
          "variable": "FUNDFAIR"
         },
         {
          "Year": 2049,
          "value": 169890891537334.4,
          "variable": "FUNDFAIR"
         },
         {
          "Year": 2050,
          "value": 179028539602238.97,
          "variable": "FUNDFAIR"
         },
         {
          "Year": 2051,
          "value": 188302870004324.06,
          "variable": "FUNDFAIR"
         },
         {
          "Year": 2052,
          "value": 197701959301970.38,
          "variable": "FUNDFAIR"
         },
         {
          "Year": 2053,
          "value": 207219186619286.9,
          "variable": "FUNDFAIR"
         },
         {
          "Year": 2054,
          "value": 216852743652837.97,
          "variable": "FUNDFAIR"
         },
         {
          "Year": 2055,
          "value": 226602237174296.7,
          "variable": "FUNDFAIR"
         },
         {
          "Year": 2056,
          "value": 236468430636332.97,
          "variable": "FUNDFAIR"
         },
         {
          "Year": 2057,
          "value": 246451847700785.97,
          "variable": "FUNDFAIR"
         },
         {
          "Year": 2058,
          "value": 256553678127708.34,
          "variable": "FUNDFAIR"
         },
         {
          "Year": 2059,
          "value": 266776299026573.97,
          "variable": "FUNDFAIR"
         },
         {
          "Year": 2060,
          "value": 277121375133162.66,
          "variable": "FUNDFAIR"
         },
         {
          "Year": 2061,
          "value": 287581983518883.75,
          "variable": "FUNDFAIR"
         },
         {
          "Year": 2062,
          "value": 298138143539149,
          "variable": "FUNDFAIR"
         },
         {
          "Year": 2063,
          "value": 308765483826260.7,
          "variable": "FUNDFAIR"
         },
         {
          "Year": 2064,
          "value": 319438720642828,
          "variable": "FUNDFAIR"
         },
         {
          "Year": 2065,
          "value": 330131786604773.5,
          "variable": "FUNDFAIR"
         },
         {
          "Year": 2066,
          "value": 340818715035554.44,
          "variable": "FUNDFAIR"
         },
         {
          "Year": 2067,
          "value": 351472181184186.6,
          "variable": "FUNDFAIR"
         },
         {
          "Year": 2068,
          "value": 362063763504761.94,
          "variable": "FUNDFAIR"
         },
         {
          "Year": 2069,
          "value": 372562782570969.94,
          "variable": "FUNDFAIR"
         },
         {
          "Year": 2070,
          "value": 382937051555123.1,
          "variable": "FUNDFAIR"
         },
         {
          "Year": 2071,
          "value": 393158928365089.9,
          "variable": "FUNDFAIR"
         },
         {
          "Year": 2072,
          "value": 403223177202898.75,
          "variable": "FUNDFAIR"
         },
         {
          "Year": 2073,
          "value": 413131153705439.7,
          "variable": "FUNDFAIR"
         },
         {
          "Year": 2074,
          "value": 422885252979212.8,
          "variable": "FUNDFAIR"
         },
         {
          "Year": 2075,
          "value": 432489314460465.94,
          "variable": "FUNDFAIR"
         },
         {
          "Year": 2076,
          "value": 441947920671556.9,
          "variable": "FUNDFAIR"
         },
         {
          "Year": 2077,
          "value": 451267058336408.9,
          "variable": "FUNDFAIR"
         },
         {
          "Year": 2078,
          "value": 460454050444849.25,
          "variable": "FUNDFAIR"
         },
         {
          "Year": 2079,
          "value": 469516920875279.2,
          "variable": "FUNDFAIR"
         },
         {
          "Year": 2080,
          "value": 478464486405333.1,
          "variable": "FUNDFAIR"
         },
         {
          "Year": 2081,
          "value": 487302769653598,
          "variable": "FUNDFAIR"
         },
         {
          "Year": 2082,
          "value": 496027804736958.2,
          "variable": "FUNDFAIR"
         },
         {
          "Year": 2083,
          "value": 504632435072424.44,
          "variable": "FUNDFAIR"
         },
         {
          "Year": 2084,
          "value": 513109926543059.75,
          "variable": "FUNDFAIR"
         },
         {
          "Year": 2085,
          "value": 521453484557375.94,
          "variable": "FUNDFAIR"
         },
         {
          "Year": 2086,
          "value": 529656418122120.4,
          "variable": "FUNDFAIR"
         },
         {
          "Year": 2087,
          "value": 537713274893537.2,
          "variable": "FUNDFAIR"
         },
         {
          "Year": 2088,
          "value": 545618163870893.25,
          "variable": "FUNDFAIR"
         },
         {
          "Year": 2089,
          "value": 553366273217711.06,
          "variable": "FUNDFAIR"
         },
         {
          "Year": 2090,
          "value": 560953352258805.9,
          "variable": "FUNDFAIR"
         },
         {
          "Year": 2091,
          "value": 568375114005904.6,
          "variable": "FUNDFAIR"
         },
         {
          "Year": 2092,
          "value": 575629699745436.4,
          "variable": "FUNDFAIR"
         },
         {
          "Year": 2093,
          "value": 582715452942333.6,
          "variable": "FUNDFAIR"
         },
         {
          "Year": 2094,
          "value": 589629402717607.6,
          "variable": "FUNDFAIR"
         },
         {
          "Year": 2095,
          "value": 596369218935319.4,
          "variable": "FUNDFAIR"
         },
         {
          "Year": 2096,
          "value": 602933178778843.8,
          "variable": "FUNDFAIR"
         },
         {
          "Year": 2097,
          "value": 609319849299723.1,
          "variable": "FUNDFAIR"
         },
         {
          "Year": 2098,
          "value": 615528730352083.5,
          "variable": "FUNDFAIR"
         },
         {
          "Year": 2099,
          "value": 621559130531285.5,
          "variable": "FUNDFAIR"
         },
         {
          "Year": 2100,
          "value": 627411764368282.5,
          "variable": "FUNDFAIR"
         }
        ]
       },
       "encoding": {
        "color": {
         "field": "variable",
         "type": "nominal"
        },
        "x": {
         "field": "Year",
         "type": "quantitative"
        },
        "y": {
         "field": "value",
         "type": "quantitative"
        }
       },
       "mark": "line"
      },
      "image/png": "[encoded data removed]",
      "image/svg+xml": [
       "<?xml version=\"1.0\" encoding=\"utf-8\"?>\n",
       "<!DOCTYPE svg PUBLIC \"-//W3C//DTD SVG 1.1//EN\" \"http://www.w3.org/Graphics/SVG/1.1/DTD/svg11.dtd\">\n",
       "<svg xmlns=\"http://www.w3.org/2000/svg\" xmlns:xlink=\"http://www.w3.org/1999/xlink\" version=\"1.1\" class=\"marks\" width=\"402\" height=\"242\" viewBox=\"0 0 402 242\"><rect width=\"402\" height=\"242\" fill=\"white\"/><g fill=\"none\" stroke-miterlimit=\"10\" transform=\"translate(114,5)\"><g class=\"mark-group role-frame root\" role=\"graphics-object\" aria-roledescription=\"group mark container\"><g transform=\"translate(0,0)\"><path class=\"background\" aria-hidden=\"true\" d=\"M0.5,0.5h200v200h-200Z\" stroke=\"#ddd\"/><g><g class=\"mark-group role-axis\" aria-hidden=\"true\"><g transform=\"translate(0.5,200.5)\"><path class=\"background\" aria-hidden=\"true\" d=\"M0,0h0v0h0Z\" pointer-events=\"none\"/><g><g class=\"mark-rule role-axis-grid\" pointer-events=\"none\"><line transform=\"translate(22,-200)\" x2=\"0\" y2=\"200\" stroke=\"#ddd\" stroke-width=\"1\" opacity=\"1\"/><line transform=\"translate(67,-200)\" x2=\"0\" y2=\"200\" stroke=\"#ddd\" stroke-width=\"1\" opacity=\"1\"/><line transform=\"translate(111,-200)\" x2=\"0\" y2=\"200\" stroke=\"#ddd\" stroke-width=\"1\" opacity=\"1\"/><line transform=\"translate(156,-200)\" x2=\"0\" y2=\"200\" stroke=\"#ddd\" stroke-width=\"1\" opacity=\"1\"/><line transform=\"translate(200,-200)\" x2=\"0\" y2=\"200\" stroke=\"#ddd\" stroke-width=\"1\" opacity=\"1\"/></g></g><path class=\"foreground\" aria-hidden=\"true\" d=\"\" pointer-events=\"none\" display=\"none\"/></g></g><g class=\"mark-group role-axis\" aria-hidden=\"true\"><g transform=\"translate(0.5,0.5)\"><path class=\"background\" aria-hidden=\"true\" d=\"M0,0h0v0h0Z\" pointer-events=\"none\"/><g><g class=\"mark-rule role-axis-grid\" pointer-events=\"none\"><line transform=\"translate(0,186)\" x2=\"200\" y2=\"0\" stroke=\"#ddd\" stroke-width=\"1\" opacity=\"1\"/><line transform=\"translate(0,157)\" x2=\"200\" y2=\"0\" stroke=\"#ddd\" stroke-width=\"1\" opacity=\"1\"/><line transform=\"translate(0,129)\" x2=\"200\" y2=\"0\" stroke=\"#ddd\" stroke-width=\"1\" opacity=\"1\"/><line transform=\"translate(0,100)\" x2=\"200\" y2=\"0\" stroke=\"#ddd\" stroke-width=\"1\" opacity=\"1\"/><line transform=\"translate(0,71)\" x2=\"200\" y2=\"0\" stroke=\"#ddd\" stroke-width=\"1\" opacity=\"1\"/><line transform=\"translate(0,43)\" x2=\"200\" y2=\"0\" stroke=\"#ddd\" stroke-width=\"1\" opacity=\"1\"/><line transform=\"translate(0,14)\" x2=\"200\" y2=\"0\" stroke=\"#ddd\" stroke-width=\"1\" opacity=\"1\"/></g></g><path class=\"foreground\" aria-hidden=\"true\" d=\"\" pointer-events=\"none\" display=\"none\"/></g></g><g class=\"mark-group role-axis\" role=\"graphics-symbol\" aria-roledescription=\"axis\" aria-label=\"X-axis titled 'Year' for a linear scale with values from 2,010 to 2,100\"><g transform=\"translate(0.5,200.5)\"><path class=\"background\" aria-hidden=\"true\" d=\"M0,0h0v0h0Z\" pointer-events=\"none\"/><g><g class=\"mark-rule role-axis-tick\" pointer-events=\"none\"><line transform=\"translate(22,0)\" x2=\"0\" y2=\"5\" stroke=\"#888\" stroke-width=\"1\" opacity=\"1\"/><line transform=\"translate(67,0)\" x2=\"0\" y2=\"5\" stroke=\"#888\" stroke-width=\"1\" opacity=\"1\"/><line transform=\"translate(111,0)\" x2=\"0\" y2=\"5\" stroke=\"#888\" stroke-width=\"1\" opacity=\"1\"/><line transform=\"translate(156,0)\" x2=\"0\" y2=\"5\" stroke=\"#888\" stroke-width=\"1\" opacity=\"1\"/><line transform=\"translate(200,0)\" x2=\"0\" y2=\"5\" stroke=\"#888\" stroke-width=\"1\" opacity=\"1\"/></g><g class=\"mark-text role-axis-label\" pointer-events=\"none\"><text text-anchor=\"middle\" transform=\"translate(22.22222222222222,15)\" font-family=\"sans-serif\" font-size=\"10px\" fill=\"#000\" opacity=\"1\">2,020</text><text text-anchor=\"middle\" transform=\"translate(66.66666666666666,15)\" font-family=\"sans-serif\" font-size=\"10px\" fill=\"#000\" opacity=\"1\">2,040</text><text text-anchor=\"middle\" transform=\"translate(111.11111111111111,15)\" font-family=\"sans-serif\" font-size=\"10px\" fill=\"#000\" opacity=\"1\">2,060</text><text text-anchor=\"middle\" transform=\"translate(155.55555555555557,15)\" font-family=\"sans-serif\" font-size=\"10px\" fill=\"#000\" opacity=\"1\">2,080</text><text text-anchor=\"end\" transform=\"translate(200,15)\" font-family=\"sans-serif\" font-size=\"10px\" fill=\"#000\" opacity=\"1\">2,100</text></g><g class=\"mark-rule role-axis-domain\" pointer-events=\"none\"><line transform=\"translate(0,0)\" x2=\"200\" y2=\"0\" stroke=\"#888\" stroke-width=\"1\" opacity=\"1\"/></g><g class=\"mark-text role-axis-title\" pointer-events=\"none\"><text text-anchor=\"middle\" transform=\"translate(100,30)\" font-family=\"sans-serif\" font-size=\"11px\" font-weight=\"bold\" fill=\"#000\" opacity=\"1\">Year</text></g></g><path class=\"foreground\" aria-hidden=\"true\" d=\"\" pointer-events=\"none\" display=\"none\"/></g></g><g class=\"mark-group role-axis\" role=\"graphics-symbol\" aria-roledescription=\"axis\" aria-label=\"Y-axis titled 'value' for a linear scale with values from −50,000,000,000,000 to 650,000,000,000,000\"><g transform=\"translate(0.5,0.5)\"><path class=\"background\" aria-hidden=\"true\" d=\"M0,0h0v0h0Z\" pointer-events=\"none\"/><g><g class=\"mark-rule role-axis-tick\" pointer-events=\"none\"><line transform=\"translate(0,186)\" x2=\"-5\" y2=\"0\" stroke=\"#888\" stroke-width=\"1\" opacity=\"1\"/><line transform=\"translate(0,157)\" x2=\"-5\" y2=\"0\" stroke=\"#888\" stroke-width=\"1\" opacity=\"1\"/><line transform=\"translate(0,129)\" x2=\"-5\" y2=\"0\" stroke=\"#888\" stroke-width=\"1\" opacity=\"1\"/><line transform=\"translate(0,100)\" x2=\"-5\" y2=\"0\" stroke=\"#888\" stroke-width=\"1\" opacity=\"1\"/><line transform=\"translate(0,71)\" x2=\"-5\" y2=\"0\" stroke=\"#888\" stroke-width=\"1\" opacity=\"1\"/><line transform=\"translate(0,43)\" x2=\"-5\" y2=\"0\" stroke=\"#888\" stroke-width=\"1\" opacity=\"1\"/><line transform=\"translate(0,14)\" x2=\"-5\" y2=\"0\" stroke=\"#888\" stroke-width=\"1\" opacity=\"1\"/></g><g class=\"mark-text role-axis-label\" pointer-events=\"none\"><text text-anchor=\"end\" transform=\"translate(-7,188.71428571428572)\" font-family=\"sans-serif\" font-size=\"10px\" fill=\"#000\" opacity=\"1\">0</text><text text-anchor=\"end\" transform=\"translate(-7,160.14285714285714)\" font-family=\"sans-serif\" font-size=\"10px\" fill=\"#000\" opacity=\"1\">100,000,000,000,000</text><text text-anchor=\"end\" transform=\"translate(-7,131.57142857142856)\" font-family=\"sans-serif\" font-size=\"10px\" fill=\"#000\" opacity=\"1\">200,000,000,000,000</text><text text-anchor=\"end\" transform=\"translate(-7,103)\" font-family=\"sans-serif\" font-size=\"10px\" fill=\"#000\" opacity=\"1\">300,000,000,000,000</text><text text-anchor=\"end\" transform=\"translate(-7,74.42857142857142)\" font-family=\"sans-serif\" font-size=\"10px\" fill=\"#000\" opacity=\"1\">400,000,000,000,000</text><text text-anchor=\"end\" transform=\"translate(-7,45.85714285714286)\" font-family=\"sans-serif\" font-size=\"10px\" fill=\"#000\" opacity=\"1\">500,000,000,000,000</text><text text-anchor=\"end\" transform=\"translate(-7,17.285714285714278)\" font-family=\"sans-serif\" font-size=\"10px\" fill=\"#000\" opacity=\"1\">600,000,000,000,000</text></g><g class=\"mark-rule role-axis-domain\" pointer-events=\"none\"><line transform=\"translate(0,200)\" x2=\"0\" y2=\"-200\" stroke=\"#888\" stroke-width=\"1\" opacity=\"1\"/></g><g class=\"mark-text role-axis-title\" pointer-events=\"none\"><text text-anchor=\"middle\" transform=\"translate(-98,100) rotate(-90) translate(0,-2)\" font-family=\"sans-serif\" font-size=\"11px\" font-weight=\"bold\" fill=\"#000\" opacity=\"1\">value</text></g></g><path class=\"foreground\" aria-hidden=\"true\" d=\"\" pointer-events=\"none\" display=\"none\"/></g></g><g class=\"mark-group role-scope pathgroup\" role=\"graphics-object\" aria-roledescription=\"group mark container\"><g transform=\"translate(0,0)\"><path class=\"background\" aria-hidden=\"true\" d=\"M0,0h200v200h-200Z\"/><g><g class=\"mark-line role-mark marks\" role=\"graphics-object\" aria-roledescription=\"line mark container\"><path aria-label=\"Year: 2015; value: 0; variable: FUND\" role=\"graphics-symbol\" aria-roledescription=\"line mark\" d=\"M13.333333333333334,185.71550556826764L15.555555555555555,185.71568541763745L17.77777777777778,185.71588552707357L20,185.71608216079622L22.22222222222222,185.7162909901338L24.444444444444443,185.7165138796402L26.666666666666668,185.71675228974297L28.888888888888886,185.7170003937217L31.11111111111111,185.7172593034732L33.33333333333333,185.71752459851865L35.55555555555556,185.71781814995018L37.77777777777778,185.71812499256376L40,185.7184455411891L42.22222222222222,185.71878484767242L44.44444444444444,185.71914295006107L46.666666666666664,185.71952169165408L48.888888888888886,185.71992620763967L51.11111111111111,185.72035494237917L53.333333333333336,185.72080321300422L55.55555555555556,185.72126787593538L57.77777777777777,185.7217333873063L60,185.72224823962432L62.22222222222222,185.72279179067547L64.44444444444444,185.72336029926902L66.66666666666666,185.7239599043267L68.88888888888889,185.72459196070253L71.11111111111111,185.7252552496034L73.33333333333333,185.7259432769746L75.55555555555556,185.7266590670687L77.77777777777779,185.7274256193186L80,185.72837271349968L82.22222222222221,185.72945305206719L84.44444444444444,185.73060477809554L86.66666666666667,185.731828168089L88.88888888888889,185.7331296076123L91.11111111111111,185.73452610724453L93.33333333333333,185.7360340245567L95.55555555555556,185.7376585405174L97.77777777777777,185.73942174261583L100,185.74129273112868L102.22222222222221,185.74233573344924L104.44444444444446,185.74354712733725L106.66666666666667,185.74481975576856L108.88888888888889,185.746156503423L111.11111111111111,185.74756766023572L113.33333333333333,185.74940181281758L115.55555555555554,185.75122186047804L117.77777777777779,185.75329851846112L120,185.7458511660959L122.22222222222223,185.75640614069835L124.44444444444444,185.75892226406745L126.66666666666666,185.76054473681145L128.88888888888889,185.76227814107398L131.11111111111111,185.76405226112428L133.33333333333331,185.76583227939872L135.55555555555557,185.7675955129164L137.77777777777777,185.76934980399545L140,185.77112942126993L142.22222222222223,185.77293145763662L144.44444444444443,185.77477812688755L146.66666666666666,185.77669189817837L148.88888888888889,185.77863943702124L151.11111111111111,185.78061255206774L153.33333333333334,185.78273519927762L155.55555555555557,185.7847347094285L157.77777777777777,185.7867573406985L160,185.7887991986961L162.22222222222223,185.79091370654362L164.44444444444443,185.79294580317145L166.66666666666669,185.7949686206698L168.88888888888889,185.79696868522427L171.11111111111111,185.79895367490064L173.33333333333334,185.8009274748123L175.55555555555554,185.8028847840733L177.77777777777777,185.8048218693071L180,185.80673215497364L182.22222222222223,185.80860756976597L184.44444444444446,185.81044334528337L186.66666666666666,185.81223295084698L188.88888888888889,185.81395599796392L191.11111111111111,185.81558324990667L193.33333333333334,185.81715355967012L195.55555555555554,185.8186615357971L197.77777777777777,185.82010446357765L200,185.82147871539706\" stroke=\"#4c78a8\" stroke-width=\"2\"/></g></g><path class=\"foreground\" aria-hidden=\"true\" d=\"\" display=\"none\"/></g><g transform=\"translate(0,0)\"><path class=\"background\" aria-hidden=\"true\" d=\"M0,0h200v200h-200Z\"/><g><g class=\"mark-line role-mark marks\" role=\"graphics-object\" aria-roledescription=\"line mark container\"><path aria-label=\"Year: 2015; value: 892791681891; variable: FUNDFAIR\" role=\"graphics-symbol\" aria-roledescription=\"line mark\" d=\"M11.11111111111111,185.45920237660252L13.333333333333334,185.16972128530512L15.555555555555555,184.84126587628523L17.77777777777778,184.46849862921687L20,184.04608277243602L22.22222222222222,183.56916162749528L24.444444444444443,183.03324388578133L26.666666666666668,182.434124778001L28.888888888888886,181.76794223025672L31.11111111111111,181.03154238511686L33.33333333333333,180.22209203843875L35.55555555555556,179.33733184106762L37.77777777777778,178.37503967804219L40,177.3337682878785L42.22222222222222,176.21267057096426L44.44444444444444,175.00947662484288L46.666666666666664,173.72445863040488L48.888888888888886,172.35496688219462L51.11111111111111,170.90250501625505L53.333333333333336,169.36676542288828L55.55555555555556,167.74773487336716L57.77777777777777,166.04578444363432L60,164.26159520266089L62.22222222222222,162.38375524160713L64.44444444444444,160.42462372542644L66.66666666666666,158.38839739849783L68.88888888888889,156.27299813316088L71.11111111111111,154.09020874109564L73.33333333333333,151.84298833888573L75.55555555555556,149.53429876892184L77.77777777777779,147.16698833471546L80,144.74398202920128L82.22222222222221,142.26844928871637L84.44444444444444,139.74382692405908L86.66666666666667,137.17403098933303L88.88888888888889,134.5632743993603L91.11111111111111,131.91346571305027L93.33333333333333,129.22801162800846L95.55555555555556,126.50880382306089L97.77777777777777,123.75635895633201L100,120.97078937877237L102.22222222222221,118.15187696104772L104.44444444444446,115.29947208548973L106.66666666666667,112.41323482065475L108.88888888888889,109.49248599240744L111.11111111111111,106.53674996195352L113.33333333333333,103.54800470889036L115.55555555555554,100.53195898881458L117.77777777777779,97.49557604963981L120,94.44607981633486L122.22222222222223,91.39091811292187L124.44444444444444,88.33750998984158L126.66666666666666,85.29366251880381L128.88888888888889,82.2674961414966L131.11111111111111,79.2677764082943L133.33333333333331,76.3036995556791L135.55555555555557,73.38316332426002L137.77777777777777,70.50766365631465L140,67.67681322701723L142.22222222222223,64.8899277202249L144.44444444444443,62.14591015415258L146.66666666666666,59.44345123669803L148.88888888888889,56.780840475311756L151.11111111111111,54.15598558718593L153.33333333333334,51.56659403563453L155.55555555555557,49.01014674133339L157.77777777777777,46.48492295611486L160,43.99205578944052L162.22222222222223,41.533589979307294L164.44444444444443,39.111449559125774L166.66666666666669,36.72757584074971L168.88888888888889,34.38388053653703L171.11111111111111,32.081921458989356L173.33333333333334,29.82338175117336L175.55555555555554,27.609636223511135L177.77777777777777,25.441899354626884L180,23.321395998312955L182.22222222222223,21.248657215589617L184.44444444444446,19.224156302190387L186.66666666666666,17.24874208068354L188.88888888888889,15.32308030419447L191.11111111111111,13.447663206044647L193.33333333333334,11.622900200079101L195.55555555555554,9.848934185119006L197.77777777777777,8.125962705347L200,6.453781609062137\" stroke=\"#f58518\" stroke-width=\"2\"/></g></g><path class=\"foreground\" aria-hidden=\"true\" d=\"\" display=\"none\"/></g></g><g class=\"mark-group role-legend\" role=\"graphics-symbol\" aria-roledescription=\"legend\" aria-label=\"Symbol legend titled 'variable' for stroke color with 2 values: FUND, FUNDFAIR\"><g transform=\"translate(220,0)\"><path class=\"background\" aria-hidden=\"true\" d=\"M0,0h63v40h-63Z\" pointer-events=\"none\"/><g><g class=\"mark-group role-legend-entry\"><g transform=\"translate(0,16)\"><path class=\"background\" aria-hidden=\"true\" d=\"M0,0h0v0h0Z\" pointer-events=\"none\"/><g><g class=\"mark-group role-scope\" role=\"graphics-object\" aria-roledescription=\"group mark container\"><g transform=\"translate(0,0)\"><path class=\"background\" aria-hidden=\"true\" d=\"M0,0h63v11h-63Z\" pointer-events=\"none\" opacity=\"1\"/><g><g class=\"mark-symbol role-legend-symbol\" pointer-events=\"none\"><path transform=\"translate(6,6)\" d=\"M-5,0L5,0\" stroke=\"#4c78a8\" stroke-width=\"1.5\" opacity=\"1\"/></g><g class=\"mark-text role-legend-label\" pointer-events=\"none\"><text text-anchor=\"start\" transform=\"translate(16,9)\" font-family=\"sans-serif\" font-size=\"10px\" fill=\"#000\" opacity=\"1\">FUND</text></g></g><path class=\"foreground\" aria-hidden=\"true\" d=\"\" pointer-events=\"none\" display=\"none\"/></g><g transform=\"translate(0,13)\"><path class=\"background\" aria-hidden=\"true\" d=\"M0,0h63v11h-63Z\" pointer-events=\"none\" opacity=\"1\"/><g><g class=\"mark-symbol role-legend-symbol\" pointer-events=\"none\"><path transform=\"translate(6,6)\" d=\"M-5,0L5,0\" stroke=\"#f58518\" stroke-width=\"1.5\" opacity=\"1\"/></g><g class=\"mark-text role-legend-label\" pointer-events=\"none\"><text text-anchor=\"start\" transform=\"translate(16,9)\" font-family=\"sans-serif\" font-size=\"10px\" fill=\"#000\" opacity=\"1\">FUNDFAIR</text></g></g><path class=\"foreground\" aria-hidden=\"true\" d=\"\" pointer-events=\"none\" display=\"none\"/></g></g></g><path class=\"foreground\" aria-hidden=\"true\" d=\"\" pointer-events=\"none\" display=\"none\"/></g></g><g class=\"mark-text role-legend-title\" pointer-events=\"none\"><text text-anchor=\"start\" transform=\"translate(0,9)\" font-family=\"sans-serif\" font-size=\"11px\" font-weight=\"bold\" fill=\"#000\" opacity=\"1\">variable</text></g></g><path class=\"foreground\" aria-hidden=\"true\" d=\"\" pointer-events=\"none\" display=\"none\"/></g></g></g><path class=\"foreground\" aria-hidden=\"true\" d=\"\" display=\"none\"/></g></g></g></svg>\n"
      ],
      "text/plain": [
       "@vlplot(\n",
       "    mark=\"line\",\n",
       "    encoding={\n",
       "        x={\n",
       "            field=\"Year\"\n",
       "        },\n",
       "        y={\n",
       "            field=\"value\"\n",
       "        },\n",
       "        color={\n",
       "            field=\"variable\"\n",
       "        }\n",
       "    },\n",
       "    data={\n",
       "        values=...\n",
       "    }\n",
       ")"
      ]
     },
     "execution_count": 23,
     "metadata": {},
     "output_type": "execute_result"
    }
   ],
   "source": [
    "df = DataFrame(\n",
    "    :Year => Mimi.time_labels(m),\n",
    "    :FUND => fundvals, \n",
    "    :FUNDFAIR => fundfairvals)\n",
    "\n",
    "stack(df, [:FUND, :FUNDFAIR]) |> \n",
    "\n",
    "@vlplot(\n",
    "    :line, \n",
    "    x = :Year,\n",
    "    y = :value,\n",
    "    color = :variable\n",
    ")"
   ]
  },
  {
   "cell_type": "code",
   "execution_count": 46,
   "metadata": {},
   "outputs": [],
   "source": [
    "sccbase = sum(mm.base[:impactaggregation,:loss], dims = 2)\n",
    "sccbase = sccbase[:,1]\n",
    "sccmodified =sum( mm.modified[:impactaggregation,:loss], dims = 2)\n",
    "sccmodified = sccmodified[:,1]; \n",
    "sccd = sccmodified - sccbase;"
   ]
  },
  {
   "cell_type": "code",
   "execution_count": 47,
   "metadata": {},
   "outputs": [
    {
     "data": {
      "application/vnd.vegalite.v4+json": {
       "data": {
        "values": [
         {
          "Year": 2015,
          "value": 0,
          "variable": "sccd"
         },
         {
          "Year": 2016,
          "value": 0,
          "variable": "sccd"
         },
         {
          "Year": 2017,
          "value": 0,
          "variable": "sccd"
         },
         {
          "Year": 2018,
          "value": 0,
          "variable": "sccd"
         },
         {
          "Year": 2019,
          "value": 0,
          "variable": "sccd"
         },
         {
          "Year": 2020,
          "value": 0,
          "variable": "sccd"
         },
         {
          "Year": 2021,
          "value": 9835.306640625,
          "variable": "sccd"
         },
         {
          "Year": 2022,
          "value": 56238.126953125,
          "variable": "sccd"
         },
         {
          "Year": 2023,
          "value": 168792.830078125,
          "variable": "sccd"
         },
         {
          "Year": 2024,
          "value": 370074.224609375,
          "variable": "sccd"
         },
         {
          "Year": 2025,
          "value": 677635.4765625,
          "variable": "sccd"
         },
         {
          "Year": 2026,
          "value": 1105052.88671875,
          "variable": "sccd"
         },
         {
          "Year": 2027,
          "value": 1662569.546875,
          "variable": "sccd"
         },
         {
          "Year": 2028,
          "value": 2357451.83203125,
          "variable": "sccd"
         },
         {
          "Year": 2029,
          "value": 3194328.8125,
          "variable": "sccd"
         },
         {
          "Year": 2030,
          "value": 4175576.453125,
          "variable": "sccd"
         },
         {
          "Year": 2031,
          "value": 5292594.5234375,
          "variable": "sccd"
         },
         {
          "Year": 2032,
          "value": 6520810.8203125,
          "variable": "sccd"
         },
         {
          "Year": 2033,
          "value": 7831386.3359375,
          "variable": "sccd"
         },
         {
          "Year": 2034,
          "value": 9200968.6015625,
          "variable": "sccd"
         },
         {
          "Year": 2035,
          "value": 10610210.6875,
          "variable": "sccd"
         },
         {
          "Year": 2036,
          "value": 12042820.15625,
          "variable": "sccd"
         },
         {
          "Year": 2037,
          "value": 13484901.53125,
          "variable": "sccd"
         },
         {
          "Year": 2038,
          "value": 14926650.921875,
          "variable": "sccd"
         },
         {
          "Year": 2039,
          "value": 16355650.421875,
          "variable": "sccd"
         },
         {
          "Year": 2040,
          "value": 17762194.671875,
          "variable": "sccd"
         },
         {
          "Year": 2041,
          "value": 19139190.90625,
          "variable": "sccd"
         },
         {
          "Year": 2042,
          "value": 20477474.015625,
          "variable": "sccd"
         },
         {
          "Year": 2043,
          "value": 21773558.328125,
          "variable": "sccd"
         },
         {
          "Year": 2044,
          "value": 23026373.75,
          "variable": "sccd"
         },
         {
          "Year": 2045,
          "value": 24235019.953125,
          "variable": "sccd"
         },
         {
          "Year": 2046,
          "value": 25398804.75,
          "variable": "sccd"
         },
         {
          "Year": 2047,
          "value": 26517263.3125,
          "variable": "sccd"
         },
         {
          "Year": 2048,
          "value": 27590166.78125,
          "variable": "sccd"
         },
         {
          "Year": 2049,
          "value": 28617587.75,
          "variable": "sccd"
         },
         {
          "Year": 2050,
          "value": 29599830.09375,
          "variable": "sccd"
         },
         {
          "Year": 2051,
          "value": 30537882.15625,
          "variable": "sccd"
         },
         {
          "Year": 2052,
          "value": 31432642.34375,
          "variable": "sccd"
         },
         {
          "Year": 2053,
          "value": 32285396.75,
          "variable": "sccd"
         },
         {
          "Year": 2054,
          "value": 33097722.3125,
          "variable": "sccd"
         },
         {
          "Year": 2055,
          "value": 33871158.09375,
          "variable": "sccd"
         },
         {
          "Year": 2056,
          "value": 34607225.75,
          "variable": "sccd"
         },
         {
          "Year": 2057,
          "value": 35307596.5625,
          "variable": "sccd"
         },
         {
          "Year": 2058,
          "value": 35974045.5625,
          "variable": "sccd"
         },
         {
          "Year": 2059,
          "value": 36608431.8125,
          "variable": "sccd"
         },
         {
          "Year": 2060,
          "value": 37212515.90625,
          "variable": "sccd"
         },
         {
          "Year": 2061,
          "value": 37787399.25,
          "variable": "sccd"
         },
         {
          "Year": 2062,
          "value": 38332105.1875,
          "variable": "sccd"
         },
         {
          "Year": 2063,
          "value": 38845053.3125,
          "variable": "sccd"
         },
         {
          "Year": 2064,
          "value": 39324621.5625,
          "variable": "sccd"
         },
         {
          "Year": 2065,
          "value": 39769187.75,
          "variable": "sccd"
         },
         {
          "Year": 2066,
          "value": 40177068.6875,
          "variable": "sccd"
         },
         {
          "Year": 2067,
          "value": 40546584.3125,
          "variable": "sccd"
         },
         {
          "Year": 2068,
          "value": 40876213.9375,
          "variable": "sccd"
         },
         {
          "Year": 2069,
          "value": 41164582.8125,
          "variable": "sccd"
         },
         {
          "Year": 2070,
          "value": 41410459.5,
          "variable": "sccd"
         },
         {
          "Year": 2071,
          "value": 41613338.5,
          "variable": "sccd"
         },
         {
          "Year": 2072,
          "value": 41775433.5625,
          "variable": "sccd"
         },
         {
          "Year": 2073,
          "value": 41899582.5,
          "variable": "sccd"
         },
         {
          "Year": 2074,
          "value": 41988608.5625,
          "variable": "sccd"
         },
         {
          "Year": 2075,
          "value": 42045319.125,
          "variable": "sccd"
         },
         {
          "Year": 2076,
          "value": 42072454.9375,
          "variable": "sccd"
         },
         {
          "Year": 2077,
          "value": 42072662.625,
          "variable": "sccd"
         },
         {
          "Year": 2078,
          "value": 42048502.3125,
          "variable": "sccd"
         },
         {
          "Year": 2079,
          "value": 42002408.8125,
          "variable": "sccd"
         },
         {
          "Year": 2080,
          "value": 41936856.3125,
          "variable": "sccd"
         },
         {
          "Year": 2081,
          "value": 41854036,
          "variable": "sccd"
         },
         {
          "Year": 2082,
          "value": 41754999.6875,
          "variable": "sccd"
         },
         {
          "Year": 2083,
          "value": 41640511.5625,
          "variable": "sccd"
         },
         {
          "Year": 2084,
          "value": 41511329.9375,
          "variable": "sccd"
         },
         {
          "Year": 2085,
          "value": 41368194.1875,
          "variable": "sccd"
         },
         {
          "Year": 2086,
          "value": 41211802.1875,
          "variable": "sccd"
         },
         {
          "Year": 2087,
          "value": 41042747.375,
          "variable": "sccd"
         },
         {
          "Year": 2088,
          "value": 40861501.75,
          "variable": "sccd"
         },
         {
          "Year": 2089,
          "value": 40668497.6875,
          "variable": "sccd"
         },
         {
          "Year": 2090,
          "value": 40464042,
          "variable": "sccd"
         },
         {
          "Year": 2091,
          "value": 40248510.5,
          "variable": "sccd"
         },
         {
          "Year": 2092,
          "value": 40022518.875,
          "variable": "sccd"
         },
         {
          "Year": 2093,
          "value": 39786856.625,
          "variable": "sccd"
         },
         {
          "Year": 2094,
          "value": 39542464.375,
          "variable": "sccd"
         },
         {
          "Year": 2095,
          "value": 39290208.75,
          "variable": "sccd"
         },
         {
          "Year": 2096,
          "value": 39030880.375,
          "variable": "sccd"
         },
         {
          "Year": 2097,
          "value": 38765185.5,
          "variable": "sccd"
         },
         {
          "Year": 2098,
          "value": 38493703.375,
          "variable": "sccd"
         },
         {
          "Year": 2099,
          "value": 38216937.75,
          "variable": "sccd"
         },
         {
          "Year": 2100,
          "value": 37935268.625,
          "variable": "sccd"
         }
        ]
       },
       "encoding": {
        "color": {
         "field": "variable",
         "type": "nominal"
        },
        "x": {
         "field": "Year",
         "type": "quantitative"
        },
        "y": {
         "field": "value",
         "type": "quantitative"
        }
       },
       "mark": "line"
      },
      "image/png": "[encoded data removed]",
      "image/svg+xml": [
       "<?xml version=\"1.0\" encoding=\"utf-8\"?>\n",
       "<!DOCTYPE svg PUBLIC \"-//W3C//DTD SVG 1.1//EN\" \"http://www.w3.org/Graphics/SVG/1.1/DTD/svg11.dtd\">\n",
       "<svg xmlns=\"http://www.w3.org/2000/svg\" xmlns:xlink=\"http://www.w3.org/1999/xlink\" version=\"1.1\" class=\"marks\" width=\"343\" height=\"242\" viewBox=\"0 0 343 242\"><rect width=\"343\" height=\"242\" fill=\"white\"/><g fill=\"none\" stroke-miterlimit=\"10\" transform=\"translate(73,5)\"><g class=\"mark-group role-frame root\" role=\"graphics-object\" aria-roledescription=\"group mark container\"><g transform=\"translate(0,0)\"><path class=\"background\" aria-hidden=\"true\" d=\"M0.5,0.5h200v200h-200Z\" stroke=\"#ddd\"/><g><g class=\"mark-group role-axis\" aria-hidden=\"true\"><g transform=\"translate(0.5,200.5)\"><path class=\"background\" aria-hidden=\"true\" d=\"M0,0h0v0h0Z\" pointer-events=\"none\"/><g><g class=\"mark-rule role-axis-grid\" pointer-events=\"none\"><line transform=\"translate(22,-200)\" x2=\"0\" y2=\"200\" stroke=\"#ddd\" stroke-width=\"1\" opacity=\"1\"/><line transform=\"translate(67,-200)\" x2=\"0\" y2=\"200\" stroke=\"#ddd\" stroke-width=\"1\" opacity=\"1\"/><line transform=\"translate(111,-200)\" x2=\"0\" y2=\"200\" stroke=\"#ddd\" stroke-width=\"1\" opacity=\"1\"/><line transform=\"translate(156,-200)\" x2=\"0\" y2=\"200\" stroke=\"#ddd\" stroke-width=\"1\" opacity=\"1\"/><line transform=\"translate(200,-200)\" x2=\"0\" y2=\"200\" stroke=\"#ddd\" stroke-width=\"1\" opacity=\"1\"/></g></g><path class=\"foreground\" aria-hidden=\"true\" d=\"\" pointer-events=\"none\" display=\"none\"/></g></g><g class=\"mark-group role-axis\" aria-hidden=\"true\"><g transform=\"translate(0.5,0.5)\"><path class=\"background\" aria-hidden=\"true\" d=\"M0,0h0v0h0Z\" pointer-events=\"none\"/><g><g class=\"mark-rule role-axis-grid\" pointer-events=\"none\"><line transform=\"translate(0,200)\" x2=\"200\" y2=\"0\" stroke=\"#ddd\" stroke-width=\"1\" opacity=\"1\"/><line transform=\"translate(0,156)\" x2=\"200\" y2=\"0\" stroke=\"#ddd\" stroke-width=\"1\" opacity=\"1\"/><line transform=\"translate(0,111)\" x2=\"200\" y2=\"0\" stroke=\"#ddd\" stroke-width=\"1\" opacity=\"1\"/><line transform=\"translate(0,67)\" x2=\"200\" y2=\"0\" stroke=\"#ddd\" stroke-width=\"1\" opacity=\"1\"/><line transform=\"translate(0,22)\" x2=\"200\" y2=\"0\" stroke=\"#ddd\" stroke-width=\"1\" opacity=\"1\"/></g></g><path class=\"foreground\" aria-hidden=\"true\" d=\"\" pointer-events=\"none\" display=\"none\"/></g></g><g class=\"mark-group role-axis\" role=\"graphics-symbol\" aria-roledescription=\"axis\" aria-label=\"X-axis titled 'Year' for a linear scale with values from 2,010 to 2,100\"><g transform=\"translate(0.5,200.5)\"><path class=\"background\" aria-hidden=\"true\" d=\"M0,0h0v0h0Z\" pointer-events=\"none\"/><g><g class=\"mark-rule role-axis-tick\" pointer-events=\"none\"><line transform=\"translate(22,0)\" x2=\"0\" y2=\"5\" stroke=\"#888\" stroke-width=\"1\" opacity=\"1\"/><line transform=\"translate(67,0)\" x2=\"0\" y2=\"5\" stroke=\"#888\" stroke-width=\"1\" opacity=\"1\"/><line transform=\"translate(111,0)\" x2=\"0\" y2=\"5\" stroke=\"#888\" stroke-width=\"1\" opacity=\"1\"/><line transform=\"translate(156,0)\" x2=\"0\" y2=\"5\" stroke=\"#888\" stroke-width=\"1\" opacity=\"1\"/><line transform=\"translate(200,0)\" x2=\"0\" y2=\"5\" stroke=\"#888\" stroke-width=\"1\" opacity=\"1\"/></g><g class=\"mark-text role-axis-label\" pointer-events=\"none\"><text text-anchor=\"middle\" transform=\"translate(22.22222222222222,15)\" font-family=\"sans-serif\" font-size=\"10px\" fill=\"#000\" opacity=\"1\">2,020</text><text text-anchor=\"middle\" transform=\"translate(66.66666666666666,15)\" font-family=\"sans-serif\" font-size=\"10px\" fill=\"#000\" opacity=\"1\">2,040</text><text text-anchor=\"middle\" transform=\"translate(111.11111111111111,15)\" font-family=\"sans-serif\" font-size=\"10px\" fill=\"#000\" opacity=\"1\">2,060</text><text text-anchor=\"middle\" transform=\"translate(155.55555555555557,15)\" font-family=\"sans-serif\" font-size=\"10px\" fill=\"#000\" opacity=\"1\">2,080</text><text text-anchor=\"end\" transform=\"translate(200,15)\" font-family=\"sans-serif\" font-size=\"10px\" fill=\"#000\" opacity=\"1\">2,100</text></g><g class=\"mark-rule role-axis-domain\" pointer-events=\"none\"><line transform=\"translate(0,0)\" x2=\"200\" y2=\"0\" stroke=\"#888\" stroke-width=\"1\" opacity=\"1\"/></g><g class=\"mark-text role-axis-title\" pointer-events=\"none\"><text text-anchor=\"middle\" transform=\"translate(100,30)\" font-family=\"sans-serif\" font-size=\"11px\" font-weight=\"bold\" fill=\"#000\" opacity=\"1\">Year</text></g></g><path class=\"foreground\" aria-hidden=\"true\" d=\"\" pointer-events=\"none\" display=\"none\"/></g></g><g class=\"mark-group role-axis\" role=\"graphics-symbol\" aria-roledescription=\"axis\" aria-label=\"Y-axis titled 'value' for a linear scale with values from 0 to 45,000,000\"><g transform=\"translate(0.5,0.5)\"><path class=\"background\" aria-hidden=\"true\" d=\"M0,0h0v0h0Z\" pointer-events=\"none\"/><g><g class=\"mark-rule role-axis-tick\" pointer-events=\"none\"><line transform=\"translate(0,200)\" x2=\"-5\" y2=\"0\" stroke=\"#888\" stroke-width=\"1\" opacity=\"1\"/><line transform=\"translate(0,156)\" x2=\"-5\" y2=\"0\" stroke=\"#888\" stroke-width=\"1\" opacity=\"1\"/><line transform=\"translate(0,111)\" x2=\"-5\" y2=\"0\" stroke=\"#888\" stroke-width=\"1\" opacity=\"1\"/><line transform=\"translate(0,67)\" x2=\"-5\" y2=\"0\" stroke=\"#888\" stroke-width=\"1\" opacity=\"1\"/><line transform=\"translate(0,22)\" x2=\"-5\" y2=\"0\" stroke=\"#888\" stroke-width=\"1\" opacity=\"1\"/></g><g class=\"mark-text role-axis-label\" pointer-events=\"none\"><text text-anchor=\"end\" transform=\"translate(-7,203)\" font-family=\"sans-serif\" font-size=\"10px\" fill=\"#000\" opacity=\"1\">0</text><text text-anchor=\"end\" transform=\"translate(-7,158.55555555555557)\" font-family=\"sans-serif\" font-size=\"10px\" fill=\"#000\" opacity=\"1\">10,000,000</text><text text-anchor=\"end\" transform=\"translate(-7,114.11111111111111)\" font-family=\"sans-serif\" font-size=\"10px\" fill=\"#000\" opacity=\"1\">20,000,000</text><text text-anchor=\"end\" transform=\"translate(-7,69.66666666666667)\" font-family=\"sans-serif\" font-size=\"10px\" fill=\"#000\" opacity=\"1\">30,000,000</text><text text-anchor=\"end\" transform=\"translate(-7,25.222222222222232)\" font-family=\"sans-serif\" font-size=\"10px\" fill=\"#000\" opacity=\"1\">40,000,000</text></g><g class=\"mark-rule role-axis-domain\" pointer-events=\"none\"><line transform=\"translate(0,200)\" x2=\"0\" y2=\"-200\" stroke=\"#888\" stroke-width=\"1\" opacity=\"1\"/></g><g class=\"mark-text role-axis-title\" pointer-events=\"none\"><text text-anchor=\"middle\" transform=\"translate(-57,100) rotate(-90) translate(0,-2)\" font-family=\"sans-serif\" font-size=\"11px\" font-weight=\"bold\" fill=\"#000\" opacity=\"1\">value</text></g></g><path class=\"foreground\" aria-hidden=\"true\" d=\"\" pointer-events=\"none\" display=\"none\"/></g></g><g class=\"mark-group role-scope pathgroup\" role=\"graphics-object\" aria-roledescription=\"group mark container\"><g transform=\"translate(0,0)\"><path class=\"background\" aria-hidden=\"true\" d=\"M0,0h200v200h-200Z\"/><g><g class=\"mark-line role-mark marks\" role=\"graphics-object\" aria-roledescription=\"line mark container\"><path aria-label=\"Year: 2015; value: 0; variable: sccd\" role=\"graphics-symbol\" aria-roledescription=\"line mark\" d=\"M11.11111111111111,200L13.333333333333334,200L15.555555555555555,200L17.77777777777778,200L20,200L22.22222222222222,200L24.444444444444443,199.95628752604168L26.666666666666668,199.75005276909724L28.888888888888886,199.2498096440972L31.11111111111111,198.35522566840277L33.33333333333333,196.98828677083333L35.55555555555556,195.08865383680555L37.77777777777778,192.6108020138889L40,189.52243630208335L42.22222222222222,185.80298305555556L44.44444444444444,181.44188243055558L46.666666666666664,176.4773576736111L48.888888888888886,171.0186185763889L51.11111111111111,165.19383850694445L53.333333333333336,159.10680621527777L55.55555555555556,152.84350805555556L57.77777777777777,146.47635486111113L60,140.06710430555555L62.22222222222222,133.6593292361111L64.44444444444444,127.30822034722222L66.66666666666666,121.05691256944444L68.88888888888889,114.93692930555555L71.11111111111111,108.98900437500001L73.33333333333333,103.2286296527778L75.55555555555556,97.66056111111112L77.77777777777779,92.28880020833334L80,87.11642333333333L82.22222222222221,82.14549638888889L84.44444444444444,77.37703652777779L86.66666666666667,72.8107211111111L88.88888888888889,68.44519958333333L91.11111111111111,64.27607930555554L93.33333333333333,60.2993673611111L95.55555555555556,56.50934777777778L97.77777777777777,52.89901194444444L100,49.461519583333335L102.22222222222221,46.19010777777777L104.44444444444446,43.07734861111112L106.66666666666667,40.11535305555556L108.88888888888889,37.29585861111111L111.11111111111111,34.61104041666667L113.33333333333333,32.05600333333334L115.55555555555554,29.63508805555555L117.77777777777779,27.355318611111112L120,25.223904166666667L122.22222222222223,23.248054444444442L124.44444444444444,21.435250277777772L126.66666666666666,19.79295861111112L128.88888888888889,18.32793805555555L131.11111111111111,17.046298611111112L133.33333333333331,15.953513333333325L135.55555555555557,15.051828888888895L137.77777777777777,14.33140638888888L140,13.77963333333334L142.22222222222223,13.383961944444444L144.44444444444443,13.131914999999994L146.66666666666666,13.011311388888892L148.88888888888889,13.010388333333323L151.11111111111111,13.1177675L153.33333333333334,13.322627499999996L155.55555555555557,13.613971944444447L157.77777777777777,13.982062222222226L160,14.422223611111118L162.22222222222223,14.931059722222217L164.44444444444443,15.505200277777774L166.66666666666669,16.141359166666657L168.88888888888889,16.836434722222226L171.11111111111111,17.587789444444436L173.33333333333334,18.39332555555555L175.55555555555554,19.25112138888889L177.77777777777777,20.159813333333343L180,21.117731111111105L182.22222222222223,22.12213833333334L184.44444444444446,23.169526111111118L186.66666666666666,24.2557138888889L188.88888888888889,25.376850000000005L191.11111111111111,26.52942055555556L193.33333333333334,27.71028666666666L195.55555555555554,28.916873888888883L197.77777777777777,30.146943333333343L200,31.39880611111112\" stroke=\"#4c78a8\" stroke-width=\"2\"/></g></g><path class=\"foreground\" aria-hidden=\"true\" d=\"\" display=\"none\"/></g></g><g class=\"mark-group role-legend\" role=\"graphics-symbol\" aria-roledescription=\"legend\" aria-label=\"Symbol legend titled 'variable' for stroke color with 1 value: sccd\"><g transform=\"translate(220,0)\"><path class=\"background\" aria-hidden=\"true\" d=\"M0,0h45v27h-45Z\" pointer-events=\"none\"/><g><g class=\"mark-group role-legend-entry\"><g transform=\"translate(0,16)\"><path class=\"background\" aria-hidden=\"true\" d=\"M0,0h0v0h0Z\" pointer-events=\"none\"/><g><g class=\"mark-group role-scope\" role=\"graphics-object\" aria-roledescription=\"group mark container\"><g transform=\"translate(0,0)\"><path class=\"background\" aria-hidden=\"true\" d=\"M0,0h36v11h-36Z\" pointer-events=\"none\" opacity=\"1\"/><g><g class=\"mark-symbol role-legend-symbol\" pointer-events=\"none\"><path transform=\"translate(6,6)\" d=\"M-5,0L5,0\" stroke=\"#4c78a8\" stroke-width=\"1.5\" opacity=\"1\"/></g><g class=\"mark-text role-legend-label\" pointer-events=\"none\"><text text-anchor=\"start\" transform=\"translate(16,9)\" font-family=\"sans-serif\" font-size=\"10px\" fill=\"#000\" opacity=\"1\">sccd</text></g></g><path class=\"foreground\" aria-hidden=\"true\" d=\"\" pointer-events=\"none\" display=\"none\"/></g></g></g><path class=\"foreground\" aria-hidden=\"true\" d=\"\" pointer-events=\"none\" display=\"none\"/></g></g><g class=\"mark-text role-legend-title\" pointer-events=\"none\"><text text-anchor=\"start\" transform=\"translate(0,9)\" font-family=\"sans-serif\" font-size=\"11px\" font-weight=\"bold\" fill=\"#000\" opacity=\"1\">variable</text></g></g><path class=\"foreground\" aria-hidden=\"true\" d=\"\" pointer-events=\"none\" display=\"none\"/></g></g></g><path class=\"foreground\" aria-hidden=\"true\" d=\"\" display=\"none\"/></g></g></g></svg>\n"
      ],
      "text/plain": [
       "@vlplot(\n",
       "    mark=\"line\",\n",
       "    encoding={\n",
       "        x={\n",
       "            field=\"Year\"\n",
       "        },\n",
       "        y={\n",
       "            field=\"value\"\n",
       "        },\n",
       "        color={\n",
       "            field=\"variable\"\n",
       "        }\n",
       "    },\n",
       "    data={\n",
       "        values=...\n",
       "    }\n",
       ")"
      ]
     },
     "execution_count": 47,
     "metadata": {},
     "output_type": "execute_result"
    }
   ],
   "source": [
    "df = DataFrame(\n",
    "    :Year => Mimi.time_labels(m),\n",
    "    :sccd =>sccd )\n",
    "\n",
    "stack(df, [:sccd]) |> \n",
    "\n",
    "@vlplot(\n",
    "    :line, \n",
    "    x = :Year,\n",
    "    y = :value,\n",
    "    color = :variable\n",
    ")"
   ]
  },
  {
   "cell_type": "markdown",
   "metadata": {},
   "source": [
    "#### Quality Checking\n",
    "\n",
    "We want to make sure that values are being passed between FUND and FAIR in the right units etc. so let's take a closer look at emissions."
   ]
  },
  {
   "cell_type": "markdown",
   "metadata": {},
   "source": [
    "##### Annual Carbon Dioxide Emissions (GtC yr⁻¹)"
   ]
  },
  {
   "cell_type": "code",
   "execution_count": 24,
   "metadata": {},
   "outputs": [
    {
     "data": {
      "application/vnd.vegalite.v4+json": {
       "data": {
        "values": [
         {
          "Year": 2015,
          "value": 10.678016263,
          "variable": "FAIR"
         },
         {
          "Year": 2016,
          "value": 10.926722931999999,
          "variable": "FAIR"
         },
         {
          "Year": 2017,
          "value": 11.175429600000001,
          "variable": "FAIR"
         },
         {
          "Year": 2018,
          "value": 11.424136271,
          "variable": "FAIR"
         },
         {
          "Year": 2019,
          "value": 11.672842942,
          "variable": "FAIR"
         },
         {
          "Year": 2020,
          "value": 11.921549612,
          "variable": "FAIR"
         },
         {
          "Year": 2021,
          "value": 12.237483279,
          "variable": "FAIR"
         },
         {
          "Year": 2022,
          "value": 12.553416956000001,
          "variable": "FAIR"
         },
         {
          "Year": 2023,
          "value": 12.869350622,
          "variable": "FAIR"
         },
         {
          "Year": 2024,
          "value": 13.185284299,
          "variable": "FAIR"
         },
         {
          "Year": 2025,
          "value": 13.501217975,
          "variable": "FAIR"
         },
         {
          "Year": 2026,
          "value": 13.817151642,
          "variable": "FAIR"
         },
         {
          "Year": 2027,
          "value": 14.133085319000001,
          "variable": "FAIR"
         },
         {
          "Year": 2028,
          "value": 14.449018985,
          "variable": "FAIR"
         },
         {
          "Year": 2029,
          "value": 14.764952661999999,
          "variable": "FAIR"
         },
         {
          "Year": 2030,
          "value": 15.080886338000001,
          "variable": "FAIR"
         },
         {
          "Year": 2031,
          "value": 15.448498559,
          "variable": "FAIR"
         },
         {
          "Year": 2032,
          "value": 15.81611079,
          "variable": "FAIR"
         },
         {
          "Year": 2033,
          "value": 16.18372301,
          "variable": "FAIR"
         },
         {
          "Year": 2034,
          "value": 16.551335241,
          "variable": "FAIR"
         },
         {
          "Year": 2035,
          "value": 16.918947472,
          "variable": "FAIR"
         },
         {
          "Year": 2036,
          "value": 17.286559691999997,
          "variable": "FAIR"
         },
         {
          "Year": 2037,
          "value": 17.654171923,
          "variable": "FAIR"
         },
         {
          "Year": 2038,
          "value": 18.021784143999998,
          "variable": "FAIR"
         },
         {
          "Year": 2039,
          "value": 18.389396374,
          "variable": "FAIR"
         },
         {
          "Year": 2040,
          "value": 18.757008605,
          "variable": "FAIR"
         },
         {
          "Year": 2041,
          "value": 19.153077381000003,
          "variable": "FAIR"
         },
         {
          "Year": 2042,
          "value": 19.549146146000002,
          "variable": "FAIR"
         },
         {
          "Year": 2043,
          "value": 19.945214921999998,
          "variable": "FAIR"
         },
         {
          "Year": 2044,
          "value": 20.341283697,
          "variable": "FAIR"
         },
         {
          "Year": 2045,
          "value": 20.737352473,
          "variable": "FAIR"
         },
         {
          "Year": 2046,
          "value": 21.133421248,
          "variable": "FAIR"
         },
         {
          "Year": 2047,
          "value": 21.529490023999998,
          "variable": "FAIR"
         },
         {
          "Year": 2048,
          "value": 21.925558799,
          "variable": "FAIR"
         },
         {
          "Year": 2049,
          "value": 22.321627575,
          "variable": "FAIR"
         },
         {
          "Year": 2050,
          "value": 22.717696349999997,
          "variable": "FAIR"
         },
         {
          "Year": 2051,
          "value": 23.182434154,
          "variable": "FAIR"
         },
         {
          "Year": 2052,
          "value": 23.647171957999998,
          "variable": "FAIR"
         },
         {
          "Year": 2053,
          "value": 24.111909772,
          "variable": "FAIR"
         },
         {
          "Year": 2054,
          "value": 24.576647575,
          "variable": "FAIR"
         },
         {
          "Year": 2055,
          "value": 25.041385379,
          "variable": "FAIR"
         },
         {
          "Year": 2056,
          "value": 25.506123183,
          "variable": "FAIR"
         },
         {
          "Year": 2057,
          "value": 25.970860997000003,
          "variable": "FAIR"
         },
         {
          "Year": 2058,
          "value": 26.435598801,
          "variable": "FAIR"
         },
         {
          "Year": 2059,
          "value": 26.900336605,
          "variable": "FAIR"
         },
         {
          "Year": 2060,
          "value": 27.365074408,
          "variable": "FAIR"
         },
         {
          "Year": 2061,
          "value": 27.814164681,
          "variable": "FAIR"
         },
         {
          "Year": 2062,
          "value": 28.263254943,
          "variable": "FAIR"
         },
         {
          "Year": 2063,
          "value": 28.712345216,
          "variable": "FAIR"
         },
         {
          "Year": 2064,
          "value": 29.161435478,
          "variable": "FAIR"
         },
         {
          "Year": 2065,
          "value": 29.610525751,
          "variable": "FAIR"
         },
         {
          "Year": 2066,
          "value": 30.059616013,
          "variable": "FAIR"
         },
         {
          "Year": 2067,
          "value": 30.508706286,
          "variable": "FAIR"
         },
         {
          "Year": 2068,
          "value": 30.957796548,
          "variable": "FAIR"
         },
         {
          "Year": 2069,
          "value": 31.406886811,
          "variable": "FAIR"
         },
         {
          "Year": 2070,
          "value": 31.855977083,
          "variable": "FAIR"
         },
         {
          "Year": 2071,
          "value": 32.206207598999995,
          "variable": "FAIR"
         },
         {
          "Year": 2072,
          "value": 32.556438125,
          "variable": "FAIR"
         },
         {
          "Year": 2073,
          "value": 32.906668640999996,
          "variable": "FAIR"
         },
         {
          "Year": 2074,
          "value": 33.256899157,
          "variable": "FAIR"
         },
         {
          "Year": 2075,
          "value": 33.607129683000004,
          "variable": "FAIR"
         },
         {
          "Year": 2076,
          "value": 33.957360199,
          "variable": "FAIR"
         },
         {
          "Year": 2077,
          "value": 34.307590714999996,
          "variable": "FAIR"
         },
         {
          "Year": 2078,
          "value": 34.657821241,
          "variable": "FAIR"
         },
         {
          "Year": 2079,
          "value": 35.008051757,
          "variable": "FAIR"
         },
         {
          "Year": 2080,
          "value": 35.358282282999994,
          "variable": "FAIR"
         },
         {
          "Year": 2081,
          "value": 35.383624204,
          "variable": "FAIR"
         },
         {
          "Year": 2082,
          "value": 35.408966125,
          "variable": "FAIR"
         },
         {
          "Year": 2083,
          "value": 35.434308045,
          "variable": "FAIR"
         },
         {
          "Year": 2084,
          "value": 35.459649966,
          "variable": "FAIR"
         },
         {
          "Year": 2085,
          "value": 35.484991887,
          "variable": "FAIR"
         },
         {
          "Year": 2086,
          "value": 35.510333808,
          "variable": "FAIR"
         },
         {
          "Year": 2087,
          "value": 35.535675729,
          "variable": "FAIR"
         },
         {
          "Year": 2088,
          "value": 35.56101765,
          "variable": "FAIR"
         },
         {
          "Year": 2089,
          "value": 35.586359571,
          "variable": "FAIR"
         },
         {
          "Year": 2090,
          "value": 35.611701492,
          "variable": "FAIR"
         },
         {
          "Year": 2091,
          "value": 35.494730707,
          "variable": "FAIR"
         },
         {
          "Year": 2092,
          "value": 35.377759913,
          "variable": "FAIR"
         },
         {
          "Year": 2093,
          "value": 35.260789118000005,
          "variable": "FAIR"
         },
         {
          "Year": 2094,
          "value": 35.143818324,
          "variable": "FAIR"
         },
         {
          "Year": 2095,
          "value": 35.026847528999994,
          "variable": "FAIR"
         },
         {
          "Year": 2096,
          "value": 34.909876735000005,
          "variable": "FAIR"
         },
         {
          "Year": 2097,
          "value": 34.79290594,
          "variable": "FAIR"
         },
         {
          "Year": 2098,
          "value": 34.675935145000004,
          "variable": "FAIR"
         },
         {
          "Year": 2099,
          "value": 34.558964351,
          "variable": "FAIR"
         },
         {
          "Year": 2100,
          "value": 34.441993556,
          "variable": "FAIR"
         },
         {
          "Year": 2015,
          "value": 10.678016263,
          "variable": "FUNDFAIR"
         },
         {
          "Year": 2016,
          "value": 88.79002758838868,
          "variable": "FUNDFAIR"
         },
         {
          "Year": 2017,
          "value": 95.88089335647234,
          "variable": "FUNDFAIR"
         },
         {
          "Year": 2018,
          "value": 102.84496856614676,
          "variable": "FUNDFAIR"
         },
         {
          "Year": 2019,
          "value": 109.67151380805477,
          "variable": "FUNDFAIR"
         },
         {
          "Year": 2020,
          "value": 116.35095221290246,
          "variable": "FUNDFAIR"
         },
         {
          "Year": 2021,
          "value": 122.87456380897468,
          "variable": "FUNDFAIR"
         },
         {
          "Year": 2022,
          "value": 129.23445992864663,
          "variable": "FUNDFAIR"
         },
         {
          "Year": 2023,
          "value": 135.42455655537103,
          "variable": "FUNDFAIR"
         },
         {
          "Year": 2024,
          "value": 141.4361006795447,
          "variable": "FUNDFAIR"
         },
         {
          "Year": 2025,
          "value": 147.2647409006094,
          "variable": "FUNDFAIR"
         },
         {
          "Year": 2026,
          "value": 152.90542405892006,
          "variable": "FUNDFAIR"
         },
         {
          "Year": 2027,
          "value": 158.35649427871803,
          "variable": "FUNDFAIR"
         },
         {
          "Year": 2028,
          "value": 163.61087237806848,
          "variable": "FUNDFAIR"
         },
         {
          "Year": 2029,
          "value": 168.6629998265252,
          "variable": "FUNDFAIR"
         },
         {
          "Year": 2030,
          "value": 173.51772754406733,
          "variable": "FUNDFAIR"
         },
         {
          "Year": 2031,
          "value": 178.16522760267037,
          "variable": "FUNDFAIR"
         },
         {
          "Year": 2032,
          "value": 182.61505424963514,
          "variable": "FUNDFAIR"
         },
         {
          "Year": 2033,
          "value": 186.85206618128421,
          "variable": "FUNDFAIR"
         },
         {
          "Year": 2034,
          "value": 190.8755774014298,
          "variable": "FUNDFAIR"
         },
         {
          "Year": 2035,
          "value": 194.68624304252336,
          "variable": "FUNDFAIR"
         },
         {
          "Year": 2036,
          "value": 198.28524788503546,
          "variable": "FUNDFAIR"
         },
         {
          "Year": 2037,
          "value": 201.67456266167125,
          "variable": "FUNDFAIR"
         },
         {
          "Year": 2038,
          "value": 204.90712186047904,
          "variable": "FUNDFAIR"
         },
         {
          "Year": 2039,
          "value": 207.93515985822486,
          "variable": "FUNDFAIR"
         },
         {
          "Year": 2040,
          "value": 210.75230015440425,
          "variable": "FUNDFAIR"
         },
         {
          "Year": 2041,
          "value": 213.3800742623077,
          "variable": "FUNDFAIR"
         },
         {
          "Year": 2042,
          "value": 215.78332859061348,
          "variable": "FUNDFAIR"
         },
         {
          "Year": 2043,
          "value": 217.96775478924488,
          "variable": "FUNDFAIR"
         },
         {
          "Year": 2044,
          "value": 219.9390526678651,
          "variable": "FUNDFAIR"
         },
         {
          "Year": 2045,
          "value": 221.70280552157675,
          "variable": "FUNDFAIR"
         },
         {
          "Year": 2046,
          "value": 223.26462665707703,
          "variable": "FUNDFAIR"
         },
         {
          "Year": 2047,
          "value": 224.63005013474518,
          "variable": "FUNDFAIR"
         },
         {
          "Year": 2048,
          "value": 225.80458006892144,
          "variable": "FUNDFAIR"
         },
         {
          "Year": 2049,
          "value": 226.79365529179302,
          "variable": "FUNDFAIR"
         },
         {
          "Year": 2050,
          "value": 227.6025843545566,
          "variable": "FUNDFAIR"
         },
         {
          "Year": 2051,
          "value": 228.24295731824674,
          "variable": "FUNDFAIR"
         },
         {
          "Year": 2052,
          "value": 228.72216748254507,
          "variable": "FUNDFAIR"
         },
         {
          "Year": 2053,
          "value": 229.05086476366236,
          "variable": "FUNDFAIR"
         },
         {
          "Year": 2054,
          "value": 229.24195482047432,
          "variable": "FUNDFAIR"
         },
         {
          "Year": 2055,
          "value": 229.30756376655228,
          "variable": "FUNDFAIR"
         },
         {
          "Year": 2056,
          "value": 229.25915416206348,
          "variable": "FUNDFAIR"
         },
         {
          "Year": 2057,
          "value": 229.10762819776846,
          "variable": "FUNDFAIR"
         },
         {
          "Year": 2058,
          "value": 228.86357635668656,
          "variable": "FUNDFAIR"
         },
         {
          "Year": 2059,
          "value": 228.5374417941476,
          "variable": "FUNDFAIR"
         },
         {
          "Year": 2060,
          "value": 228.13818208232954,
          "variable": "FUNDFAIR"
         },
         {
          "Year": 2061,
          "value": 227.66863861239136,
          "variable": "FUNDFAIR"
         },
         {
          "Year": 2062,
          "value": 227.12041083463674,
          "variable": "FUNDFAIR"
         },
         {
          "Year": 2063,
          "value": 226.48285289631303,
          "variable": "FUNDFAIR"
         },
         {
          "Year": 2064,
          "value": 225.74622121609247,
          "variable": "FUNDFAIR"
         },
         {
          "Year": 2065,
          "value": 224.9017596440272,
          "variable": "FUNDFAIR"
         },
         {
          "Year": 2066,
          "value": 223.94176252253476,
          "variable": "FUNDFAIR"
         },
         {
          "Year": 2067,
          "value": 222.85915963988185,
          "variable": "FUNDFAIR"
         },
         {
          "Year": 2068,
          "value": 221.64790675839316,
          "variable": "FUNDFAIR"
         },
         {
          "Year": 2069,
          "value": 220.30258552015692,
          "variable": "FUNDFAIR"
         },
         {
          "Year": 2070,
          "value": 218.8186289893344,
          "variable": "FUNDFAIR"
         },
         {
          "Year": 2071,
          "value": 217.195277591841,
          "variable": "FUNDFAIR"
         },
         {
          "Year": 2072,
          "value": 215.44487585190586,
          "variable": "FUNDFAIR"
         },
         {
          "Year": 2073,
          "value": 213.58213369876097,
          "variable": "FUNDFAIR"
         },
         {
          "Year": 2074,
          "value": 211.62089070143722,
          "variable": "FUNDFAIR"
         },
         {
          "Year": 2075,
          "value": 209.57430622741416,
          "variable": "FUNDFAIR"
         },
         {
          "Year": 2076,
          "value": 207.45462533868638,
          "variable": "FUNDFAIR"
         },
         {
          "Year": 2077,
          "value": 205.27339026294393,
          "variable": "FUNDFAIR"
         },
         {
          "Year": 2078,
          "value": 203.04149417537676,
          "variable": "FUNDFAIR"
         },
         {
          "Year": 2079,
          "value": 200.76898551830098,
          "variable": "FUNDFAIR"
         },
         {
          "Year": 2080,
          "value": 198.46544225068942,
          "variable": "FUNDFAIR"
         },
         {
          "Year": 2081,
          "value": 196.1385157819263,
          "variable": "FUNDFAIR"
         },
         {
          "Year": 2082,
          "value": 193.7909185217013,
          "variable": "FUNDFAIR"
         },
         {
          "Year": 2083,
          "value": 191.4239808309778,
          "variable": "FUNDFAIR"
         },
         {
          "Year": 2084,
          "value": 189.0391237503974,
          "variable": "FUNDFAIR"
         },
         {
          "Year": 2085,
          "value": 186.6376995724617,
          "variable": "FUNDFAIR"
         },
         {
          "Year": 2086,
          "value": 184.22101221052694,
          "variable": "FUNDFAIR"
         },
         {
          "Year": 2087,
          "value": 181.7904994007553,
          "variable": "FUNDFAIR"
         },
         {
          "Year": 2088,
          "value": 179.34731203561282,
          "variable": "FUNDFAIR"
         },
         {
          "Year": 2089,
          "value": 176.89279096357166,
          "variable": "FUNDFAIR"
         },
         {
          "Year": 2090,
          "value": 174.42822979118893,
          "variable": "FUNDFAIR"
         },
         {
          "Year": 2091,
          "value": 171.9549791368143,
          "variable": "FUNDFAIR"
         },
         {
          "Year": 2092,
          "value": 169.47516730234585,
          "variable": "FUNDFAIR"
         },
         {
          "Year": 2093,
          "value": 166.99106518737423,
          "variable": "FUNDFAIR"
         },
         {
          "Year": 2094,
          "value": 164.50472234692194,
          "variable": "FUNDFAIR"
         },
         {
          "Year": 2095,
          "value": 162.01812760692803,
          "variable": "FUNDFAIR"
         },
         {
          "Year": 2096,
          "value": 159.53319933208556,
          "variable": "FUNDFAIR"
         },
         {
          "Year": 2097,
          "value": 157.05171627052152,
          "variable": "FUNDFAIR"
         },
         {
          "Year": 2098,
          "value": 154.57541120305143,
          "variable": "FUNDFAIR"
         },
         {
          "Year": 2099,
          "value": 152.10581405475094,
          "variable": "FUNDFAIR"
         },
         {
          "Year": 2100,
          "value": 149.6445124334531,
          "variable": "FUNDFAIR"
         }
        ]
       },
       "encoding": {
        "color": {
         "field": "variable",
         "type": "nominal"
        },
        "x": {
         "field": "Year",
         "type": "quantitative"
        },
        "y": {
         "field": "value",
         "type": "quantitative"
        }
       },
       "mark": "line"
      },
      "image/png": "[encoded data removed]",
      "image/svg+xml": [
       "<?xml version=\"1.0\" encoding=\"utf-8\"?>\n",
       "<!DOCTYPE svg PUBLIC \"-//W3C//DTD SVG 1.1//EN\" \"http://www.w3.org/Graphics/SVG/1.1/DTD/svg11.dtd\">\n",
       "<svg xmlns=\"http://www.w3.org/2000/svg\" xmlns:xlink=\"http://www.w3.org/1999/xlink\" version=\"1.1\" class=\"marks\" width=\"330\" height=\"242\" viewBox=\"0 0 330 242\"><rect width=\"330\" height=\"242\" fill=\"white\"/><g fill=\"none\" stroke-miterlimit=\"10\" transform=\"translate(42,5)\"><g class=\"mark-group role-frame root\" role=\"graphics-object\" aria-roledescription=\"group mark container\"><g transform=\"translate(0,0)\"><path class=\"background\" aria-hidden=\"true\" d=\"M0.5,0.5h200v200h-200Z\" stroke=\"#ddd\"/><g><g class=\"mark-group role-axis\" aria-hidden=\"true\"><g transform=\"translate(0.5,200.5)\"><path class=\"background\" aria-hidden=\"true\" d=\"M0,0h0v0h0Z\" pointer-events=\"none\"/><g><g class=\"mark-rule role-axis-grid\" pointer-events=\"none\"><line transform=\"translate(22,-200)\" x2=\"0\" y2=\"200\" stroke=\"#ddd\" stroke-width=\"1\" opacity=\"1\"/><line transform=\"translate(67,-200)\" x2=\"0\" y2=\"200\" stroke=\"#ddd\" stroke-width=\"1\" opacity=\"1\"/><line transform=\"translate(111,-200)\" x2=\"0\" y2=\"200\" stroke=\"#ddd\" stroke-width=\"1\" opacity=\"1\"/><line transform=\"translate(156,-200)\" x2=\"0\" y2=\"200\" stroke=\"#ddd\" stroke-width=\"1\" opacity=\"1\"/><line transform=\"translate(200,-200)\" x2=\"0\" y2=\"200\" stroke=\"#ddd\" stroke-width=\"1\" opacity=\"1\"/></g></g><path class=\"foreground\" aria-hidden=\"true\" d=\"\" pointer-events=\"none\" display=\"none\"/></g></g><g class=\"mark-group role-axis\" aria-hidden=\"true\"><g transform=\"translate(0.5,0.5)\"><path class=\"background\" aria-hidden=\"true\" d=\"M0,0h0v0h0Z\" pointer-events=\"none\"/><g><g class=\"mark-rule role-axis-grid\" pointer-events=\"none\"><line transform=\"translate(0,200)\" x2=\"200\" y2=\"0\" stroke=\"#ddd\" stroke-width=\"1\" opacity=\"1\"/><line transform=\"translate(0,158)\" x2=\"200\" y2=\"0\" stroke=\"#ddd\" stroke-width=\"1\" opacity=\"1\"/><line transform=\"translate(0,117)\" x2=\"200\" y2=\"0\" stroke=\"#ddd\" stroke-width=\"1\" opacity=\"1\"/><line transform=\"translate(0,75)\" x2=\"200\" y2=\"0\" stroke=\"#ddd\" stroke-width=\"1\" opacity=\"1\"/><line transform=\"translate(0,33)\" x2=\"200\" y2=\"0\" stroke=\"#ddd\" stroke-width=\"1\" opacity=\"1\"/></g></g><path class=\"foreground\" aria-hidden=\"true\" d=\"\" pointer-events=\"none\" display=\"none\"/></g></g><g class=\"mark-group role-axis\" role=\"graphics-symbol\" aria-roledescription=\"axis\" aria-label=\"X-axis titled 'Year' for a linear scale with values from 2,010 to 2,100\"><g transform=\"translate(0.5,200.5)\"><path class=\"background\" aria-hidden=\"true\" d=\"M0,0h0v0h0Z\" pointer-events=\"none\"/><g><g class=\"mark-rule role-axis-tick\" pointer-events=\"none\"><line transform=\"translate(22,0)\" x2=\"0\" y2=\"5\" stroke=\"#888\" stroke-width=\"1\" opacity=\"1\"/><line transform=\"translate(67,0)\" x2=\"0\" y2=\"5\" stroke=\"#888\" stroke-width=\"1\" opacity=\"1\"/><line transform=\"translate(111,0)\" x2=\"0\" y2=\"5\" stroke=\"#888\" stroke-width=\"1\" opacity=\"1\"/><line transform=\"translate(156,0)\" x2=\"0\" y2=\"5\" stroke=\"#888\" stroke-width=\"1\" opacity=\"1\"/><line transform=\"translate(200,0)\" x2=\"0\" y2=\"5\" stroke=\"#888\" stroke-width=\"1\" opacity=\"1\"/></g><g class=\"mark-text role-axis-label\" pointer-events=\"none\"><text text-anchor=\"middle\" transform=\"translate(22.22222222222222,15)\" font-family=\"sans-serif\" font-size=\"10px\" fill=\"#000\" opacity=\"1\">2,020</text><text text-anchor=\"middle\" transform=\"translate(66.66666666666666,15)\" font-family=\"sans-serif\" font-size=\"10px\" fill=\"#000\" opacity=\"1\">2,040</text><text text-anchor=\"middle\" transform=\"translate(111.11111111111111,15)\" font-family=\"sans-serif\" font-size=\"10px\" fill=\"#000\" opacity=\"1\">2,060</text><text text-anchor=\"middle\" transform=\"translate(155.55555555555557,15)\" font-family=\"sans-serif\" font-size=\"10px\" fill=\"#000\" opacity=\"1\">2,080</text><text text-anchor=\"end\" transform=\"translate(200,15)\" font-family=\"sans-serif\" font-size=\"10px\" fill=\"#000\" opacity=\"1\">2,100</text></g><g class=\"mark-rule role-axis-domain\" pointer-events=\"none\"><line transform=\"translate(0,0)\" x2=\"200\" y2=\"0\" stroke=\"#888\" stroke-width=\"1\" opacity=\"1\"/></g><g class=\"mark-text role-axis-title\" pointer-events=\"none\"><text text-anchor=\"middle\" transform=\"translate(100,30)\" font-family=\"sans-serif\" font-size=\"11px\" font-weight=\"bold\" fill=\"#000\" opacity=\"1\">Year</text></g></g><path class=\"foreground\" aria-hidden=\"true\" d=\"\" pointer-events=\"none\" display=\"none\"/></g></g><g class=\"mark-group role-axis\" role=\"graphics-symbol\" aria-roledescription=\"axis\" aria-label=\"Y-axis titled 'value' for a linear scale with values from 0 to 240\"><g transform=\"translate(0.5,0.5)\"><path class=\"background\" aria-hidden=\"true\" d=\"M0,0h0v0h0Z\" pointer-events=\"none\"/><g><g class=\"mark-rule role-axis-tick\" pointer-events=\"none\"><line transform=\"translate(0,200)\" x2=\"-5\" y2=\"0\" stroke=\"#888\" stroke-width=\"1\" opacity=\"1\"/><line transform=\"translate(0,158)\" x2=\"-5\" y2=\"0\" stroke=\"#888\" stroke-width=\"1\" opacity=\"1\"/><line transform=\"translate(0,117)\" x2=\"-5\" y2=\"0\" stroke=\"#888\" stroke-width=\"1\" opacity=\"1\"/><line transform=\"translate(0,75)\" x2=\"-5\" y2=\"0\" stroke=\"#888\" stroke-width=\"1\" opacity=\"1\"/><line transform=\"translate(0,33)\" x2=\"-5\" y2=\"0\" stroke=\"#888\" stroke-width=\"1\" opacity=\"1\"/></g><g class=\"mark-text role-axis-label\" pointer-events=\"none\"><text text-anchor=\"end\" transform=\"translate(-7,203)\" font-family=\"sans-serif\" font-size=\"10px\" fill=\"#000\" opacity=\"1\">0</text><text text-anchor=\"end\" transform=\"translate(-7,161.33333333333331)\" font-family=\"sans-serif\" font-size=\"10px\" fill=\"#000\" opacity=\"1\">50</text><text text-anchor=\"end\" transform=\"translate(-7,119.66666666666666)\" font-family=\"sans-serif\" font-size=\"10px\" fill=\"#000\" opacity=\"1\">100</text><text text-anchor=\"end\" transform=\"translate(-7,78)\" font-family=\"sans-serif\" font-size=\"10px\" fill=\"#000\" opacity=\"1\">150</text><text text-anchor=\"end\" transform=\"translate(-7,36.33333333333333)\" font-family=\"sans-serif\" font-size=\"10px\" fill=\"#000\" opacity=\"1\">200</text></g><g class=\"mark-rule role-axis-domain\" pointer-events=\"none\"><line transform=\"translate(0,200)\" x2=\"0\" y2=\"-200\" stroke=\"#888\" stroke-width=\"1\" opacity=\"1\"/></g><g class=\"mark-text role-axis-title\" pointer-events=\"none\"><text text-anchor=\"middle\" transform=\"translate(-26,100) rotate(-90) translate(0,-2)\" font-family=\"sans-serif\" font-size=\"11px\" font-weight=\"bold\" fill=\"#000\" opacity=\"1\">value</text></g></g><path class=\"foreground\" aria-hidden=\"true\" d=\"\" pointer-events=\"none\" display=\"none\"/></g></g><g class=\"mark-group role-scope pathgroup\" role=\"graphics-object\" aria-roledescription=\"group mark container\"><g transform=\"translate(0,0)\"><path class=\"background\" aria-hidden=\"true\" d=\"M0,0h200v200h-200Z\"/><g><g class=\"mark-line role-mark marks\" role=\"graphics-object\" aria-roledescription=\"line mark container\"><path aria-label=\"Year: 2015; value: 10.678016263; variable: FAIR\" role=\"graphics-symbol\" aria-roledescription=\"line mark\" d=\"M11.11111111111111,191.10165311416668L13.333333333333334,190.89439755666666L15.555555555555555,190.68714200000002L17.77777777777778,190.47988644083333L20,190.27263088166666L22.22222222222222,190.06537532333334L24.444444444444443,189.8020972675L26.666666666666668,189.53881920333333L28.888888888888886,189.27554114833333L31.11111111111111,189.01226308416668L33.33333333333333,188.74898502083332L35.55555555555556,188.485706965L37.77777777777778,188.22242890083334L40,187.95915084583334L42.22222222222222,187.69587278166665L44.44444444444444,187.43259471833335L46.666666666666664,187.12625120083334L48.888888888888886,186.819907675L51.11111111111111,186.51356415833334L53.333333333333336,186.2072206325L55.55555555555556,185.90087710666668L57.77777777777777,185.59453359L60,185.28819006416666L62.22222222222222,184.98184654666667L64.44444444444444,184.67550302166666L66.66666666666666,184.36915949583334L68.88888888888889,184.0391021825L71.11111111111111,183.70904487833332L73.33333333333333,183.378987565L75.55555555555556,183.04893025249999L77.77777777777779,182.71887293916666L80,182.38881562666666L82.22222222222221,182.05875831333333L84.44444444444444,181.72870100083333L86.66666666666667,181.3986436875L88.88888888888889,181.068586375L91.11111111111111,180.68130487166667L93.33333333333333,180.29402336833334L95.55555555555556,179.90674185666666L97.77777777777777,179.51946035416665L100,179.13217885083333L102.22222222222221,178.7448973475L104.44444444444446,178.35761583583334L106.66666666666667,177.9703343325L108.88888888888889,177.58305282916666L111.11111111111111,177.19577132666666L113.33333333333333,176.8215294325L115.55555555555554,176.4472875475L117.77777777777779,176.07304565333334L120,175.69880376833333L122.22222222222223,175.32456187416668L124.44444444444444,174.95031998916664L126.66666666666666,174.57607809499999L128.88888888888889,174.20183621L131.11111111111111,173.82759432416668L133.33333333333331,173.45335243083332L135.55555555555557,173.1614936675L137.77777777777777,172.86963489583334L140,172.5777761325L142.22222222222223,172.28591736916667L144.44444444444443,171.9940585975L146.66666666666666,171.70219983416666L148.88888888888889,171.41034107083334L151.11111111111111,171.11848229916666L153.33333333333334,170.82662353583333L155.55555555555557,170.53476476416668L157.77777777777777,170.51364649666667L160,170.49252822916668L162.22222222222223,170.4714099625L164.44444444444443,170.450291695L166.66666666666669,170.4291734275L168.88888888888889,170.40805516L171.11111111111111,170.3869368925L173.33333333333334,170.365818625L175.55555555555554,170.3447003575L177.77777777777777,170.32358209L180,170.42105774416666L182.22222222222223,170.51853340583335L184.44444444444446,170.61600906833334L186.66666666666666,170.71348472999998L188.88888888888889,170.81096039250002L191.11111111111111,170.90843605416666L193.33333333333334,171.00591171666667L195.55555555555554,171.10338737916666L197.77777777777777,171.20086304083333L200,171.29833870333334\" stroke=\"#4c78a8\" stroke-width=\"2\"/></g></g><path class=\"foreground\" aria-hidden=\"true\" d=\"\" display=\"none\"/></g><g transform=\"translate(0,0)\"><path class=\"background\" aria-hidden=\"true\" d=\"M0,0h200v200h-200Z\"/><g><g class=\"mark-line role-mark marks\" role=\"graphics-object\" aria-roledescription=\"line mark container\"><path aria-label=\"Year: 2015; value: 10.678016263; variable: FUNDFAIR\" role=\"graphics-symbol\" aria-roledescription=\"line mark\" d=\"M11.11111111111111,191.10165311416668L13.333333333333334,126.00831034300943L15.555555555555555,120.09925553627305L17.77777777777778,114.29585952821104L20,108.60707182662104L22.22222222222222,103.04087315591461L24.444444444444443,97.60453015918775L26.666666666666668,92.30461672612782L28.888888888888886,87.14620287052415L31.11111111111111,82.1365827670461L33.33333333333333,77.27938258282549L35.55555555555556,72.57881328423328L37.77777777777778,68.03625476773499L40,63.657606351609594L42.22222222222222,59.447500144562326L44.44444444444444,55.40189371327722L46.666666666666664,51.5289769977747L48.888888888888886,47.82078812530406L51.11111111111111,44.28994484892983L53.333333333333336,40.937018832141824L55.55555555555556,37.76146413123054L57.77777777777777,34.762293429137124L60,31.93786444860729L62.22222222222222,29.24406511626747L64.44444444444444,26.720700118145956L66.66666666666666,24.373083204663114L68.88888888888889,22.183271448076923L71.11111111111111,20.180559507822093L73.33333333333333,18.360204342295926L75.55555555555556,16.717456110112416L77.77777777777779,15.247662065352706L80,13.946144452435805L82.22222222222221,12.808291554379014L84.44444444444444,11.829516609232126L86.66666666666667,11.005287256839157L88.88888888888889,10.331179704536165L91.11111111111111,9.797535568127724L93.33333333333333,9.39819376454578L95.55555555555556,9.124279363614708L97.77777777777777,8.965037649604724L100,8.91036352787311L102.22222222222221,8.95070486494709L104.44444444444446,9.076976501859612L106.66666666666667,9.280353036094535L108.88888888888889,9.552131838210332L111.11111111111111,9.884848264725377L113.33333333333333,10.276134489673861L115.55555555555554,10.732990971136047L117.77777777777779,11.26428925307248L120,11.87814898658961L122.22222222222223,12.58186696331065L124.44444444444444,13.38186456455437L126.66666666666666,14.28403363343178L128.88888888888889,15.293411034672367L131.11111111111111,16.414512066535902L133.33333333333331,17.651142508887997L135.55555555555557,19.003935340132493L137.77777777777777,20.46260345674511L140,22.014888584365867L142.22222222222223,23.64925774880231L144.44444444444443,25.354744810488206L146.66666666666666,27.121145551094685L148.88888888888889,28.938841447546725L151.11111111111111,30.798754853852707L153.33333333333334,32.69251206808252L155.55555555555557,34.61213145775881L157.77777777777777,36.551236848394765L160,38.50756789858225L162.22222222222223,40.48001597418518L164.44444444444443,42.46739687466883L166.66666666666669,44.46858368961524L168.88888888888889,46.48248982456089L171.11111111111111,48.50791716603726L173.33333333333334,50.54390663698931L175.55555555555554,52.589340863690296L177.77777777777777,54.64314184067589L180,56.70418405265474L182.22222222222223,58.77069391471179L184.44444444444446,60.84077901052147L186.66666666666666,62.91273137756506L188.88888888888889,64.9848936608933L191.11111111111111,67.05566722326203L193.33333333333334,69.1235697745654L195.55555555555554,71.18715733079048L197.77777777777777,73.24515495437423L200,75.29623963878909\" stroke=\"#f58518\" stroke-width=\"2\"/></g></g><path class=\"foreground\" aria-hidden=\"true\" d=\"\" display=\"none\"/></g></g><g class=\"mark-group role-legend\" role=\"graphics-symbol\" aria-roledescription=\"legend\" aria-label=\"Symbol legend titled 'variable' for stroke color with 2 values: FAIR, FUNDFAIR\"><g transform=\"translate(220,0)\"><path class=\"background\" aria-hidden=\"true\" d=\"M0,0h63v40h-63Z\" pointer-events=\"none\"/><g><g class=\"mark-group role-legend-entry\"><g transform=\"translate(0,16)\"><path class=\"background\" aria-hidden=\"true\" d=\"M0,0h0v0h0Z\" pointer-events=\"none\"/><g><g class=\"mark-group role-scope\" role=\"graphics-object\" aria-roledescription=\"group mark container\"><g transform=\"translate(0,0)\"><path class=\"background\" aria-hidden=\"true\" d=\"M0,0h63v11h-63Z\" pointer-events=\"none\" opacity=\"1\"/><g><g class=\"mark-symbol role-legend-symbol\" pointer-events=\"none\"><path transform=\"translate(6,6)\" d=\"M-5,0L5,0\" stroke=\"#4c78a8\" stroke-width=\"1.5\" opacity=\"1\"/></g><g class=\"mark-text role-legend-label\" pointer-events=\"none\"><text text-anchor=\"start\" transform=\"translate(16,9)\" font-family=\"sans-serif\" font-size=\"10px\" fill=\"#000\" opacity=\"1\">FAIR</text></g></g><path class=\"foreground\" aria-hidden=\"true\" d=\"\" pointer-events=\"none\" display=\"none\"/></g><g transform=\"translate(0,13)\"><path class=\"background\" aria-hidden=\"true\" d=\"M0,0h63v11h-63Z\" pointer-events=\"none\" opacity=\"1\"/><g><g class=\"mark-symbol role-legend-symbol\" pointer-events=\"none\"><path transform=\"translate(6,6)\" d=\"M-5,0L5,0\" stroke=\"#f58518\" stroke-width=\"1.5\" opacity=\"1\"/></g><g class=\"mark-text role-legend-label\" pointer-events=\"none\"><text text-anchor=\"start\" transform=\"translate(16,9)\" font-family=\"sans-serif\" font-size=\"10px\" fill=\"#000\" opacity=\"1\">FUNDFAIR</text></g></g><path class=\"foreground\" aria-hidden=\"true\" d=\"\" pointer-events=\"none\" display=\"none\"/></g></g></g><path class=\"foreground\" aria-hidden=\"true\" d=\"\" pointer-events=\"none\" display=\"none\"/></g></g><g class=\"mark-text role-legend-title\" pointer-events=\"none\"><text text-anchor=\"start\" transform=\"translate(0,9)\" font-family=\"sans-serif\" font-size=\"11px\" font-weight=\"bold\" fill=\"#000\" opacity=\"1\">variable</text></g></g><path class=\"foreground\" aria-hidden=\"true\" d=\"\" pointer-events=\"none\" display=\"none\"/></g></g></g><path class=\"foreground\" aria-hidden=\"true\" d=\"\" display=\"none\"/></g></g></g></svg>\n"
      ],
      "text/plain": [
       "@vlplot(\n",
       "    mark=\"line\",\n",
       "    encoding={\n",
       "        x={\n",
       "            field=\"Year\"\n",
       "        },\n",
       "        y={\n",
       "            field=\"value\"\n",
       "        },\n",
       "        color={\n",
       "            field=\"variable\"\n",
       "        }\n",
       "    },\n",
       "    data={\n",
       "        values=...\n",
       "    }\n",
       ")"
      ]
     },
     "execution_count": 24,
     "metadata": {},
     "output_type": "execute_result"
    }
   ],
   "source": [
    "fairvals = mfair[:co2_cycle, :E_co2]\n",
    "fundfairvals =  m[:co2_cycle, :E_co2]\n",
    "\n",
    "df = DataFrame(\n",
    "    :Year => Mimi.time_labels(m),\n",
    "    :FAIR => fairvals, \n",
    "    :FUNDFAIR => fundfairvals)\n",
    "\n",
    "stack(df, [:FAIR, :FUNDFAIR]) |> \n",
    "\n",
    "@vlplot(\n",
    "    :line, \n",
    "    x = :Year,\n",
    "    y = :value,\n",
    "    color = :variable\n",
    ")"
   ]
  },
  {
   "cell_type": "code",
   "execution_count": 25,
   "metadata": {},
   "outputs": [],
   "source": [
    "##### Global Carbon Dioxide Emissions (MtC yr⁻¹)"
   ]
  },
  {
   "cell_type": "code",
   "execution_count": 26,
   "metadata": {
    "scrolled": true
   },
   "outputs": [
    {
     "data": {
      "application/vnd.vegalite.v4+json": {
       "data": {
        "values": [
         {
          "Year": 2015,
          "value": 0,
          "variable": "FUND"
         },
         {
          "Year": 2016,
          "value": 2283.619714179199,
          "variable": "FUND"
         },
         {
          "Year": 2017,
          "value": 4618.840430603448,
          "variable": "FUND"
         },
         {
          "Year": 2018,
          "value": 7008.971708789232,
          "variable": "FUND"
         },
         {
          "Year": 2019,
          "value": 9457.679643170748,
          "variable": "FUND"
         },
         {
          "Year": 2020,
          "value": 11969.04775044653,
          "variable": "FUND"
         },
         {
          "Year": 2021,
          "value": 14547.651565679764,
          "variable": "FUND"
         },
         {
          "Year": 2022,
          "value": 17198.65040582614,
          "variable": "FUND"
         },
         {
          "Year": 2023,
          "value": 19927.900667048943,
          "variable": "FUND"
         },
         {
          "Year": 2024,
          "value": 22742.096171247184,
          "variable": "FUND"
         },
         {
          "Year": 2025,
          "value": 25644.079665984595,
          "variable": "FUND"
         },
         {
          "Year": 2026,
          "value": 28633.84919088658,
          "variable": "FUND"
         },
         {
          "Year": 2027,
          "value": 31716.055039401283,
          "variable": "FUND"
         },
         {
          "Year": 2028,
          "value": 34895.66163851742,
          "variable": "FUND"
         },
         {
          "Year": 2029,
          "value": 38177.974882306626,
          "variable": "FUND"
         },
         {
          "Year": 2030,
          "value": 41568.67231018835,
          "variable": "FUND"
         },
         {
          "Year": 2031,
          "value": 45073.83645518877,
          "variable": "FUND"
         },
         {
          "Year": 2032,
          "value": 48699.991726278255,
          "variable": "FUND"
         },
         {
          "Year": 2033,
          "value": 52454.14523240444,
          "variable": "FUND"
         },
         {
          "Year": 2034,
          "value": 56343.83200466895,
          "variable": "FUND"
         },
         {
          "Year": 2035,
          "value": 60314.5264282561,
          "variable": "FUND"
         },
         {
          "Year": 2036,
          "value": 64361.235162176825,
          "variable": "FUND"
         },
         {
          "Year": 2037,
          "value": 68486.98164306219,
          "variable": "FUND"
         },
         {
          "Year": 2038,
          "value": 72694.94401701931,
          "variable": "FUND"
         },
         {
          "Year": 2039,
          "value": 76988.464260774,
          "variable": "FUND"
         },
         {
          "Year": 2040,
          "value": 81371.05789511101,
          "variable": "FUND"
         },
         {
          "Year": 2041,
          "value": 85846.42433185915,
          "variable": "FUND"
         },
         {
          "Year": 2042,
          "value": 90418.45789868994,
          "variable": "FUND"
         },
         {
          "Year": 2043,
          "value": 95091.25958925026,
          "variable": "FUND"
         },
         {
          "Year": 2044,
          "value": 99869.14958964824,
          "variable": "FUND"
         },
         {
          "Year": 2045,
          "value": 104646.14657622973,
          "variable": "FUND"
         },
         {
          "Year": 2046,
          "value": 109457.28986321535,
          "variable": "FUND"
         },
         {
          "Year": 2047,
          "value": 114306.903156339,
          "variable": "FUND"
         },
         {
          "Year": 2048,
          "value": 119199.60914595918,
          "variable": "FUND"
         },
         {
          "Year": 2049,
          "value": 124140.35965692723,
          "variable": "FUND"
         },
         {
          "Year": 2050,
          "value": 129134.46876850154,
          "variable": "FUND"
         },
         {
          "Year": 2051,
          "value": 134187.64921730323,
          "variable": "FUND"
         },
         {
          "Year": 2052,
          "value": 139306.05243001654,
          "variable": "FUND"
         },
         {
          "Year": 2053,
          "value": 144496.31256996357,
          "variable": "FUND"
         },
         {
          "Year": 2054,
          "value": 149765.59502324637,
          "variable": "FUND"
         },
         {
          "Year": 2055,
          "value": 155268.91368511732,
          "variable": "FUND"
         },
         {
          "Year": 2056,
          "value": 160805.42976724388,
          "variable": "FUND"
         },
         {
          "Year": 2057,
          "value": 166384.07740085616,
          "variable": "FUND"
         },
         {
          "Year": 2058,
          "value": 172013.87276727785,
          "variable": "FUND"
         },
         {
          "Year": 2059,
          "value": 177703.95187168338,
          "variable": "FUND"
         },
         {
          "Year": 2060,
          "value": 183457.93683407,
          "variable": "FUND"
         },
         {
          "Year": 2061,
          "value": 189363.74954128114,
          "variable": "FUND"
         },
         {
          "Year": 2062,
          "value": 195475.92172667044,
          "variable": "FUND"
         },
         {
          "Year": 2063,
          "value": 201776.5733284695,
          "variable": "FUND"
         },
         {
          "Year": 2064,
          "value": 208169.68493562125,
          "variable": "FUND"
         },
         {
          "Year": 2065,
          "value": 214706.97439207812,
          "variable": "FUND"
         },
         {
          "Year": 2066,
          "value": 221482.19153308307,
          "variable": "FUND"
         },
         {
          "Year": 2067,
          "value": 228367.40176459745,
          "variable": "FUND"
         },
         {
          "Year": 2068,
          "value": 235360.1973584917,
          "variable": "FUND"
         },
         {
          "Year": 2069,
          "value": 242457.5544012884,
          "variable": "FUND"
         },
         {
          "Year": 2070,
          "value": 249655.87661387442,
          "variable": "FUND"
         },
         {
          "Year": 2071,
          "value": 256951.1618832607,
          "variable": "FUND"
         },
         {
          "Year": 2072,
          "value": 264338.9801709333,
          "variable": "FUND"
         },
         {
          "Year": 2073,
          "value": 271814.57948166714,
          "variable": "FUND"
         },
         {
          "Year": 2074,
          "value": 279372.7799957564,
          "variable": "FUND"
         },
         {
          "Year": 2075,
          "value": 287008.18917499913,
          "variable": "FUND"
         },
         {
          "Year": 2076,
          "value": 294727.1947470887,
          "variable": "FUND"
         },
         {
          "Year": 2077,
          "value": 302532.9692654835,
          "variable": "FUND"
         },
         {
          "Year": 2078,
          "value": 310428.7005511574,
          "variable": "FUND"
         },
         {
          "Year": 2079,
          "value": 318417.62280155485,
          "variable": "FUND"
         },
         {
          "Year": 2080,
          "value": 326503.0832236447,
          "variable": "FUND"
         },
         {
          "Year": 2081,
          "value": 334688.4238404786,
          "variable": "FUND"
         },
         {
          "Year": 2082,
          "value": 342977.11606558866,
          "variable": "FUND"
         },
         {
          "Year": 2083,
          "value": 351372.676966953,
          "variable": "FUND"
         },
         {
          "Year": 2084,
          "value": 359878.6783505126,
          "variable": "FUND"
         },
         {
          "Year": 2085,
          "value": 368498.82783634,
          "variable": "FUND"
         },
         {
          "Year": 2086,
          "value": 377236.9023588626,
          "variable": "FUND"
         },
         {
          "Year": 2087,
          "value": 386097.22223156947,
          "variable": "FUND"
         },
         {
          "Year": 2088,
          "value": 395084.1623485255,
          "variable": "FUND"
         },
         {
          "Year": 2089,
          "value": 404202.2673984928,
          "variable": "FUND"
         },
         {
          "Year": 2090,
          "value": 413456.2134481827,
          "variable": "FUND"
         },
         {
          "Year": 2091,
          "value": 422845.3310310343,
          "variable": "FUND"
         },
         {
          "Year": 2092,
          "value": 432371.1127935122,
          "variable": "FUND"
         },
         {
          "Year": 2093,
          "value": 442035.1449894105,
          "variable": "FUND"
         },
         {
          "Year": 2094,
          "value": 451838.90942028625,
          "variable": "FUND"
         },
         {
          "Year": 2095,
          "value": 461783.92062970076,
          "variable": "FUND"
         },
         {
          "Year": 2096,
          "value": 471870.5702338529,
          "variable": "FUND"
         },
         {
          "Year": 2097,
          "value": 482100.65348204144,
          "variable": "FUND"
         },
         {
          "Year": 2098,
          "value": 492475.9483460483,
          "variable": "FUND"
         },
         {
          "Year": 2099,
          "value": 502998.17818461487,
          "variable": "FUND"
         },
         {
          "Year": 2100,
          "value": 513669.181522452,
          "variable": "FUND"
         },
         {
          "Year": 2015,
          "value": 0,
          "variable": "FUNDFAIR"
         },
         {
          "Year": 2016,
          "value": 88790.02758838868,
          "variable": "FUNDFAIR"
         },
         {
          "Year": 2017,
          "value": 184670.92094486102,
          "variable": "FUNDFAIR"
         },
         {
          "Year": 2018,
          "value": 287515.88951100776,
          "variable": "FUNDFAIR"
         },
         {
          "Year": 2019,
          "value": 397187.40331906255,
          "variable": "FUNDFAIR"
         },
         {
          "Year": 2020,
          "value": 513538.35553196503,
          "variable": "FUNDFAIR"
         },
         {
          "Year": 2021,
          "value": 636412.9193409397,
          "variable": "FUNDFAIR"
         },
         {
          "Year": 2022,
          "value": 765647.3792695864,
          "variable": "FUNDFAIR"
         },
         {
          "Year": 2023,
          "value": 901071.9358249574,
          "variable": "FUNDFAIR"
         },
         {
          "Year": 2024,
          "value": 1042508.0365045022,
          "variable": "FUNDFAIR"
         },
         {
          "Year": 2025,
          "value": 1189772.7774051116,
          "variable": "FUNDFAIR"
         },
         {
          "Year": 2026,
          "value": 1342678.2014640316,
          "variable": "FUNDFAIR"
         },
         {
          "Year": 2027,
          "value": 1501034.6957427496,
          "variable": "FUNDFAIR"
         },
         {
          "Year": 2028,
          "value": 1664645.5681208181,
          "variable": "FUNDFAIR"
         },
         {
          "Year": 2029,
          "value": 1833308.5679473432,
          "variable": "FUNDFAIR"
         },
         {
          "Year": 2030,
          "value": 2006826.2954914104,
          "variable": "FUNDFAIR"
         },
         {
          "Year": 2031,
          "value": 2184991.523094081,
          "variable": "FUNDFAIR"
         },
         {
          "Year": 2032,
          "value": 2367606.577343716,
          "variable": "FUNDFAIR"
         },
         {
          "Year": 2033,
          "value": 2554458.643525,
          "variable": "FUNDFAIR"
         },
         {
          "Year": 2034,
          "value": 2745334.22092643,
          "variable": "FUNDFAIR"
         },
         {
          "Year": 2035,
          "value": 2940020.4639689536,
          "variable": "FUNDFAIR"
         },
         {
          "Year": 2036,
          "value": 3138305.711853989,
          "variable": "FUNDFAIR"
         },
         {
          "Year": 2037,
          "value": 3339980.27451566,
          "variable": "FUNDFAIR"
         },
         {
          "Year": 2038,
          "value": 3544887.396376139,
          "variable": "FUNDFAIR"
         },
         {
          "Year": 2039,
          "value": 3752822.556234364,
          "variable": "FUNDFAIR"
         },
         {
          "Year": 2040,
          "value": 3963574.856388768,
          "variable": "FUNDFAIR"
         },
         {
          "Year": 2041,
          "value": 4176954.9306510757,
          "variable": "FUNDFAIR"
         },
         {
          "Year": 2042,
          "value": 4392738.259241689,
          "variable": "FUNDFAIR"
         },
         {
          "Year": 2043,
          "value": 4610706.014030934,
          "variable": "FUNDFAIR"
         },
         {
          "Year": 2044,
          "value": 4830645.0666988,
          "variable": "FUNDFAIR"
         },
         {
          "Year": 2045,
          "value": 5052347.8722203765,
          "variable": "FUNDFAIR"
         },
         {
          "Year": 2046,
          "value": 5275612.498877454,
          "variable": "FUNDFAIR"
         },
         {
          "Year": 2047,
          "value": 5500242.549012199,
          "variable": "FUNDFAIR"
         },
         {
          "Year": 2048,
          "value": 5726047.129081121,
          "variable": "FUNDFAIR"
         },
         {
          "Year": 2049,
          "value": 5952840.784372914,
          "variable": "FUNDFAIR"
         },
         {
          "Year": 2050,
          "value": 6180443.36872747,
          "variable": "FUNDFAIR"
         },
         {
          "Year": 2051,
          "value": 6408686.326045716,
          "variable": "FUNDFAIR"
         },
         {
          "Year": 2052,
          "value": 6637408.493528261,
          "variable": "FUNDFAIR"
         },
         {
          "Year": 2053,
          "value": 6866459.358291923,
          "variable": "FUNDFAIR"
         },
         {
          "Year": 2054,
          "value": 7095701.313112398,
          "variable": "FUNDFAIR"
         },
         {
          "Year": 2055,
          "value": 7325008.87687895,
          "variable": "FUNDFAIR"
         },
         {
          "Year": 2056,
          "value": 7554268.031041013,
          "variable": "FUNDFAIR"
         },
         {
          "Year": 2057,
          "value": 7783375.659238782,
          "variable": "FUNDFAIR"
         },
         {
          "Year": 2058,
          "value": 8012239.235595468,
          "variable": "FUNDFAIR"
         },
         {
          "Year": 2059,
          "value": 8240776.677389616,
          "variable": "FUNDFAIR"
         },
         {
          "Year": 2060,
          "value": 8468914.859471945,
          "variable": "FUNDFAIR"
         },
         {
          "Year": 2061,
          "value": 8696583.498084337,
          "variable": "FUNDFAIR"
         },
         {
          "Year": 2062,
          "value": 8923703.908918973,
          "variable": "FUNDFAIR"
         },
         {
          "Year": 2063,
          "value": 9150186.761815285,
          "variable": "FUNDFAIR"
         },
         {
          "Year": 2064,
          "value": 9375932.983031377,
          "variable": "FUNDFAIR"
         },
         {
          "Year": 2065,
          "value": 9600834.742675405,
          "variable": "FUNDFAIR"
         },
         {
          "Year": 2066,
          "value": 9824776.50519794,
          "variable": "FUNDFAIR"
         },
         {
          "Year": 2067,
          "value": 10047635.664837822,
          "variable": "FUNDFAIR"
         },
         {
          "Year": 2068,
          "value": 10269283.571596216,
          "variable": "FUNDFAIR"
         },
         {
          "Year": 2069,
          "value": 10489586.157116374,
          "variable": "FUNDFAIR"
         },
         {
          "Year": 2070,
          "value": 10708404.78610571,
          "variable": "FUNDFAIR"
         },
         {
          "Year": 2071,
          "value": 10925600.06369755,
          "variable": "FUNDFAIR"
         },
         {
          "Year": 2072,
          "value": 11141044.939549455,
          "variable": "FUNDFAIR"
         },
         {
          "Year": 2073,
          "value": 11354627.073248217,
          "variable": "FUNDFAIR"
         },
         {
          "Year": 2074,
          "value": 11566247.963949654,
          "variable": "FUNDFAIR"
         },
         {
          "Year": 2075,
          "value": 11775822.270177068,
          "variable": "FUNDFAIR"
         },
         {
          "Year": 2076,
          "value": 11983276.895515755,
          "variable": "FUNDFAIR"
         },
         {
          "Year": 2077,
          "value": 12188550.2857787,
          "variable": "FUNDFAIR"
         },
         {
          "Year": 2078,
          "value": 12391591.779954076,
          "variable": "FUNDFAIR"
         },
         {
          "Year": 2079,
          "value": 12592360.765472377,
          "variable": "FUNDFAIR"
         },
         {
          "Year": 2080,
          "value": 12790826.207723066,
          "variable": "FUNDFAIR"
         },
         {
          "Year": 2081,
          "value": 12986964.723504992,
          "variable": "FUNDFAIR"
         },
         {
          "Year": 2082,
          "value": 13180755.642026693,
          "variable": "FUNDFAIR"
         },
         {
          "Year": 2083,
          "value": 13372179.622857671,
          "variable": "FUNDFAIR"
         },
         {
          "Year": 2084,
          "value": 13561218.74660807,
          "variable": "FUNDFAIR"
         },
         {
          "Year": 2085,
          "value": 13747856.446180532,
          "variable": "FUNDFAIR"
         },
         {
          "Year": 2086,
          "value": 13932077.45839106,
          "variable": "FUNDFAIR"
         },
         {
          "Year": 2087,
          "value": 14113867.957791815,
          "variable": "FUNDFAIR"
         },
         {
          "Year": 2088,
          "value": 14293215.269827427,
          "variable": "FUNDFAIR"
         },
         {
          "Year": 2089,
          "value": 14470108.060790999,
          "variable": "FUNDFAIR"
         },
         {
          "Year": 2090,
          "value": 14644536.290582187,
          "variable": "FUNDFAIR"
         },
         {
          "Year": 2091,
          "value": 14816491.269719,
          "variable": "FUNDFAIR"
         },
         {
          "Year": 2092,
          "value": 14985966.437021347,
          "variable": "FUNDFAIR"
         },
         {
          "Year": 2093,
          "value": 15152957.50220872,
          "variable": "FUNDFAIR"
         },
         {
          "Year": 2094,
          "value": 15317462.224555643,
          "variable": "FUNDFAIR"
         },
         {
          "Year": 2095,
          "value": 15479480.352162572,
          "variable": "FUNDFAIR"
         },
         {
          "Year": 2096,
          "value": 15639013.551494658,
          "variable": "FUNDFAIR"
         },
         {
          "Year": 2097,
          "value": 15796065.26776518,
          "variable": "FUNDFAIR"
         },
         {
          "Year": 2098,
          "value": 15950640.67896823,
          "variable": "FUNDFAIR"
         },
         {
          "Year": 2099,
          "value": 16102746.493022982,
          "variable": "FUNDFAIR"
         },
         {
          "Year": 2100,
          "value": 16252391.005456435,
          "variable": "FUNDFAIR"
         }
        ]
       },
       "encoding": {
        "color": {
         "field": "variable",
         "type": "nominal"
        },
        "x": {
         "field": "Year",
         "type": "quantitative"
        },
        "y": {
         "field": "value",
         "type": "quantitative"
        }
       },
       "mark": "line"
      },
      "image/png": "[encoded data removed]",
      "image/svg+xml": [
       "<?xml version=\"1.0\" encoding=\"utf-8\"?>\n",
       "<!DOCTYPE svg PUBLIC \"-//W3C//DTD SVG 1.1//EN\" \"http://www.w3.org/Graphics/SVG/1.1/DTD/svg11.dtd\">\n",
       "<svg xmlns=\"http://www.w3.org/2000/svg\" xmlns:xlink=\"http://www.w3.org/1999/xlink\" version=\"1.1\" class=\"marks\" width=\"361\" height=\"242\" viewBox=\"0 0 361 242\"><rect width=\"361\" height=\"242\" fill=\"white\"/><g fill=\"none\" stroke-miterlimit=\"10\" transform=\"translate(73,5)\"><g class=\"mark-group role-frame root\" role=\"graphics-object\" aria-roledescription=\"group mark container\"><g transform=\"translate(0,0)\"><path class=\"background\" aria-hidden=\"true\" d=\"M0.5,0.5h200v200h-200Z\" stroke=\"#ddd\"/><g><g class=\"mark-group role-axis\" aria-hidden=\"true\"><g transform=\"translate(0.5,200.5)\"><path class=\"background\" aria-hidden=\"true\" d=\"M0,0h0v0h0Z\" pointer-events=\"none\"/><g><g class=\"mark-rule role-axis-grid\" pointer-events=\"none\"><line transform=\"translate(22,-200)\" x2=\"0\" y2=\"200\" stroke=\"#ddd\" stroke-width=\"1\" opacity=\"1\"/><line transform=\"translate(67,-200)\" x2=\"0\" y2=\"200\" stroke=\"#ddd\" stroke-width=\"1\" opacity=\"1\"/><line transform=\"translate(111,-200)\" x2=\"0\" y2=\"200\" stroke=\"#ddd\" stroke-width=\"1\" opacity=\"1\"/><line transform=\"translate(156,-200)\" x2=\"0\" y2=\"200\" stroke=\"#ddd\" stroke-width=\"1\" opacity=\"1\"/><line transform=\"translate(200,-200)\" x2=\"0\" y2=\"200\" stroke=\"#ddd\" stroke-width=\"1\" opacity=\"1\"/></g></g><path class=\"foreground\" aria-hidden=\"true\" d=\"\" pointer-events=\"none\" display=\"none\"/></g></g><g class=\"mark-group role-axis\" aria-hidden=\"true\"><g transform=\"translate(0.5,0.5)\"><path class=\"background\" aria-hidden=\"true\" d=\"M0,0h0v0h0Z\" pointer-events=\"none\"/><g><g class=\"mark-rule role-axis-grid\" pointer-events=\"none\"><line transform=\"translate(0,200)\" x2=\"200\" y2=\"0\" stroke=\"#ddd\" stroke-width=\"1\" opacity=\"1\"/><line transform=\"translate(0,144)\" x2=\"200\" y2=\"0\" stroke=\"#ddd\" stroke-width=\"1\" opacity=\"1\"/><line transform=\"translate(0,89)\" x2=\"200\" y2=\"0\" stroke=\"#ddd\" stroke-width=\"1\" opacity=\"1\"/><line transform=\"translate(0,33)\" x2=\"200\" y2=\"0\" stroke=\"#ddd\" stroke-width=\"1\" opacity=\"1\"/></g></g><path class=\"foreground\" aria-hidden=\"true\" d=\"\" pointer-events=\"none\" display=\"none\"/></g></g><g class=\"mark-group role-axis\" role=\"graphics-symbol\" aria-roledescription=\"axis\" aria-label=\"X-axis titled 'Year' for a linear scale with values from 2,010 to 2,100\"><g transform=\"translate(0.5,200.5)\"><path class=\"background\" aria-hidden=\"true\" d=\"M0,0h0v0h0Z\" pointer-events=\"none\"/><g><g class=\"mark-rule role-axis-tick\" pointer-events=\"none\"><line transform=\"translate(22,0)\" x2=\"0\" y2=\"5\" stroke=\"#888\" stroke-width=\"1\" opacity=\"1\"/><line transform=\"translate(67,0)\" x2=\"0\" y2=\"5\" stroke=\"#888\" stroke-width=\"1\" opacity=\"1\"/><line transform=\"translate(111,0)\" x2=\"0\" y2=\"5\" stroke=\"#888\" stroke-width=\"1\" opacity=\"1\"/><line transform=\"translate(156,0)\" x2=\"0\" y2=\"5\" stroke=\"#888\" stroke-width=\"1\" opacity=\"1\"/><line transform=\"translate(200,0)\" x2=\"0\" y2=\"5\" stroke=\"#888\" stroke-width=\"1\" opacity=\"1\"/></g><g class=\"mark-text role-axis-label\" pointer-events=\"none\"><text text-anchor=\"middle\" transform=\"translate(22.22222222222222,15)\" font-family=\"sans-serif\" font-size=\"10px\" fill=\"#000\" opacity=\"1\">2,020</text><text text-anchor=\"middle\" transform=\"translate(66.66666666666666,15)\" font-family=\"sans-serif\" font-size=\"10px\" fill=\"#000\" opacity=\"1\">2,040</text><text text-anchor=\"middle\" transform=\"translate(111.11111111111111,15)\" font-family=\"sans-serif\" font-size=\"10px\" fill=\"#000\" opacity=\"1\">2,060</text><text text-anchor=\"middle\" transform=\"translate(155.55555555555557,15)\" font-family=\"sans-serif\" font-size=\"10px\" fill=\"#000\" opacity=\"1\">2,080</text><text text-anchor=\"end\" transform=\"translate(200,15)\" font-family=\"sans-serif\" font-size=\"10px\" fill=\"#000\" opacity=\"1\">2,100</text></g><g class=\"mark-rule role-axis-domain\" pointer-events=\"none\"><line transform=\"translate(0,0)\" x2=\"200\" y2=\"0\" stroke=\"#888\" stroke-width=\"1\" opacity=\"1\"/></g><g class=\"mark-text role-axis-title\" pointer-events=\"none\"><text text-anchor=\"middle\" transform=\"translate(100,30)\" font-family=\"sans-serif\" font-size=\"11px\" font-weight=\"bold\" fill=\"#000\" opacity=\"1\">Year</text></g></g><path class=\"foreground\" aria-hidden=\"true\" d=\"\" pointer-events=\"none\" display=\"none\"/></g></g><g class=\"mark-group role-axis\" role=\"graphics-symbol\" aria-roledescription=\"axis\" aria-label=\"Y-axis titled 'value' for a linear scale with values from 0 to 18,000,000\"><g transform=\"translate(0.5,0.5)\"><path class=\"background\" aria-hidden=\"true\" d=\"M0,0h0v0h0Z\" pointer-events=\"none\"/><g><g class=\"mark-rule role-axis-tick\" pointer-events=\"none\"><line transform=\"translate(0,200)\" x2=\"-5\" y2=\"0\" stroke=\"#888\" stroke-width=\"1\" opacity=\"1\"/><line transform=\"translate(0,144)\" x2=\"-5\" y2=\"0\" stroke=\"#888\" stroke-width=\"1\" opacity=\"1\"/><line transform=\"translate(0,89)\" x2=\"-5\" y2=\"0\" stroke=\"#888\" stroke-width=\"1\" opacity=\"1\"/><line transform=\"translate(0,33)\" x2=\"-5\" y2=\"0\" stroke=\"#888\" stroke-width=\"1\" opacity=\"1\"/></g><g class=\"mark-text role-axis-label\" pointer-events=\"none\"><text text-anchor=\"end\" transform=\"translate(-7,203)\" font-family=\"sans-serif\" font-size=\"10px\" fill=\"#000\" opacity=\"1\">0</text><text text-anchor=\"end\" transform=\"translate(-7,147.44444444444443)\" font-family=\"sans-serif\" font-size=\"10px\" fill=\"#000\" opacity=\"1\">5,000,000</text><text text-anchor=\"end\" transform=\"translate(-7,91.88888888888889)\" font-family=\"sans-serif\" font-size=\"10px\" fill=\"#000\" opacity=\"1\">10,000,000</text><text text-anchor=\"end\" transform=\"translate(-7,36.33333333333333)\" font-family=\"sans-serif\" font-size=\"10px\" fill=\"#000\" opacity=\"1\">15,000,000</text></g><g class=\"mark-rule role-axis-domain\" pointer-events=\"none\"><line transform=\"translate(0,200)\" x2=\"0\" y2=\"-200\" stroke=\"#888\" stroke-width=\"1\" opacity=\"1\"/></g><g class=\"mark-text role-axis-title\" pointer-events=\"none\"><text text-anchor=\"middle\" transform=\"translate(-57,100) rotate(-90) translate(0,-2)\" font-family=\"sans-serif\" font-size=\"11px\" font-weight=\"bold\" fill=\"#000\" opacity=\"1\">value</text></g></g><path class=\"foreground\" aria-hidden=\"true\" d=\"\" pointer-events=\"none\" display=\"none\"/></g></g><g class=\"mark-group role-scope pathgroup\" role=\"graphics-object\" aria-roledescription=\"group mark container\"><g transform=\"translate(0,0)\"><path class=\"background\" aria-hidden=\"true\" d=\"M0,0h200v200h-200Z\"/><g><g class=\"mark-line role-mark marks\" role=\"graphics-object\" aria-roledescription=\"line mark container\"><path aria-label=\"Year: 2015; value: 0; variable: FUND\" role=\"graphics-symbol\" aria-roledescription=\"line mark\" d=\"M11.11111111111111,200L13.333333333333334,199.97462644762024L15.555555555555555,199.94867955077106L17.77777777777778,199.922122536569L20,199.89491467063144L22.22222222222222,199.86701058055058L24.444444444444443,199.838359427048L26.666666666666668,199.8089038843797L28.888888888888886,199.77857888147724L31.11111111111111,199.7473100425417L33.33333333333333,199.71506578148905L35.55555555555556,199.68184612010128L37.77777777777778,199.64759938845108L40,199.6122704262387L42.22222222222222,199.57580027908548L44.44444444444444,199.53812586322013L46.666666666666664,199.49917959494235L48.888888888888886,199.45888898081913L51.11111111111111,199.4171761640844L53.333333333333336,199.37395742217035L55.55555555555556,199.3298385952416L57.77777777777777,199.2848751648647L60,199.2390335372993L62.22222222222222,199.1922783998109L64.44444444444444,199.14457261932475L66.66666666666666,199.09587713449878L68.88888888888889,199.04615084075712L71.11111111111111,198.99535046779232L73.33333333333333,198.94343044900833L75.55555555555556,198.89034278233723L77.77777777777779,198.8372650380419L80,198.78380789040872L82.22222222222221,198.7299232982629L84.44444444444444,198.67555989837825L86.66666666666667,198.62066267047857L88.88888888888889,198.56517256923888L91.11111111111111,198.50902611980774L93.33333333333333,198.4521549729998L95.55555555555556,198.39448541588928L97.77777777777777,198.33593783307504L100,198.27478984794314L102.22222222222221,198.21327300258616L104.44444444444446,198.15128802887938L106.66666666666667,198.08873474703023L108.88888888888889,198.02551164587018L111.11111111111111,197.96157847962144L113.33333333333333,197.8959583384302L115.55555555555554,197.8280453141481L117.77777777777779,197.7580380741281L120,197.68700350071532L122.22222222222223,197.61436695119914L124.44444444444444,197.53908676074352L126.66666666666666,197.4625844248378L128.88888888888889,197.38488669601674L131.11111111111111,197.30602717331902L133.33333333333331,197.2260458154014L135.55555555555557,197.144987090186L137.77777777777777,197.06290022032294L140,196.97983800575923L142.22222222222223,196.89585800004716L144.44444444444443,196.8110201202778L146.66666666666666,196.72525339169903L148.88888888888889,196.63852256371686L151.11111111111111,196.55079221609824L153.33333333333334,196.46202641331604L155.55555555555557,196.37218796418173L157.77777777777777,196.28123973510577L160,196.18914315482678L162.22222222222223,196.0958591448116L164.44444444444443,196.00134801832766L166.66666666666669,195.90556857959623L168.88888888888889,195.80847886267932L171.11111111111111,195.71003086409365L173.33333333333334,195.61017597390526L175.55555555555554,195.5088636955723L177.77777777777777,195.40604207279796L180,195.3017185440996L182.22222222222223,195.19587652451654L184.44444444444446,195.08849838900656L186.66666666666666,194.97956767310794L188.88888888888889,194.8690675485589L191.11111111111111,194.75699366406832L193.33333333333334,194.64332607242176L195.55555555555554,194.52804501837724L197.77777777777777,194.4111313535043L200,194.29256464975055\" stroke=\"#4c78a8\" stroke-width=\"2\"/></g></g><path class=\"foreground\" aria-hidden=\"true\" d=\"\" display=\"none\"/></g><g transform=\"translate(0,0)\"><path class=\"background\" aria-hidden=\"true\" d=\"M0,0h200v200h-200Z\"/><g><g class=\"mark-line role-mark marks\" role=\"graphics-object\" aria-roledescription=\"line mark container\"><path aria-label=\"Year: 2015; value: 0; variable: FUNDFAIR\" role=\"graphics-symbol\" aria-roledescription=\"line mark\" d=\"M11.11111111111111,200L13.333333333333334,199.01344413790682L15.555555555555555,197.94810087839042L17.77777777777778,196.80537900543325L20,195.5868066297882L22.22222222222222,194.29401827186706L24.444444444444443,192.92874534065623L26.666666666666668,191.49280689700458L28.888888888888886,189.98808960194492L31.11111111111111,188.41657737217218L33.33333333333333,186.78030247327655L35.55555555555556,185.08135331706632L37.77777777777778,183.32183671396945L40,181.5039381319909L42.22222222222222,179.62990480058508L44.44444444444444,177.70193005009546L46.666666666666664,175.72231641006576L48.888888888888886,173.6932602517365L51.11111111111111,171.61712618305555L53.333333333333336,169.4962864341508L55.55555555555556,167.33310595590052L57.77777777777777,165.12993653495568L60,162.8891080609371L62.22222222222222,160.61236226248735L64.44444444444444,158.30197159739598L66.66666666666666,155.96027937345812L68.88888888888889,153.5893896594325L71.11111111111111,151.19179711953677L73.33333333333333,148.76993317743404L75.55555555555556,146.3261659255689L77.77777777777779,143.86280141977358L80,141.38208334580605L82.22222222222221,138.88619389986445L84.44444444444444,136.3772541213209L86.66666666666667,133.85732461807874L88.88888888888889,131.3284070141392L91.11111111111111,128.79237415504758L93.33333333333333,126.25101673857489L95.55555555555556,123.70600713008974L97.77777777777777,121.15887429875114L100,118.61101247912278L102.22222222222221,116.06368854398875L104.44444444444446,113.51804823068021L106.66666666666667,110.9751196044948L108.88888888888889,108.43581469567094L111.11111111111111,105.90094600586728L113.33333333333333,103.37129446572959L115.55555555555554,100.84773434534475L117.77777777777779,98.3312582020524L120,95.82296685520693L122.22222222222223,93.32405841471771L124.44444444444444,90.83581660891178L126.66666666666666,88.35960372402421L128.88888888888889,85.89684920448649L131.11111111111111,83.44904269870696L133.33333333333331,81.01772459882545L135.55555555555557,78.60444373669388L137.77777777777777,76.21061178278383L140,73.8374769639087L142.22222222222223,71.48613373389271L144.44444444444443,69.15753033136592L146.66666666666666,66.85247893871384L148.88888888888889,64.57166349134778L151.11111111111111,62.31564688939917L153.33333333333334,60.08488038364026L155.55555555555557,57.879708803077044L157.77777777777777,55.70039196105565L160,53.54715953303675L162.22222222222223,51.42022641269255L164.44444444444443,49.319791704354785L166.66666666666669,47.24603948688297L168.88888888888889,45.19913935121045L171.11111111111111,43.179244913424284L173.33333333333334,41.18649700191747L175.55555555555554,39.22102154676668L177.77777777777777,37.28293010464236L180,35.37231922534443L182.22222222222223,33.48926181087393L184.44444444444446,31.633805531014204L186.66666666666666,29.805975282715067L188.88888888888889,28.005773864860316L191.11111111111111,26.23318276117046L193.33333333333334,24.488163691498L195.55555555555554,22.77065912257521L197.77777777777777,21.080594521966866L200,19.417877717150734\" stroke=\"#f58518\" stroke-width=\"2\"/></g></g><path class=\"foreground\" aria-hidden=\"true\" d=\"\" display=\"none\"/></g></g><g class=\"mark-group role-legend\" role=\"graphics-symbol\" aria-roledescription=\"legend\" aria-label=\"Symbol legend titled 'variable' for stroke color with 2 values: FUND, FUNDFAIR\"><g transform=\"translate(220,0)\"><path class=\"background\" aria-hidden=\"true\" d=\"M0,0h63v40h-63Z\" pointer-events=\"none\"/><g><g class=\"mark-group role-legend-entry\"><g transform=\"translate(0,16)\"><path class=\"background\" aria-hidden=\"true\" d=\"M0,0h0v0h0Z\" pointer-events=\"none\"/><g><g class=\"mark-group role-scope\" role=\"graphics-object\" aria-roledescription=\"group mark container\"><g transform=\"translate(0,0)\"><path class=\"background\" aria-hidden=\"true\" d=\"M0,0h63v11h-63Z\" pointer-events=\"none\" opacity=\"1\"/><g><g class=\"mark-symbol role-legend-symbol\" pointer-events=\"none\"><path transform=\"translate(6,6)\" d=\"M-5,0L5,0\" stroke=\"#4c78a8\" stroke-width=\"1.5\" opacity=\"1\"/></g><g class=\"mark-text role-legend-label\" pointer-events=\"none\"><text text-anchor=\"start\" transform=\"translate(16,9)\" font-family=\"sans-serif\" font-size=\"10px\" fill=\"#000\" opacity=\"1\">FUND</text></g></g><path class=\"foreground\" aria-hidden=\"true\" d=\"\" pointer-events=\"none\" display=\"none\"/></g><g transform=\"translate(0,13)\"><path class=\"background\" aria-hidden=\"true\" d=\"M0,0h63v11h-63Z\" pointer-events=\"none\" opacity=\"1\"/><g><g class=\"mark-symbol role-legend-symbol\" pointer-events=\"none\"><path transform=\"translate(6,6)\" d=\"M-5,0L5,0\" stroke=\"#f58518\" stroke-width=\"1.5\" opacity=\"1\"/></g><g class=\"mark-text role-legend-label\" pointer-events=\"none\"><text text-anchor=\"start\" transform=\"translate(16,9)\" font-family=\"sans-serif\" font-size=\"10px\" fill=\"#000\" opacity=\"1\">FUNDFAIR</text></g></g><path class=\"foreground\" aria-hidden=\"true\" d=\"\" pointer-events=\"none\" display=\"none\"/></g></g></g><path class=\"foreground\" aria-hidden=\"true\" d=\"\" pointer-events=\"none\" display=\"none\"/></g></g><g class=\"mark-text role-legend-title\" pointer-events=\"none\"><text text-anchor=\"start\" transform=\"translate(0,9)\" font-family=\"sans-serif\" font-size=\"11px\" font-weight=\"bold\" fill=\"#000\" opacity=\"1\">variable</text></g></g><path class=\"foreground\" aria-hidden=\"true\" d=\"\" pointer-events=\"none\" display=\"none\"/></g></g></g><path class=\"foreground\" aria-hidden=\"true\" d=\"\" display=\"none\"/></g></g></g></svg>\n"
      ],
      "text/plain": [
       "@vlplot(\n",
       "    mark=\"line\",\n",
       "    encoding={\n",
       "        x={\n",
       "            field=\"Year\"\n",
       "        },\n",
       "        y={\n",
       "            field=\"value\"\n",
       "        },\n",
       "        color={\n",
       "            field=\"variable\"\n",
       "        }\n",
       "    },\n",
       "    data={\n",
       "        values=...\n",
       "    }\n",
       ")"
      ]
     },
     "execution_count": 26,
     "metadata": {},
     "output_type": "execute_result"
    }
   ],
   "source": [
    "fundfairvals =  m[:emissions, :cumglobco2]\n",
    "fundvals = vcat(\n",
    "    fill(missing, length(FAIR_first:FUND_first)-1),\n",
    "    sum(mfund[:emissions, :cumglobco2][1:length(FUND_first:FAIR_last),:], dims = 2)\n",
    ")\n",
    "fundvals = fundvals[:,1]; # make a vector\n",
    "\n",
    "df = DataFrame(\n",
    "    :Year => Mimi.time_labels(m),\n",
    "    :FUND => fundvals, \n",
    "    :FUNDFAIR => fundfairvals)\n",
    "\n",
    "stack(df, [:FUND, :FUNDFAIR]) |> \n",
    "\n",
    "@vlplot(\n",
    "    :line, \n",
    "    x = :Year,\n",
    "    y = :value,\n",
    "    color = :variable\n",
    ")"
   ]
  },
  {
   "cell_type": "code",
   "execution_count": 27,
   "metadata": {},
   "outputs": [
    {
     "data": {
      "application/vnd.vegalite.v4+json": {
       "data": {
        "values": [
         {
          "DIFF": 0,
          "Year": 2015
         },
         {
          "DIFF": 86506.40787420949,
          "Year": 2016
         },
         {
          "DIFF": 180052.08051425757,
          "Year": 2017
         },
         {
          "DIFF": 280506.9178022185,
          "Year": 2018
         },
         {
          "DIFF": 387729.7236758918,
          "Year": 2019
         },
         {
          "DIFF": 501569.3077815185,
          "Year": 2020
         },
         {
          "DIFF": 621865.2677752599,
          "Year": 2021
         },
         {
          "DIFF": 748448.7288637602,
          "Year": 2022
         },
         {
          "DIFF": 881144.0351579085,
          "Year": 2023
         },
         {
          "DIFF": 1019765.940333255,
          "Year": 2024
         },
         {
          "DIFF": 1164128.697739127,
          "Year": 2025
         },
         {
          "DIFF": 1314044.352273145,
          "Year": 2026
         },
         {
          "DIFF": 1469318.6407033484,
          "Year": 2027
         },
         {
          "DIFF": 1629749.9064823007,
          "Year": 2028
         },
         {
          "DIFF": 1795130.5930650367,
          "Year": 2029
         },
         {
          "DIFF": 1965257.623181222,
          "Year": 2030
         },
         {
          "DIFF": 2139917.686638892,
          "Year": 2031
         },
         {
          "DIFF": 2318906.5856174375,
          "Year": 2032
         },
         {
          "DIFF": 2502004.4982925956,
          "Year": 2033
         },
         {
          "DIFF": 2688990.388921761,
          "Year": 2034
         },
         {
          "DIFF": 2879705.9375406974,
          "Year": 2035
         },
         {
          "DIFF": 3073944.4766918123,
          "Year": 2036
         },
         {
          "DIFF": 3271493.292872598,
          "Year": 2037
         },
         {
          "DIFF": 3472192.45235912,
          "Year": 2038
         },
         {
          "DIFF": 3675834.0919735897,
          "Year": 2039
         },
         {
          "DIFF": 3882203.7984936573,
          "Year": 2040
         },
         {
          "DIFF": 4091108.5063192165,
          "Year": 2041
         },
         {
          "DIFF": 4302319.801342999,
          "Year": 2042
         },
         {
          "DIFF": 4515614.754441684,
          "Year": 2043
         },
         {
          "DIFF": 4730775.917109151,
          "Year": 2044
         },
         {
          "DIFF": 4947701.725644147,
          "Year": 2045
         },
         {
          "DIFF": 5166155.209014238,
          "Year": 2046
         },
         {
          "DIFF": 5385935.64585586,
          "Year": 2047
         },
         {
          "DIFF": 5606847.519935162,
          "Year": 2048
         },
         {
          "DIFF": 5828700.4247159865,
          "Year": 2049
         },
         {
          "DIFF": 6051308.899958968,
          "Year": 2050
         },
         {
          "DIFF": 6274498.676828413,
          "Year": 2051
         },
         {
          "DIFF": 6498102.441098244,
          "Year": 2052
         },
         {
          "DIFF": 6721963.045721959,
          "Year": 2053
         },
         {
          "DIFF": 6945935.718089151,
          "Year": 2054
         },
         {
          "DIFF": 7169739.963193833,
          "Year": 2055
         },
         {
          "DIFF": 7393462.6012737695,
          "Year": 2056
         },
         {
          "DIFF": 7616991.581837926,
          "Year": 2057
         },
         {
          "DIFF": 7840225.36282819,
          "Year": 2058
         },
         {
          "DIFF": 8063072.725517932,
          "Year": 2059
         },
         {
          "DIFF": 8285456.922637875,
          "Year": 2060
         },
         {
          "DIFF": 8507219.748543056,
          "Year": 2061
         },
         {
          "DIFF": 8728227.987192303,
          "Year": 2062
         },
         {
          "DIFF": 8948410.188486816,
          "Year": 2063
         },
         {
          "DIFF": 9167763.298095755,
          "Year": 2064
         },
         {
          "DIFF": 9386127.768283326,
          "Year": 2065
         },
         {
          "DIFF": 9603294.313664857,
          "Year": 2066
         },
         {
          "DIFF": 9819268.263073225,
          "Year": 2067
         },
         {
          "DIFF": 10033923.374237726,
          "Year": 2068
         },
         {
          "DIFF": 10247128.602715086,
          "Year": 2069
         },
         {
          "DIFF": 10458748.909491835,
          "Year": 2070
         },
         {
          "DIFF": 10668648.90181429,
          "Year": 2071
         },
         {
          "DIFF": 10876705.959378522,
          "Year": 2072
         },
         {
          "DIFF": 11082812.49376655,
          "Year": 2073
         },
         {
          "DIFF": 11286875.183953898,
          "Year": 2074
         },
         {
          "DIFF": 11488814.08100207,
          "Year": 2075
         },
         {
          "DIFF": 11688549.700768666,
          "Year": 2076
         },
         {
          "DIFF": 11886017.316513216,
          "Year": 2077
         },
         {
          "DIFF": 12081163.079402918,
          "Year": 2078
         },
         {
          "DIFF": 12273943.142670821,
          "Year": 2079
         },
         {
          "DIFF": 12464323.124499422,
          "Year": 2080
         },
         {
          "DIFF": 12652276.299664514,
          "Year": 2081
         },
         {
          "DIFF": 12837778.525961105,
          "Year": 2082
         },
         {
          "DIFF": 13020806.94589072,
          "Year": 2083
         },
         {
          "DIFF": 13201340.068257557,
          "Year": 2084
         },
         {
          "DIFF": 13379357.618344191,
          "Year": 2085
         },
         {
          "DIFF": 13554840.556032196,
          "Year": 2086
         },
         {
          "DIFF": 13727770.735560246,
          "Year": 2087
         },
         {
          "DIFF": 13898131.107478902,
          "Year": 2088
         },
         {
          "DIFF": 14065905.793392505,
          "Year": 2089
         },
         {
          "DIFF": 14231080.077134006,
          "Year": 2090
         },
         {
          "DIFF": 14393645.938687967,
          "Year": 2091
         },
         {
          "DIFF": 14553595.324227834,
          "Year": 2092
         },
         {
          "DIFF": 14710922.35721931,
          "Year": 2093
         },
         {
          "DIFF": 14865623.315135358,
          "Year": 2094
         },
         {
          "DIFF": 15017696.431532871,
          "Year": 2095
         },
         {
          "DIFF": 15167142.981260804,
          "Year": 2096
         },
         {
          "DIFF": 15313964.614283137,
          "Year": 2097
         },
         {
          "DIFF": 15458164.730622182,
          "Year": 2098
         },
         {
          "DIFF": 15599748.314838367,
          "Year": 2099
         },
         {
          "DIFF": 15738721.823933983,
          "Year": 2100
         }
        ]
       },
       "encoding": {
        "x": {
         "field": "Year",
         "type": "quantitative"
        },
        "y": {
         "field": "DIFF",
         "type": "quantitative"
        }
       },
       "mark": "line"
      },
      "image/png": "[encoded data removed]",
      "image/svg+xml": [
       "<?xml version=\"1.0\" encoding=\"utf-8\"?>\n",
       "<!DOCTYPE svg PUBLIC \"-//W3C//DTD SVG 1.1//EN\" \"http://www.w3.org/Graphics/SVG/1.1/DTD/svg11.dtd\">\n",
       "<svg xmlns=\"http://www.w3.org/2000/svg\" xmlns:xlink=\"http://www.w3.org/1999/xlink\" version=\"1.1\" class=\"marks\" width=\"280\" height=\"242\" viewBox=\"0 0 280 242\"><rect width=\"280\" height=\"242\" fill=\"white\"/><g fill=\"none\" stroke-miterlimit=\"10\" transform=\"translate(73,5)\"><g class=\"mark-group role-frame root\" role=\"graphics-object\" aria-roledescription=\"group mark container\"><g transform=\"translate(0,0)\"><path class=\"background\" aria-hidden=\"true\" d=\"M0.5,0.5h200v200h-200Z\" stroke=\"#ddd\"/><g><g class=\"mark-group role-axis\" aria-hidden=\"true\"><g transform=\"translate(0.5,200.5)\"><path class=\"background\" aria-hidden=\"true\" d=\"M0,0h0v0h0Z\" pointer-events=\"none\"/><g><g class=\"mark-rule role-axis-grid\" pointer-events=\"none\"><line transform=\"translate(22,-200)\" x2=\"0\" y2=\"200\" stroke=\"#ddd\" stroke-width=\"1\" opacity=\"1\"/><line transform=\"translate(67,-200)\" x2=\"0\" y2=\"200\" stroke=\"#ddd\" stroke-width=\"1\" opacity=\"1\"/><line transform=\"translate(111,-200)\" x2=\"0\" y2=\"200\" stroke=\"#ddd\" stroke-width=\"1\" opacity=\"1\"/><line transform=\"translate(156,-200)\" x2=\"0\" y2=\"200\" stroke=\"#ddd\" stroke-width=\"1\" opacity=\"1\"/><line transform=\"translate(200,-200)\" x2=\"0\" y2=\"200\" stroke=\"#ddd\" stroke-width=\"1\" opacity=\"1\"/></g></g><path class=\"foreground\" aria-hidden=\"true\" d=\"\" pointer-events=\"none\" display=\"none\"/></g></g><g class=\"mark-group role-axis\" aria-hidden=\"true\"><g transform=\"translate(0.5,0.5)\"><path class=\"background\" aria-hidden=\"true\" d=\"M0,0h0v0h0Z\" pointer-events=\"none\"/><g><g class=\"mark-rule role-axis-grid\" pointer-events=\"none\"><line transform=\"translate(0,200)\" x2=\"200\" y2=\"0\" stroke=\"#ddd\" stroke-width=\"1\" opacity=\"1\"/><line transform=\"translate(0,138)\" x2=\"200\" y2=\"0\" stroke=\"#ddd\" stroke-width=\"1\" opacity=\"1\"/><line transform=\"translate(0,75)\" x2=\"200\" y2=\"0\" stroke=\"#ddd\" stroke-width=\"1\" opacity=\"1\"/><line transform=\"translate(0,13)\" x2=\"200\" y2=\"0\" stroke=\"#ddd\" stroke-width=\"1\" opacity=\"1\"/></g></g><path class=\"foreground\" aria-hidden=\"true\" d=\"\" pointer-events=\"none\" display=\"none\"/></g></g><g class=\"mark-group role-axis\" role=\"graphics-symbol\" aria-roledescription=\"axis\" aria-label=\"X-axis titled 'Year' for a linear scale with values from 2,010 to 2,100\"><g transform=\"translate(0.5,200.5)\"><path class=\"background\" aria-hidden=\"true\" d=\"M0,0h0v0h0Z\" pointer-events=\"none\"/><g><g class=\"mark-rule role-axis-tick\" pointer-events=\"none\"><line transform=\"translate(22,0)\" x2=\"0\" y2=\"5\" stroke=\"#888\" stroke-width=\"1\" opacity=\"1\"/><line transform=\"translate(67,0)\" x2=\"0\" y2=\"5\" stroke=\"#888\" stroke-width=\"1\" opacity=\"1\"/><line transform=\"translate(111,0)\" x2=\"0\" y2=\"5\" stroke=\"#888\" stroke-width=\"1\" opacity=\"1\"/><line transform=\"translate(156,0)\" x2=\"0\" y2=\"5\" stroke=\"#888\" stroke-width=\"1\" opacity=\"1\"/><line transform=\"translate(200,0)\" x2=\"0\" y2=\"5\" stroke=\"#888\" stroke-width=\"1\" opacity=\"1\"/></g><g class=\"mark-text role-axis-label\" pointer-events=\"none\"><text text-anchor=\"middle\" transform=\"translate(22.22222222222222,15)\" font-family=\"sans-serif\" font-size=\"10px\" fill=\"#000\" opacity=\"1\">2,020</text><text text-anchor=\"middle\" transform=\"translate(66.66666666666666,15)\" font-family=\"sans-serif\" font-size=\"10px\" fill=\"#000\" opacity=\"1\">2,040</text><text text-anchor=\"middle\" transform=\"translate(111.11111111111111,15)\" font-family=\"sans-serif\" font-size=\"10px\" fill=\"#000\" opacity=\"1\">2,060</text><text text-anchor=\"middle\" transform=\"translate(155.55555555555557,15)\" font-family=\"sans-serif\" font-size=\"10px\" fill=\"#000\" opacity=\"1\">2,080</text><text text-anchor=\"end\" transform=\"translate(200,15)\" font-family=\"sans-serif\" font-size=\"10px\" fill=\"#000\" opacity=\"1\">2,100</text></g><g class=\"mark-rule role-axis-domain\" pointer-events=\"none\"><line transform=\"translate(0,0)\" x2=\"200\" y2=\"0\" stroke=\"#888\" stroke-width=\"1\" opacity=\"1\"/></g><g class=\"mark-text role-axis-title\" pointer-events=\"none\"><text text-anchor=\"middle\" transform=\"translate(100,30)\" font-family=\"sans-serif\" font-size=\"11px\" font-weight=\"bold\" fill=\"#000\" opacity=\"1\">Year</text></g></g><path class=\"foreground\" aria-hidden=\"true\" d=\"\" pointer-events=\"none\" display=\"none\"/></g></g><g class=\"mark-group role-axis\" role=\"graphics-symbol\" aria-roledescription=\"axis\" aria-label=\"Y-axis titled 'DIFF' for a linear scale with values from 0 to 16,000,000\"><g transform=\"translate(0.5,0.5)\"><path class=\"background\" aria-hidden=\"true\" d=\"M0,0h0v0h0Z\" pointer-events=\"none\"/><g><g class=\"mark-rule role-axis-tick\" pointer-events=\"none\"><line transform=\"translate(0,200)\" x2=\"-5\" y2=\"0\" stroke=\"#888\" stroke-width=\"1\" opacity=\"1\"/><line transform=\"translate(0,138)\" x2=\"-5\" y2=\"0\" stroke=\"#888\" stroke-width=\"1\" opacity=\"1\"/><line transform=\"translate(0,75)\" x2=\"-5\" y2=\"0\" stroke=\"#888\" stroke-width=\"1\" opacity=\"1\"/><line transform=\"translate(0,13)\" x2=\"-5\" y2=\"0\" stroke=\"#888\" stroke-width=\"1\" opacity=\"1\"/></g><g class=\"mark-text role-axis-label\" pointer-events=\"none\"><text text-anchor=\"end\" transform=\"translate(-7,203)\" font-family=\"sans-serif\" font-size=\"10px\" fill=\"#000\" opacity=\"1\">0</text><text text-anchor=\"end\" transform=\"translate(-7,140.5)\" font-family=\"sans-serif\" font-size=\"10px\" fill=\"#000\" opacity=\"1\">5,000,000</text><text text-anchor=\"end\" transform=\"translate(-7,78)\" font-family=\"sans-serif\" font-size=\"10px\" fill=\"#000\" opacity=\"1\">10,000,000</text><text text-anchor=\"end\" transform=\"translate(-7,15.5)\" font-family=\"sans-serif\" font-size=\"10px\" fill=\"#000\" opacity=\"1\">15,000,000</text></g><g class=\"mark-rule role-axis-domain\" pointer-events=\"none\"><line transform=\"translate(0,200)\" x2=\"0\" y2=\"-200\" stroke=\"#888\" stroke-width=\"1\" opacity=\"1\"/></g><g class=\"mark-text role-axis-title\" pointer-events=\"none\"><text text-anchor=\"middle\" transform=\"translate(-57,100) rotate(-90) translate(0,-2)\" font-family=\"sans-serif\" font-size=\"11px\" font-weight=\"bold\" fill=\"#000\" opacity=\"1\">DIFF</text></g></g><path class=\"foreground\" aria-hidden=\"true\" d=\"\" pointer-events=\"none\" display=\"none\"/></g></g><g class=\"mark-line role-mark marks\" role=\"graphics-object\" aria-roledescription=\"line mark container\"><path aria-label=\"Year: 2015; DIFF: 0\" role=\"graphics-symbol\" aria-roledescription=\"line mark\" d=\"M11.11111111111111,200L13.333333333333334,198.9186699015724L15.555555555555555,197.74934899357177L17.77777777777778,196.49366352747225L20,195.15337845405136L22.22222222222222,193.730383652731L24.444444444444443,192.22668415280927L26.666666666666668,190.644390889203L28.888888888888886,188.98569956052614L31.11111111111111,187.25292574583432L33.33333333333333,185.4483912782609L35.55555555555556,183.5744455965857L37.77777777777778,181.63351699120813L40,179.62812616897125L42.22222222222222,177.56086758668704L44.44444444444444,175.43427971023473L46.666666666666664,173.25102891701385L48.888888888888886,171.01366767978203L51.11111111111111,168.72494377134254L53.333333333333336,166.38762013847798L55.55555555555556,164.00367578074128L57.77777777777777,161.57569404135234L60,159.1063338390925L62.22222222222222,156.597594345511L64.44444444444444,154.05207385033012L66.66666666666666,151.47245251882927L68.88888888888889,148.8611436710098L71.11111111111111,146.22100248321252L73.33333333333333,143.55481556947893L75.55555555555556,140.8653010361356L77.77777777777779,138.15372842944817L80,135.423059887322L82.22222222222221,132.67580442680176L84.44444444444444,129.9144060008105L86.66666666666667,127.14124469105018L88.88888888888889,124.3586387505129L91.11111111111111,121.56876653964484L93.33333333333333,118.77371948627196L95.55555555555556,115.9754619284755L97.77777777777777,113.1758035238856L100,110.37825046007708L102.22222222222221,107.58171748407787L104.44444444444446,104.78760522702592L106.66666666666667,101.99718296464762L108.88888888888889,99.21159093102585L111.11111111111111,96.43178846702656L113.33333333333333,93.6597531432118L115.55555555555554,90.8971501600962L117.77777777777779,88.1448726439148L120,85.40295877380306L122.22222222222223,82.67340289645841L124.44444444444444,79.95882107918928L126.66666666666666,77.25914671158469L128.88888888888889,74.57595782202844L131.11111111111111,71.91089246606141L133.33333333333331,69.26563863135206L135.55555555555557,66.64188872732137L137.77777777777777,64.04117550776847L140,61.46484382791812L142.22222222222223,58.91406020057628L144.44444444444443,56.38982398747412L146.66666666666666,53.893128740391674L148.88888888888889,51.424783543584795L151.11111111111111,48.985461507463526L153.33333333333334,46.57571071661473L155.55555555555557,44.19596094375724L157.77777777777777,41.84654625419357L160,39.5277684254862L162.22222222222223,37.23991317636602L164.44444444444443,34.98324914678052L166.66666666666669,32.75802977069762L168.88888888888889,30.564493049597562L171.11111111111111,28.402865805496937L173.33333333333334,26.27336115651373L175.55555555555554,24.176177582593674L177.77777777777777,22.11149903582492L180,20.079425766400405L182.22222222222223,18.08005844715208L184.44444444444446,16.113470534758623L186.66666666666666,14.179708560808034L188.88888888888889,12.278794605839117L191.11111111111111,10.410712734239947L193.33333333333334,8.575442321460791L195.55555555555554,6.772940867222732L197.77777777777777,5.003146064520414L200,3.265977200825221\" stroke=\"#4c78a8\" stroke-width=\"2\"/></g></g><path class=\"foreground\" aria-hidden=\"true\" d=\"\" display=\"none\"/></g></g></g></svg>\n"
      ],
      "text/plain": [
       "@vlplot(\n",
       "    mark=\"line\",\n",
       "    encoding={\n",
       "        x={\n",
       "            field=\"Year\"\n",
       "        },\n",
       "        y={\n",
       "            field=\"DIFF\"\n",
       "        }\n",
       "    },\n",
       "    data={\n",
       "        values=...\n",
       "    }\n",
       ")"
      ]
     },
     "execution_count": 27,
     "metadata": {},
     "output_type": "execute_result"
    }
   ],
   "source": [
    "# difference between fundfair and fund in cumulative emissions since the graph above masks it out due \n",
    "# to scale\n",
    "\n",
    "diffs = fundfairvals .- fundvals\n",
    "DataFrame(:Year => Mimi.time_labels(m), :DIFF => diffs) |>\n",
    "@vlplot(\n",
    "    :line, \n",
    "    x = :Year,\n",
    "    y = :DIFF,\n",
    ")"
   ]
  },
  {
   "cell_type": "code",
   "execution_count": 28,
   "metadata": {},
   "outputs": [
    {
     "data": {
      "text/plain": [
       "21-element Vector{Union{Missing, Float64}}:\n",
       " 513538.35553196503\n",
       " 636412.9193409397\n",
       " 765647.3792695864\n",
       " 901071.9358249574\n",
       "      1.0425080365045022e6\n",
       "      1.1897727774051116e6\n",
       "      1.3426782014640316e6\n",
       "      1.5010346957427496e6\n",
       "      1.6646455681208181e6\n",
       "      1.8333085679473432e6\n",
       "      2.0068262954914104e6\n",
       "      2.184991523094081e6\n",
       "      2.367606577343716e6\n",
       "      2.554458643525e6\n",
       "      2.74533422092643e6\n",
       "      2.9400204639689536e6\n",
       "      3.138305711853989e6\n",
       "      3.33998027451566e6\n",
       "      3.544887396376139e6\n",
       "      3.752822556234364e6\n",
       "      3.963574856388768e6"
      ]
     },
     "execution_count": 28,
     "metadata": {},
     "output_type": "execute_result"
    }
   ],
   "source": [
    "# cumulative emissions value in 2020 - 2040\n",
    "idxStart = findfirst(x -> x == 2020, Mimi.time_labels(m))\n",
    "idxEnd = findfirst(x -> x == 2040, Mimi.time_labels(m))\n",
    "fundfairvals[idxStart:idxEnd]"
   ]
  },
  {
   "cell_type": "code",
   "execution_count": null,
   "metadata": {},
   "outputs": [],
   "source": []
  }
 ],
 "metadata": {
  "kernelspec": {
   "display_name": "Julia 1.8.1",
   "language": "julia",
   "name": "julia-1.8"
  },
  "language_info": {
   "file_extension": ".jl",
   "mimetype": "application/julia",
   "name": "julia",
   "version": "1.8.1"
  }
 },
 "nbformat": 4,
 "nbformat_minor": 4
}
