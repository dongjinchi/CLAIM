{
 "cells": [
  {
   "cell_type": "markdown",
   "metadata": {},
   "source": [
    "## Implementation of MimiFAIR162-MimiFUND"
   ]
  },
  {
   "cell_type": "markdown",
   "metadata": {},
   "source": [
    "This notebook implements a coupling of the MimiFAIR model and the MimiFUND model. At a high-level, the goal here is to use the MimiFAIR model as the climate module, and the MimiFUND model as the socioeconomic and damages modules, although in this case we still allow MimiFUND's climate module to take care of the modeling of non-CO₂ gases like methane.  \n",
    "\n",
    "This is meant to be an instructional example for the use-case of Mimi where a user wishes to couple together existing models.\n",
    "\n",
    "Resources for further inquiries include:\n",
    "\n",
    "- The Mimi framework [website](https://www.mimiframework.org)\n",
    "- The Mimi [forum](https://forum.mimiframework.org) for technical and Mimi-related questions\n",
    "- The model-specific repositories, [MimiFUND](https://github.com/fund-model/MimiFUND.jl) and [MimiFAIR](https://github.com/anthofflab/mimi-fair.jl/) for model-specific inquiries\n",
    "\n",
    "If you wish to follow alone, feel free to download or clone the Github repository, or create a new project on your own machine. If you are new to Mimi, you will probably want to start with our basic Mimi installation process as described in our documentation [here](https://www.mimiframework.org/Mimi.jl/stable/tutorials/tutorial_1/#Tutorial-1:-Install-Mimi-1)."
   ]
  },
  {
   "cell_type": "markdown",
   "metadata": {},
   "source": [
    "### Set up the Environment"
   ]
  },
  {
   "cell_type": "markdown",
   "metadata": {},
   "source": [
    "The first step is to set up the environment with the required packages and versions for this exercise as indicated in the `Manifest.toml` and `Project.toml` files. As you can see from the call to `Pkg.status()`, this work requires a few packages including the `master` branch of `Mimi`, the default (latest tagged) versions of `MimiFAIR` and `MimiFUND` model implementations, and some supporting packages `CSVFiles`, `DataFrames`, and `Vegalite`."
   ]
  },
  {
   "cell_type": "code",
   "execution_count": 1,
   "metadata": {},
   "outputs": [],
   "source": [
    "#using Pkg\n",
    "#Pkg.activate(@__DIR__)\n",
    "#Pkg.status()"
   ]
  },
  {
   "cell_type": "markdown",
   "metadata": {},
   "source": [
    "Note that if you are following along on your own machine without downloading this repository, you can recreate this environment by adding each of the packages listed above with `Pkg.add()`, or using the `Pkg` REPL entered with `]`."
   ]
  },
  {
   "cell_type": "code",
   "execution_count": 2,
   "metadata": {},
   "outputs": [],
   "source": [
    "# using Pkg\n",
    "# Pkg.add(\"CSVFiles\")\n",
    "# Pkg.add(\"DataFrames\")\n",
    "# Pkg.add(\"Mimi\")\n",
    "#Pkg.add(\"MimiFAIR\")\n",
    "#Pkg.add(\"MimiFAIRv1_6_2\")\n",
    "# Pkg.add(\"MimiFUND\")\n",
    "# Pkg.add(\"VegaLite\")\n",
    "\n",
    "# Pkg.status()"
   ]
  },
  {
   "cell_type": "markdown",
   "metadata": {},
   "source": [
    "Next we load the packages whose APIs we will be directly using as well as set some constants to be used in the script."
   ]
  },
  {
   "cell_type": "code",
   "execution_count": 3,
   "metadata": {},
   "outputs": [],
   "source": [
    "using MimiFAIRv1_6_2\n",
    "using Mimi"
   ]
  },
  {
   "cell_type": "markdown",
   "metadata": {},
   "source": [
    "### Load Helpers and Set Constants"
   ]
  },
  {
   "cell_type": "markdown",
   "metadata": {},
   "source": [
    "We will now load some helper functions and set some constants, most of which have to do with the difference in time dimensions between FAIR and FUND, which will drive much of our coupling work.\n",
    "\n",
    "\n",
    "The `helper.jl` file defines the `update_MimiFAIR_params!` function with the following signature.  This is copied directly from the source code of `MimiFAIR.jl` and takes care of the calls to `update_param!`, `add_shared_param!`, and `connect_param!` that build up the stand alone MimiFAIR model.\n",
    "\n",
    "\n",
    "```\n",
    "function update_MimiFAIR_params!(m; rcp_scenario::String=\"RCP85\", start_year::Int=1765, end_year::Int=2500, F2x::Float64=3.71, TCR::Float64=1.6, ECS::Float64=2.75, d::Array{Float64,1}=[239.0, 4.1])\n",
    "```\n",
    "\n",
    "In the future we can likely shorten this function by adding `default` values to the scalar parameters of FAIR."
   ]
  },
  {
   "cell_type": "code",
   "execution_count": 4,
   "metadata": {},
   "outputs": [
    {
     "data": {
      "text/plain": [
       "Main.FUNDprovince"
      ]
     },
     "execution_count": 4,
     "metadata": {},
     "output_type": "execute_result"
    }
   ],
   "source": [
    "include(\"src/helper.jl\");\n",
    "include(\"E:/10Julia/02FUND-Province-julia/src/FUND-province-julia.jl\")"
   ]
  },
  {
   "cell_type": "code",
   "execution_count": 5,
   "metadata": {},
   "outputs": [
    {
     "data": {
      "text/plain": [
       "86"
      ]
     },
     "execution_count": 5,
     "metadata": {},
     "output_type": "execute_result"
    }
   ],
   "source": [
    "# set some constants\n",
    "ar6_scenario = \"ssp585\"\n",
    "\n",
    "FAIR_first = 2015\n",
    "FAIR_last = 2100\n",
    "FAIR_len = length(FAIR_first:FAIR_last)\n",
    "\n",
    "FUND_first = 2015\n",
    "FUND_last = 2100\n",
    "FUND_len = length(FUND_first:FUND_last)"
   ]
  },
  {
   "cell_type": "markdown",
   "metadata": {},
   "source": [
    "### Load Independent (Default) FUND and FAIR Models"
   ]
  },
  {
   "cell_type": "markdown",
   "metadata": {},
   "source": [
    "We begin with the default FUND model as implemented in `MimiFUND.jl`."
   ]
  },
  {
   "cell_type": "code",
   "execution_count": 6,
   "metadata": {},
   "outputs": [
    {
     "name": "stdout",
     "output_type": "stream",
     "text": [
      ":emissions:impactaggregation:scenariouncertainty:climatedynamics:climateco2cycle:emissions:scenariouncertainty:climateregional:climateco2cycle:emissions:climatedynamics:population:climateco2cycle:climateco2cycle:climatedynamics:climateco2cycle:scenariouncertainty:socioeconomic:scenariouncertainty"
     ]
    },
    {
     "data": {
      "text/plain": [
       "Mimi.Model\n",
       "  Module: Mimi\n",
       "  Components:\n",
       "    ComponentId(Main.FUNDprovince.scenariouncertainty)\n",
       "    ComponentId(Main.FUNDprovince.population)\n",
       "    ComponentId(Main.FUNDprovince.socioeconomic)\n",
       "    ComponentId(Main.FUNDprovince.emissions)\n",
       "    ComponentId(Main.FUNDprovince.climateco2cycle)\n",
       "    ComponentId(Main.FUNDprovince.climateforcing)\n",
       "    ComponentId(Main.FUNDprovince.climatedynamics)\n",
       "    ComponentId(Main.FUNDprovince.climateregional)\n",
       "    ComponentId(Main.FUNDprovince.impactaggregation)\n",
       "  Built: false\n"
      ]
     },
     "execution_count": 6,
     "metadata": {},
     "output_type": "execute_result"
    }
   ],
   "source": [
    "using DelimitedFiles\n",
    "regionsdata = readdlm(\"E:/10Julia/02FUND-Province-julia/data/regions.csv\", ',',String)\n",
    "regions =regionsdata[2:end, 1]\n",
    "default_datadir = joinpath(\"E:/10Julia/02FUND-Province-julia\", \"data\")\n",
    "default_params = nothing\n",
    "m = FUNDprovince.get_model(syear=2015, nsteps = 85, regions = regions, datadir = default_datadir, params = default_params)"
   ]
  },
  {
   "cell_type": "markdown",
   "metadata": {},
   "source": [
    "### Add and Update Dimensions"
   ]
  },
  {
   "cell_type": "markdown",
   "metadata": {},
   "source": [
    "The first step in building out our coupled model, starting with our default FUND model, is to handle dimensions. Currently the model `m` has two dimensions, `time` and `regions`. "
   ]
  },
  {
   "cell_type": "code",
   "execution_count": 7,
   "metadata": {},
   "outputs": [
    {
     "data": {
      "text/plain": [
       "OrderedCollections.OrderedDict{Symbol, Union{Nothing, Mimi.Dimension}} with 3 entries:\n",
       "  :time       => [2015, 2016, 2017, 2018, 2019, 2020, 2021, 2022, 2023, 2024  ……\n",
       "  :regions    => [\"4\", \"12\", \"20\", \"24\", \"28\", \"31\", \"44\", \"48\", \"51\", \"52\"  … …\n",
       "  Symbol(\"5\") => [1, 2, 3, 4, 5]"
      ]
     },
     "execution_count": 7,
     "metadata": {},
     "output_type": "execute_result"
    }
   ],
   "source": [
    "m.md.dim_dict # display the dimensions of the default FUND model"
   ]
  },
  {
   "cell_type": "markdown",
   "metadata": {},
   "source": [
    "We now add two new dimensions to our model `m` that are used by FAIR."
   ]
  },
  {
   "cell_type": "code",
   "execution_count": 8,
   "metadata": {},
   "outputs": [
    {
     "data": {
      "text/plain": [
       "OrderedCollections.OrderedDict{Symbol, Union{Nothing, Mimi.Dimension}} with 5 entries:\n",
       "  :time                       => [2015, 2016, 2017, 2018, 2019, 2020, 2021, 202…\n",
       "  :regions                    => [\"4\", \"12\", \"20\", \"24\", \"28\", \"31\", \"44\", \"48\"…\n",
       "  Symbol(\"5\")                 => [1, 2, 3, 4, 5]\n",
       "  :other_ghg                  => [\"CF4\", \"C2F6\", \"C6F14\", \"HFC23\", \"HFC32\", \"HF…\n",
       "  :ozone_depleting_substances => [\"CFC_11\", \"CFC_12\", \"CFC_113\", \"CFC_114\", \"CF…"
      ]
     },
     "execution_count": 8,
     "metadata": {},
     "output_type": "execute_result"
    }
   ],
   "source": [
    "# add new dimensions relevant to FAIR (1) minor greenhouse gases and \n",
    "# (2) ozone-depleting substances\n",
    "other_ghg_names = [\"CF4\", \"C2F6\", \"C6F14\", \"HFC23\", \"HFC32\", \"HFC43_10\", \"HFC125\", \"HFC134a\", \"HFC143a\", \"HFC227ea\", \"HFC245fa\", \"SF6\"]\n",
    "ods_names       = [\"CFC_11\", \"CFC_12\", \"CFC_113\", \"CFC_114\", \"CFC_115\", \"CARB_TET\", \"MCF\", \"HCFC_22\", \"HCFC_141B\", \"HCFC_142B\", \"HALON1211\", \"HALON1202\", \"HALON1301\", \"HALON2402\", \"CH3BR\", \"CH3CL\"]\n",
    "\n",
    "set_dimension!(m, :other_ghg, other_ghg_names) # FAIR dims - Set index for Kyoto and ozone ozone-depleting gases.\n",
    "set_dimension!(m, :ozone_depleting_substances, ods_names) # FAIR dims - Set index for Kyoto and ozone ozone-depleting gases.\n",
    "\n",
    "m.md.dim_dict  # display the (augmented) dimensions of the default FUND model's Model Definition"
   ]
  },
  {
   "cell_type": "markdown",
   "metadata": {},
   "source": [
    "The final dimensions-related step is to expand the time dimension of the model.  At this stage, our model runs on FUND's default time dimension 1950 to 3000 (`FUND_first` to `FUND_last`).  FAIR, however, runs from 1765 to 2500 (`FAIR_first` to `FAIR_last`) so we are going to set our model to run from 1765 to 2500.\n",
    "\n",
    "FUND will not start running until 1950, and will not produce an `emissions` value until 1951, so up until 1951 FAIR will use `backup` values pulled from default FUND as we will describe in detail below.\n",
    "\n",
    "**For further details on the effects and restrictions around updating the `time` dimension of a model see the documentation [here](https://www.mimiframework.org/Mimi.jl/dev/howto/howto_5/).**"
   ]
  },
  {
   "cell_type": "code",
   "execution_count": 9,
   "metadata": {},
   "outputs": [
    {
     "data": {
      "text/plain": [
       "OrderedCollections.OrderedDict{Symbol, Union{Nothing, Mimi.Dimension}} with 5 entries:\n",
       "  :time                       => [2015, 2016, 2017, 2018, 2019, 2020, 2021, 202…\n",
       "  :regions                    => [\"4\", \"12\", \"20\", \"24\", \"28\", \"31\", \"44\", \"48\"…\n",
       "  Symbol(\"5\")                 => [1, 2, 3, 4, 5]\n",
       "  :other_ghg                  => [\"CF4\", \"C2F6\", \"C6F14\", \"HFC23\", \"HFC32\", \"HF…\n",
       "  :ozone_depleting_substances => [\"CFC_11\", \"CFC_12\", \"CFC_113\", \"CFC_114\", \"CF…"
      ]
     },
     "execution_count": 9,
     "metadata": {},
     "output_type": "execute_result"
    }
   ],
   "source": [
    "set_dimension!(m, :time, collect(FAIR_first:FUND_last))\n",
    "\n",
    "m.md.dim_dict # display the (udpated) dimensions of the model"
   ]
  },
  {
   "cell_type": "markdown",
   "metadata": {},
   "source": [
    "### Augment FUND with FAIR Components"
   ]
  },
  {
   "cell_type": "markdown",
   "metadata": {},
   "source": [
    "We now add the FAIR components to our model.  We place them in a contiguous block starting after the FUND `emissions` component, which will feed results into the FAIR components before FAIR feeds back into FUND from its `temperature` component.\n",
    "\n",
    "Also note that since we have updated the time dimension to run from `FAIR_first` to `FAIR_last`, or 1765 to 2500, each of these new components will be set to run from 1765 to 2500, the full model time period, by default."
   ]
  },
  {
   "cell_type": "code",
   "execution_count": 10,
   "metadata": {},
   "outputs": [],
   "source": [
    "add_comp!(m, MimiFAIRv1_6_2.ch4_cycle; after = :emissions);\n",
    "add_comp!(m, MimiFAIRv1_6_2.n2o_cycle; after = :ch4_cycle);\n",
    "add_comp!(m, MimiFAIRv1_6_2.co2_cycle; after = :n2o_cycle);\n",
    "add_comp!(m, MimiFAIRv1_6_2.other_ghg_cycles; after = :co2_cycle);\n",
    "add_comp!(m, MimiFAIRv1_6_2.o3_depleting_substance_cycles; after = :other_ghg_cycles);\n",
    "add_comp!(m, MimiFAIRv1_6_2.co2_forcing; after = :o3_depleting_substance_cycles);\n",
    "add_comp!(m, MimiFAIRv1_6_2.ch4_forcing; after = :co2_forcing);\n",
    "add_comp!(m, MimiFAIRv1_6_2.n2o_forcing; after = :ch4_forcing);\n",
    "add_comp!(m, MimiFAIRv1_6_2.o3_forcing; after = :n2o_forcing);\n",
    "add_comp!(m, MimiFAIRv1_6_2.aerosol_direct_forcing; after = :o3_forcing);\n",
    "add_comp!(m, MimiFAIRv1_6_2.aerosol_indirect_forcing; after = :aerosol_direct_forcing);\n",
    "add_comp!(m, MimiFAIRv1_6_2.other_ghg_forcing; after = :aerosol_indirect_forcing);\n",
    "add_comp!(m, MimiFAIRv1_6_2.o3_depleting_substance_forcing; after = :other_ghg_forcing);\n",
    "add_comp!(m, MimiFAIRv1_6_2.contrails_forcing; after = :o3_depleting_substance_forcing);\n",
    "add_comp!(m, MimiFAIRv1_6_2.bc_snow_forcing; after = :contrails_forcing);\n",
    "add_comp!(m, MimiFAIRv1_6_2.landuse_forcing; after = :bc_snow_forcing);\n",
    "add_comp!(m, MimiFAIRv1_6_2.total_forcing; after = :landuse_forcing);\n",
    "add_comp!(m, MimiFAIRv1_6_2.temperature; after = :total_forcing);"
   ]
  },
  {
   "cell_type": "markdown",
   "metadata": {},
   "source": [
    "Next we run our helper function to update all the FAIR component parameters and make their internal connections, such that we have added  a fully functional and runnable FAIR model into our FUND model.\n"
   ]
  },
  {
   "cell_type": "code",
   "execution_count": null,
   "metadata": {},
   "outputs": [],
   "source": [
    "update_MimiFAIR162_params!(m; start_year = FAIR_first, end_year = FAIR_last, ar6_scenario = ar6_scenario)"
   ]
  },
  {
   "cell_type": "markdown",
   "metadata": {},
   "source": [
    "At this point the model `m` is runnable (and in fact none of the steps in this notebook thus far have made an invalid, unrunnable model), but currently `m` will run FUND and FAIR in their default modes and completely disconnected.  The next section describes the steps to couple them together."
   ]
  },
  {
   "cell_type": "markdown",
   "metadata": {},
   "source": [
    "### Couple FUND and FAIR"
   ]
  },
  {
   "cell_type": "markdown",
   "metadata": {},
   "source": [
    "#### FUND Emissions --> Convert Mtons to Gtons --> FAIR CO₂ Cycle"
   ]
  },
  {
   "cell_type": "markdown",
   "metadata": {},
   "source": [
    "We want to connect the FUND `emissions` component's `mco2` variable the FAIR `co2_cycle` component's `E_CO₂` parameter.  In the stand-alone version of FAIR, the `E_CO₂` is exogenously forced by the summation of all `CO₂` sources, as shown in it's source code (and the `helper.jl` file):\n",
    "\n",
    "```\n",
    "rcp_emissions, volcano_forcing, solar_forcing, gas_data, gas_fractions, conversions = MimiFAIR.load_fair_data(start_year, end_year, rcp_scenario)\n",
    "\n",
    "update_param!(m, :co2_cycle, :E_CO₂, rcp_emissions.FossilCO2 .+ rcp_emissions.OtherCO2)\n",
    "```"
   ]
  },
  {
   "cell_type": "markdown",
   "metadata": {},
   "source": [
    "First we need to add a `multiplier` component between FUND's `emissions` component and the FAIR components because FUND outputs Mtons of C but FAIR expects Gtons of C. **Note that these models expect C instead of CO₂, which is endogenous to the model so we must align with those**.\n",
    "\n",
    "Mimi has a few built in components for this type of situation, including `Mimi.multiplier`, as decribed [here](https://www.mimiframework.org/Mimi.jl/stable/tutorials/tutorial_3/#Component-and-Structural-Modifications:-The-API-1).  \n",
    "\n",
    "This small component just needs a connected `input` parameter and a `multiply` parameter to produce an `output` variable. In this case, we connect the `multiplier` component's `input` parameter to the `emissions` component's `mco2` variable and set `multiply` parameter to our unit conversion value of 1/1000. We also set the `multiplier` component to run only while FUND runs by setting `first = FUND_first` and `last = FUND_last`."
   ]
  },
  {
   "cell_type": "code",
   "execution_count": null,
   "metadata": {},
   "outputs": [],
   "source": [
    "add_comp!(m, Mimi.multiplier; after = :emissions, first = FUND_first, last = FUND_last);\n",
    "set_param!(m, :multiplier, :multiply, fill(1/1000, FAIR_len)) # convert Mtons C coming out of FUND to Gtons C going into FAIR\n",
    "connect_param!(m, :multiplier, :input, :emissions, :mco2)"
   ]
  },
  {
   "cell_type": "markdown",
   "metadata": {},
   "source": [
    "Now that we have taken care of unit conversion, we can connect the FAIR `co2_cycle` component's `E_CO₂` parameter to the `multiplier` component's `output` variable.  A few notes on the arguments having to do with backup data are:\n",
    "\n",
    "- Since FAIR runs from 1765 to 1950, but FUND (and the multiplier) only runs from 1950 to 2500, we need to include backup data `FAIR_CO₂_backup` for FAIR to use until FUND can provide a value.  We use the same data that previously exogenously forced FAIR.\n",
    "\n",
    "\n",
    "- We also need to include the `backup_offset` optional argument for the `connect_param!` function, because FUND does not actually produce a value for `mco2` until it's *second* timestep, or in this case 1951, and thus we set `backup_offset = 1`."
   ]
  },
  {
   "cell_type": "code",
   "execution_count": null,
   "metadata": {},
   "outputs": [],
   "source": [
    "# destination: FAIR component :co2_cycle parameter :E_CO₂\n",
    "# previous source: exogenous parameter\n",
    "# new source: FUND :emissions variable :mco2 (which first runs through the multiplier component)\n",
    "\n",
    "# Subset AR6 emissions to proper years.\n",
    "ar6_emissions_raw = DataFrame(load(joinpath(@__DIR__, \"data\", \"model_data\", \"AR6_emissions_\"*ar6_scenario*\"_1750_2300.csv\")))\n",
    "emission_indices = indexin(collect(FAIR_first:FAIR_last), ar6_emissions_raw.Year)\n",
    "ar6_emissions = ar6_emissions_raw[emission_indices, :]\n",
    "\n",
    "FAIR_CO₂_backup = (ar6_emissions.FossilCO2 .+ ar6_emissions.OtherCO2)\n",
    "connect_param!(m, :co2_cycle, :E_co2, :multiplier, :output, FAIR_CO₂_backup, backup_offset = 1)"
   ]
  },
  {
   "cell_type": "markdown",
   "metadata": {},
   "source": [
    "A note here is that FAIR v1.6.2 splits land use CO2 emissions and fossil CO2 emissions, and feeds their sum into the `co2_cycle`, but just the land use emissions into the `landuse_forcing` component in MimiFAIRv1_6_2. Given FUND does not explicilty provide the land use emissions (AFOLU), we do not modify the latter connection, and thus FAIR will run with its default land use emissions for the `landuse_forcing` component."
   ]
  },
  {
   "cell_type": "markdown",
   "metadata": {},
   "source": [
    "#### FAIR Temperature --> FUND CO₂ Cycle, Biodiversity, Ocean and Regional Climate Components"
   ]
  },
  {
   "cell_type": "markdown",
   "metadata": {},
   "source": [
    "Now we want to connect FAIR's output temperature variable `T` from component `temperature` back into FUND, both to the `temp` parameter of the `climateco2cycle`, `biodiversity`, and `ocean` components and into the `inputtemp` parameter of the `climateregional` component."
   ]
  },
  {
   "cell_type": "code",
   "execution_count": null,
   "metadata": {},
   "outputs": [],
   "source": [
    "# destination: FUND components :climateco2cycle, :biodiversity, :ocean --> parameter :temp\n",
    "# previous source: FUND component :climatedynamics --> variable :temp\n",
    "# new source: FAIR :temperature --> variable :T\n",
    "\n",
    "connect_param!(m, :climateco2cycle, :temp, :temperature, :T)\n",
    "#connect_param!(m, :biodiversity, :temp, :temperature, :T)\n",
    "#connect_param!(m, :ocean, :temp, :temperature, :T)"
   ]
  },
  {
   "cell_type": "code",
   "execution_count": null,
   "metadata": {},
   "outputs": [],
   "source": [
    "# destination: FUND component :climateregional, parameter :inputtemp\n",
    "# previous source: FUND component :climatedynamics --> variable :temp\n",
    "# new source: FAIR component :temperature --> variable :T\n",
    "\n",
    "connect_param!(m, :climateregional, :inputtemp, :temperature, :T)"
   ]
  },
  {
   "cell_type": "markdown",
   "metadata": {},
   "source": [
    "### Run and Visualize"
   ]
  },
  {
   "cell_type": "markdown",
   "metadata": {},
   "source": [
    "Now we can run our coupled model and visualize the results with the `explore`, `plot`, and indexing functions. We will also grab the default FUND and FAIR models for comparisons."
   ]
  },
  {
   "cell_type": "code",
   "execution_count": null,
   "metadata": {
    "scrolled": false
   },
   "outputs": [],
   "source": [
    "run(m) # coupled model\n",
    "\n",
    "using MimiFUND\n",
    "mfund = MimiFUND.get_model()\n",
    "run(mfund)\n",
    "\n",
    "mfair = MimiFAIRv1_6_2.get_model(;start_year = FAIR_first, end_year = FAIR_last, ar6_scenario = ar6_scenario)\n",
    "run(mfair)"
   ]
  },
  {
   "cell_type": "code",
   "execution_count": null,
   "metadata": {},
   "outputs": [],
   "source": [
    " #explore(m) # fails in VSCode-run notebook, uncomment if running these commands locally or in a browser!"
   ]
  },
  {
   "cell_type": "code",
   "execution_count": null,
   "metadata": {
    "scrolled": true
   },
   "outputs": [],
   "source": [
    "scc = FUNDprovince.compute_scco2(m, year = 2020,last_year=2100)\n",
    "##??? debug"
   ]
  },
  {
   "cell_type": "markdown",
   "metadata": {},
   "source": [
    "#### Compare Some Time Series"
   ]
  },
  {
   "cell_type": "markdown",
   "metadata": {},
   "source": [
    "One interesting step might be to compare some time series between the different models.  We could use the `Mimi.plot` function (ie. `Mimi.plot(m, :temperature, :T`) but here we will use some custom written plot code with the `VegaLite` package."
   ]
  },
  {
   "cell_type": "code",
   "execution_count": null,
   "metadata": {},
   "outputs": [],
   "source": [
    "using VegaLite\n",
    "using DataFrames"
   ]
  },
  {
   "cell_type": "markdown",
   "metadata": {},
   "source": [
    "##### Temperature\n",
    "\n",
    "Here we compare the delta temperature trajectory between FAIR, FUND, and FUNDFAIR. Noting that from 1765 to 1950 our results in FUNDFAIR will match FAIR, and then in 1950 FUND will kick in as our driver of CO2 emissions calculations while FAIR will continue to drive temperature calculations for which it recieves CO2 emissions inputs from FUND."
   ]
  },
  {
   "cell_type": "code",
   "execution_count": null,
   "metadata": {},
   "outputs": [],
   "source": [
    "fairvals = mfair[:temperature, :T]\n",
    "fundfairvals =  m[:temperature, :T]\n",
    "fundvals = vcat(\n",
    "    fill(missing, length(FAIR_first:FUND_first)-1),\n",
    "    mfund[:climateco2cycle, :temp][1:length(FUND_first:FAIR_last),:]\n",
    ")\n",
    "fundvals = fundvals[:,1]; # make a vector"
   ]
  },
  {
   "cell_type": "code",
   "execution_count": null,
   "metadata": {
    "scrolled": false
   },
   "outputs": [],
   "source": [
    "df = DataFrame(\n",
    "    :Year => Mimi.time_labels(m),\n",
    "    :FUND => fundvals,\n",
    "    :FAIR => fairvals,\n",
    "    :FUNDFAIR => fundfairvals\n",
    ")\n",
    "\n",
    "stack(df, [:FUND, :FAIR, :FUNDFAIR]) |> \n",
    "\n",
    "@vlplot(\n",
    "    :line, \n",
    "    x = :Year,\n",
    "    y = :value,\n",
    "    color = :variable\n",
    ")\n",
    "    "
   ]
  },
  {
   "cell_type": "markdown",
   "metadata": {},
   "source": [
    "##### Loss\n",
    "\n",
    "Similarly, here we compare what the loss looks like when we use the FUND climate module for CO2 as compared to using the FAIR climate module for CO2."
   ]
  },
  {
   "cell_type": "code",
   "execution_count": null,
   "metadata": {},
   "outputs": [],
   "source": [
    "fundfairvals = sum(m[:impactaggregation, :loss], dims = 2)[:,1];\n",
    "\n",
    "fundvals = vcat(\n",
    "    fill(missing, length(FAIR_first:FUND_first)-1),\n",
    "    sum(mfund[:impactaggregation, :loss][1:length(FUND_first:FAIR_last),:], dims = 2)\n",
    ")\n",
    "fundvals = fundvals[:,1]; # make a vector\n",
    "     "
   ]
  },
  {
   "cell_type": "code",
   "execution_count": null,
   "metadata": {
    "scrolled": true
   },
   "outputs": [],
   "source": [
    "df = DataFrame(\n",
    "    :Year => Mimi.time_labels(m),\n",
    "    :FUND => fundvals, \n",
    "    :FUNDFAIR => fundfairvals)\n",
    "\n",
    "stack(df, [:FUND, :FUNDFAIR]) |> \n",
    "\n",
    "@vlplot(\n",
    "    :line, \n",
    "    x = :Year,\n",
    "    y = :value,\n",
    "    color = :variable\n",
    ")"
   ]
  },
  {
   "cell_type": "markdown",
   "metadata": {},
   "source": [
    "#### Quality Checking\n",
    "\n",
    "We want to make sure that values are being passed between FUND and FAIR in the right units etc. so let's take a closer look at emissions."
   ]
  },
  {
   "cell_type": "markdown",
   "metadata": {},
   "source": [
    "##### Annual Carbon Dioxide Emissions (GtC yr⁻¹)"
   ]
  },
  {
   "cell_type": "code",
   "execution_count": null,
   "metadata": {},
   "outputs": [],
   "source": [
    "fairvals = mfair[:co2_cycle, :E_co2]\n",
    "fundfairvals =  m[:co2_cycle, :E_co2]\n",
    "\n",
    "df = DataFrame(\n",
    "    :Year => Mimi.time_labels(m),\n",
    "    :FAIR => fairvals, \n",
    "    :FUNDFAIR => fundfairvals)\n",
    "\n",
    "stack(df, [:FAIR, :FUNDFAIR]) |> \n",
    "\n",
    "@vlplot(\n",
    "    :line, \n",
    "    x = :Year,\n",
    "    y = :value,\n",
    "    color = :variable\n",
    ")"
   ]
  },
  {
   "cell_type": "code",
   "execution_count": null,
   "metadata": {},
   "outputs": [],
   "source": [
    "##### Global Carbon Dioxide Emissions (MtC yr⁻¹)"
   ]
  },
  {
   "cell_type": "code",
   "execution_count": null,
   "metadata": {},
   "outputs": [],
   "source": [
    "fundfairvals =  m[:emissions, :cumglobco2]\n",
    "fundvals = vcat(\n",
    "    fill(missing, length(FAIR_first:FUND_first)-1),\n",
    "    sum(mfund[:emissions, :cumglobco2][1:length(FUND_first:FAIR_last),:], dims = 2)\n",
    ")\n",
    "fundvals = fundvals[:,1]; # make a vector\n",
    "\n",
    "df = DataFrame(\n",
    "    :Year => Mimi.time_labels(m),\n",
    "    :FUND => fundvals, \n",
    "    :FUNDFAIR => fundfairvals)\n",
    "\n",
    "stack(df, [:FUND, :FUNDFAIR]) |> \n",
    "\n",
    "@vlplot(\n",
    "    :line, \n",
    "    x = :Year,\n",
    "    y = :value,\n",
    "    color = :variable\n",
    ")"
   ]
  },
  {
   "cell_type": "code",
   "execution_count": null,
   "metadata": {},
   "outputs": [],
   "source": [
    "# difference between fundfair and fund in cumulative emissions since the graph above masks it out due \n",
    "# to scale\n",
    "\n",
    "diffs = fundfairvals .- fundvals\n",
    "DataFrame(:Year => Mimi.time_labels(m), :DIFF => diffs) |>\n",
    "@vlplot(\n",
    "    :line, \n",
    "    x = :Year,\n",
    "    y = :DIFF,\n",
    ")"
   ]
  },
  {
   "cell_type": "code",
   "execution_count": null,
   "metadata": {},
   "outputs": [],
   "source": [
    "# cumulative emissions value in 2020 - 2040\n",
    "idxStart = findfirst(x -> x == 2020, Mimi.time_labels(m))\n",
    "idxEnd = findfirst(x -> x == 2040, Mimi.time_labels(m))\n",
    "fundfairvals[idxStart:idxEnd]"
   ]
  },
  {
   "cell_type": "code",
   "execution_count": null,
   "metadata": {},
   "outputs": [],
   "source": []
  }
 ],
 "metadata": {
  "kernelspec": {
   "display_name": "Julia 1.8.1",
   "language": "julia",
   "name": "julia-1.8"
  },
  "language_info": {
   "file_extension": ".jl",
   "mimetype": "application/julia",
   "name": "julia",
   "version": "1.8.1"
  }
 },
 "nbformat": 4,
 "nbformat_minor": 4
}
